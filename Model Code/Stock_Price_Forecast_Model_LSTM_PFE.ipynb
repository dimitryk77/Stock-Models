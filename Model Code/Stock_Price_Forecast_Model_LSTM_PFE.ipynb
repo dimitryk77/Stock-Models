{
 "cells": [
  {
   "cell_type": "code",
   "execution_count": 1,
   "metadata": {
    "executionInfo": {
     "elapsed": 4594,
     "status": "ok",
     "timestamp": 1667425193052,
     "user": {
      "displayName": "Dimitry Kirtsman",
      "userId": "11988189828040272864"
     },
     "user_tz": 420
    },
    "id": "OMaxAA1zC1HI"
   },
   "outputs": [],
   "source": [
    "import datetime\n",
    "import time\n",
    "import numpy as np\n",
    "import pandas as pd\n",
    "from packaging import version\n",
    "from collections import Counter\n",
    "import re\n",
    "\n",
    "from math import sqrt\n",
    "from sklearn.preprocessing import StandardScaler, MinMaxScaler\n",
    "from keras.preprocessing.text import Tokenizer\n",
    "import string\n",
    "from sklearn.metrics import confusion_matrix, classification_report\n",
    "from sklearn.metrics import accuracy_score\n",
    "from sklearn.metrics import mean_squared_error as MSE\n",
    "from sklearn.metrics import mean_absolute_percentage_error as MAPE\n",
    "from sklearn.metrics import mean_absolute_error as MAE\n",
    "from sklearn.model_selection import train_test_split\n",
    "from sklearn.manifold import TSNE\n",
    "import matplotlib.pyplot as plt\n",
    "import matplotlib as mpl\n",
    "import seaborn as sns\n",
    "from keras import backend as K\n",
    "import tensorflow_datasets as tfds\n",
    "import tensorflow as tf\n",
    "from tensorflow import keras\n",
    "from tensorflow.keras import models, layers, Model\n",
    "from tensorflow.keras.models import Sequential\n",
    "from tensorflow.keras.layers import Conv2D, MaxPool2D, BatchNormalization, Dropout, Flatten, Input, Dense, Embedding, GlobalMaxPool1D\n",
    "from tensorflow.keras.layers import Conv1D, LayerNormalization, MultiHeadAttention, GlobalAveragePooling1D\n",
    "from tensorflow.keras.layers import LSTM, GRU, Bidirectional, SimpleRNN, TextVectorization\n",
    "from tensorflow.keras.callbacks import ModelCheckpoint, EarlyStopping\n",
    "from tensorflow.keras.preprocessing import image\n",
    "from tensorflow.keras.preprocessing.sequence import pad_sequences\n",
    "from tensorflow.keras.utils import to_categorical\n",
    "\n",
    "tf.keras.utils.set_random_seed(14)\n",
    "%matplotlib inline\n",
    "np.set_printoptions(precision=3, suppress=True)\n",
    "pd.set_option('max_colwidth', 600)"
   ]
  },
  {
   "cell_type": "code",
   "execution_count": 2,
   "metadata": {
    "colab": {
     "base_uri": "https://localhost:8080/",
     "height": 520
    },
    "executionInfo": {
     "elapsed": 7883,
     "status": "ok",
     "timestamp": 1667425200933,
     "user": {
      "displayName": "Dimitry Kirtsman",
      "userId": "11988189828040272864"
     },
     "user_tz": 420
    },
    "id": "tX9g-GZHUKCp",
    "outputId": "6ec5947d-de8a-41f6-91ae-0b276fa2b6da"
   },
   "outputs": [
    {
     "name": "stdout",
     "output_type": "stream",
     "text": [
      "Looking in indexes: https://pypi.org/simple, https://us-python.pkg.dev/colab-wheels/public/simple/\n",
      "Collecting yfinance\n",
      "  Downloading yfinance-0.1.84-py2.py3-none-any.whl (29 kB)\n",
      "Collecting requests>=2.26\n",
      "  Downloading requests-2.28.1-py3-none-any.whl (62 kB)\n",
      "\u001b[K     |████████████████████████████████| 62 kB 936 kB/s \n",
      "\u001b[?25hRequirement already satisfied: pandas>=0.24.0 in /usr/local/lib/python3.7/dist-packages (from yfinance) (1.3.5)\n",
      "Requirement already satisfied: lxml>=4.5.1 in /usr/local/lib/python3.7/dist-packages (from yfinance) (4.9.1)\n",
      "Requirement already satisfied: appdirs>=1.4.4 in /usr/local/lib/python3.7/dist-packages (from yfinance) (1.4.4)\n",
      "Requirement already satisfied: numpy>=1.15 in /usr/local/lib/python3.7/dist-packages (from yfinance) (1.21.6)\n",
      "Requirement already satisfied: multitasking>=0.0.7 in /usr/local/lib/python3.7/dist-packages (from yfinance) (0.0.11)\n",
      "Requirement already satisfied: python-dateutil>=2.7.3 in /usr/local/lib/python3.7/dist-packages (from pandas>=0.24.0->yfinance) (2.8.2)\n",
      "Requirement already satisfied: pytz>=2017.3 in /usr/local/lib/python3.7/dist-packages (from pandas>=0.24.0->yfinance) (2022.5)\n",
      "Requirement already satisfied: six>=1.5 in /usr/local/lib/python3.7/dist-packages (from python-dateutil>=2.7.3->pandas>=0.24.0->yfinance) (1.15.0)\n",
      "Requirement already satisfied: charset-normalizer<3,>=2 in /usr/local/lib/python3.7/dist-packages (from requests>=2.26->yfinance) (2.1.1)\n",
      "Requirement already satisfied: idna<4,>=2.5 in /usr/local/lib/python3.7/dist-packages (from requests>=2.26->yfinance) (2.10)\n",
      "Requirement already satisfied: urllib3<1.27,>=1.21.1 in /usr/local/lib/python3.7/dist-packages (from requests>=2.26->yfinance) (1.24.3)\n",
      "Requirement already satisfied: certifi>=2017.4.17 in /usr/local/lib/python3.7/dist-packages (from requests>=2.26->yfinance) (2022.9.24)\n",
      "Installing collected packages: requests, yfinance\n",
      "  Attempting uninstall: requests\n",
      "    Found existing installation: requests 2.23.0\n",
      "    Uninstalling requests-2.23.0:\n",
      "      Successfully uninstalled requests-2.23.0\n",
      "Successfully installed requests-2.28.1 yfinance-0.1.84\n"
     ]
    },
    {
     "data": {
      "application/vnd.colab-display-data+json": {
       "pip_warning": {
        "packages": [
         "requests"
        ]
       }
      }
     },
     "metadata": {},
     "output_type": "display_data"
    }
   ],
   "source": [
    "\n",
    "!pip install yfinance"
   ]
  },
  {
   "cell_type": "code",
   "execution_count": 3,
   "metadata": {
    "colab": {
     "base_uri": "https://localhost:8080/"
    },
    "executionInfo": {
     "elapsed": 6682,
     "status": "ok",
     "timestamp": 1667425207611,
     "user": {
      "displayName": "Dimitry Kirtsman",
      "userId": "11988189828040272864"
     },
     "user_tz": 420
    },
    "id": "Tof-IjRBXJGD",
    "outputId": "81c57f69-191a-4868-bd58-74a61aa507b5"
   },
   "outputs": [
    {
     "name": "stdout",
     "output_type": "stream",
     "text": [
      "\u001b[K     |████████████████████████████████| 135 kB 33.7 MB/s \n",
      "\u001b[K     |████████████████████████████████| 1.6 MB 56.6 MB/s \n",
      "\u001b[?25h"
     ]
    }
   ],
   "source": [
    "!pip install -q -U keras-tuner\n",
    "import keras_tuner as kt\n",
    "from keras_tuner import Objective, HyperParameters"
   ]
  },
  {
   "cell_type": "code",
   "execution_count": 3,
   "metadata": {
    "executionInfo": {
     "elapsed": 10,
     "status": "ok",
     "timestamp": 1667425207611,
     "user": {
      "displayName": "Dimitry Kirtsman",
      "userId": "11988189828040272864"
     },
     "user_tz": 420
    },
    "id": "ZDy-vnzqFzxb"
   },
   "outputs": [],
   "source": []
  },
  {
   "cell_type": "code",
   "execution_count": 4,
   "metadata": {
    "executionInfo": {
     "elapsed": 10,
     "status": "ok",
     "timestamp": 1667425207612,
     "user": {
      "displayName": "Dimitry Kirtsman",
      "userId": "11988189828040272864"
     },
     "user_tz": 420
    },
    "id": "VF96j6euUKE-"
   },
   "outputs": [],
   "source": [
    "import yfinance as yf"
   ]
  },
  {
   "cell_type": "code",
   "execution_count": 5,
   "metadata": {
    "colab": {
     "base_uri": "https://localhost:8080/"
    },
    "executionInfo": {
     "elapsed": 4384,
     "status": "ok",
     "timestamp": 1667425211986,
     "user": {
      "displayName": "Dimitry Kirtsman",
      "userId": "11988189828040272864"
     },
     "user_tz": 420
    },
    "id": "TfFkelpzLtvG",
    "outputId": "22b02ed9-6a93-4622-cdd0-929033a0b832"
   },
   "outputs": [
    {
     "name": "stdout",
     "output_type": "stream",
     "text": [
      "Looking in indexes: https://pypi.org/simple, https://us-python.pkg.dev/colab-wheels/public/simple/\n",
      "Collecting talib-binary\n",
      "  Downloading talib_binary-0.4.19-cp37-cp37m-manylinux1_x86_64.whl (2.4 MB)\n",
      "\u001b[K     |████████████████████████████████| 2.4 MB 29.6 MB/s \n",
      "\u001b[?25hRequirement already satisfied: numpy in /usr/local/lib/python3.7/dist-packages (from talib-binary) (1.21.6)\n",
      "Installing collected packages: talib-binary\n",
      "Successfully installed talib-binary-0.4.19\n"
     ]
    }
   ],
   "source": [
    "!pip install talib-binary\n",
    "import talib as ta"
   ]
  },
  {
   "cell_type": "code",
   "execution_count": 5,
   "metadata": {
    "executionInfo": {
     "elapsed": 2,
     "status": "ok",
     "timestamp": 1667425211986,
     "user": {
      "displayName": "Dimitry Kirtsman",
      "userId": "11988189828040272864"
     },
     "user_tz": 420
    },
    "id": "ds0tP_NPS0gT"
   },
   "outputs": [],
   "source": []
  },
  {
   "cell_type": "code",
   "execution_count": 6,
   "metadata": {
    "executionInfo": {
     "elapsed": 639,
     "status": "ok",
     "timestamp": 1667425212623,
     "user": {
      "displayName": "Dimitry Kirtsman",
      "userId": "11988189828040272864"
     },
     "user_tz": 420
    },
    "id": "aJqPNoVTUKHf"
   },
   "outputs": [],
   "source": [
    "#getting initial stock data\n",
    "stock=\"PFE\"\n",
    "obj = yf.Ticker(stock)\n",
    "stock_data=obj.history(interval=\"1d\", start=\"2012-10-01\", end=\"2022-09-30\")"
   ]
  },
  {
   "cell_type": "code",
   "execution_count": 7,
   "metadata": {
    "colab": {
     "base_uri": "https://localhost:8080/"
    },
    "executionInfo": {
     "elapsed": 4,
     "status": "ok",
     "timestamp": 1667425212624,
     "user": {
      "displayName": "Dimitry Kirtsman",
      "userId": "11988189828040272864"
     },
     "user_tz": 420
    },
    "id": "NNvJE5xjUKgm",
    "outputId": "2296021b-646e-40ce-e696-0fb846b7fb5e"
   },
   "outputs": [
    {
     "data": {
      "text/plain": [
       "(2516, 7)"
      ]
     },
     "execution_count": 7,
     "metadata": {},
     "output_type": "execute_result"
    }
   ],
   "source": [
    "#data shape\n",
    "stock_data.shape"
   ]
  },
  {
   "cell_type": "code",
   "execution_count": 8,
   "metadata": {
    "colab": {
     "base_uri": "https://localhost:8080/"
    },
    "executionInfo": {
     "elapsed": 227,
     "status": "ok",
     "timestamp": 1667425212849,
     "user": {
      "displayName": "Dimitry Kirtsman",
      "userId": "11988189828040272864"
     },
     "user_tz": 420
    },
    "id": "ilma4Pi-UKjO",
    "outputId": "3a4c9ad1-4ad5-45a6-a94b-94f8190260e2"
   },
   "outputs": [
    {
     "data": {
      "text/plain": [
       "(2516, 7)"
      ]
     },
     "execution_count": 8,
     "metadata": {},
     "output_type": "execute_result"
    }
   ],
   "source": [
    "stock_data.shape"
   ]
  },
  {
   "cell_type": "code",
   "execution_count": 9,
   "metadata": {
    "colab": {
     "base_uri": "https://localhost:8080/",
     "height": 238
    },
    "executionInfo": {
     "elapsed": 5,
     "status": "ok",
     "timestamp": 1667425212849,
     "user": {
      "displayName": "Dimitry Kirtsman",
      "userId": "11988189828040272864"
     },
     "user_tz": 420
    },
    "id": "q-0TOsVIT8pQ",
    "outputId": "ac5cf213-31bd-4c7b-a718-8ea341c68fec"
   },
   "outputs": [
    {
     "data": {
      "text/html": [
       "\n",
       "  <div id=\"df-ac847a83-fb80-4962-ab86-996114191cd5\">\n",
       "    <div class=\"colab-df-container\">\n",
       "      <div>\n",
       "<style scoped>\n",
       "    .dataframe tbody tr th:only-of-type {\n",
       "        vertical-align: middle;\n",
       "    }\n",
       "\n",
       "    .dataframe tbody tr th {\n",
       "        vertical-align: top;\n",
       "    }\n",
       "\n",
       "    .dataframe thead th {\n",
       "        text-align: right;\n",
       "    }\n",
       "</style>\n",
       "<table border=\"1\" class=\"dataframe\">\n",
       "  <thead>\n",
       "    <tr style=\"text-align: right;\">\n",
       "      <th></th>\n",
       "      <th>Open</th>\n",
       "      <th>High</th>\n",
       "      <th>Low</th>\n",
       "      <th>Close</th>\n",
       "      <th>Volume</th>\n",
       "      <th>Dividends</th>\n",
       "      <th>Stock Splits</th>\n",
       "    </tr>\n",
       "    <tr>\n",
       "      <th>Date</th>\n",
       "      <th></th>\n",
       "      <th></th>\n",
       "      <th></th>\n",
       "      <th></th>\n",
       "      <th></th>\n",
       "      <th></th>\n",
       "      <th></th>\n",
       "    </tr>\n",
       "  </thead>\n",
       "  <tbody>\n",
       "    <tr>\n",
       "      <th>2012-10-01 00:00:00-04:00</th>\n",
       "      <td>16.443484</td>\n",
       "      <td>16.675550</td>\n",
       "      <td>16.443484</td>\n",
       "      <td>16.602615</td>\n",
       "      <td>24053123</td>\n",
       "      <td>0.0</td>\n",
       "      <td>0.0</td>\n",
       "    </tr>\n",
       "    <tr>\n",
       "      <th>2012-10-02 00:00:00-04:00</th>\n",
       "      <td>16.695433</td>\n",
       "      <td>16.847933</td>\n",
       "      <td>16.556195</td>\n",
       "      <td>16.655651</td>\n",
       "      <td>32139622</td>\n",
       "      <td>0.0</td>\n",
       "      <td>0.0</td>\n",
       "    </tr>\n",
       "    <tr>\n",
       "      <th>2012-10-03 00:00:00-04:00</th>\n",
       "      <td>16.649026</td>\n",
       "      <td>16.808157</td>\n",
       "      <td>16.602614</td>\n",
       "      <td>16.788265</td>\n",
       "      <td>23433582</td>\n",
       "      <td>0.0</td>\n",
       "      <td>0.0</td>\n",
       "    </tr>\n",
       "    <tr>\n",
       "      <th>2012-10-04 00:00:00-04:00</th>\n",
       "      <td>16.854568</td>\n",
       "      <td>16.887720</td>\n",
       "      <td>16.781633</td>\n",
       "      <td>16.808155</td>\n",
       "      <td>26368340</td>\n",
       "      <td>0.0</td>\n",
       "      <td>0.0</td>\n",
       "    </tr>\n",
       "    <tr>\n",
       "      <th>2012-10-05 00:00:00-04:00</th>\n",
       "      <td>16.881092</td>\n",
       "      <td>16.967287</td>\n",
       "      <td>16.821419</td>\n",
       "      <td>16.920876</td>\n",
       "      <td>25998386</td>\n",
       "      <td>0.0</td>\n",
       "      <td>0.0</td>\n",
       "    </tr>\n",
       "  </tbody>\n",
       "</table>\n",
       "</div>\n",
       "      <button class=\"colab-df-convert\" onclick=\"convertToInteractive('df-ac847a83-fb80-4962-ab86-996114191cd5')\"\n",
       "              title=\"Convert this dataframe to an interactive table.\"\n",
       "              style=\"display:none;\">\n",
       "        \n",
       "  <svg xmlns=\"http://www.w3.org/2000/svg\" height=\"24px\"viewBox=\"0 0 24 24\"\n",
       "       width=\"24px\">\n",
       "    <path d=\"M0 0h24v24H0V0z\" fill=\"none\"/>\n",
       "    <path d=\"M18.56 5.44l.94 2.06.94-2.06 2.06-.94-2.06-.94-.94-2.06-.94 2.06-2.06.94zm-11 1L8.5 8.5l.94-2.06 2.06-.94-2.06-.94L8.5 2.5l-.94 2.06-2.06.94zm10 10l.94 2.06.94-2.06 2.06-.94-2.06-.94-.94-2.06-.94 2.06-2.06.94z\"/><path d=\"M17.41 7.96l-1.37-1.37c-.4-.4-.92-.59-1.43-.59-.52 0-1.04.2-1.43.59L10.3 9.45l-7.72 7.72c-.78.78-.78 2.05 0 2.83L4 21.41c.39.39.9.59 1.41.59.51 0 1.02-.2 1.41-.59l7.78-7.78 2.81-2.81c.8-.78.8-2.07 0-2.86zM5.41 20L4 18.59l7.72-7.72 1.47 1.35L5.41 20z\"/>\n",
       "  </svg>\n",
       "      </button>\n",
       "      \n",
       "  <style>\n",
       "    .colab-df-container {\n",
       "      display:flex;\n",
       "      flex-wrap:wrap;\n",
       "      gap: 12px;\n",
       "    }\n",
       "\n",
       "    .colab-df-convert {\n",
       "      background-color: #E8F0FE;\n",
       "      border: none;\n",
       "      border-radius: 50%;\n",
       "      cursor: pointer;\n",
       "      display: none;\n",
       "      fill: #1967D2;\n",
       "      height: 32px;\n",
       "      padding: 0 0 0 0;\n",
       "      width: 32px;\n",
       "    }\n",
       "\n",
       "    .colab-df-convert:hover {\n",
       "      background-color: #E2EBFA;\n",
       "      box-shadow: 0px 1px 2px rgba(60, 64, 67, 0.3), 0px 1px 3px 1px rgba(60, 64, 67, 0.15);\n",
       "      fill: #174EA6;\n",
       "    }\n",
       "\n",
       "    [theme=dark] .colab-df-convert {\n",
       "      background-color: #3B4455;\n",
       "      fill: #D2E3FC;\n",
       "    }\n",
       "\n",
       "    [theme=dark] .colab-df-convert:hover {\n",
       "      background-color: #434B5C;\n",
       "      box-shadow: 0px 1px 3px 1px rgba(0, 0, 0, 0.15);\n",
       "      filter: drop-shadow(0px 1px 2px rgba(0, 0, 0, 0.3));\n",
       "      fill: #FFFFFF;\n",
       "    }\n",
       "  </style>\n",
       "\n",
       "      <script>\n",
       "        const buttonEl =\n",
       "          document.querySelector('#df-ac847a83-fb80-4962-ab86-996114191cd5 button.colab-df-convert');\n",
       "        buttonEl.style.display =\n",
       "          google.colab.kernel.accessAllowed ? 'block' : 'none';\n",
       "\n",
       "        async function convertToInteractive(key) {\n",
       "          const element = document.querySelector('#df-ac847a83-fb80-4962-ab86-996114191cd5');\n",
       "          const dataTable =\n",
       "            await google.colab.kernel.invokeFunction('convertToInteractive',\n",
       "                                                     [key], {});\n",
       "          if (!dataTable) return;\n",
       "\n",
       "          const docLinkHtml = 'Like what you see? Visit the ' +\n",
       "            '<a target=\"_blank\" href=https://colab.research.google.com/notebooks/data_table.ipynb>data table notebook</a>'\n",
       "            + ' to learn more about interactive tables.';\n",
       "          element.innerHTML = '';\n",
       "          dataTable['output_type'] = 'display_data';\n",
       "          await google.colab.output.renderOutput(dataTable, element);\n",
       "          const docLink = document.createElement('div');\n",
       "          docLink.innerHTML = docLinkHtml;\n",
       "          element.appendChild(docLink);\n",
       "        }\n",
       "      </script>\n",
       "    </div>\n",
       "  </div>\n",
       "  "
      ],
      "text/plain": [
       "                                Open       High        Low      Close  \\\n",
       "Date                                                                    \n",
       "2012-10-01 00:00:00-04:00  16.443484  16.675550  16.443484  16.602615   \n",
       "2012-10-02 00:00:00-04:00  16.695433  16.847933  16.556195  16.655651   \n",
       "2012-10-03 00:00:00-04:00  16.649026  16.808157  16.602614  16.788265   \n",
       "2012-10-04 00:00:00-04:00  16.854568  16.887720  16.781633  16.808155   \n",
       "2012-10-05 00:00:00-04:00  16.881092  16.967287  16.821419  16.920876   \n",
       "\n",
       "                             Volume  Dividends  Stock Splits  \n",
       "Date                                                          \n",
       "2012-10-01 00:00:00-04:00  24053123        0.0           0.0  \n",
       "2012-10-02 00:00:00-04:00  32139622        0.0           0.0  \n",
       "2012-10-03 00:00:00-04:00  23433582        0.0           0.0  \n",
       "2012-10-04 00:00:00-04:00  26368340        0.0           0.0  \n",
       "2012-10-05 00:00:00-04:00  25998386        0.0           0.0  "
      ]
     },
     "execution_count": 9,
     "metadata": {},
     "output_type": "execute_result"
    }
   ],
   "source": [
    "stock_data.head()"
   ]
  },
  {
   "cell_type": "code",
   "execution_count": 10,
   "metadata": {
    "executionInfo": {
     "elapsed": 6,
     "status": "ok",
     "timestamp": 1667425212850,
     "user": {
      "displayName": "Dimitry Kirtsman",
      "userId": "11988189828040272864"
     },
     "user_tz": 420
    },
    "id": "vRUfJTL12Ejg"
   },
   "outputs": [],
   "source": [
    "#removing dividends and stocks splits\n",
    "data=stock_data.iloc[:, :5]"
   ]
  },
  {
   "cell_type": "code",
   "execution_count": 11,
   "metadata": {
    "executionInfo": {
     "elapsed": 5,
     "status": "ok",
     "timestamp": 1667425212850,
     "user": {
      "displayName": "Dimitry Kirtsman",
      "userId": "11988189828040272864"
     },
     "user_tz": 420
    },
    "id": "-NneKBELn2vM"
   },
   "outputs": [],
   "source": [
    "#data.to_csv(\"aapl_prices_vol.csv\")"
   ]
  },
  {
   "cell_type": "code",
   "execution_count": 12,
   "metadata": {
    "colab": {
     "base_uri": "https://localhost:8080/",
     "height": 439
    },
    "executionInfo": {
     "elapsed": 223,
     "status": "ok",
     "timestamp": 1667425213068,
     "user": {
      "displayName": "Dimitry Kirtsman",
      "userId": "11988189828040272864"
     },
     "user_tz": 420
    },
    "id": "Nrhye-HvVys3",
    "outputId": "36aa29cb-252f-4737-aa99-65c0c8931803"
   },
   "outputs": [
    {
     "data": {
      "text/plain": [
       "Text(0.5, 0, '')"
      ]
     },
     "execution_count": 12,
     "metadata": {},
     "output_type": "execute_result"
    },
    {
     "data": {
      "image/png": "[encoded data removed]",
      "text/plain": [
       "<Figure size 648x504 with 1 Axes>"
      ]
     },
     "metadata": {
      "needs_background": "light"
     },
     "output_type": "display_data"
    }
   ],
   "source": [
    "#plot of stock price over the 10-year period\n",
    "data[\"Close\"].plot(figsize=(9,7))\n",
    "plt.grid(True)\n",
    "plt.title(\"{} Stock Price\".format(stock), size =17)\n",
    "plt.ylabel(\"Price\", size=15)\n",
    "plt.xlabel(\"\")"
   ]
  },
  {
   "cell_type": "code",
   "execution_count": 12,
   "metadata": {
    "executionInfo": {
     "elapsed": 3,
     "status": "ok",
     "timestamp": 1667425213068,
     "user": {
      "displayName": "Dimitry Kirtsman",
      "userId": "11988189828040272864"
     },
     "user_tz": 420
    },
    "id": "TYjlFBH52EmO"
   },
   "outputs": [],
   "source": []
  },
  {
   "cell_type": "code",
   "execution_count": 13,
   "metadata": {
    "executionInfo": {
     "elapsed": 3,
     "status": "ok",
     "timestamp": 1667425213068,
     "user": {
      "displayName": "Dimitry Kirtsman",
      "userId": "11988189828040272864"
     },
     "user_tz": 420
    },
    "id": "bGjW1zNKC1-k"
   },
   "outputs": [],
   "source": [
    "#adding technical indicators\n",
    "seq_len=21\n",
    "data[\"MA_20\"]= ta.SMA(data[\"Close\"], timeperiod=20)\n",
    "data[\"MA_50\"]= ta.SMA(data[\"Close\"], timeperiod=50)\n",
    "data[\"EXP_MA_20\"]= ta.EMA(data[\"Close\"], timeperiod=20)\n",
    "data[\"EXP_MA_50\"]= ta.EMA(data[\"Close\"], timeperiod=50)\n",
    "data[\"RSI\"] =ta.RSI(data[\"Close\"],timeperiod=seq_len)\n",
    "data[\"MACD\"],data[\"MACD_sign\"], data[\"MACD_hist\"]  =ta.MACD( data[\"Close\"].values )\n",
    "data[\"BB_upper\"], data[\"BB_middle\"], data[\"BB_lower\"] = ta.BBANDS(data[\"Close\"], timeperiod=seq_len, nbdevup=2, nbdevdn=2, matype=0)\n",
    "data[\"PPO\"]= ta.PPO(data[\"Close\"])\n",
    "data[\"MOM\"]=ta.MOM(data[\"Close\"], timeperiod=seq_len)\n",
    "data[\"Rate_Of_Change\"]=ta.ROCP(data[\"Close\"], timeperiod=1)"
   ]
  },
  {
   "cell_type": "code",
   "execution_count": 14,
   "metadata": {
    "executionInfo": {
     "elapsed": 4,
     "status": "ok",
     "timestamp": 1667425213069,
     "user": {
      "displayName": "Dimitry Kirtsman",
      "userId": "11988189828040272864"
     },
     "user_tz": 420
    },
    "id": "K9HevL-UoyIg"
   },
   "outputs": [],
   "source": [
    "#data.to_csv(\"aapl_prices_vol_tech.csv\")"
   ]
  },
  {
   "cell_type": "code",
   "execution_count": 15,
   "metadata": {
    "colab": {
     "base_uri": "https://localhost:8080/",
     "height": 238
    },
    "executionInfo": {
     "elapsed": 238,
     "status": "ok",
     "timestamp": 1667425213303,
     "user": {
      "displayName": "Dimitry Kirtsman",
      "userId": "11988189828040272864"
     },
     "user_tz": 420
    },
    "id": "17B7lYX3NLep",
    "outputId": "f0404aed-deac-4df2-cb76-0b1649242789"
   },
   "outputs": [
    {
     "data": {
      "text/html": [
       "\n",
       "  <div id=\"df-3e233de3-16ae-403b-99b8-82ab13213191\">\n",
       "    <div class=\"colab-df-container\">\n",
       "      <div>\n",
       "<style scoped>\n",
       "    .dataframe tbody tr th:only-of-type {\n",
       "        vertical-align: middle;\n",
       "    }\n",
       "\n",
       "    .dataframe tbody tr th {\n",
       "        vertical-align: top;\n",
       "    }\n",
       "\n",
       "    .dataframe thead th {\n",
       "        text-align: right;\n",
       "    }\n",
       "</style>\n",
       "<table border=\"1\" class=\"dataframe\">\n",
       "  <thead>\n",
       "    <tr style=\"text-align: right;\">\n",
       "      <th></th>\n",
       "      <th>Open</th>\n",
       "      <th>High</th>\n",
       "      <th>Low</th>\n",
       "      <th>Close</th>\n",
       "      <th>Volume</th>\n",
       "      <th>MA_20</th>\n",
       "      <th>MA_50</th>\n",
       "      <th>EXP_MA_20</th>\n",
       "      <th>EXP_MA_50</th>\n",
       "      <th>RSI</th>\n",
       "      <th>MACD</th>\n",
       "      <th>MACD_sign</th>\n",
       "      <th>MACD_hist</th>\n",
       "      <th>BB_upper</th>\n",
       "      <th>BB_middle</th>\n",
       "      <th>BB_lower</th>\n",
       "      <th>PPO</th>\n",
       "      <th>MOM</th>\n",
       "      <th>Rate_Of_Change</th>\n",
       "    </tr>\n",
       "    <tr>\n",
       "      <th>Date</th>\n",
       "      <th></th>\n",
       "      <th></th>\n",
       "      <th></th>\n",
       "      <th></th>\n",
       "      <th></th>\n",
       "      <th></th>\n",
       "      <th></th>\n",
       "      <th></th>\n",
       "      <th></th>\n",
       "      <th></th>\n",
       "      <th></th>\n",
       "      <th></th>\n",
       "      <th></th>\n",
       "      <th></th>\n",
       "      <th></th>\n",
       "      <th></th>\n",
       "      <th></th>\n",
       "      <th></th>\n",
       "      <th></th>\n",
       "    </tr>\n",
       "  </thead>\n",
       "  <tbody>\n",
       "    <tr>\n",
       "      <th>2012-10-01 00:00:00-04:00</th>\n",
       "      <td>16.443484</td>\n",
       "      <td>16.675550</td>\n",
       "      <td>16.443484</td>\n",
       "      <td>16.602615</td>\n",
       "      <td>24053123</td>\n",
       "      <td>NaN</td>\n",
       "      <td>NaN</td>\n",
       "      <td>NaN</td>\n",
       "      <td>NaN</td>\n",
       "      <td>NaN</td>\n",
       "      <td>NaN</td>\n",
       "      <td>NaN</td>\n",
       "      <td>NaN</td>\n",
       "      <td>NaN</td>\n",
       "      <td>NaN</td>\n",
       "      <td>NaN</td>\n",
       "      <td>NaN</td>\n",
       "      <td>NaN</td>\n",
       "      <td>NaN</td>\n",
       "    </tr>\n",
       "    <tr>\n",
       "      <th>2012-10-02 00:00:00-04:00</th>\n",
       "      <td>16.695433</td>\n",
       "      <td>16.847933</td>\n",
       "      <td>16.556195</td>\n",
       "      <td>16.655651</td>\n",
       "      <td>32139622</td>\n",
       "      <td>NaN</td>\n",
       "      <td>NaN</td>\n",
       "      <td>NaN</td>\n",
       "      <td>NaN</td>\n",
       "      <td>NaN</td>\n",
       "      <td>NaN</td>\n",
       "      <td>NaN</td>\n",
       "      <td>NaN</td>\n",
       "      <td>NaN</td>\n",
       "      <td>NaN</td>\n",
       "      <td>NaN</td>\n",
       "      <td>NaN</td>\n",
       "      <td>NaN</td>\n",
       "      <td>0.003194</td>\n",
       "    </tr>\n",
       "    <tr>\n",
       "      <th>2012-10-03 00:00:00-04:00</th>\n",
       "      <td>16.649026</td>\n",
       "      <td>16.808157</td>\n",
       "      <td>16.602614</td>\n",
       "      <td>16.788265</td>\n",
       "      <td>23433582</td>\n",
       "      <td>NaN</td>\n",
       "      <td>NaN</td>\n",
       "      <td>NaN</td>\n",
       "      <td>NaN</td>\n",
       "      <td>NaN</td>\n",
       "      <td>NaN</td>\n",
       "      <td>NaN</td>\n",
       "      <td>NaN</td>\n",
       "      <td>NaN</td>\n",
       "      <td>NaN</td>\n",
       "      <td>NaN</td>\n",
       "      <td>NaN</td>\n",
       "      <td>NaN</td>\n",
       "      <td>0.007962</td>\n",
       "    </tr>\n",
       "    <tr>\n",
       "      <th>2012-10-04 00:00:00-04:00</th>\n",
       "      <td>16.854568</td>\n",
       "      <td>16.887720</td>\n",
       "      <td>16.781633</td>\n",
       "      <td>16.808155</td>\n",
       "      <td>26368340</td>\n",
       "      <td>NaN</td>\n",
       "      <td>NaN</td>\n",
       "      <td>NaN</td>\n",
       "      <td>NaN</td>\n",
       "      <td>NaN</td>\n",
       "      <td>NaN</td>\n",
       "      <td>NaN</td>\n",
       "      <td>NaN</td>\n",
       "      <td>NaN</td>\n",
       "      <td>NaN</td>\n",
       "      <td>NaN</td>\n",
       "      <td>NaN</td>\n",
       "      <td>NaN</td>\n",
       "      <td>0.001185</td>\n",
       "    </tr>\n",
       "    <tr>\n",
       "      <th>2012-10-05 00:00:00-04:00</th>\n",
       "      <td>16.881092</td>\n",
       "      <td>16.967287</td>\n",
       "      <td>16.821419</td>\n",
       "      <td>16.920876</td>\n",
       "      <td>25998386</td>\n",
       "      <td>NaN</td>\n",
       "      <td>NaN</td>\n",
       "      <td>NaN</td>\n",
       "      <td>NaN</td>\n",
       "      <td>NaN</td>\n",
       "      <td>NaN</td>\n",
       "      <td>NaN</td>\n",
       "      <td>NaN</td>\n",
       "      <td>NaN</td>\n",
       "      <td>NaN</td>\n",
       "      <td>NaN</td>\n",
       "      <td>NaN</td>\n",
       "      <td>NaN</td>\n",
       "      <td>0.006706</td>\n",
       "    </tr>\n",
       "  </tbody>\n",
       "</table>\n",
       "</div>\n",
       "      <button class=\"colab-df-convert\" onclick=\"convertToInteractive('df-3e233de3-16ae-403b-99b8-82ab13213191')\"\n",
       "              title=\"Convert this dataframe to an interactive table.\"\n",
       "              style=\"display:none;\">\n",
       "        \n",
       "  <svg xmlns=\"http://www.w3.org/2000/svg\" height=\"24px\"viewBox=\"0 0 24 24\"\n",
       "       width=\"24px\">\n",
       "    <path d=\"M0 0h24v24H0V0z\" fill=\"none\"/>\n",
       "    <path d=\"M18.56 5.44l.94 2.06.94-2.06 2.06-.94-2.06-.94-.94-2.06-.94 2.06-2.06.94zm-11 1L8.5 8.5l.94-2.06 2.06-.94-2.06-.94L8.5 2.5l-.94 2.06-2.06.94zm10 10l.94 2.06.94-2.06 2.06-.94-2.06-.94-.94-2.06-.94 2.06-2.06.94z\"/><path d=\"M17.41 7.96l-1.37-1.37c-.4-.4-.92-.59-1.43-.59-.52 0-1.04.2-1.43.59L10.3 9.45l-7.72 7.72c-.78.78-.78 2.05 0 2.83L4 21.41c.39.39.9.59 1.41.59.51 0 1.02-.2 1.41-.59l7.78-7.78 2.81-2.81c.8-.78.8-2.07 0-2.86zM5.41 20L4 18.59l7.72-7.72 1.47 1.35L5.41 20z\"/>\n",
       "  </svg>\n",
       "      </button>\n",
       "      \n",
       "  <style>\n",
       "    .colab-df-container {\n",
       "      display:flex;\n",
       "      flex-wrap:wrap;\n",
       "      gap: 12px;\n",
       "    }\n",
       "\n",
       "    .colab-df-convert {\n",
       "      background-color: #E8F0FE;\n",
       "      border: none;\n",
       "      border-radius: 50%;\n",
       "      cursor: pointer;\n",
       "      display: none;\n",
       "      fill: #1967D2;\n",
       "      height: 32px;\n",
       "      padding: 0 0 0 0;\n",
       "      width: 32px;\n",
       "    }\n",
       "\n",
       "    .colab-df-convert:hover {\n",
       "      background-color: #E2EBFA;\n",
       "      box-shadow: 0px 1px 2px rgba(60, 64, 67, 0.3), 0px 1px 3px 1px rgba(60, 64, 67, 0.15);\n",
       "      fill: #174EA6;\n",
       "    }\n",
       "\n",
       "    [theme=dark] .colab-df-convert {\n",
       "      background-color: #3B4455;\n",
       "      fill: #D2E3FC;\n",
       "    }\n",
       "\n",
       "    [theme=dark] .colab-df-convert:hover {\n",
       "      background-color: #434B5C;\n",
       "      box-shadow: 0px 1px 3px 1px rgba(0, 0, 0, 0.15);\n",
       "      filter: drop-shadow(0px 1px 2px rgba(0, 0, 0, 0.3));\n",
       "      fill: #FFFFFF;\n",
       "    }\n",
       "  </style>\n",
       "\n",
       "      <script>\n",
       "        const buttonEl =\n",
       "          document.querySelector('#df-3e233de3-16ae-403b-99b8-82ab13213191 button.colab-df-convert');\n",
       "        buttonEl.style.display =\n",
       "          google.colab.kernel.accessAllowed ? 'block' : 'none';\n",
       "\n",
       "        async function convertToInteractive(key) {\n",
       "          const element = document.querySelector('#df-3e233de3-16ae-403b-99b8-82ab13213191');\n",
       "          const dataTable =\n",
       "            await google.colab.kernel.invokeFunction('convertToInteractive',\n",
       "                                                     [key], {});\n",
       "          if (!dataTable) return;\n",
       "\n",
       "          const docLinkHtml = 'Like what you see? Visit the ' +\n",
       "            '<a target=\"_blank\" href=https://colab.research.google.com/notebooks/data_table.ipynb>data table notebook</a>'\n",
       "            + ' to learn more about interactive tables.';\n",
       "          element.innerHTML = '';\n",
       "          dataTable['output_type'] = 'display_data';\n",
       "          await google.colab.output.renderOutput(dataTable, element);\n",
       "          const docLink = document.createElement('div');\n",
       "          docLink.innerHTML = docLinkHtml;\n",
       "          element.appendChild(docLink);\n",
       "        }\n",
       "      </script>\n",
       "    </div>\n",
       "  </div>\n",
       "  "
      ],
      "text/plain": [
       "                                Open       High        Low      Close  \\\n",
       "Date                                                                    \n",
       "2012-10-01 00:00:00-04:00  16.443484  16.675550  16.443484  16.602615   \n",
       "2012-10-02 00:00:00-04:00  16.695433  16.847933  16.556195  16.655651   \n",
       "2012-10-03 00:00:00-04:00  16.649026  16.808157  16.602614  16.788265   \n",
       "2012-10-04 00:00:00-04:00  16.854568  16.887720  16.781633  16.808155   \n",
       "2012-10-05 00:00:00-04:00  16.881092  16.967287  16.821419  16.920876   \n",
       "\n",
       "                             Volume  MA_20  MA_50  EXP_MA_20  EXP_MA_50  RSI  \\\n",
       "Date                                                                           \n",
       "2012-10-01 00:00:00-04:00  24053123    NaN    NaN        NaN        NaN  NaN   \n",
       "2012-10-02 00:00:00-04:00  32139622    NaN    NaN        NaN        NaN  NaN   \n",
       "2012-10-03 00:00:00-04:00  23433582    NaN    NaN        NaN        NaN  NaN   \n",
       "2012-10-04 00:00:00-04:00  26368340    NaN    NaN        NaN        NaN  NaN   \n",
       "2012-10-05 00:00:00-04:00  25998386    NaN    NaN        NaN        NaN  NaN   \n",
       "\n",
       "                           MACD  MACD_sign  MACD_hist  BB_upper  BB_middle  \\\n",
       "Date                                                                         \n",
       "2012-10-01 00:00:00-04:00   NaN        NaN        NaN       NaN        NaN   \n",
       "2012-10-02 00:00:00-04:00   NaN        NaN        NaN       NaN        NaN   \n",
       "2012-10-03 00:00:00-04:00   NaN        NaN        NaN       NaN        NaN   \n",
       "2012-10-04 00:00:00-04:00   NaN        NaN        NaN       NaN        NaN   \n",
       "2012-10-05 00:00:00-04:00   NaN        NaN        NaN       NaN        NaN   \n",
       "\n",
       "                           BB_lower  PPO  MOM  Rate_Of_Change  \n",
       "Date                                                           \n",
       "2012-10-01 00:00:00-04:00       NaN  NaN  NaN             NaN  \n",
       "2012-10-02 00:00:00-04:00       NaN  NaN  NaN        0.003194  \n",
       "2012-10-03 00:00:00-04:00       NaN  NaN  NaN        0.007962  \n",
       "2012-10-04 00:00:00-04:00       NaN  NaN  NaN        0.001185  \n",
       "2012-10-05 00:00:00-04:00       NaN  NaN  NaN        0.006706  "
      ]
     },
     "execution_count": 15,
     "metadata": {},
     "output_type": "execute_result"
    }
   ],
   "source": [
    "#technical variables have up to 50 days as n/a due to how they are constructed (example 50-day moving avarage)\n",
    "data.head()"
   ]
  },
  {
   "cell_type": "code",
   "execution_count": 15,
   "metadata": {
    "executionInfo": {
     "elapsed": 7,
     "status": "ok",
     "timestamp": 1667425213304,
     "user": {
      "displayName": "Dimitry Kirtsman",
      "userId": "11988189828040272864"
     },
     "user_tz": 420
    },
    "id": "cTIz6RNYNLhW"
   },
   "outputs": [],
   "source": []
  },
  {
   "cell_type": "code",
   "execution_count": 16,
   "metadata": {
    "executionInfo": {
     "elapsed": 7,
     "status": "ok",
     "timestamp": 1667425213304,
     "user": {
      "displayName": "Dimitry Kirtsman",
      "userId": "11988189828040272864"
     },
     "user_tz": 420
    },
    "id": "HxdNsfo2NLjv"
   },
   "outputs": [],
   "source": [
    "#removing the n/a's from technical variable creation\n",
    "data=data.iloc[49:,:]"
   ]
  },
  {
   "cell_type": "code",
   "execution_count": 17,
   "metadata": {
    "colab": {
     "base_uri": "https://localhost:8080/",
     "height": 238
    },
    "executionInfo": {
     "elapsed": 7,
     "status": "ok",
     "timestamp": 1667425213304,
     "user": {
      "displayName": "Dimitry Kirtsman",
      "userId": "11988189828040272864"
     },
     "user_tz": 420
    },
    "id": "8gllyoBWaKAw",
    "outputId": "73aaaf56-4278-427b-f12c-69f3904a1372"
   },
   "outputs": [
    {
     "data": {
      "text/html": [
       "\n",
       "  <div id=\"df-3ac3dc3f-fb9c-4e44-be1e-fcedbf1e7c22\">\n",
       "    <div class=\"colab-df-container\">\n",
       "      <div>\n",
       "<style scoped>\n",
       "    .dataframe tbody tr th:only-of-type {\n",
       "        vertical-align: middle;\n",
       "    }\n",
       "\n",
       "    .dataframe tbody tr th {\n",
       "        vertical-align: top;\n",
       "    }\n",
       "\n",
       "    .dataframe thead th {\n",
       "        text-align: right;\n",
       "    }\n",
       "</style>\n",
       "<table border=\"1\" class=\"dataframe\">\n",
       "  <thead>\n",
       "    <tr style=\"text-align: right;\">\n",
       "      <th></th>\n",
       "      <th>Open</th>\n",
       "      <th>High</th>\n",
       "      <th>Low</th>\n",
       "      <th>Close</th>\n",
       "      <th>Volume</th>\n",
       "      <th>MA_20</th>\n",
       "      <th>MA_50</th>\n",
       "      <th>EXP_MA_20</th>\n",
       "      <th>EXP_MA_50</th>\n",
       "      <th>RSI</th>\n",
       "      <th>MACD</th>\n",
       "      <th>MACD_sign</th>\n",
       "      <th>MACD_hist</th>\n",
       "      <th>BB_upper</th>\n",
       "      <th>BB_middle</th>\n",
       "      <th>BB_lower</th>\n",
       "      <th>PPO</th>\n",
       "      <th>MOM</th>\n",
       "      <th>Rate_Of_Change</th>\n",
       "    </tr>\n",
       "    <tr>\n",
       "      <th>Date</th>\n",
       "      <th></th>\n",
       "      <th></th>\n",
       "      <th></th>\n",
       "      <th></th>\n",
       "      <th></th>\n",
       "      <th></th>\n",
       "      <th></th>\n",
       "      <th></th>\n",
       "      <th></th>\n",
       "      <th></th>\n",
       "      <th></th>\n",
       "      <th></th>\n",
       "      <th></th>\n",
       "      <th></th>\n",
       "      <th></th>\n",
       "      <th></th>\n",
       "      <th></th>\n",
       "      <th></th>\n",
       "      <th></th>\n",
       "    </tr>\n",
       "  </thead>\n",
       "  <tbody>\n",
       "    <tr>\n",
       "      <th>2012-12-12 00:00:00-05:00</th>\n",
       "      <td>17.139781</td>\n",
       "      <td>17.226751</td>\n",
       "      <td>17.019361</td>\n",
       "      <td>17.066191</td>\n",
       "      <td>31448725</td>\n",
       "      <td>16.575811</td>\n",
       "      <td>16.623903</td>\n",
       "      <td>16.750083</td>\n",
       "      <td>16.623903</td>\n",
       "      <td>60.373442</td>\n",
       "      <td>0.171005</td>\n",
       "      <td>0.091747</td>\n",
       "      <td>0.079258</td>\n",
       "      <td>17.421051</td>\n",
       "      <td>16.552651</td>\n",
       "      <td>15.684251</td>\n",
       "      <td>2.271508</td>\n",
       "      <td>0.936602</td>\n",
       "      <td>-0.005070</td>\n",
       "    </tr>\n",
       "    <tr>\n",
       "      <th>2012-12-13 00:00:00-05:00</th>\n",
       "      <td>17.012671</td>\n",
       "      <td>17.159851</td>\n",
       "      <td>16.945770</td>\n",
       "      <td>16.945770</td>\n",
       "      <td>27886837</td>\n",
       "      <td>16.626655</td>\n",
       "      <td>16.630766</td>\n",
       "      <td>16.768720</td>\n",
       "      <td>16.636525</td>\n",
       "      <td>57.275124</td>\n",
       "      <td>0.163228</td>\n",
       "      <td>0.106043</td>\n",
       "      <td>0.057185</td>\n",
       "      <td>17.451354</td>\n",
       "      <td>16.593428</td>\n",
       "      <td>15.735502</td>\n",
       "      <td>2.502352</td>\n",
       "      <td>0.856318</td>\n",
       "      <td>-0.007056</td>\n",
       "    </tr>\n",
       "    <tr>\n",
       "      <th>2012-12-14 00:00:00-05:00</th>\n",
       "      <td>16.872182</td>\n",
       "      <td>16.972532</td>\n",
       "      <td>16.825352</td>\n",
       "      <td>16.845421</td>\n",
       "      <td>27318415</td>\n",
       "      <td>16.677499</td>\n",
       "      <td>16.634561</td>\n",
       "      <td>16.776025</td>\n",
       "      <td>16.644717</td>\n",
       "      <td>54.813772</td>\n",
       "      <td>0.147270</td>\n",
       "      <td>0.114289</td>\n",
       "      <td>0.032981</td>\n",
       "      <td>17.447256</td>\n",
       "      <td>16.637072</td>\n",
       "      <td>15.826889</td>\n",
       "      <td>2.513206</td>\n",
       "      <td>0.916531</td>\n",
       "      <td>-0.005922</td>\n",
       "    </tr>\n",
       "    <tr>\n",
       "      <th>2012-12-17 00:00:00-05:00</th>\n",
       "      <td>16.838726</td>\n",
       "      <td>17.039426</td>\n",
       "      <td>16.825346</td>\n",
       "      <td>16.965836</td>\n",
       "      <td>30144084</td>\n",
       "      <td>16.727674</td>\n",
       "      <td>16.638112</td>\n",
       "      <td>16.794102</td>\n",
       "      <td>16.657310</td>\n",
       "      <td>57.134730</td>\n",
       "      <td>0.142694</td>\n",
       "      <td>0.119970</td>\n",
       "      <td>0.022725</td>\n",
       "      <td>17.426575</td>\n",
       "      <td>16.691230</td>\n",
       "      <td>15.955884</td>\n",
       "      <td>2.493762</td>\n",
       "      <td>1.137300</td>\n",
       "      <td>0.007148</td>\n",
       "    </tr>\n",
       "    <tr>\n",
       "      <th>2012-12-18 00:00:00-05:00</th>\n",
       "      <td>16.959150</td>\n",
       "      <td>17.193301</td>\n",
       "      <td>16.905630</td>\n",
       "      <td>17.153160</td>\n",
       "      <td>34869904</td>\n",
       "      <td>16.777849</td>\n",
       "      <td>16.645013</td>\n",
       "      <td>16.828298</td>\n",
       "      <td>16.676755</td>\n",
       "      <td>60.452770</td>\n",
       "      <td>0.152427</td>\n",
       "      <td>0.126461</td>\n",
       "      <td>0.025966</td>\n",
       "      <td>17.431541</td>\n",
       "      <td>16.747935</td>\n",
       "      <td>16.064329</td>\n",
       "      <td>2.468449</td>\n",
       "      <td>1.190823</td>\n",
       "      <td>0.011041</td>\n",
       "    </tr>\n",
       "  </tbody>\n",
       "</table>\n",
       "</div>\n",
       "      <button class=\"colab-df-convert\" onclick=\"convertToInteractive('df-3ac3dc3f-fb9c-4e44-be1e-fcedbf1e7c22')\"\n",
       "              title=\"Convert this dataframe to an interactive table.\"\n",
       "              style=\"display:none;\">\n",
       "        \n",
       "  <svg xmlns=\"http://www.w3.org/2000/svg\" height=\"24px\"viewBox=\"0 0 24 24\"\n",
       "       width=\"24px\">\n",
       "    <path d=\"M0 0h24v24H0V0z\" fill=\"none\"/>\n",
       "    <path d=\"M18.56 5.44l.94 2.06.94-2.06 2.06-.94-2.06-.94-.94-2.06-.94 2.06-2.06.94zm-11 1L8.5 8.5l.94-2.06 2.06-.94-2.06-.94L8.5 2.5l-.94 2.06-2.06.94zm10 10l.94 2.06.94-2.06 2.06-.94-2.06-.94-.94-2.06-.94 2.06-2.06.94z\"/><path d=\"M17.41 7.96l-1.37-1.37c-.4-.4-.92-.59-1.43-.59-.52 0-1.04.2-1.43.59L10.3 9.45l-7.72 7.72c-.78.78-.78 2.05 0 2.83L4 21.41c.39.39.9.59 1.41.59.51 0 1.02-.2 1.41-.59l7.78-7.78 2.81-2.81c.8-.78.8-2.07 0-2.86zM5.41 20L4 18.59l7.72-7.72 1.47 1.35L5.41 20z\"/>\n",
       "  </svg>\n",
       "      </button>\n",
       "      \n",
       "  <style>\n",
       "    .colab-df-container {\n",
       "      display:flex;\n",
       "      flex-wrap:wrap;\n",
       "      gap: 12px;\n",
       "    }\n",
       "\n",
       "    .colab-df-convert {\n",
       "      background-color: #E8F0FE;\n",
       "      border: none;\n",
       "      border-radius: 50%;\n",
       "      cursor: pointer;\n",
       "      display: none;\n",
       "      fill: #1967D2;\n",
       "      height: 32px;\n",
       "      padding: 0 0 0 0;\n",
       "      width: 32px;\n",
       "    }\n",
       "\n",
       "    .colab-df-convert:hover {\n",
       "      background-color: #E2EBFA;\n",
       "      box-shadow: 0px 1px 2px rgba(60, 64, 67, 0.3), 0px 1px 3px 1px rgba(60, 64, 67, 0.15);\n",
       "      fill: #174EA6;\n",
       "    }\n",
       "\n",
       "    [theme=dark] .colab-df-convert {\n",
       "      background-color: #3B4455;\n",
       "      fill: #D2E3FC;\n",
       "    }\n",
       "\n",
       "    [theme=dark] .colab-df-convert:hover {\n",
       "      background-color: #434B5C;\n",
       "      box-shadow: 0px 1px 3px 1px rgba(0, 0, 0, 0.15);\n",
       "      filter: drop-shadow(0px 1px 2px rgba(0, 0, 0, 0.3));\n",
       "      fill: #FFFFFF;\n",
       "    }\n",
       "  </style>\n",
       "\n",
       "      <script>\n",
       "        const buttonEl =\n",
       "          document.querySelector('#df-3ac3dc3f-fb9c-4e44-be1e-fcedbf1e7c22 button.colab-df-convert');\n",
       "        buttonEl.style.display =\n",
       "          google.colab.kernel.accessAllowed ? 'block' : 'none';\n",
       "\n",
       "        async function convertToInteractive(key) {\n",
       "          const element = document.querySelector('#df-3ac3dc3f-fb9c-4e44-be1e-fcedbf1e7c22');\n",
       "          const dataTable =\n",
       "            await google.colab.kernel.invokeFunction('convertToInteractive',\n",
       "                                                     [key], {});\n",
       "          if (!dataTable) return;\n",
       "\n",
       "          const docLinkHtml = 'Like what you see? Visit the ' +\n",
       "            '<a target=\"_blank\" href=https://colab.research.google.com/notebooks/data_table.ipynb>data table notebook</a>'\n",
       "            + ' to learn more about interactive tables.';\n",
       "          element.innerHTML = '';\n",
       "          dataTable['output_type'] = 'display_data';\n",
       "          await google.colab.output.renderOutput(dataTable, element);\n",
       "          const docLink = document.createElement('div');\n",
       "          docLink.innerHTML = docLinkHtml;\n",
       "          element.appendChild(docLink);\n",
       "        }\n",
       "      </script>\n",
       "    </div>\n",
       "  </div>\n",
       "  "
      ],
      "text/plain": [
       "                                Open       High        Low      Close  \\\n",
       "Date                                                                    \n",
       "2012-12-12 00:00:00-05:00  17.139781  17.226751  17.019361  17.066191   \n",
       "2012-12-13 00:00:00-05:00  17.012671  17.159851  16.945770  16.945770   \n",
       "2012-12-14 00:00:00-05:00  16.872182  16.972532  16.825352  16.845421   \n",
       "2012-12-17 00:00:00-05:00  16.838726  17.039426  16.825346  16.965836   \n",
       "2012-12-18 00:00:00-05:00  16.959150  17.193301  16.905630  17.153160   \n",
       "\n",
       "                             Volume      MA_20      MA_50  EXP_MA_20  \\\n",
       "Date                                                                   \n",
       "2012-12-12 00:00:00-05:00  31448725  16.575811  16.623903  16.750083   \n",
       "2012-12-13 00:00:00-05:00  27886837  16.626655  16.630766  16.768720   \n",
       "2012-12-14 00:00:00-05:00  27318415  16.677499  16.634561  16.776025   \n",
       "2012-12-17 00:00:00-05:00  30144084  16.727674  16.638112  16.794102   \n",
       "2012-12-18 00:00:00-05:00  34869904  16.777849  16.645013  16.828298   \n",
       "\n",
       "                           EXP_MA_50        RSI      MACD  MACD_sign  \\\n",
       "Date                                                                   \n",
       "2012-12-12 00:00:00-05:00  16.623903  60.373442  0.171005   0.091747   \n",
       "2012-12-13 00:00:00-05:00  16.636525  57.275124  0.163228   0.106043   \n",
       "2012-12-14 00:00:00-05:00  16.644717  54.813772  0.147270   0.114289   \n",
       "2012-12-17 00:00:00-05:00  16.657310  57.134730  0.142694   0.119970   \n",
       "2012-12-18 00:00:00-05:00  16.676755  60.452770  0.152427   0.126461   \n",
       "\n",
       "                           MACD_hist   BB_upper  BB_middle   BB_lower  \\\n",
       "Date                                                                    \n",
       "2012-12-12 00:00:00-05:00   0.079258  17.421051  16.552651  15.684251   \n",
       "2012-12-13 00:00:00-05:00   0.057185  17.451354  16.593428  15.735502   \n",
       "2012-12-14 00:00:00-05:00   0.032981  17.447256  16.637072  15.826889   \n",
       "2012-12-17 00:00:00-05:00   0.022725  17.426575  16.691230  15.955884   \n",
       "2012-12-18 00:00:00-05:00   0.025966  17.431541  16.747935  16.064329   \n",
       "\n",
       "                                PPO       MOM  Rate_Of_Change  \n",
       "Date                                                           \n",
       "2012-12-12 00:00:00-05:00  2.271508  0.936602       -0.005070  \n",
       "2012-12-13 00:00:00-05:00  2.502352  0.856318       -0.007056  \n",
       "2012-12-14 00:00:00-05:00  2.513206  0.916531       -0.005922  \n",
       "2012-12-17 00:00:00-05:00  2.493762  1.137300        0.007148  \n",
       "2012-12-18 00:00:00-05:00  2.468449  1.190823        0.011041  "
      ]
     },
     "execution_count": 17,
     "metadata": {},
     "output_type": "execute_result"
    }
   ],
   "source": [
    "data.head()"
   ]
  },
  {
   "cell_type": "code",
   "execution_count": 18,
   "metadata": {
    "colab": {
     "base_uri": "https://localhost:8080/"
    },
    "executionInfo": {
     "elapsed": 7,
     "status": "ok",
     "timestamp": 1667425213304,
     "user": {
      "displayName": "Dimitry Kirtsman",
      "userId": "11988189828040272864"
     },
     "user_tz": 420
    },
    "id": "n1t5zgDNNLmf",
    "outputId": "3bd4158a-e676-4037-a143-c3a4a82feee3"
   },
   "outputs": [
    {
     "name": "stdout",
     "output_type": "stream",
     "text": [
      "Open              0\n",
      "High              0\n",
      "Low               0\n",
      "Close             0\n",
      "Volume            0\n",
      "MA_20             0\n",
      "MA_50             0\n",
      "EXP_MA_20         0\n",
      "EXP_MA_50         0\n",
      "RSI               0\n",
      "MACD              0\n",
      "MACD_sign         0\n",
      "MACD_hist         0\n",
      "BB_upper          0\n",
      "BB_middle         0\n",
      "BB_lower          0\n",
      "PPO               0\n",
      "MOM               0\n",
      "Rate_Of_Change    0\n",
      "dtype: int64\n"
     ]
    }
   ],
   "source": [
    "#checking that there are no NAs.\n",
    "print(data.isna().sum())"
   ]
  },
  {
   "cell_type": "code",
   "execution_count": 18,
   "metadata": {
    "executionInfo": {
     "elapsed": 5,
     "status": "ok",
     "timestamp": 1667425213304,
     "user": {
      "displayName": "Dimitry Kirtsman",
      "userId": "11988189828040272864"
     },
     "user_tz": 420
    },
    "id": "slVBU5PhGOyM"
   },
   "outputs": [],
   "source": []
  },
  {
   "cell_type": "code",
   "execution_count": 19,
   "metadata": {
    "colab": {
     "base_uri": "https://localhost:8080/"
    },
    "executionInfo": {
     "elapsed": 1159,
     "status": "ok",
     "timestamp": 1667425214458,
     "user": {
      "displayName": "Dimitry Kirtsman",
      "userId": "11988189828040272864"
     },
     "user_tz": 420
    },
    "id": "1gGve7t72oGg",
    "outputId": "0f212d84-af10-4beb-e481-f486c286ca1a"
   },
   "outputs": [
    {
     "name": "stdout",
     "output_type": "stream",
     "text": [
      "(2446, 21, 19)\n",
      "(2446, 1)\n"
     ]
    }
   ],
   "source": [
    "#creating X features  in the shape of [observations by time steps by features], which is neccessary for LSTMs. The y labels are in vector shape. \n",
    "X_samples=[]\n",
    "y_samples=[]\n",
    "num_features=data.shape[1]\n",
    "num_rows=len(data)\n",
    "#time steps are approximetly a month\n",
    "seq_len=21\n",
    "\n",
    "for i in range(seq_len, num_rows):\n",
    "  x_step=data[i-seq_len: i]\n",
    "  y_step=data[\"Close\"][i]\n",
    "  X_samples.append(x_step)\n",
    "  y_samples.append(y_step)\n",
    "\n",
    "X_data=np.array(X_samples)\n",
    "X_data=X_data.reshape(X_data.shape[0], X_data.shape[1], num_features)\n",
    "print(X_data.shape)\n",
    "\n",
    "y_data=np.array(y_samples)\n",
    "y_data=y_data.reshape(y_data.shape[0],1)\n",
    "\n",
    "#checking shape\n",
    "print(y_data.shape)"
   ]
  },
  {
   "cell_type": "code",
   "execution_count": 20,
   "metadata": {
    "executionInfo": {
     "elapsed": 6,
     "status": "ok",
     "timestamp": 1667425214458,
     "user": {
      "displayName": "Dimitry Kirtsman",
      "userId": "11988189828040272864"
     },
     "user_tz": 420
    },
    "id": "ucEZqrUn2oI3"
   },
   "outputs": [],
   "source": [
    "#X_data[-1]"
   ]
  },
  {
   "cell_type": "code",
   "execution_count": 21,
   "metadata": {
    "executionInfo": {
     "elapsed": 5,
     "status": "ok",
     "timestamp": 1667425214458,
     "user": {
      "displayName": "Dimitry Kirtsman",
      "userId": "11988189828040272864"
     },
     "user_tz": 420
    },
    "id": "I6mVmgtJTnyW"
   },
   "outputs": [],
   "source": [
    "#data.tail()"
   ]
  },
  {
   "cell_type": "code",
   "execution_count": 21,
   "metadata": {
    "executionInfo": {
     "elapsed": 5,
     "status": "ok",
     "timestamp": 1667425214458,
     "user": {
      "displayName": "Dimitry Kirtsman",
      "userId": "11988189828040272864"
     },
     "user_tz": 420
    },
    "id": "tCv7YnHpHC41"
   },
   "outputs": [],
   "source": []
  },
  {
   "cell_type": "code",
   "execution_count": 22,
   "metadata": {
    "executionInfo": {
     "elapsed": 6,
     "status": "ok",
     "timestamp": 1667425214459,
     "user": {
      "displayName": "Dimitry Kirtsman",
      "userId": "11988189828040272864"
     },
     "user_tz": 420
    },
    "id": "kbzEENF0rDKe"
   },
   "outputs": [],
   "source": [
    "#creating train and validation sets for hyperparameter tuning. (X_test is created for completeness\n",
    "# but will not be utilized in the hyperparameter tunning stage. Instead a final test set will be created below for use in the final model\n",
    "#after hyperparameter tunning is complete)  \n",
    "\n",
    "# Choosing the number of validation set observations\n",
    "valsplit=500\n",
    "testsplit=250\n",
    "# Splitting the data into train and validation sets\n",
    "X_train=X_data[:-valsplit]\n",
    "X_val=X_data[-valsplit:-testsplit]\n",
    "X_test=X_data[-testsplit:]\n",
    "y_train=y_data[:-valsplit]\n",
    "y_val=y_data[-valsplit:-testsplit]\n",
    "y_test=y_data[-testsplit:]"
   ]
  },
  {
   "cell_type": "code",
   "execution_count": 22,
   "metadata": {
    "executionInfo": {
     "elapsed": 6,
     "status": "ok",
     "timestamp": 1667425214459,
     "user": {
      "displayName": "Dimitry Kirtsman",
      "userId": "11988189828040272864"
     },
     "user_tz": 420
    },
    "id": "772DU2qLcCi8"
   },
   "outputs": [],
   "source": []
  },
  {
   "cell_type": "code",
   "execution_count": 23,
   "metadata": {
    "colab": {
     "base_uri": "https://localhost:8080/"
    },
    "executionInfo": {
     "elapsed": 6,
     "status": "ok",
     "timestamp": 1667425214459,
     "user": {
      "displayName": "Dimitry Kirtsman",
      "userId": "11988189828040272864"
     },
     "user_tz": 420
    },
    "id": "T0uEyx2QLuEC",
    "outputId": "fd02d850-ae98-44f7-a255-9e773656fcf6"
   },
   "outputs": [
    {
     "name": "stdout",
     "output_type": "stream",
     "text": [
      "\n",
      "#### Training Data shape ####\n",
      "(1946, 21, 19)\n",
      "(1946, 1)\n",
      "\n",
      "#### Validation Data shape ####\n",
      "(250, 21, 19)\n",
      "(250, 1)\n",
      "\n",
      "#### Testing Data shape ####\n",
      "(250, 21, 19)\n",
      "(250, 1)\n"
     ]
    }
   ],
   "source": [
    "# Printing the shape of training and validation\n",
    "print('\\n#### Training Data shape ####')\n",
    "print(X_train.shape)\n",
    "print(y_train.shape)\n",
    "print('\\n#### Validation Data shape ####')\n",
    "print(X_val.shape)\n",
    "print(y_val.shape)\n",
    "print('\\n#### Testing Data shape ####')\n",
    "print(X_test.shape)\n",
    "print(y_test.shape)"
   ]
  },
  {
   "cell_type": "code",
   "execution_count": 24,
   "metadata": {
    "executionInfo": {
     "elapsed": 4,
     "status": "ok",
     "timestamp": 1667425214459,
     "user": {
      "displayName": "Dimitry Kirtsman",
      "userId": "11988189828040272864"
     },
     "user_tz": 420
    },
    "id": "D8_qIC4_bBd6"
   },
   "outputs": [],
   "source": [
    "#using MinMaxScaler to fit_transform on the train set and then just transform on the validation set so as to avoid data leakage \n",
    "scaler = MinMaxScaler()\n",
    "X_train = scaler.fit_transform(X_train.reshape(-1, X_train.shape[-1])).reshape(X_train.shape)\n",
    "X_val = scaler.transform(X_val.reshape(-1, X_val.shape[-1])).reshape(X_val.shape)\n",
    "X_test = scaler.transform(X_test.reshape(-1, X_test.shape[-1])).reshape(X_test.shape)\n",
    "\n",
    "scaler_y=MinMaxScaler()\n",
    "y_train=scaler_y.fit_transform(y_train)\n",
    "y_val=scaler_y.transform(y_val)\n",
    "y_test=scaler_y.transform(y_test)"
   ]
  },
  {
   "cell_type": "code",
   "execution_count": 24,
   "metadata": {
    "executionInfo": {
     "elapsed": 4,
     "status": "ok",
     "timestamp": 1667425214459,
     "user": {
      "displayName": "Dimitry Kirtsman",
      "userId": "11988189828040272864"
     },
     "user_tz": 420
    },
    "id": "Lulyx6IkcjR5"
   },
   "outputs": [],
   "source": []
  },
  {
   "cell_type": "code",
   "execution_count": 25,
   "metadata": {
    "executionInfo": {
     "elapsed": 7,
     "status": "ok",
     "timestamp": 1667425214663,
     "user": {
      "displayName": "Dimitry Kirtsman",
      "userId": "11988189828040272864"
     },
     "user_tz": 420
    },
    "id": "YRjak33rIeEq"
   },
   "outputs": [],
   "source": [
    "#Creating final train and test sets. This data is for the final model after the best model using hyperparameter tuning has been identified. \n",
    "#the train set now consists of the train and validation set observations. The test set data has not been observed by any model.\n",
    "# Choosing the number of testing data records\n",
    "testingsplit=250\n",
    " \n",
    "\n",
    "X_final_train=X_data[:-testingsplit]\n",
    "X_final_test=X_data[-testingsplit:]\n",
    "y_final_train=y_data[:-testingsplit]\n",
    "y_final_test=y_data[-testingsplit:]"
   ]
  },
  {
   "cell_type": "code",
   "execution_count": 26,
   "metadata": {
    "colab": {
     "base_uri": "https://localhost:8080/"
    },
    "executionInfo": {
     "elapsed": 6,
     "status": "ok",
     "timestamp": 1667425214663,
     "user": {
      "displayName": "Dimitry Kirtsman",
      "userId": "11988189828040272864"
     },
     "user_tz": 420
    },
    "id": "bDCrJbpmzYIA",
    "outputId": "43fc8abf-9be8-484c-9daf-d3dc918ec15a"
   },
   "outputs": [
    {
     "name": "stdout",
     "output_type": "stream",
     "text": [
      "\n",
      "#### Training Data shape ####\n",
      "(2196, 21, 19)\n",
      "(2196, 1)\n",
      "\n",
      "#### Testing Data shape ####\n",
      "(250, 21, 19)\n",
      "(250, 1)\n"
     ]
    }
   ],
   "source": [
    "print('\\n#### Training Data shape ####')\n",
    "print(X_final_train.shape)\n",
    "print(y_final_train.shape)\n",
    "\n",
    "print('\\n#### Testing Data shape ####')\n",
    "print(X_final_test.shape)\n",
    "print(y_final_test.shape)"
   ]
  },
  {
   "cell_type": "code",
   "execution_count": 27,
   "metadata": {
    "executionInfo": {
     "elapsed": 5,
     "status": "ok",
     "timestamp": 1667425214663,
     "user": {
      "displayName": "Dimitry Kirtsman",
      "userId": "11988189828040272864"
     },
     "user_tz": 420
    },
    "id": "9SOnnsgIIeEr"
   },
   "outputs": [],
   "source": [
    "#scalling the data for the final analysis after the train-validation stage. The scaler is different from before as it scales the train data set that is now composed of \n",
    "#the train and validation sets.\n",
    "scaler_final_X=MinMaxScaler()\n",
    "X_final_train = scaler_final_X.fit_transform(X_final_train.reshape(-1, X_final_train.shape[-1])).reshape(X_final_train.shape)\n",
    "X_final_test = scaler_final_X.transform(X_final_test.reshape(-1, X_final_test.shape[-1])).reshape(X_final_test.shape)\n",
    "\n",
    "scaler_final_y=MinMaxScaler()\n",
    "y_final_train=scaler_final_y.fit_transform(y_final_train)\n",
    "y_final_test=scaler_final_y.transform(y_final_test)"
   ]
  },
  {
   "cell_type": "code",
   "execution_count": 27,
   "metadata": {
    "executionInfo": {
     "elapsed": 5,
     "status": "ok",
     "timestamp": 1667425214663,
     "user": {
      "displayName": "Dimitry Kirtsman",
      "userId": "11988189828040272864"
     },
     "user_tz": 420
    },
    "id": "NKD-3itsQ_ck"
   },
   "outputs": [],
   "source": []
  },
  {
   "cell_type": "code",
   "execution_count": 27,
   "metadata": {
    "executionInfo": {
     "elapsed": 5,
     "status": "ok",
     "timestamp": 1667425214663,
     "user": {
      "displayName": "Dimitry Kirtsman",
      "userId": "11988189828040272864"
     },
     "user_tz": 420
    },
    "id": "Cxo93e75Q_e_"
   },
   "outputs": [],
   "source": []
  },
  {
   "cell_type": "markdown",
   "metadata": {
    "id": "MvB1FNtdRAxS"
   },
   "source": [
    "##Helpful Model Fitting and Results Functions"
   ]
  },
  {
   "cell_type": "code",
   "execution_count": 28,
   "metadata": {
    "executionInfo": {
     "elapsed": 6,
     "status": "ok",
     "timestamp": 1667425214664,
     "user": {
      "displayName": "Dimitry Kirtsman",
      "userId": "11988189828040272864"
     },
     "user_tz": 420
    },
    "id": "HE_kqh7ujHw7"
   },
   "outputs": [],
   "source": [
    "#function for compiling and training the model. \n",
    "def compile_train_model(model, x_train, y_train,  epochs=100, x_valid=None, y_valid=None, patience=3, optimizer='adam', final_model=False):\n",
    "    \n",
    "  \n",
    "    # Compile\n",
    "    model.compile(optimizer=optimizer,\n",
    "                loss = 'mse',\n",
    "                metrics=['mse'])\n",
    "    \n",
    "\n",
    "  # Train if final model there is no validation set.\n",
    "    if final_model:\n",
    "     \n",
    "      history = model.fit(\n",
    "        x_train,\n",
    "        y_train,\n",
    "        epochs=epochs,\n",
    "        batch_size=32,\n",
    "        verbose=1,\n",
    "        callbacks=[    \n",
    "          EarlyStopping(monitor='mse', patience=patience, restore_best_weights=True, verbose=0)]\n",
    "            )\n",
    "      \n",
    "    else:\n",
    "     \n",
    "      history = model.fit(\n",
    "        x_train,\n",
    "        y_train,\n",
    "        epochs=epochs,\n",
    "        batch_size=32,\n",
    "        validation_data=(x_valid, y_valid),\n",
    "        verbose=1,\n",
    "        callbacks=[    \n",
    "          EarlyStopping(monitor='val_mse', patience=patience, restore_best_weights=True, verbose=0)]\n",
    "            )\n",
    "    return history, model   \n",
    "    "
   ]
  },
  {
   "cell_type": "code",
   "execution_count": 28,
   "metadata": {
    "executionInfo": {
     "elapsed": 6,
     "status": "ok",
     "timestamp": 1667425214664,
     "user": {
      "displayName": "Dimitry Kirtsman",
      "userId": "11988189828040272864"
     },
     "user_tz": 420
    },
    "id": "10Xq4ST1Q9_E"
   },
   "outputs": [],
   "source": [
    "\n",
    "  "
   ]
  },
  {
   "cell_type": "code",
   "execution_count": 29,
   "metadata": {
    "executionInfo": {
     "elapsed": 6,
     "status": "ok",
     "timestamp": 1667425214664,
     "user": {
      "displayName": "Dimitry Kirtsman",
      "userId": "11988189828040272864"
     },
     "user_tz": 420
    },
    "id": "dskWi3ZJn4Pb"
   },
   "outputs": [],
   "source": [
    "#creating function for charts of train vs validation loss functions\n",
    "def train_val_loss_charts(model_history, model_num):\n",
    "    model_df=pd.DataFrame(model_history.history)\n",
    "\n",
    "    model_df[[\"loss\",\"val_loss\"]].plot(figsize=(9,7))\n",
    "    plt.grid(True)\n",
    "    plt.title(\"LSTM - Train vs. Validation Loss for {}\".format(model_num), size =17)\n",
    "    plt.xlabel(\"Epochs\", size=15)\n",
    "\n",
    "    plt.show()    "
   ]
  },
  {
   "cell_type": "code",
   "execution_count": 30,
   "metadata": {
    "executionInfo": {
     "elapsed": 5,
     "status": "ok",
     "timestamp": 1667425214664,
     "user": {
      "displayName": "Dimitry Kirtsman",
      "userId": "11988189828040272864"
     },
     "user_tz": 420
    },
    "id": "ujvOf4tVdMyb"
   },
   "outputs": [],
   "source": [
    "#from https://www.statology.org/matplotlib-abline/\n",
    "def abline(slope, intercept):\n",
    "     axes = plt.gca()\n",
    "     x_vals = np.array(axes.get_xlim())\n",
    "     y_vals = intercept + slope * x_vals\n",
    "     plt.plot(x_vals, y_vals, '--', color=\"red\")"
   ]
  },
  {
   "cell_type": "code",
   "execution_count": 31,
   "metadata": {
    "executionInfo": {
     "elapsed": 5,
     "status": "ok",
     "timestamp": 1667425214664,
     "user": {
      "displayName": "Dimitry Kirtsman",
      "userId": "11988189828040272864"
     },
     "user_tz": 420
    },
    "id": "h0rLxV5yokWy"
   },
   "outputs": [],
   "source": [
    "#creating rmse, MAPE, MAE and R calculation for price levels using inverese_transform on the y_scaller\n",
    "\n",
    "def price_level_evaluation_stats(model, X_train, y_train, X_test, y_test, stock, final_model=False):\n",
    "    \n",
    "    if final_model:\n",
    "\n",
    "      #getting final model predictions for train and test\n",
    "      train_predict=model.predict(X_train, verbose=0)\n",
    "      test_predict=model.predict(X_test, verbose=0)\n",
    "\n",
    "      #unscaling to get price level predictions\n",
    "      train_predict_level=scaler_final_y.inverse_transform(train_predict)\n",
    "      test_predict_level=scaler_final_y.inverse_transform(test_predict)\n",
    "\n",
    "      #unscaling actual values\n",
    "      train_actual_level=scaler_final_y.inverse_transform(y_train)\n",
    "      test_actual_level=scaler_final_y.inverse_transform(y_test)\n",
    "\n",
    "      #calculating MSE\n",
    "      train_RMSE=sqrt(MSE(train_actual_level,train_predict_level ))\n",
    "      test_RMSE=sqrt(MSE(test_actual_level,test_predict_level ))\n",
    "\n",
    "      print(\"Final Model - Train Set RMSE: {}\".format(train_RMSE))\n",
    "      print(\"Final Model - Test Set RMSE: {}\".format(test_RMSE))\n",
    "      print(\"\\n\")\n",
    "      #calculating MAPE\n",
    "      train_MAPE=MAPE(train_actual_level,train_predict_level )\n",
    "      test_MAPE=MAPE(test_actual_level,test_predict_level )\n",
    "\n",
    "      print(\"Final Model - Train Set MAPE: {}\".format(train_MAPE))\n",
    "      print(\"Final Model - Test Set MAPE: {}\".format(test_MAPE))\n",
    "      print(\"\\n\")\n",
    "\n",
    "      #calculating MAE\n",
    "      train_MAE=MAE(train_actual_level,train_predict_level )\n",
    "      test_MAE=MAE(test_actual_level,test_predict_level )\n",
    "\n",
    "      print(\"Final Model - Train Set MAE: {}\".format(train_MAE))\n",
    "      print(\"Final Model - Test Set MAE: {}\".format(test_MAE))\n",
    "      print(\"\\n\")\n",
    "\n",
    "      #calculating correl_coefficent between actual and predicted\n",
    "      train_R=np.corrcoef(train_actual_level.reshape(-1),train_predict_level.reshape(-1) )\n",
    "      test_R=np.corrcoef(test_actual_level.reshape(-1),test_predict_level.reshape(-1) )\n",
    "\n",
    "      print(\"Final Model - Train Set R: {}\".format(np.round(train_R[0,1],4)))\n",
    "      print(\"Final Model - Test Set R: {}\".format(np.round(test_R[0,1],4)))\n",
    "      print(\"\\n\")\n",
    "\n",
    "      #model_df=pd.DataFrame(model_history.history)\n",
    "\n",
    "      #model_df[[\"loss\",\"val_loss\"]].plot(figsize=(9,7))\n",
    "      plt.figure(figsize=(9, 7))\n",
    "      plt.scatter(test_actual_level.reshape(-1),test_predict_level.reshape(-1))\n",
    "      plt.grid(True)\n",
    "      plt.title(\"LSTM - Actual vs. Predicted {} Prices Scatterplot\".format(stock), size =17)\n",
    "      plt.xlabel(\"Actual\", size=15)\n",
    "      plt.ylabel(\"Predictions\", size=15)\n",
    "      abline(1,0)\n",
    "      plt.show() \n",
    "    \n",
    "    else:\n",
    "\n",
    "      #getting model predictions for train and val \n",
    "      train_predict=model.predict(X_train, verbose=0)\n",
    "      val_predict=model.predict(X_test, verbose=0)\n",
    "     \n",
    "\n",
    "      #unscaling to get price level predictions\n",
    "      train_predict_level=scaler_y.inverse_transform(train_predict)\n",
    "      val_predict_level=scaler_y.inverse_transform(val_predict)\n",
    "      \n",
    "\n",
    "      #unscaling actual values\n",
    "      train_actual_level=scaler_y.inverse_transform(y_train)\n",
    "      val_actual_level=scaler_y.inverse_transform(y_test)\n",
    "      \n",
    "\n",
    "      #calculating RMSE\n",
    "      train_RMSE=sqrt(MSE(train_actual_level,train_predict_level ))\n",
    "      val_RMSE=sqrt(MSE(val_actual_level,val_predict_level ))\n",
    "      \n",
    "      print(\"Train Set RMSE: {}\".format(train_RMSE))\n",
    "      print(\"Val Set RMSE: {}\".format(val_RMSE))\n",
    "      print(\"\\n\")\n",
    "\n",
    "      #calculating MAPE\n",
    "      train_MAPE=MAPE(train_actual_level,train_predict_level )\n",
    "      val_MAPE=MAPE(val_actual_level,val_predict_level )\n",
    "      \n",
    "      print(\"Train Set MAPE: {}\".format(train_MAPE))\n",
    "      print(\"Val Set MAPE: {}\".format(val_MAPE))\n",
    "      print(\"\\n\")\n",
    "\n",
    "      #calculating MAPE\n",
    "      train_MAE=MAE(train_actual_level,train_predict_level )\n",
    "      val_MAE=MAE(val_actual_level,val_predict_level )\n",
    "      \n",
    "\n",
    "      print(\"Train Set MAE: {}\".format(train_MAE))\n",
    "      print(\"Val Set MAE: {}\".format(val_MAE))\n",
    "      print(\"\\n\")\n",
    "\n",
    "      #calculating correl_coefficent between actual and predicted\n",
    "      train_R=np.corrcoef(train_actual_level.reshape(-1),train_predict_level.reshape(-1) )\n",
    "      val_R=np.corrcoef(val_actual_level.reshape(-1),val_predict_level.reshape(-1) )\n",
    "      \n",
    "\n",
    "      print(\"Train Set R: {}\".format(np.round(train_R[0,1],4)))\n",
    "      print(\"Val Set R: {}\".format(np.round(val_R[0,1],4)))\n",
    "      print(\"\\n\")\n",
    "\n",
    "      plt.figure(figsize=(9, 7))\n",
    "      plt.scatter(val_actual_level.reshape(-1),val_predict_level.reshape(-1))\n",
    "      plt.grid(True)\n",
    "      plt.title(\"LSTM - Actual vs. Predicted {} Prices Scatterplot\".format(stock), size =17)\n",
    "      plt.xlabel(\"Actual\", size=15)\n",
    "      plt.ylabel(\"Predictions\", size=15)\n",
    "      abline(1,0)\n",
    "      plt.show()\n"
   ]
  },
  {
   "cell_type": "code",
   "execution_count": 32,
   "metadata": {
    "executionInfo": {
     "elapsed": 5,
     "status": "ok",
     "timestamp": 1667425214664,
     "user": {
      "displayName": "Dimitry Kirtsman",
      "userId": "11988189828040272864"
     },
     "user_tz": 420
    },
    "id": "KsuRLDNHyC7h"
   },
   "outputs": [],
   "source": [
    "def actual_predicted_test_set_chart(model, X_final_test,y_final_test, model_number):\n",
    "      #getting final model predictions for test set\n",
    "      test_predict=model.predict(X_final_test,verbose=0)\n",
    "\n",
    "      #unscaling to get price level predictions\n",
    "      test_predict_level=scaler_final_y.inverse_transform(test_predict)\n",
    "\n",
    "      #unscaling actual values\n",
    "      test_actual_level=scaler_final_y.inverse_transform(y_final_test)\n",
    "\n",
    "      #creating dataframe and setting dates as the index\n",
    "      df_actual_predicted=pd.DataFrame([test_predict_level.reshape(-1), test_actual_level.reshape(-1)]).T\n",
    "      df_actual_predicted.rename(columns={0: \"Predicted\", 1: \"Actual\"}, inplace=True)\n",
    "      df_actual_predicted[\"dates\"]=data.index[-250:]\n",
    "      df_actual_predicted.set_index(\"dates\", inplace=True)\n",
    "\n",
    "      #creating chart of Predicted vs. Actual\n",
    "      df_actual_predicted[[\"Predicted\", \"Actual\"]].plot(figsize=(9,7))\n",
    "      plt.grid(True)\n",
    "      plt.title(\"LSTM - Actual vs. Predicted Prices: {}\".format(model_number), size =17)\n",
    "      plt.ylabel(\"Price\", size=15)\n",
    "      plt.xlabel(\"\")\n",
    "     \n",
    "      \n"
   ]
  },
  {
   "cell_type": "code",
   "execution_count": 33,
   "metadata": {
    "executionInfo": {
     "elapsed": 6,
     "status": "ok",
     "timestamp": 1667425214665,
     "user": {
      "displayName": "Dimitry Kirtsman",
      "userId": "11988189828040272864"
     },
     "user_tz": 420
    },
    "id": "FXMXDBO2fTyq"
   },
   "outputs": [],
   "source": [
    "def actual_predicted_train_test_set_chart(model, X_train, y_train, X_test, y_test, stock):\n",
    "      #getting final model predictions for train and test\n",
    "      train_predict=model.predict(X_train, verbose=0)\n",
    "      test_predict=model.predict(X_test, verbose=0)\n",
    "\n",
    "      #unscaling to get price level predictions\n",
    "      train_predict_level=scaler_final_y.inverse_transform(train_predict)\n",
    "      test_predict_level=scaler_final_y.inverse_transform(test_predict)\n",
    "\n",
    "      #unscaling actual values\n",
    "      train_actual_level=scaler_final_y.inverse_transform(y_train)\n",
    "      test_actual_level=scaler_final_y.inverse_transform(y_test)\n",
    "\n",
    "      #combine time series\n",
    "      total_actual_level=np.concatenate((train_actual_level,test_actual_level))\n",
    "      total_predict_level=np.concatenate((train_predict_level, test_predict_level))\n",
    "\n",
    "      #creating dataframe and setting dates as the index\n",
    "      df_actual_predicted=pd.DataFrame([total_predict_level.reshape(-1), total_actual_level.reshape(-1)]).T\n",
    "      df_actual_predicted.rename(columns={0: \"Predicted\", 1: \"Actual Prices\"}, inplace=True)\n",
    "      df_actual_predicted[\"dates\"]=data.index[-2446:]\n",
    "      df_actual_predicted.set_index(\"dates\", inplace=True)\n",
    "      #separating the train and test set into separate series so as to use different colors\n",
    "      df_actual_predicted['Predicted Prices Train Set'] = np.where(df_actual_predicted.index<=\"2021-10-04\", df_actual_predicted[\"Predicted\"], np.NaN)\n",
    "      df_actual_predicted['Predicted Prices Test Set'] = np.where(df_actual_predicted.index>=\"2021-10-04\", df_actual_predicted[\"Predicted\"], np.NaN)\n",
    "      \n",
    "      #creating chart of Predicted vs. Actual \n",
    "\n",
    "      #cycler to assign different colors, linestyles and linewidths to the three series\n",
    "      cycler = plt.cycler(color= ['k','g','b'],\n",
    "                          linestyle=['-', '-', '-'],\n",
    "                          linewidth=[1,1.5,1.5])\n",
    "                   \n",
    "      fig, ax = plt.subplots()\n",
    "      ax.set_prop_cycle(cycler)\n",
    "      df_actual_predicted[[\"Actual Prices\",'Predicted Prices Train Set', 'Predicted Prices Test Set']].plot(figsize=(9,7), ax=ax)\n",
    "      plt.grid(True)\n",
    "      \n",
    "      plt.title(\"LSTM - Actual vs. Predicted Prices: {}\".format(model_number), size =17)\n",
    "      plt.ylabel(\"Price\", size=15)\n",
    "      plt.xlabel(\"\")\n",
    "      \n",
    "     "
   ]
  },
  {
   "cell_type": "code",
   "execution_count": 34,
   "metadata": {
    "executionInfo": {
     "elapsed": 191,
     "status": "ok",
     "timestamp": 1667425214850,
     "user": {
      "displayName": "Dimitry Kirtsman",
      "userId": "11988189828040272864"
     },
     "user_tz": 420
    },
    "id": "110ggtLeEWS3"
   },
   "outputs": [],
   "source": [
    "# Function for creating confusion matrix\n",
    "\n",
    "#class names for confusion matrix\n",
    "class_names = [\"Price Down Next Day\", \"Price Up Next Day\"]\n",
    "\n",
    "\n",
    "def confusion_matrix_stocks(model_for_matrix, predicted_values, actual_test_labels, model_num):\n",
    "    \n",
    "\n",
    "\n",
    "\n",
    "    #creating confusion matrix - using test set labels as they were already sparse before one-hot encoding\n",
    "    confusion_matrix_for_model = confusion_matrix(actual_test_labels ,  predicted_values)\n",
    "\n",
    "\n",
    "    confusion_matrix_df = pd.DataFrame(confusion_matrix_for_model,\n",
    "                    \n",
    "                     index=class_names,\n",
    "                     columns=class_names)\n",
    "\n",
    "    #Plotting the confusion matrix\n",
    "    plt.figure(figsize=(10,8))\n",
    "    ax=sns.heatmap(confusion_matrix_df,annot=True, fmt=\"d\", cmap=\"rocket_r\", annot_kws={\"size\":25})\n",
    "    cax = ax.figure.axes[-1]\n",
    "    cax.tick_params(labelsize=22)\n",
    "    plt.title('LSTM - Confusion Matrix - {}'.format(model_num), size=25)\n",
    "    plt.ylabel('Actual Labels', size=22)\n",
    "    plt.xlabel('Predicted Labels',size=22)\n",
    "    plt.xticks(fontsize=20)\n",
    "    plt.yticks(fontsize=20)\n",
    "    plt.show() "
   ]
  },
  {
   "cell_type": "code",
   "execution_count": 34,
   "metadata": {
    "executionInfo": {
     "elapsed": 4,
     "status": "ok",
     "timestamp": 1667425214850,
     "user": {
      "displayName": "Dimitry Kirtsman",
      "userId": "11988189828040272864"
     },
     "user_tz": 420
    },
    "id": "noxZmfRdRI1Z"
   },
   "outputs": [],
   "source": [
    "\n",
    "      \n",
    "      "
   ]
  },
  {
   "cell_type": "code",
   "execution_count": 35,
   "metadata": {
    "executionInfo": {
     "elapsed": 3,
     "status": "ok",
     "timestamp": 1667425214850,
     "user": {
      "displayName": "Dimitry Kirtsman",
      "userId": "11988189828040272864"
     },
     "user_tz": 420
    },
    "id": "6VZy4WPjYtFg"
   },
   "outputs": [],
   "source": [
    "def test_set_classification_report(model, X_final_test,y_final_test, model_number):\n",
    "      #getting final model predictions for train and test\n",
    "      test_predict=model.predict(X_test, verbose=0)\n",
    "\n",
    "      #unscaling to get price level predictions\n",
    "      test_predict_level=scaler_final_y.inverse_transform(test_predict)\n",
    "\n",
    "      #unscaling actual values\n",
    "      test_actual_level=scaler_final_y.inverse_transform(y_test)\n",
    "      \n",
    "      #creating dataframe \n",
    "      df_actual_predicted=pd.DataFrame([test_predict_level.reshape(-1), test_actual_level.reshape(-1)]).T\n",
    "      df_actual_predicted.rename(columns={0: \"Predicted\", 1: \"Actual\"}, inplace=True)\n",
    "      \n",
    "      #creating forecasted signal for next day from past day actual price. 0 if level price forecast is less than or equal to yesterday's actual price, and\n",
    "      #1 for above. \n",
    "      predicted_signal=[0]\n",
    "      for i in range(1,250):\n",
    "        if df_actual_predicted.iloc[i, 0]>df_actual_predicted.iloc[i-1,1]:\n",
    "          predicted_signal.append(1)\n",
    "        else:\n",
    "          predicted_signal.append(0)\n",
    "      #creating  signal for next day from past day actual price. 0 if level of actual next day price is less than or equal to yesterday's actual price, and\n",
    "      #1 for above.\n",
    "      actual_signal=[0]\n",
    "      for i in range(1,250):\n",
    "        if df_actual_predicted.iloc[i, 1]>df_actual_predicted.iloc[i-1,1]:\n",
    "          actual_signal.append(1)\n",
    "        else:\n",
    "          actual_signal.append(0)\n",
    "      print(classification_report(actual_signal[1:], predicted_signal[1:]))\n",
    "      accuracy=accuracy_score(actual_signal[1:], predicted_signal[1:])\n",
    "\n",
    "      print(\"Test Set Accuracy for {} is {}\".format(model_number, accuracy))\n",
    "      print(\"\\n\")\n",
    "      print(\"\\n\")\n",
    "      \n",
    "      confusion_matrix_stocks(model,predicted_signal[1:], actual_signal[1:], model_number)\n",
    "      \n",
    "      \n",
    "      "
   ]
  },
  {
   "cell_type": "code",
   "execution_count": 35,
   "metadata": {
    "executionInfo": {
     "elapsed": 3,
     "status": "ok",
     "timestamp": 1667425214850,
     "user": {
      "displayName": "Dimitry Kirtsman",
      "userId": "11988189828040272864"
     },
     "user_tz": 420
    },
    "id": "Mz7sLlmqRjxZ"
   },
   "outputs": [],
   "source": []
  },
  {
   "cell_type": "markdown",
   "metadata": {
    "id": "6e2QtpFnRkpx"
   },
   "source": [
    "##Model Hyper-parameter Tuning using Train and Validation Set "
   ]
  },
  {
   "cell_type": "code",
   "execution_count": 36,
   "metadata": {
    "executionInfo": {
     "elapsed": 3,
     "status": "ok",
     "timestamp": 1667425214850,
     "user": {
      "displayName": "Dimitry Kirtsman",
      "userId": "11988189828040272864"
     },
     "user_tz": 420
    },
    "id": "J-A19GB91L68"
   },
   "outputs": [],
   "source": [
    "#Time2Vec class implementation. Code adjusted from https://medium.com/@dave.cote.msc/hands-on-advanced-deep-learning-time-series-forecasting-with-tensors-7facae522f18\n",
    "\n",
    "class Time2Vec(layers.Layer):\n",
    "  def __init__(self, seq_len, **kwargs):\n",
    "    super(Time2Vec, self).__init__()\n",
    "    self.seq_len=seq_len\n",
    "\n",
    "  def build(self, input_shape):\n",
    "\n",
    "    self.weights_linear=self.add_weight(name=\"beta_linear\", \n",
    "                                       shape=(int(self.seq_len),),\n",
    "                                       initializer=\"uniform\",\n",
    "                                       trainable=True)\n",
    "    self.bias_linear=self.add_weight(name=\"bias_linear\", \n",
    "                                       shape=(int(self.seq_len),),\n",
    "                                       initializer=\"uniform\",\n",
    "                                       trainable=True)\n",
    "    self.weights_periodic=self.add_weight(name=\"beta_periodic\", \n",
    "                                       shape=(int(self.seq_len),),\n",
    "                                       initializer=\"uniform\",\n",
    "                                       trainable=True)\n",
    "    self.bias_periodic=self.add_weight(name=\"bias_periodic\", \n",
    "                                       shape=(int(self.seq_len),),\n",
    "                                       initializer=\"uniform\",\n",
    "                                       trainable=True)\n",
    "\n",
    "\n",
    "  def call(self, x):\n",
    "\n",
    "    x=tf.math.reduce_mean(x[:,:,:], axis=-1)\n",
    "    time_linear=self.weights_linear*x + self.bias_linear\n",
    "    time_linear=tf.expand_dims(time_linear, axis=-1)\n",
    "\n",
    "    time_periodic = tf.math.sin(tf.multiply(x, self.weights_periodic) +self.bias_periodic)\n",
    "    time_periodic=tf.expand_dims(time_periodic, axis=-1)\n",
    "\n",
    "    return tf.concat([time_linear, time_periodic], axis=-1)\n",
    "\n",
    "  def get_config(self):                                 \n",
    "    config = super(Time2Vec, self).get_config()\n",
    "    config.update({\n",
    "            \"seq_len\": self.seq_len\n",
    "            \n",
    "\n",
    "        })\n",
    "    return config\n",
    "\n"
   ]
  },
  {
   "cell_type": "code",
   "execution_count": null,
   "metadata": {
    "id": "_w2Uahkk2oNp"
   },
   "outputs": [],
   "source": [
    "#Hyperparameter tunning of LSTM model with Time2Vec\n",
    "\n",
    "tf.keras.backend.clear_session()\n",
    "\n",
    "def lstm_model(hp):\n",
    "    \n",
    "    time_embedding = Time2Vec(seq_len) #Instanciate Time2Vec embeddings\n",
    "    input=Input(shape=(seq_len, 19))\n",
    "    x=time_embedding(input) #get Time2Vec embeddings using inputs\n",
    "    x=layers.Concatenate(axis=-1)([input, x]) #concatenate Time2Vec embeddings and inputs\n",
    "    \n",
    "    #Choice of 2 or 3  LSTM layers\n",
    "    for i in range(hp.Int(\"number_layers\",1,2)):\n",
    "        #within each  LSTM layer testing for a min of 64 units, a max of 256 nodes and any in between by \n",
    "        #multiples of 32. \n",
    "        x=LSTM(units=hp.Int('LSTM_{}_units'.format(i),min_value=64,max_value=256,step=32), return_sequences=True)(x)\n",
    "        #testing for dropout of values 0.1 to 0.4 by increments of 0.1 after every hidden layer\n",
    "        x=Dropout(hp.Float(\"dropout_{}\".format(i), min_value=0.10, max_value=0.40, step=0.10))(x)\n",
    "    #For last LSTM layer testing for a min of 64 units, a max of 256 nodes and any in between by \n",
    "    #multiples of 32\n",
    "    x=LSTM(units=hp.Int('LSTM_{}_units'.format(i+1),min_value=64,max_value=256,step=32))(x)\n",
    "    #testing for dropout of values 0.1 to 0.4 by increments of 0.1 after every hidden layer\n",
    "    x=Dropout((hp.Float(\"dropout_{}\".format(i+1), min_value=0.10, max_value=0.40, step=0.10)))(x)\n",
    "    out= Dense(1, activation='linear')(x)\n",
    "\n",
    "\n",
    "    model = Model(inputs=input, outputs=out)\n",
    "    \n",
    "    model.compile(loss=\"mse\", optimizer=\"adam\", metrics=[\"mse\"])\n",
    "\n",
    "    return model\n"
   ]
  },
  {
   "cell_type": "code",
   "execution_count": null,
   "metadata": {
    "id": "VZVfd8wIfsjV"
   },
   "outputs": [],
   "source": [
    "#creating Bayesian Optimization for KerasTuner\n",
    "model_tuner = kt.BayesianOptimization(\n",
    "    hypermodel=lstm_model,\n",
    "    objective=\"val_mse\",\n",
    "    max_trials=20,\n",
    "    overwrite=True,\n",
    "    directory='/content/gdrive/My Drive/Colab Notebooks/MSDS_498/keras_tuner_out',\n",
    "    project_name=stock)"
   ]
  },
  {
   "cell_type": "code",
   "execution_count": null,
   "metadata": {
    "colab": {
     "base_uri": "https://localhost:8080/"
    },
    "executionInfo": {
     "elapsed": 498097,
     "status": "ok",
     "timestamp": 1666462898606,
     "user": {
      "displayName": "Dimitry Kirtsman",
      "userId": "11988189828040272864"
     },
     "user_tz": 420
    },
    "id": "flfEWMk5gUrE",
    "outputId": "3db342aa-93dc-4209-9824-ca357b6e3cb7"
   },
   "outputs": [
    {
     "name": "stdout",
     "output_type": "stream",
     "text": [
      "Trial 20 Complete [00h 00m 19s]\n",
      "val_mse: 0.000921834958717227\n",
      "\n",
      "Best val_mse So Far: 0.000921834958717227\n",
      "Total elapsed time: 00h 08m 16s\n"
     ]
    }
   ],
   "source": [
    "epochs=40\n",
    "patience=5\n",
    "\n",
    "early_stopping= EarlyStopping(monitor='val_mse',patience=patience, restore_best_weights=True )\n",
    "\n",
    "#tunning the model\n",
    "model_tuner.search(X_train, y_train, epochs=epochs, batch_size=32, validation_data=(X_val, y_val), callbacks= [early_stopping])"
   ]
  },
  {
   "cell_type": "code",
   "execution_count": null,
   "metadata": {
    "colab": {
     "base_uri": "https://localhost:8080/"
    },
    "executionInfo": {
     "elapsed": 13,
     "status": "ok",
     "timestamp": 1666462898606,
     "user": {
      "displayName": "Dimitry Kirtsman",
      "userId": "11988189828040272864"
     },
     "user_tz": 420
    },
    "id": "ZF4Z6dP0hvD1",
    "outputId": "6d253e32-9a90-4745-e190-d926a4c9fb6c"
   },
   "outputs": [
    {
     "name": "stdout",
     "output_type": "stream",
     "text": [
      "Number of layers: 2\n",
      "\n",
      "\n",
      "Number of units in LSTM_0: 256\n",
      "Dropout in LSTM_0: 0.1\n",
      "\n",
      "\n",
      "Number of units in LSTM_1: 256\n",
      "Dropout in LSTM_1: 0.1\n",
      "\n",
      "\n"
     ]
    }
   ],
   "source": [
    "#getting best hyperparameters\n",
    "model_best_hyper_parameters=model_tuner.get_best_hyperparameters(num_trials=1)[0]\n",
    "\n",
    "#function to print out best parameters depending on how many LSTM layers there are\n",
    "def best_model_hyperparameters(bhp):\n",
    "    \n",
    "    num_layers=bhp.get('number_layers')\n",
    "    print(\"Number of layers: {}\".format(num_layers+1))\n",
    "    print(\"\\n\")\n",
    "    for i in range(0,num_layers+1):\n",
    "        print(\"Number of units in LSTM_{}:\".format(i), bhp.get(\"LSTM_{}_units\".format(i)))\n",
    "        print(\"Dropout in LSTM_{}:\".format(i),np.round( bhp.get(\"dropout_{}\".format(i)),3 )  )\n",
    "        print(\"\\n\")\n",
    "    #print(\"Optimizer Used: {}\".format(bhp.get('optimizer')))                                                           \n",
    "\n",
    "#printing out best model hyperparameters\n",
    "best_model_hyperparameters(model_best_hyper_parameters)  "
   ]
  },
  {
   "cell_type": "code",
   "execution_count": null,
   "metadata": {
    "colab": {
     "base_uri": "https://localhost:8080/"
    },
    "executionInfo": {
     "elapsed": 31884,
     "status": "ok",
     "timestamp": 1666462930480,
     "user": {
      "displayName": "Dimitry Kirtsman",
      "userId": "11988189828040272864"
     },
     "user_tz": 420
    },
    "id": "VusVPLhwiL0j",
    "outputId": "7b56bad0-59da-499e-b4d6-c4a9c13cddc7"
   },
   "outputs": [
    {
     "name": "stdout",
     "output_type": "stream",
     "text": [
      "Epoch 1/40\n",
      "61/61 [==============================] - 5s 32ms/step - loss: 0.0197 - mse: 0.0197 - val_loss: 0.0196 - val_mse: 0.0196\n",
      "Epoch 2/40\n",
      "61/61 [==============================] - 1s 15ms/step - loss: 0.0019 - mse: 0.0019 - val_loss: 0.0078 - val_mse: 0.0078\n",
      "Epoch 3/40\n",
      "61/61 [==============================] - 1s 15ms/step - loss: 0.0015 - mse: 0.0015 - val_loss: 0.0081 - val_mse: 0.0081\n",
      "Epoch 4/40\n",
      "61/61 [==============================] - 1s 15ms/step - loss: 0.0013 - mse: 0.0013 - val_loss: 0.0049 - val_mse: 0.0049\n",
      "Epoch 5/40\n",
      "61/61 [==============================] - 1s 15ms/step - loss: 0.0013 - mse: 0.0013 - val_loss: 0.0071 - val_mse: 0.0071\n",
      "Epoch 6/40\n",
      "61/61 [==============================] - 1s 15ms/step - loss: 0.0010 - mse: 0.0010 - val_loss: 0.0023 - val_mse: 0.0023\n",
      "Epoch 7/40\n",
      "61/61 [==============================] - 1s 17ms/step - loss: 0.0011 - mse: 0.0011 - val_loss: 0.0033 - val_mse: 0.0033\n",
      "Epoch 8/40\n",
      "61/61 [==============================] - 1s 14ms/step - loss: 0.0011 - mse: 0.0011 - val_loss: 0.0019 - val_mse: 0.0019\n",
      "Epoch 9/40\n",
      "61/61 [==============================] - 1s 15ms/step - loss: 9.6964e-04 - mse: 9.6964e-04 - val_loss: 0.0015 - val_mse: 0.0015\n",
      "Epoch 10/40\n",
      "61/61 [==============================] - 1s 14ms/step - loss: 8.8970e-04 - mse: 8.8970e-04 - val_loss: 0.0016 - val_mse: 0.0016\n",
      "Epoch 11/40\n",
      "61/61 [==============================] - 1s 14ms/step - loss: 8.8916e-04 - mse: 8.8916e-04 - val_loss: 0.0014 - val_mse: 0.0014\n",
      "Epoch 12/40\n",
      "61/61 [==============================] - 1s 14ms/step - loss: 8.5776e-04 - mse: 8.5776e-04 - val_loss: 0.0050 - val_mse: 0.0050\n",
      "Epoch 13/40\n",
      "61/61 [==============================] - 1s 14ms/step - loss: 0.0011 - mse: 0.0011 - val_loss: 0.0016 - val_mse: 0.0016\n",
      "Epoch 14/40\n",
      "61/61 [==============================] - 1s 13ms/step - loss: 8.0168e-04 - mse: 8.0168e-04 - val_loss: 0.0013 - val_mse: 0.0013\n",
      "Epoch 15/40\n",
      "61/61 [==============================] - 1s 10ms/step - loss: 0.0010 - mse: 0.0010 - val_loss: 0.0023 - val_mse: 0.0023\n",
      "Epoch 16/40\n",
      "61/61 [==============================] - 1s 9ms/step - loss: 8.7086e-04 - mse: 8.7086e-04 - val_loss: 0.0011 - val_mse: 0.0011\n",
      "Epoch 17/40\n",
      "61/61 [==============================] - 1s 10ms/step - loss: 8.6468e-04 - mse: 8.6468e-04 - val_loss: 0.0013 - val_mse: 0.0013\n",
      "Epoch 18/40\n",
      "61/61 [==============================] - 1s 9ms/step - loss: 6.9325e-04 - mse: 6.9325e-04 - val_loss: 0.0014 - val_mse: 0.0014\n",
      "Epoch 19/40\n",
      "61/61 [==============================] - 1s 9ms/step - loss: 6.8227e-04 - mse: 6.8227e-04 - val_loss: 0.0016 - val_mse: 0.0016\n",
      "Epoch 20/40\n",
      "61/61 [==============================] - 1s 9ms/step - loss: 8.7594e-04 - mse: 8.7594e-04 - val_loss: 0.0010 - val_mse: 0.0010\n",
      "Epoch 21/40\n",
      "61/61 [==============================] - 1s 9ms/step - loss: 7.4985e-04 - mse: 7.4985e-04 - val_loss: 0.0026 - val_mse: 0.0026\n",
      "Epoch 22/40\n",
      "61/61 [==============================] - 1s 9ms/step - loss: 7.1215e-04 - mse: 7.1215e-04 - val_loss: 0.0013 - val_mse: 0.0013\n",
      "Epoch 23/40\n",
      "61/61 [==============================] - 1s 9ms/step - loss: 6.8915e-04 - mse: 6.8915e-04 - val_loss: 9.6033e-04 - val_mse: 9.6033e-04\n",
      "Epoch 24/40\n",
      "61/61 [==============================] - 1s 9ms/step - loss: 7.3753e-04 - mse: 7.3753e-04 - val_loss: 0.0017 - val_mse: 0.0017\n",
      "Epoch 25/40\n",
      "61/61 [==============================] - 1s 9ms/step - loss: 8.1698e-04 - mse: 8.1698e-04 - val_loss: 0.0035 - val_mse: 0.0035\n",
      "Epoch 26/40\n",
      "61/61 [==============================] - 1s 9ms/step - loss: 7.5982e-04 - mse: 7.5982e-04 - val_loss: 9.3276e-04 - val_mse: 9.3276e-04\n",
      "Epoch 27/40\n",
      "61/61 [==============================] - 1s 9ms/step - loss: 6.5696e-04 - mse: 6.5696e-04 - val_loss: 0.0017 - val_mse: 0.0017\n",
      "Epoch 28/40\n",
      "61/61 [==============================] - 1s 9ms/step - loss: 8.2139e-04 - mse: 8.2139e-04 - val_loss: 9.4072e-04 - val_mse: 9.4072e-04\n",
      "Epoch 29/40\n",
      "61/61 [==============================] - 1s 9ms/step - loss: 7.9976e-04 - mse: 7.9976e-04 - val_loss: 8.7281e-04 - val_mse: 8.7281e-04\n",
      "Epoch 30/40\n",
      "61/61 [==============================] - 1s 8ms/step - loss: 7.3432e-04 - mse: 7.3432e-04 - val_loss: 0.0011 - val_mse: 0.0011\n",
      "Epoch 31/40\n",
      "61/61 [==============================] - 1s 9ms/step - loss: 7.2829e-04 - mse: 7.2829e-04 - val_loss: 0.0017 - val_mse: 0.0017\n",
      "Epoch 32/40\n",
      "61/61 [==============================] - 1s 9ms/step - loss: 6.5928e-04 - mse: 6.5928e-04 - val_loss: 0.0012 - val_mse: 0.0012\n",
      "Epoch 33/40\n",
      "61/61 [==============================] - 1s 9ms/step - loss: 6.6935e-04 - mse: 6.6935e-04 - val_loss: 0.0011 - val_mse: 0.0011\n",
      "Epoch 34/40\n",
      "61/61 [==============================] - 1s 9ms/step - loss: 5.7984e-04 - mse: 5.7984e-04 - val_loss: 9.2945e-04 - val_mse: 9.2945e-04\n"
     ]
    }
   ],
   "source": [
    "#getting paremeters of best model\n",
    "model_best_params = model_tuner.get_best_hyperparameters(2)\n",
    "\n",
    "# Building model with best hyper parameters\n",
    "model_best = lstm_model(model_best_params[0])\n",
    "\n",
    "# Running best model. \n",
    "epochs=40\n",
    "patience=5\n",
    "model_number=stock\n",
    "\n",
    "history_best_model, best_model = compile_train_model(model_best,\n",
    "                                    X_train,y_train, epochs=epochs,\n",
    "                                     x_valid=X_val,y_valid=y_val,patience=patience,\n",
    "                                    optimizer=\"adam\")"
   ]
  },
  {
   "cell_type": "code",
   "execution_count": null,
   "metadata": {
    "id": "nz4n8EGUJ8Nt"
   },
   "outputs": [],
   "source": []
  },
  {
   "cell_type": "code",
   "execution_count": null,
   "metadata": {
    "colab": {
     "base_uri": "https://localhost:8080/"
    },
    "executionInfo": {
     "elapsed": 163,
     "status": "ok",
     "timestamp": 1666462930636,
     "user": {
      "displayName": "Dimitry Kirtsman",
      "userId": "11988189828040272864"
     },
     "user_tz": 420
    },
    "id": "88WyWQ6Fkyxk",
    "outputId": "6fc6eb01-975d-4092-88d2-606d6ade609d"
   },
   "outputs": [
    {
     "name": "stdout",
     "output_type": "stream",
     "text": [
      "Model: \"model_1\"\n",
      "__________________________________________________________________________________________________\n",
      " Layer (type)                   Output Shape         Param #     Connected to                     \n",
      "==================================================================================================\n",
      " input_2 (InputLayer)           [(None, 21, 19)]     0           []                               \n",
      "                                                                                                  \n",
      " time2_vec_1 (Time2Vec)         (None, 21, 2)        84          ['input_2[0][0]']                \n",
      "                                                                                                  \n",
      " concatenate_1 (Concatenate)    (None, 21, 21)       0           ['input_2[0][0]',                \n",
      "                                                                  'time2_vec_1[0][0]']            \n",
      "                                                                                                  \n",
      " lstm_2 (LSTM)                  (None, 21, 256)      284672      ['concatenate_1[0][0]']          \n",
      "                                                                                                  \n",
      " dropout_2 (Dropout)            (None, 21, 256)      0           ['lstm_2[0][0]']                 \n",
      "                                                                                                  \n",
      " lstm_3 (LSTM)                  (None, 256)          525312      ['dropout_2[0][0]']              \n",
      "                                                                                                  \n",
      " dropout_3 (Dropout)            (None, 256)          0           ['lstm_3[0][0]']                 \n",
      "                                                                                                  \n",
      " dense_1 (Dense)                (None, 1)            257         ['dropout_3[0][0]']              \n",
      "                                                                                                  \n",
      "==================================================================================================\n",
      "Total params: 810,325\n",
      "Trainable params: 810,325\n",
      "Non-trainable params: 0\n",
      "__________________________________________________________________________________________________\n"
     ]
    }
   ],
   "source": [
    "best_model.summary()"
   ]
  },
  {
   "cell_type": "code",
   "execution_count": null,
   "metadata": {
    "colab": {
     "base_uri": "https://localhost:8080/",
     "height": 467
    },
    "executionInfo": {
     "elapsed": 316,
     "status": "ok",
     "timestamp": 1666462930951,
     "user": {
      "displayName": "Dimitry Kirtsman",
      "userId": "11988189828040272864"
     },
     "user_tz": 420
    },
    "id": "fRjOLvr4g6dn",
    "outputId": "e604a84e-260f-40f1-b97e-6a4dcfddcec3"
   },
   "outputs": [
    {
     "data": {
      "image/png": "[encoded data removed]",
      "text/plain": [
       "<Figure size 648x504 with 1 Axes>"
      ]
     },
     "metadata": {
      "needs_background": "light"
     },
     "output_type": "display_data"
    }
   ],
   "source": [
    "\n",
    "train_val_loss_charts(history_best_model, model_number)"
   ]
  },
  {
   "cell_type": "code",
   "execution_count": null,
   "metadata": {
    "colab": {
     "base_uri": "https://localhost:8080/",
     "height": 745
    },
    "executionInfo": {
     "elapsed": 1592,
     "status": "ok",
     "timestamp": 1666462932541,
     "user": {
      "displayName": "Dimitry Kirtsman",
      "userId": "11988189828040272864"
     },
     "user_tz": 420
    },
    "id": "QwTVGBxP2oP3",
    "outputId": "48cf4bb8-804a-4c63-e111-2f0553c34ec6"
   },
   "outputs": [
    {
     "name": "stdout",
     "output_type": "stream",
     "text": [
      "Train Set RMSE: 0.40335943744727437\n",
      "Val Set RMSE: 0.6038939434840941\n",
      "\n",
      "\n",
      "Train Set MAPE: 0.011209973944514954\n",
      "Val Set MAPE: 0.011180918204461609\n",
      "\n",
      "\n",
      "Train Set MAE: 0.2965798549514881\n",
      "Val Set MAE: 0.42124672698974597\n",
      "\n",
      "\n",
      "Train Set R: 0.9975\n",
      "Val Set R: 0.9899\n",
      "\n",
      "\n"
     ]
    },
    {
     "data": {
      "image/png": "[encoded data removed]",
      "text/plain": [
       "<Figure size 648x504 with 1 Axes>"
      ]
     },
     "metadata": {
      "needs_background": "light"
     },
     "output_type": "display_data"
    }
   ],
   "source": [
    "price_level_evaluation_stats(best_model, X_train, y_train, X_val, y_val,stock)\n"
   ]
  },
  {
   "cell_type": "code",
   "execution_count": null,
   "metadata": {
    "id": "GXo1ZsoShTm8"
   },
   "outputs": [],
   "source": []
  },
  {
   "cell_type": "code",
   "execution_count": null,
   "metadata": {
    "id": "UY8uJ02FD5QW"
   },
   "outputs": [],
   "source": [
    "#best_model.save( '/content/gdrive/My Drive/Colab Notebooks/MSDS_498/saved_models/lstm_model_val_PFE.h5')"
   ]
  },
  {
   "cell_type": "code",
   "execution_count": null,
   "metadata": {
    "id": "zrhSZGGlvAe-"
   },
   "outputs": [],
   "source": [
    "#model = tf.keras.models.load_model('/content/gdrive/My Drive/Colab Notebooks/MSDS_498/saved_models/lstm_model_val_AMZN.h5',custom_objects={\"Time2Vec\": Time2Vec })"
   ]
  },
  {
   "cell_type": "markdown",
   "metadata": {
    "id": "OaggY9N2TBJJ"
   },
   "source": [
    "#Final Best Model Estimation"
   ]
  },
  {
   "cell_type": "code",
   "execution_count": null,
   "metadata": {
    "id": "jr_kR3SIv8Nt"
   },
   "outputs": [],
   "source": []
  },
  {
   "cell_type": "code",
   "execution_count": null,
   "metadata": {
    "colab": {
     "base_uri": "https://localhost:8080/"
    },
    "executionInfo": {
     "elapsed": 19656,
     "status": "ok",
     "timestamp": 1666463129869,
     "user": {
      "displayName": "Dimitry Kirtsman",
      "userId": "11988189828040272864"
     },
     "user_tz": 420
    },
    "id": "tw9ZHxnCuXGm",
    "outputId": "7ee921d8-c147-4498-fdb1-9b2a7f0298cf"
   },
   "outputs": [
    {
     "name": "stdout",
     "output_type": "stream",
     "text": [
      "Epoch 1/40\n",
      "69/69 [==============================] - 4s 9ms/step - loss: 0.0116 - mse: 0.0116\n",
      "Epoch 2/40\n",
      "69/69 [==============================] - 1s 8ms/step - loss: 9.4309e-04 - mse: 9.4309e-04\n",
      "Epoch 3/40\n",
      "69/69 [==============================] - 1s 8ms/step - loss: 7.1333e-04 - mse: 7.1333e-04\n",
      "Epoch 4/40\n",
      "69/69 [==============================] - 1s 8ms/step - loss: 6.7846e-04 - mse: 6.7846e-04\n",
      "Epoch 5/40\n",
      "69/69 [==============================] - 1s 8ms/step - loss: 5.9696e-04 - mse: 5.9696e-04\n",
      "Epoch 6/40\n",
      "69/69 [==============================] - 1s 8ms/step - loss: 5.9376e-04 - mse: 5.9376e-04\n",
      "Epoch 7/40\n",
      "69/69 [==============================] - 1s 8ms/step - loss: 5.2736e-04 - mse: 5.2736e-04\n",
      "Epoch 8/40\n",
      "69/69 [==============================] - 1s 8ms/step - loss: 5.2877e-04 - mse: 5.2877e-04\n",
      "Epoch 9/40\n",
      "69/69 [==============================] - 1s 8ms/step - loss: 5.2799e-04 - mse: 5.2799e-04\n",
      "Epoch 10/40\n",
      "69/69 [==============================] - 1s 11ms/step - loss: 4.9804e-04 - mse: 4.9804e-04\n",
      "Epoch 11/40\n",
      "69/69 [==============================] - 1s 9ms/step - loss: 5.5381e-04 - mse: 5.5381e-04\n",
      "Epoch 12/40\n",
      "69/69 [==============================] - 1s 13ms/step - loss: 4.5187e-04 - mse: 4.5187e-04\n",
      "Epoch 13/40\n",
      "69/69 [==============================] - 1s 10ms/step - loss: 4.6633e-04 - mse: 4.6633e-04\n",
      "Epoch 14/40\n",
      "69/69 [==============================] - 1s 10ms/step - loss: 4.4338e-04 - mse: 4.4338e-04\n",
      "Epoch 15/40\n",
      "69/69 [==============================] - 1s 8ms/step - loss: 4.1366e-04 - mse: 4.1366e-04\n",
      "Epoch 16/40\n",
      "69/69 [==============================] - 1s 8ms/step - loss: 5.0235e-04 - mse: 5.0235e-04\n",
      "Epoch 17/40\n",
      "69/69 [==============================] - 1s 8ms/step - loss: 3.6661e-04 - mse: 3.6661e-04\n",
      "Epoch 18/40\n",
      "69/69 [==============================] - 1s 8ms/step - loss: 4.3338e-04 - mse: 4.3338e-04\n",
      "Epoch 19/40\n",
      "69/69 [==============================] - 1s 8ms/step - loss: 3.9364e-04 - mse: 3.9364e-04\n",
      "Epoch 20/40\n",
      "69/69 [==============================] - 1s 8ms/step - loss: 4.0447e-04 - mse: 4.0447e-04\n",
      "Epoch 21/40\n",
      "69/69 [==============================] - 1s 8ms/step - loss: 4.0662e-04 - mse: 4.0662e-04\n",
      "Epoch 22/40\n",
      "69/69 [==============================] - 1s 8ms/step - loss: 3.3987e-04 - mse: 3.3987e-04\n",
      "Epoch 23/40\n",
      "69/69 [==============================] - 1s 8ms/step - loss: 3.9896e-04 - mse: 3.9896e-04\n",
      "Epoch 24/40\n",
      "69/69 [==============================] - 1s 8ms/step - loss: 4.3564e-04 - mse: 4.3564e-04\n",
      "Epoch 25/40\n",
      "69/69 [==============================] - 1s 8ms/step - loss: 3.9692e-04 - mse: 3.9692e-04\n",
      "Epoch 26/40\n",
      "69/69 [==============================] - 1s 8ms/step - loss: 3.5435e-04 - mse: 3.5435e-04\n",
      "Epoch 27/40\n",
      "69/69 [==============================] - 1s 8ms/step - loss: 4.5260e-04 - mse: 4.5260e-04\n"
     ]
    }
   ],
   "source": [
    "tf.keras.utils.set_random_seed(1)\n",
    "#getting paremeters of best model\n",
    "model_best_params = model_tuner.get_best_hyperparameters(2)\n",
    "\n",
    "# Building model with best hyper parameters\n",
    "model_best = lstm_model(model_best_params[0])\n",
    "\n",
    "# Running best model using final train and test sets. Test set metrics will be \n",
    "#based of this model run.\n",
    "epochs=40\n",
    "patience=5\n",
    "\n",
    "#best_model_optimizer=model_best_hyper_parameters.get('optimizer')\n",
    "history_best_model_test, best_model_test = compile_train_model(model_best, X_final_train,y_final_train,\n",
    "                                    epochs=epochs,patience=patience,\n",
    "                                    optimizer=\"adam\", final_model=True)"
   ]
  },
  {
   "cell_type": "code",
   "execution_count": null,
   "metadata": {
    "id": "A0pIm1NquXKG"
   },
   "outputs": [],
   "source": []
  },
  {
   "cell_type": "code",
   "execution_count": 42,
   "metadata": {
    "colab": {
     "base_uri": "https://localhost:8080/",
     "height": 745
    },
    "executionInfo": {
     "elapsed": 789,
     "status": "ok",
     "timestamp": 1667425548195,
     "user": {
      "displayName": "Dimitry Kirtsman",
      "userId": "11988189828040272864"
     },
     "user_tz": 420
    },
    "id": "5ShDOwHDuXM-",
    "outputId": "66b3a9d8-d356-4a36-bf01-5185ed3b90de"
   },
   "outputs": [
    {
     "name": "stdout",
     "output_type": "stream",
     "text": [
      "Final Model - Train Set RMSE: 0.5016248576622272\n",
      "Final Model - Test Set RMSE: 1.3363757698975782\n",
      "\n",
      "\n",
      "Final Model - Train Set MAPE: 0.012983744855744061\n",
      "Final Model - Test Set MAPE: 0.021907086774199825\n",
      "\n",
      "\n",
      "Final Model - Train Set MAE: 0.37010769418462813\n",
      "Final Model - Test Set MAE: 1.0866428985595704\n",
      "\n",
      "\n",
      "Final Model - Train Set R: 0.9978\n",
      "Final Model - Test Set R: 0.9578\n",
      "\n",
      "\n"
     ]
    },
    {
     "data": {
      "image/png": "[encoded data removed]",
      "text/plain": [
       "<Figure size 648x504 with 1 Axes>"
      ]
     },
     "metadata": {
      "needs_background": "light"
     },
     "output_type": "display_data"
    }
   ],
   "source": [
    "price_level_evaluation_stats(best_model_test,X_final_train,y_final_train, X_final_test,y_final_test, stock, final_model=True)\n"
   ]
  },
  {
   "cell_type": "code",
   "execution_count": 41,
   "metadata": {
    "colab": {
     "base_uri": "https://localhost:8080/",
     "height": 430
    },
    "executionInfo": {
     "elapsed": 555,
     "status": "ok",
     "timestamp": 1667425544512,
     "user": {
      "displayName": "Dimitry Kirtsman",
      "userId": "11988189828040272864"
     },
     "user_tz": 420
    },
    "id": "y-uO1vkduXPu",
    "outputId": "10808b59-abf8-4b55-968a-1d40fd7406c8"
   },
   "outputs": [
    {
     "data": {
      "image/png": "[encoded data removed]",
      "text/plain": [
       "<Figure size 648x504 with 1 Axes>"
      ]
     },
     "metadata": {
      "needs_background": "light"
     },
     "output_type": "display_data"
    }
   ],
   "source": [
    "actual_predicted_test_set_chart(best_model_test, X_final_test,y_final_test, model_number)"
   ]
  },
  {
   "cell_type": "code",
   "execution_count": null,
   "metadata": {
    "colab": {
     "base_uri": "https://localhost:8080/",
     "height": 784
    },
    "executionInfo": {
     "elapsed": 6392,
     "status": "ok",
     "timestamp": 1667012871576,
     "user": {
      "displayName": "Dimitry Kirtsman",
      "userId": "11988189828040272864"
     },
     "user_tz": 420
    },
    "id": "YMDPFhNRuXwf",
    "outputId": "928e2e0c-797d-4944-8cbe-e90047dc43a0"
   },
   "outputs": [
    {
     "name": "stdout",
     "output_type": "stream",
     "text": [
      "              precision    recall  f1-score   support\n",
      "\n",
      "           0       0.50      0.48      0.49       129\n",
      "           1       0.47      0.49      0.48       120\n",
      "\n",
      "    accuracy                           0.49       249\n",
      "   macro avg       0.49      0.49      0.49       249\n",
      "weighted avg       0.49      0.49      0.49       249\n",
      "\n",
      "Test Set Accuracy for PFE is 0.4859437751004016\n",
      "\n",
      "\n",
      "\n",
      "\n"
     ]
    },
    {
     "data": {
      "image/png": "[encoded data removed]",
      "text/plain": [
       "<Figure size 720x576 with 2 Axes>"
      ]
     },
     "metadata": {
      "needs_background": "light"
     },
     "output_type": "display_data"
    }
   ],
   "source": [
    "test_set_classification_report(best_model_test, X_final_test,y_final_test, model_number)"
   ]
  },
  {
   "cell_type": "code",
   "execution_count": null,
   "metadata": {
    "id": "VNUtZwMKlRfW"
   },
   "outputs": [],
   "source": []
  },
  {
   "cell_type": "code",
   "execution_count": null,
   "metadata": {
    "colab": {
     "base_uri": "https://localhost:8080/",
     "height": 422
    },
    "executionInfo": {
     "elapsed": 884,
     "status": "ok",
     "timestamp": 1666463157275,
     "user": {
      "displayName": "Dimitry Kirtsman",
      "userId": "11988189828040272864"
     },
     "user_tz": 420
    },
    "id": "W1vSuQHyUl4j",
    "outputId": "a819c960-221d-4225-8bc9-73472b80c8d9"
   },
   "outputs": [
    {
     "data": {
      "image/png": "[encoded data removed]",
      "text/plain": [
       "<Figure size 648x504 with 1 Axes>"
      ]
     },
     "metadata": {
      "needs_background": "light"
     },
     "output_type": "display_data"
    }
   ],
   "source": [
    "actual_predicted_train_test_set_chart(best_model_test, X_final_train,y_final_train, X_final_test,y_final_test, model_number)"
   ]
  },
  {
   "cell_type": "code",
   "execution_count": null,
   "metadata": {
    "id": "6-JFqrR4ltvl"
   },
   "outputs": [],
   "source": []
  },
  {
   "cell_type": "code",
   "execution_count": null,
   "metadata": {
    "id": "srzOaUr02UXN"
   },
   "outputs": [],
   "source": [
    "#best_model_test.save( '/content/gdrive/My Drive/Colab Notebooks/MSDS_498/saved_models/lstm_model_test_PFE.h5')\n"
   ]
  },
  {
   "cell_type": "code",
   "execution_count": 38,
   "metadata": {
    "executionInfo": {
     "elapsed": 4549,
     "status": "ok",
     "timestamp": 1667425245941,
     "user": {
      "displayName": "Dimitry Kirtsman",
      "userId": "11988189828040272864"
     },
     "user_tz": 420
    },
    "id": "6BkAUUBO2Ey_"
   },
   "outputs": [],
   "source": [
    "best_model_test= tf.keras.models.load_model('/content/gdrive/My Drive/Colab Notebooks/MSDS_498/saved_models/lstm_model_test_PFE.h5',custom_objects={\"Time2Vec\": Time2Vec })"
   ]
  },
  {
   "cell_type": "code",
   "execution_count": 37,
   "metadata": {
    "colab": {
     "base_uri": "https://localhost:8080/"
    },
    "executionInfo": {
     "elapsed": 16428,
     "status": "ok",
     "timestamp": 1667425241394,
     "user": {
      "displayName": "Dimitry Kirtsman",
      "userId": "11988189828040272864"
     },
     "user_tz": 420
    },
    "id": "tIPVrQHiXb9F",
    "outputId": "16e97302-9d03-4082-ab33-ee4fb84aa4b5"
   },
   "outputs": [
    {
     "name": "stdout",
     "output_type": "stream",
     "text": [
      "Mounted at /content/gdrive\n"
     ]
    }
   ],
   "source": [
    "model_number=\"PFE\"\n",
    "from google.colab import drive\n",
    "drive.mount('/content/gdrive')"
   ]
  },
  {
   "cell_type": "code",
   "execution_count": null,
   "metadata": {
    "colab": {
     "base_uri": "https://localhost:8080/",
     "height": 745
    },
    "executionInfo": {
     "elapsed": 11782,
     "status": "ok",
     "timestamp": 1667416182766,
     "user": {
      "displayName": "Dimitry Kirtsman",
      "userId": "11988189828040272864"
     },
     "user_tz": 420
    },
    "id": "1kfLoI4kv0vP",
    "outputId": "87d9da38-6205-4ded-bcf9-824cddcbc951"
   },
   "outputs": [
    {
     "name": "stdout",
     "output_type": "stream",
     "text": [
      "Final Model - Train Set RMSE: 0.5016223640276356\n",
      "Final Model - Test Set RMSE: 1.3363732899512046\n",
      "\n",
      "\n",
      "Final Model - Train Set MAPE: 0.012983641177031406\n",
      "Final Model - Test Set MAPE: 0.021907035066229447\n",
      "\n",
      "\n",
      "Final Model - Train Set MAE: 0.37010491567448406\n",
      "Final Model - Test Set MAE: 1.0866404266357412\n",
      "\n",
      "\n",
      "Final Model - Train Set R: 0.9978\n",
      "Final Model - Test Set R: 0.9578\n",
      "\n",
      "\n"
     ]
    },
    {
     "data": {
      "image/png": "[encoded data removed]",
      "text/plain": [
       "<Figure size 648x504 with 1 Axes>"
      ]
     },
     "metadata": {
      "needs_background": "light"
     },
     "output_type": "display_data"
    }
   ],
   "source": [
    "price_level_evaluation_stats(best_model_test,X_final_train,y_final_train, X_final_test,y_final_test, stock, final_model=True)"
   ]
  },
  {
   "cell_type": "code",
   "execution_count": 39,
   "metadata": {
    "colab": {
     "base_uri": "https://localhost:8080/",
     "height": 430
    },
    "executionInfo": {
     "elapsed": 5645,
     "status": "ok",
     "timestamp": 1667425262356,
     "user": {
      "displayName": "Dimitry Kirtsman",
      "userId": "11988189828040272864"
     },
     "user_tz": 420
    },
    "id": "lXzVmNYowCwX",
    "outputId": "5f045fc6-e8d3-416f-d861-b6a8391c7a19"
   },
   "outputs": [
    {
     "data": {
      "image/png": "[encoded data removed]",
      "text/plain": [
       "<Figure size 648x504 with 1 Axes>"
      ]
     },
     "metadata": {
      "needs_background": "light"
     },
     "output_type": "display_data"
    }
   ],
   "source": [
    "actual_predicted_test_set_chart(best_model_test, X_final_test,y_final_test, model_number)"
   ]
  },
  {
   "cell_type": "code",
   "execution_count": null,
   "metadata": {
    "colab": {
     "base_uri": "https://localhost:8080/"
    },
    "executionInfo": {
     "elapsed": 2184,
     "status": "ok",
     "timestamp": 1667417112530,
     "user": {
      "displayName": "Dimitry Kirtsman",
      "userId": "11988189828040272864"
     },
     "user_tz": 420
    },
    "id": "LwaOw3trzeqn",
    "outputId": "8e76c28a-cdec-4a8d-abd2-84fff4089ebf"
   },
   "outputs": [
    {
     "name": "stdout",
     "output_type": "stream",
     "text": [
      "Final Model - Train Set MAPE: 0.009725955047011473\n",
      "Final Model - Test Set MAPE: 0.018454761851133396\n",
      "Train Set RMSE: 0.3300306912912224\n",
      "Val Set RMSE: 0.8792350060389672\n",
      "\n",
      "\n"
     ]
    }
   ],
   "source": [
    "#price_level_evaluation_stats(best_model_test,X_final_train,y_final_train, X_final_test,y_final_test, stock, final_model=True)\n",
    "#getting model predictions for train and val \n",
    "train_predict=best_model_test.predict(X_final_train,verbose=0)\n",
    "val_predict=best_model_test.predict(X_final_test,verbose=0)\n",
    "     \n",
    "\n",
    "#unscaling to get price level predictions\n",
    "train_predict_level=scaler_y.inverse_transform(train_predict)\n",
    "val_predict_level=scaler_y.inverse_transform(val_predict)\n",
    "      \n",
    "\n",
    "      #unscaling actual values\n",
    "train_actual_level=scaler_y.inverse_transform(y_final_train)\n",
    "val_actual_level=scaler_y.inverse_transform(y_final_test)\n",
    "\n",
    "train_MAPE=MAPE(train_actual_level,train_predict_level )\n",
    "test_MAPE=MAPE(val_actual_level,val_predict_level )\n",
    "\n",
    "print(\"Final Model - Train Set MAPE: {}\".format(train_MAPE))\n",
    "print(\"Final Model - Test Set MAPE: {}\".format(test_MAPE))\n",
    "\n",
    "train_RMSE=sqrt(MSE(train_actual_level,train_predict_level ))\n",
    "val_RMSE=sqrt(MSE(val_actual_level,val_predict_level ))\n",
    "      \n",
    "print(\"Train Set RMSE: {}\".format(train_RMSE))\n",
    "print(\"Val Set RMSE: {}\".format(val_RMSE))\n",
    "print(\"\\n\")"
   ]
  },
  {
   "cell_type": "code",
   "execution_count": null,
   "metadata": {
    "id": "uZI057Uc8-rH"
   },
   "outputs": [],
   "source": []
  },
  {
   "cell_type": "code",
   "execution_count": null,
   "metadata": {
    "id": "ZoM_YdTg8-tf"
   },
   "outputs": [],
   "source": [
    "def actual_predicted_test_set_chart(model, X_final_test,y_final_test, model_number):\n",
    "      #getting final model predictions for test set\n",
    "      test_predict=model.predict(X_final_test,verbose=0)\n",
    "\n",
    "      #unscaling to get price level predictions\n",
    "      test_predict_level=scaler_final_y.inverse_transform(test_predict)\n",
    "\n",
    "      #unscaling actual values\n",
    "      test_actual_level=scaler_final_y.inverse_transform(y_final_test)\n",
    "\n",
    "      #creating dataframe and setting dates as the index\n",
    "      df_actual_predicted=pd.DataFrame([test_predict_level.reshape(-1), test_actual_level.reshape(-1)]).T\n",
    "      df_actual_predicted.rename(columns={0: \"Predicted\", 1: \"Actual\"}, inplace=True)\n",
    "      df_actual_predicted[\"dates\"]=data.index[-250:]\n",
    "      df_actual_predicted.set_index(\"dates\", inplace=True)\n",
    "\n",
    "      #creating chart of Predicted vs. Actual\n",
    "      df_actual_predicted[[\"Predicted\", \"Actual\"]].plot(figsize=(9,7))\n",
    "      plt.grid(True)\n",
    "      plt.title(\"Transformer - Actual vs. Predicted Prices: {}\".format(model_number), size =17)\n",
    "      plt.ylabel(\"Price\", size=15)\n",
    "      plt.xlabel(\"\")\n",
    "      #return test_actual_level"
   ]
  },
  {
   "cell_type": "code",
   "execution_count": null,
   "metadata": {
    "colab": {
     "base_uri": "https://localhost:8080/",
     "height": 430
    },
    "executionInfo": {
     "elapsed": 588,
     "status": "ok",
     "timestamp": 1667419672830,
     "user": {
      "displayName": "Dimitry Kirtsman",
      "userId": "11988189828040272864"
     },
     "user_tz": 420
    },
    "id": "-B6B4aTa9L8X",
    "outputId": "00786358-7999-4a4d-935d-b6ba094fe488"
   },
   "outputs": [
    {
     "data": {
      "image/png": "[encoded data removed]",
      "text/plain": [
       "<Figure size 648x504 with 1 Axes>"
      ]
     },
     "metadata": {
      "needs_background": "light"
     },
     "output_type": "display_data"
    }
   ],
   "source": [
    "actual_predicted_test_set_chart(best_model_test, X_final_test,y_final_test, model_number)"
   ]
  },
  {
   "cell_type": "code",
   "execution_count": null,
   "metadata": {
    "id": "ZLoncwGI-ok5"
   },
   "outputs": [],
   "source": []
  },
  {
   "cell_type": "code",
   "execution_count": null,
   "metadata": {
    "id": "A-wmofAd-IVg"
   },
   "outputs": [],
   "source": [
    "def test_set_classification_report(model, X_final_test,y_final_test, model_number):\n",
    "      #getting final model predictions for train and test\n",
    "      test_predict=model.predict(X_final_test,verbose=0)\n",
    "\n",
    "      #unscaling to get price level predictions\n",
    "      test_predict_level=scaler_final_y.inverse_transform(test_predict)\n",
    "\n",
    "      #unscaling actual values\n",
    "      test_actual_level=scaler_final_y.inverse_transform(y_final_test)\n",
    "      \n",
    "      #creating dataframe \n",
    "      df_actual_predicted=pd.DataFrame([test_predict_level.reshape(-1), test_actual_level.reshape(-1)]).T\n",
    "      df_actual_predicted.rename(columns={0: \"Predicted\", 1: \"Actual\"}, inplace=True)\n",
    "      \n",
    "      #creating forecasted signal for next day from past day actual price. 0 if level price forecast is less than or equal to yesterday's actual price, and\n",
    "      #1 for above. \n",
    "      predicted_signal=[0]\n",
    "      for i in range(1,250):\n",
    "        if df_actual_predicted.iloc[i, 0]>df_actual_predicted.iloc[i-1,1]:\n",
    "          predicted_signal.append(1)\n",
    "        else:\n",
    "          predicted_signal.append(0)\n",
    "      #creating  signal for next day from past day actual price. 0 if level of actual next day price is less than or equal to yesterday's actual price, and\n",
    "      #1 for above.\n",
    "      actual_signal=[0]\n",
    "      for i in range(1,250):\n",
    "        if df_actual_predicted.iloc[i, 1]>df_actual_predicted.iloc[i-1,1]:\n",
    "          actual_signal.append(1)\n",
    "        else:\n",
    "          actual_signal.append(0)\n",
    "      print(classification_report(actual_signal[1:], predicted_signal[1:]))\n",
    "      accuracy=accuracy_score(actual_signal[1:], predicted_signal[1:])\n",
    "\n",
    "      print(\"Test Set Accuracy for {} is {}\".format(model_number, accuracy))\n",
    "\n",
    "      print(\"\\n\")\n",
    "      print(\"\\n\")\n",
    "      \n",
    "      confusion_matrix_stocks(model,predicted_signal[1:], actual_signal[1:], model_number)"
   ]
  },
  {
   "cell_type": "code",
   "execution_count": null,
   "metadata": {
    "colab": {
     "base_uri": "https://localhost:8080/",
     "height": 784
    },
    "executionInfo": {
     "elapsed": 671,
     "status": "ok",
     "timestamp": 1667420039028,
     "user": {
      "displayName": "Dimitry Kirtsman",
      "userId": "11988189828040272864"
     },
     "user_tz": 420
    },
    "id": "8fWI_AT1-WqP",
    "outputId": "76b7a567-01dd-440d-eb27-a467a1c9877b"
   },
   "outputs": [
    {
     "name": "stdout",
     "output_type": "stream",
     "text": [
      "              precision    recall  f1-score   support\n",
      "\n",
      "           0       0.50      0.11      0.18       129\n",
      "           1       0.48      0.88      0.62       120\n",
      "\n",
      "    accuracy                           0.48       249\n",
      "   macro avg       0.49      0.50      0.40       249\n",
      "weighted avg       0.49      0.48      0.39       249\n",
      "\n",
      "Test Set Accuracy for PFE is 0.4819277108433735\n",
      "\n",
      "\n",
      "\n",
      "\n"
     ]
    },
    {
     "data": {
      "image/png": "[encoded data removed]",
      "text/plain": [
       "<Figure size 720x576 with 2 Axes>"
      ]
     },
     "metadata": {
      "needs_background": "light"
     },
     "output_type": "display_data"
    }
   ],
   "source": [
    "test_set_classification_report(best_model_test, X_final_test,y_final_test, model_number)"
   ]
  }
 ],
 "metadata": {
  "accelerator": "GPU",
  "colab": {
   "authorship_tag": "ABX9TyNEWKiX5KPUXX6xSYZL6hMe",
   "provenance": []
  },
  "kernelspec": {
   "display_name": "Python 3 (ipykernel)",
   "language": "python",
   "name": "python3"
  },
  "language_info": {
   "codemirror_mode": {
    "name": "ipython",
    "version": 3
   },
   "file_extension": ".py",
   "mimetype": "text/x-python",
   "name": "python",
   "nbconvert_exporter": "python",
   "pygments_lexer": "ipython3",
   "version": "3.8.8"
  }
 },
 "nbformat": 4,
 "nbformat_minor": 1
}
