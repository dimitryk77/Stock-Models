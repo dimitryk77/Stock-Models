{
 "cells": [
  {
   "cell_type": "code",
   "execution_count": 1,
   "metadata": {
    "executionInfo": {
     "elapsed": 3753,
     "status": "ok",
     "timestamp": 1667424576618,
     "user": {
      "displayName": "Dimitry Kirtsman",
      "userId": "11988189828040272864"
     },
     "user_tz": 420
    },
    "id": "OMaxAA1zC1HI"
   },
   "outputs": [],
   "source": [
    "import datetime\n",
    "import time\n",
    "import numpy as np\n",
    "import pandas as pd\n",
    "from packaging import version\n",
    "from collections import Counter\n",
    "import re\n",
    "\n",
    "from math import sqrt\n",
    "from sklearn.preprocessing import StandardScaler, MinMaxScaler\n",
    "from keras.preprocessing.text import Tokenizer\n",
    "import string\n",
    "from sklearn.metrics import confusion_matrix, classification_report\n",
    "from sklearn.metrics import accuracy_score\n",
    "from sklearn.metrics import mean_squared_error as MSE\n",
    "from sklearn.metrics import mean_absolute_percentage_error as MAPE\n",
    "from sklearn.metrics import mean_absolute_error as MAE\n",
    "from sklearn.model_selection import train_test_split\n",
    "from sklearn.manifold import TSNE\n",
    "import matplotlib.pyplot as plt\n",
    "import matplotlib as mpl\n",
    "import seaborn as sns\n",
    "from keras import backend as K\n",
    "import tensorflow_datasets as tfds\n",
    "import tensorflow as tf\n",
    "from tensorflow import keras\n",
    "from tensorflow.keras import models, layers, Model\n",
    "from tensorflow.keras.models import Sequential\n",
    "from tensorflow.keras.layers import Conv2D, MaxPool2D, BatchNormalization, Dropout, Flatten, Input, Dense, Embedding, GlobalMaxPool1D\n",
    "from tensorflow.keras.layers import Conv1D, LayerNormalization, MultiHeadAttention, GlobalAveragePooling1D\n",
    "from tensorflow.keras.layers import LSTM, GRU, Bidirectional, SimpleRNN, TextVectorization\n",
    "from tensorflow.keras.callbacks import ModelCheckpoint, EarlyStopping\n",
    "from tensorflow.keras.preprocessing import image\n",
    "from tensorflow.keras.preprocessing.sequence import pad_sequences\n",
    "from tensorflow.keras.utils import to_categorical\n",
    "\n",
    "tf.keras.utils.set_random_seed(7)\n",
    "%matplotlib inline\n",
    "np.set_printoptions(precision=3, suppress=True)\n",
    "pd.set_option('max_colwidth', 600)"
   ]
  },
  {
   "cell_type": "code",
   "execution_count": 2,
   "metadata": {
    "colab": {
     "base_uri": "https://localhost:8080/",
     "height": 520
    },
    "executionInfo": {
     "elapsed": 7740,
     "status": "ok",
     "timestamp": 1667424584356,
     "user": {
      "displayName": "Dimitry Kirtsman",
      "userId": "11988189828040272864"
     },
     "user_tz": 420
    },
    "id": "tX9g-GZHUKCp",
    "outputId": "2a16e947-bcb6-4909-a343-941b160675ae"
   },
   "outputs": [
    {
     "name": "stdout",
     "output_type": "stream",
     "text": [
      "Looking in indexes: https://pypi.org/simple, https://us-python.pkg.dev/colab-wheels/public/simple/\n",
      "Collecting yfinance\n",
      "  Downloading yfinance-0.1.84-py2.py3-none-any.whl (29 kB)\n",
      "Requirement already satisfied: numpy>=1.15 in /usr/local/lib/python3.7/dist-packages (from yfinance) (1.21.6)\n",
      "Requirement already satisfied: multitasking>=0.0.7 in /usr/local/lib/python3.7/dist-packages (from yfinance) (0.0.11)\n",
      "Requirement already satisfied: pandas>=0.24.0 in /usr/local/lib/python3.7/dist-packages (from yfinance) (1.3.5)\n",
      "Requirement already satisfied: appdirs>=1.4.4 in /usr/local/lib/python3.7/dist-packages (from yfinance) (1.4.4)\n",
      "Requirement already satisfied: lxml>=4.5.1 in /usr/local/lib/python3.7/dist-packages (from yfinance) (4.9.1)\n",
      "Collecting requests>=2.26\n",
      "  Downloading requests-2.28.1-py3-none-any.whl (62 kB)\n",
      "\u001b[K     |████████████████████████████████| 62 kB 1.5 MB/s \n",
      "\u001b[?25hRequirement already satisfied: pytz>=2017.3 in /usr/local/lib/python3.7/dist-packages (from pandas>=0.24.0->yfinance) (2022.5)\n",
      "Requirement already satisfied: python-dateutil>=2.7.3 in /usr/local/lib/python3.7/dist-packages (from pandas>=0.24.0->yfinance) (2.8.2)\n",
      "Requirement already satisfied: six>=1.5 in /usr/local/lib/python3.7/dist-packages (from python-dateutil>=2.7.3->pandas>=0.24.0->yfinance) (1.15.0)\n",
      "Requirement already satisfied: charset-normalizer<3,>=2 in /usr/local/lib/python3.7/dist-packages (from requests>=2.26->yfinance) (2.1.1)\n",
      "Requirement already satisfied: certifi>=2017.4.17 in /usr/local/lib/python3.7/dist-packages (from requests>=2.26->yfinance) (2022.9.24)\n",
      "Requirement already satisfied: idna<4,>=2.5 in /usr/local/lib/python3.7/dist-packages (from requests>=2.26->yfinance) (2.10)\n",
      "Requirement already satisfied: urllib3<1.27,>=1.21.1 in /usr/local/lib/python3.7/dist-packages (from requests>=2.26->yfinance) (1.24.3)\n",
      "Installing collected packages: requests, yfinance\n",
      "  Attempting uninstall: requests\n",
      "    Found existing installation: requests 2.23.0\n",
      "    Uninstalling requests-2.23.0:\n",
      "      Successfully uninstalled requests-2.23.0\n",
      "Successfully installed requests-2.28.1 yfinance-0.1.84\n"
     ]
    },
    {
     "data": {
      "application/vnd.colab-display-data+json": {
       "pip_warning": {
        "packages": [
         "requests"
        ]
       }
      }
     },
     "metadata": {},
     "output_type": "display_data"
    }
   ],
   "source": [
    "\n",
    "!pip install yfinance"
   ]
  },
  {
   "cell_type": "code",
   "execution_count": 3,
   "metadata": {
    "colab": {
     "base_uri": "https://localhost:8080/"
    },
    "executionInfo": {
     "elapsed": 7788,
     "status": "ok",
     "timestamp": 1667424592138,
     "user": {
      "displayName": "Dimitry Kirtsman",
      "userId": "11988189828040272864"
     },
     "user_tz": 420
    },
    "id": "Tof-IjRBXJGD",
    "outputId": "f80dc624-d1c4-4b5b-98e4-3ea3c1279989"
   },
   "outputs": [
    {
     "name": "stdout",
     "output_type": "stream",
     "text": [
      "\u001b[K     |████████████████████████████████| 135 kB 17.1 MB/s \n",
      "\u001b[K     |████████████████████████████████| 1.6 MB 48.0 MB/s \n",
      "\u001b[?25h"
     ]
    }
   ],
   "source": [
    "!pip install -q -U keras-tuner\n",
    "import keras_tuner as kt\n",
    "from keras_tuner import Objective, HyperParameters"
   ]
  },
  {
   "cell_type": "code",
   "execution_count": 3,
   "metadata": {
    "executionInfo": {
     "elapsed": 12,
     "status": "ok",
     "timestamp": 1667424592139,
     "user": {
      "displayName": "Dimitry Kirtsman",
      "userId": "11988189828040272864"
     },
     "user_tz": 420
    },
    "id": "ZDy-vnzqFzxb"
   },
   "outputs": [],
   "source": []
  },
  {
   "cell_type": "code",
   "execution_count": 4,
   "metadata": {
    "executionInfo": {
     "elapsed": 10,
     "status": "ok",
     "timestamp": 1667424592139,
     "user": {
      "displayName": "Dimitry Kirtsman",
      "userId": "11988189828040272864"
     },
     "user_tz": 420
    },
    "id": "VF96j6euUKE-"
   },
   "outputs": [],
   "source": [
    "import yfinance as yf"
   ]
  },
  {
   "cell_type": "code",
   "execution_count": 5,
   "metadata": {
    "colab": {
     "base_uri": "https://localhost:8080/"
    },
    "executionInfo": {
     "elapsed": 4789,
     "status": "ok",
     "timestamp": 1667424596919,
     "user": {
      "displayName": "Dimitry Kirtsman",
      "userId": "11988189828040272864"
     },
     "user_tz": 420
    },
    "id": "TfFkelpzLtvG",
    "outputId": "2a84c628-c589-4876-8bb3-aabd8a919ae1"
   },
   "outputs": [
    {
     "name": "stdout",
     "output_type": "stream",
     "text": [
      "Looking in indexes: https://pypi.org/simple, https://us-python.pkg.dev/colab-wheels/public/simple/\n",
      "Collecting talib-binary\n",
      "  Downloading talib_binary-0.4.19-cp37-cp37m-manylinux1_x86_64.whl (2.4 MB)\n",
      "\u001b[K     |████████████████████████████████| 2.4 MB 28.9 MB/s \n",
      "\u001b[?25hRequirement already satisfied: numpy in /usr/local/lib/python3.7/dist-packages (from talib-binary) (1.21.6)\n",
      "Installing collected packages: talib-binary\n",
      "Successfully installed talib-binary-0.4.19\n"
     ]
    }
   ],
   "source": [
    "!pip install talib-binary\n",
    "import talib as ta"
   ]
  },
  {
   "cell_type": "code",
   "execution_count": 5,
   "metadata": {
    "executionInfo": {
     "elapsed": 8,
     "status": "ok",
     "timestamp": 1667424596919,
     "user": {
      "displayName": "Dimitry Kirtsman",
      "userId": "11988189828040272864"
     },
     "user_tz": 420
    },
    "id": "ds0tP_NPS0gT"
   },
   "outputs": [],
   "source": []
  },
  {
   "cell_type": "code",
   "execution_count": 6,
   "metadata": {
    "executionInfo": {
     "elapsed": 402,
     "status": "ok",
     "timestamp": 1667424597313,
     "user": {
      "displayName": "Dimitry Kirtsman",
      "userId": "11988189828040272864"
     },
     "user_tz": 420
    },
    "id": "aJqPNoVTUKHf"
   },
   "outputs": [],
   "source": [
    "#getting initial stock data\n",
    "stock=\"PG\"\n",
    "obj = yf.Ticker(stock)\n",
    "stock_data=obj.history(interval=\"1d\", start=\"2012-10-01\", end=\"2022-09-30\")"
   ]
  },
  {
   "cell_type": "code",
   "execution_count": 7,
   "metadata": {
    "colab": {
     "base_uri": "https://localhost:8080/"
    },
    "executionInfo": {
     "elapsed": 16,
     "status": "ok",
     "timestamp": 1667424597313,
     "user": {
      "displayName": "Dimitry Kirtsman",
      "userId": "11988189828040272864"
     },
     "user_tz": 420
    },
    "id": "NNvJE5xjUKgm",
    "outputId": "3e56924f-adc3-4e20-be80-939396e80c1f"
   },
   "outputs": [
    {
     "data": {
      "text/plain": [
       "(2516, 7)"
      ]
     },
     "execution_count": 7,
     "metadata": {},
     "output_type": "execute_result"
    }
   ],
   "source": [
    "#data shape\n",
    "stock_data.shape"
   ]
  },
  {
   "cell_type": "code",
   "execution_count": 8,
   "metadata": {
    "colab": {
     "base_uri": "https://localhost:8080/"
    },
    "executionInfo": {
     "elapsed": 12,
     "status": "ok",
     "timestamp": 1667424597314,
     "user": {
      "displayName": "Dimitry Kirtsman",
      "userId": "11988189828040272864"
     },
     "user_tz": 420
    },
    "id": "ilma4Pi-UKjO",
    "outputId": "c38a7ecc-7df9-4516-dfaf-bce0e2e2dea5"
   },
   "outputs": [
    {
     "data": {
      "text/plain": [
       "(2516, 7)"
      ]
     },
     "execution_count": 8,
     "metadata": {},
     "output_type": "execute_result"
    }
   ],
   "source": [
    "stock_data.shape"
   ]
  },
  {
   "cell_type": "code",
   "execution_count": 9,
   "metadata": {
    "colab": {
     "base_uri": "https://localhost:8080/",
     "height": 238
    },
    "executionInfo": {
     "elapsed": 8,
     "status": "ok",
     "timestamp": 1667424597314,
     "user": {
      "displayName": "Dimitry Kirtsman",
      "userId": "11988189828040272864"
     },
     "user_tz": 420
    },
    "id": "q-0TOsVIT8pQ",
    "outputId": "802a8284-9f2d-4012-d6f2-c6e5fee029df"
   },
   "outputs": [
    {
     "data": {
      "text/html": [
       "\n",
       "  <div id=\"df-349b74eb-a5d2-44e3-ab2f-7382f890ce68\">\n",
       "    <div class=\"colab-df-container\">\n",
       "      <div>\n",
       "<style scoped>\n",
       "    .dataframe tbody tr th:only-of-type {\n",
       "        vertical-align: middle;\n",
       "    }\n",
       "\n",
       "    .dataframe tbody tr th {\n",
       "        vertical-align: top;\n",
       "    }\n",
       "\n",
       "    .dataframe thead th {\n",
       "        text-align: right;\n",
       "    }\n",
       "</style>\n",
       "<table border=\"1\" class=\"dataframe\">\n",
       "  <thead>\n",
       "    <tr style=\"text-align: right;\">\n",
       "      <th></th>\n",
       "      <th>Open</th>\n",
       "      <th>High</th>\n",
       "      <th>Low</th>\n",
       "      <th>Close</th>\n",
       "      <th>Volume</th>\n",
       "      <th>Dividends</th>\n",
       "      <th>Stock Splits</th>\n",
       "    </tr>\n",
       "    <tr>\n",
       "      <th>Date</th>\n",
       "      <th></th>\n",
       "      <th></th>\n",
       "      <th></th>\n",
       "      <th></th>\n",
       "      <th></th>\n",
       "      <th></th>\n",
       "      <th></th>\n",
       "    </tr>\n",
       "  </thead>\n",
       "  <tbody>\n",
       "    <tr>\n",
       "      <th>2012-10-01 00:00:00-04:00</th>\n",
       "      <td>51.289727</td>\n",
       "      <td>51.615231</td>\n",
       "      <td>51.119572</td>\n",
       "      <td>51.378498</td>\n",
       "      <td>8588600</td>\n",
       "      <td>0.0</td>\n",
       "      <td>0</td>\n",
       "    </tr>\n",
       "    <tr>\n",
       "      <th>2012-10-02 00:00:00-04:00</th>\n",
       "      <td>51.437691</td>\n",
       "      <td>51.578254</td>\n",
       "      <td>50.690501</td>\n",
       "      <td>50.890247</td>\n",
       "      <td>11241400</td>\n",
       "      <td>0.0</td>\n",
       "      <td>0</td>\n",
       "    </tr>\n",
       "    <tr>\n",
       "      <th>2012-10-03 00:00:00-04:00</th>\n",
       "      <td>51.060394</td>\n",
       "      <td>51.445089</td>\n",
       "      <td>50.845859</td>\n",
       "      <td>51.171364</td>\n",
       "      <td>8869500</td>\n",
       "      <td>0.0</td>\n",
       "      <td>0</td>\n",
       "    </tr>\n",
       "    <tr>\n",
       "      <th>2012-10-04 00:00:00-04:00</th>\n",
       "      <td>51.311928</td>\n",
       "      <td>51.622639</td>\n",
       "      <td>51.274936</td>\n",
       "      <td>51.326721</td>\n",
       "      <td>7792700</td>\n",
       "      <td>0.0</td>\n",
       "      <td>0</td>\n",
       "    </tr>\n",
       "    <tr>\n",
       "      <th>2012-10-05 00:00:00-04:00</th>\n",
       "      <td>51.622650</td>\n",
       "      <td>51.674436</td>\n",
       "      <td>51.348931</td>\n",
       "      <td>51.511681</td>\n",
       "      <td>6907800</td>\n",
       "      <td>0.0</td>\n",
       "      <td>0</td>\n",
       "    </tr>\n",
       "  </tbody>\n",
       "</table>\n",
       "</div>\n",
       "      <button class=\"colab-df-convert\" onclick=\"convertToInteractive('df-349b74eb-a5d2-44e3-ab2f-7382f890ce68')\"\n",
       "              title=\"Convert this dataframe to an interactive table.\"\n",
       "              style=\"display:none;\">\n",
       "        \n",
       "  <svg xmlns=\"http://www.w3.org/2000/svg\" height=\"24px\"viewBox=\"0 0 24 24\"\n",
       "       width=\"24px\">\n",
       "    <path d=\"M0 0h24v24H0V0z\" fill=\"none\"/>\n",
       "    <path d=\"M18.56 5.44l.94 2.06.94-2.06 2.06-.94-2.06-.94-.94-2.06-.94 2.06-2.06.94zm-11 1L8.5 8.5l.94-2.06 2.06-.94-2.06-.94L8.5 2.5l-.94 2.06-2.06.94zm10 10l.94 2.06.94-2.06 2.06-.94-2.06-.94-.94-2.06-.94 2.06-2.06.94z\"/><path d=\"M17.41 7.96l-1.37-1.37c-.4-.4-.92-.59-1.43-.59-.52 0-1.04.2-1.43.59L10.3 9.45l-7.72 7.72c-.78.78-.78 2.05 0 2.83L4 21.41c.39.39.9.59 1.41.59.51 0 1.02-.2 1.41-.59l7.78-7.78 2.81-2.81c.8-.78.8-2.07 0-2.86zM5.41 20L4 18.59l7.72-7.72 1.47 1.35L5.41 20z\"/>\n",
       "  </svg>\n",
       "      </button>\n",
       "      \n",
       "  <style>\n",
       "    .colab-df-container {\n",
       "      display:flex;\n",
       "      flex-wrap:wrap;\n",
       "      gap: 12px;\n",
       "    }\n",
       "\n",
       "    .colab-df-convert {\n",
       "      background-color: #E8F0FE;\n",
       "      border: none;\n",
       "      border-radius: 50%;\n",
       "      cursor: pointer;\n",
       "      display: none;\n",
       "      fill: #1967D2;\n",
       "      height: 32px;\n",
       "      padding: 0 0 0 0;\n",
       "      width: 32px;\n",
       "    }\n",
       "\n",
       "    .colab-df-convert:hover {\n",
       "      background-color: #E2EBFA;\n",
       "      box-shadow: 0px 1px 2px rgba(60, 64, 67, 0.3), 0px 1px 3px 1px rgba(60, 64, 67, 0.15);\n",
       "      fill: #174EA6;\n",
       "    }\n",
       "\n",
       "    [theme=dark] .colab-df-convert {\n",
       "      background-color: #3B4455;\n",
       "      fill: #D2E3FC;\n",
       "    }\n",
       "\n",
       "    [theme=dark] .colab-df-convert:hover {\n",
       "      background-color: #434B5C;\n",
       "      box-shadow: 0px 1px 3px 1px rgba(0, 0, 0, 0.15);\n",
       "      filter: drop-shadow(0px 1px 2px rgba(0, 0, 0, 0.3));\n",
       "      fill: #FFFFFF;\n",
       "    }\n",
       "  </style>\n",
       "\n",
       "      <script>\n",
       "        const buttonEl =\n",
       "          document.querySelector('#df-349b74eb-a5d2-44e3-ab2f-7382f890ce68 button.colab-df-convert');\n",
       "        buttonEl.style.display =\n",
       "          google.colab.kernel.accessAllowed ? 'block' : 'none';\n",
       "\n",
       "        async function convertToInteractive(key) {\n",
       "          const element = document.querySelector('#df-349b74eb-a5d2-44e3-ab2f-7382f890ce68');\n",
       "          const dataTable =\n",
       "            await google.colab.kernel.invokeFunction('convertToInteractive',\n",
       "                                                     [key], {});\n",
       "          if (!dataTable) return;\n",
       "\n",
       "          const docLinkHtml = 'Like what you see? Visit the ' +\n",
       "            '<a target=\"_blank\" href=https://colab.research.google.com/notebooks/data_table.ipynb>data table notebook</a>'\n",
       "            + ' to learn more about interactive tables.';\n",
       "          element.innerHTML = '';\n",
       "          dataTable['output_type'] = 'display_data';\n",
       "          await google.colab.output.renderOutput(dataTable, element);\n",
       "          const docLink = document.createElement('div');\n",
       "          docLink.innerHTML = docLinkHtml;\n",
       "          element.appendChild(docLink);\n",
       "        }\n",
       "      </script>\n",
       "    </div>\n",
       "  </div>\n",
       "  "
      ],
      "text/plain": [
       "                                Open       High        Low      Close  \\\n",
       "Date                                                                    \n",
       "2012-10-01 00:00:00-04:00  51.289727  51.615231  51.119572  51.378498   \n",
       "2012-10-02 00:00:00-04:00  51.437691  51.578254  50.690501  50.890247   \n",
       "2012-10-03 00:00:00-04:00  51.060394  51.445089  50.845859  51.171364   \n",
       "2012-10-04 00:00:00-04:00  51.311928  51.622639  51.274936  51.326721   \n",
       "2012-10-05 00:00:00-04:00  51.622650  51.674436  51.348931  51.511681   \n",
       "\n",
       "                             Volume  Dividends  Stock Splits  \n",
       "Date                                                          \n",
       "2012-10-01 00:00:00-04:00   8588600        0.0             0  \n",
       "2012-10-02 00:00:00-04:00  11241400        0.0             0  \n",
       "2012-10-03 00:00:00-04:00   8869500        0.0             0  \n",
       "2012-10-04 00:00:00-04:00   7792700        0.0             0  \n",
       "2012-10-05 00:00:00-04:00   6907800        0.0             0  "
      ]
     },
     "execution_count": 9,
     "metadata": {},
     "output_type": "execute_result"
    }
   ],
   "source": [
    "stock_data.head()"
   ]
  },
  {
   "cell_type": "code",
   "execution_count": 10,
   "metadata": {
    "executionInfo": {
     "elapsed": 6,
     "status": "ok",
     "timestamp": 1667424597314,
     "user": {
      "displayName": "Dimitry Kirtsman",
      "userId": "11988189828040272864"
     },
     "user_tz": 420
    },
    "id": "vRUfJTL12Ejg"
   },
   "outputs": [],
   "source": [
    "#removing dividends and stocks splits\n",
    "data=stock_data.iloc[:, :5]"
   ]
  },
  {
   "cell_type": "code",
   "execution_count": 11,
   "metadata": {
    "executionInfo": {
     "elapsed": 7,
     "status": "ok",
     "timestamp": 1667424597315,
     "user": {
      "displayName": "Dimitry Kirtsman",
      "userId": "11988189828040272864"
     },
     "user_tz": 420
    },
    "id": "-NneKBELn2vM"
   },
   "outputs": [],
   "source": [
    "#data.to_csv(\"aapl_prices_vol.csv\")"
   ]
  },
  {
   "cell_type": "code",
   "execution_count": 12,
   "metadata": {
    "colab": {
     "base_uri": "https://localhost:8080/",
     "height": 439
    },
    "executionInfo": {
     "elapsed": 439,
     "status": "ok",
     "timestamp": 1667424597747,
     "user": {
      "displayName": "Dimitry Kirtsman",
      "userId": "11988189828040272864"
     },
     "user_tz": 420
    },
    "id": "Nrhye-HvVys3",
    "outputId": "fd97eb60-d927-46d4-8c3f-4894a6567a5d"
   },
   "outputs": [
    {
     "data": {
      "text/plain": [
       "Text(0.5, 0, '')"
      ]
     },
     "execution_count": 12,
     "metadata": {},
     "output_type": "execute_result"
    },
    {
     "data": {
      "image/png": "[encoded data removed]",
      "text/plain": [
       "<Figure size 648x504 with 1 Axes>"
      ]
     },
     "metadata": {
      "needs_background": "light"
     },
     "output_type": "display_data"
    }
   ],
   "source": [
    "#plot of stock price over the 10-year period\n",
    "data[\"Close\"].plot(figsize=(9,7))\n",
    "plt.grid(True)\n",
    "plt.title(\"{} Stock Price\".format(stock), size =17)\n",
    "plt.ylabel(\"Price\", size=15)\n",
    "plt.xlabel(\"\")"
   ]
  },
  {
   "cell_type": "code",
   "execution_count": 12,
   "metadata": {
    "executionInfo": {
     "elapsed": 11,
     "status": "ok",
     "timestamp": 1667424597748,
     "user": {
      "displayName": "Dimitry Kirtsman",
      "userId": "11988189828040272864"
     },
     "user_tz": 420
    },
    "id": "TYjlFBH52EmO"
   },
   "outputs": [],
   "source": []
  },
  {
   "cell_type": "code",
   "execution_count": 13,
   "metadata": {
    "executionInfo": {
     "elapsed": 11,
     "status": "ok",
     "timestamp": 1667424597748,
     "user": {
      "displayName": "Dimitry Kirtsman",
      "userId": "11988189828040272864"
     },
     "user_tz": 420
    },
    "id": "bGjW1zNKC1-k"
   },
   "outputs": [],
   "source": [
    "#adding technical indicators\n",
    "seq_len=21\n",
    "data[\"MA_20\"]= ta.SMA(data[\"Close\"], timeperiod=20)\n",
    "data[\"MA_50\"]= ta.SMA(data[\"Close\"], timeperiod=50)\n",
    "data[\"EXP_MA_20\"]= ta.EMA(data[\"Close\"], timeperiod=20)\n",
    "data[\"EXP_MA_50\"]= ta.EMA(data[\"Close\"], timeperiod=50)\n",
    "data[\"RSI\"] =ta.RSI(data[\"Close\"],timeperiod=seq_len)\n",
    "data[\"MACD\"],data[\"MACD_sign\"], data[\"MACD_hist\"]  =ta.MACD( data[\"Close\"].values )\n",
    "data[\"BB_upper\"], data[\"BB_middle\"], data[\"BB_lower\"] = ta.BBANDS(data[\"Close\"], timeperiod=seq_len, nbdevup=2, nbdevdn=2, matype=0)\n",
    "data[\"PPO\"]= ta.PPO(data[\"Close\"])\n",
    "data[\"MOM\"]=ta.MOM(data[\"Close\"], timeperiod=seq_len)\n",
    "data[\"Rate_Of_Change\"]=ta.ROCP(data[\"Close\"], timeperiod=1)"
   ]
  },
  {
   "cell_type": "code",
   "execution_count": 14,
   "metadata": {
    "executionInfo": {
     "elapsed": 12,
     "status": "ok",
     "timestamp": 1667424597749,
     "user": {
      "displayName": "Dimitry Kirtsman",
      "userId": "11988189828040272864"
     },
     "user_tz": 420
    },
    "id": "K9HevL-UoyIg"
   },
   "outputs": [],
   "source": [
    "#data.to_csv(\"aapl_prices_vol_tech.csv\")"
   ]
  },
  {
   "cell_type": "code",
   "execution_count": 15,
   "metadata": {
    "colab": {
     "base_uri": "https://localhost:8080/",
     "height": 238
    },
    "executionInfo": {
     "elapsed": 12,
     "status": "ok",
     "timestamp": 1667424597749,
     "user": {
      "displayName": "Dimitry Kirtsman",
      "userId": "11988189828040272864"
     },
     "user_tz": 420
    },
    "id": "17B7lYX3NLep",
    "outputId": "1c5418bb-0f12-486f-ef9d-ee1961d78b37"
   },
   "outputs": [
    {
     "data": {
      "text/html": [
       "\n",
       "  <div id=\"df-842b4806-0957-4c51-b6c3-b13d1adb20ee\">\n",
       "    <div class=\"colab-df-container\">\n",
       "      <div>\n",
       "<style scoped>\n",
       "    .dataframe tbody tr th:only-of-type {\n",
       "        vertical-align: middle;\n",
       "    }\n",
       "\n",
       "    .dataframe tbody tr th {\n",
       "        vertical-align: top;\n",
       "    }\n",
       "\n",
       "    .dataframe thead th {\n",
       "        text-align: right;\n",
       "    }\n",
       "</style>\n",
       "<table border=\"1\" class=\"dataframe\">\n",
       "  <thead>\n",
       "    <tr style=\"text-align: right;\">\n",
       "      <th></th>\n",
       "      <th>Open</th>\n",
       "      <th>High</th>\n",
       "      <th>Low</th>\n",
       "      <th>Close</th>\n",
       "      <th>Volume</th>\n",
       "      <th>MA_20</th>\n",
       "      <th>MA_50</th>\n",
       "      <th>EXP_MA_20</th>\n",
       "      <th>EXP_MA_50</th>\n",
       "      <th>RSI</th>\n",
       "      <th>MACD</th>\n",
       "      <th>MACD_sign</th>\n",
       "      <th>MACD_hist</th>\n",
       "      <th>BB_upper</th>\n",
       "      <th>BB_middle</th>\n",
       "      <th>BB_lower</th>\n",
       "      <th>PPO</th>\n",
       "      <th>MOM</th>\n",
       "      <th>Rate_Of_Change</th>\n",
       "    </tr>\n",
       "    <tr>\n",
       "      <th>Date</th>\n",
       "      <th></th>\n",
       "      <th></th>\n",
       "      <th></th>\n",
       "      <th></th>\n",
       "      <th></th>\n",
       "      <th></th>\n",
       "      <th></th>\n",
       "      <th></th>\n",
       "      <th></th>\n",
       "      <th></th>\n",
       "      <th></th>\n",
       "      <th></th>\n",
       "      <th></th>\n",
       "      <th></th>\n",
       "      <th></th>\n",
       "      <th></th>\n",
       "      <th></th>\n",
       "      <th></th>\n",
       "      <th></th>\n",
       "    </tr>\n",
       "  </thead>\n",
       "  <tbody>\n",
       "    <tr>\n",
       "      <th>2012-10-01 00:00:00-04:00</th>\n",
       "      <td>51.289727</td>\n",
       "      <td>51.615231</td>\n",
       "      <td>51.119572</td>\n",
       "      <td>51.378498</td>\n",
       "      <td>8588600</td>\n",
       "      <td>NaN</td>\n",
       "      <td>NaN</td>\n",
       "      <td>NaN</td>\n",
       "      <td>NaN</td>\n",
       "      <td>NaN</td>\n",
       "      <td>NaN</td>\n",
       "      <td>NaN</td>\n",
       "      <td>NaN</td>\n",
       "      <td>NaN</td>\n",
       "      <td>NaN</td>\n",
       "      <td>NaN</td>\n",
       "      <td>NaN</td>\n",
       "      <td>NaN</td>\n",
       "      <td>NaN</td>\n",
       "    </tr>\n",
       "    <tr>\n",
       "      <th>2012-10-02 00:00:00-04:00</th>\n",
       "      <td>51.437691</td>\n",
       "      <td>51.578254</td>\n",
       "      <td>50.690501</td>\n",
       "      <td>50.890247</td>\n",
       "      <td>11241400</td>\n",
       "      <td>NaN</td>\n",
       "      <td>NaN</td>\n",
       "      <td>NaN</td>\n",
       "      <td>NaN</td>\n",
       "      <td>NaN</td>\n",
       "      <td>NaN</td>\n",
       "      <td>NaN</td>\n",
       "      <td>NaN</td>\n",
       "      <td>NaN</td>\n",
       "      <td>NaN</td>\n",
       "      <td>NaN</td>\n",
       "      <td>NaN</td>\n",
       "      <td>NaN</td>\n",
       "      <td>-0.009503</td>\n",
       "    </tr>\n",
       "    <tr>\n",
       "      <th>2012-10-03 00:00:00-04:00</th>\n",
       "      <td>51.060394</td>\n",
       "      <td>51.445089</td>\n",
       "      <td>50.845859</td>\n",
       "      <td>51.171364</td>\n",
       "      <td>8869500</td>\n",
       "      <td>NaN</td>\n",
       "      <td>NaN</td>\n",
       "      <td>NaN</td>\n",
       "      <td>NaN</td>\n",
       "      <td>NaN</td>\n",
       "      <td>NaN</td>\n",
       "      <td>NaN</td>\n",
       "      <td>NaN</td>\n",
       "      <td>NaN</td>\n",
       "      <td>NaN</td>\n",
       "      <td>NaN</td>\n",
       "      <td>NaN</td>\n",
       "      <td>NaN</td>\n",
       "      <td>0.005524</td>\n",
       "    </tr>\n",
       "    <tr>\n",
       "      <th>2012-10-04 00:00:00-04:00</th>\n",
       "      <td>51.311928</td>\n",
       "      <td>51.622639</td>\n",
       "      <td>51.274936</td>\n",
       "      <td>51.326721</td>\n",
       "      <td>7792700</td>\n",
       "      <td>NaN</td>\n",
       "      <td>NaN</td>\n",
       "      <td>NaN</td>\n",
       "      <td>NaN</td>\n",
       "      <td>NaN</td>\n",
       "      <td>NaN</td>\n",
       "      <td>NaN</td>\n",
       "      <td>NaN</td>\n",
       "      <td>NaN</td>\n",
       "      <td>NaN</td>\n",
       "      <td>NaN</td>\n",
       "      <td>NaN</td>\n",
       "      <td>NaN</td>\n",
       "      <td>0.003036</td>\n",
       "    </tr>\n",
       "    <tr>\n",
       "      <th>2012-10-05 00:00:00-04:00</th>\n",
       "      <td>51.622650</td>\n",
       "      <td>51.674436</td>\n",
       "      <td>51.348931</td>\n",
       "      <td>51.511681</td>\n",
       "      <td>6907800</td>\n",
       "      <td>NaN</td>\n",
       "      <td>NaN</td>\n",
       "      <td>NaN</td>\n",
       "      <td>NaN</td>\n",
       "      <td>NaN</td>\n",
       "      <td>NaN</td>\n",
       "      <td>NaN</td>\n",
       "      <td>NaN</td>\n",
       "      <td>NaN</td>\n",
       "      <td>NaN</td>\n",
       "      <td>NaN</td>\n",
       "      <td>NaN</td>\n",
       "      <td>NaN</td>\n",
       "      <td>0.003604</td>\n",
       "    </tr>\n",
       "  </tbody>\n",
       "</table>\n",
       "</div>\n",
       "      <button class=\"colab-df-convert\" onclick=\"convertToInteractive('df-842b4806-0957-4c51-b6c3-b13d1adb20ee')\"\n",
       "              title=\"Convert this dataframe to an interactive table.\"\n",
       "              style=\"display:none;\">\n",
       "        \n",
       "  <svg xmlns=\"http://www.w3.org/2000/svg\" height=\"24px\"viewBox=\"0 0 24 24\"\n",
       "       width=\"24px\">\n",
       "    <path d=\"M0 0h24v24H0V0z\" fill=\"none\"/>\n",
       "    <path d=\"M18.56 5.44l.94 2.06.94-2.06 2.06-.94-2.06-.94-.94-2.06-.94 2.06-2.06.94zm-11 1L8.5 8.5l.94-2.06 2.06-.94-2.06-.94L8.5 2.5l-.94 2.06-2.06.94zm10 10l.94 2.06.94-2.06 2.06-.94-2.06-.94-.94-2.06-.94 2.06-2.06.94z\"/><path d=\"M17.41 7.96l-1.37-1.37c-.4-.4-.92-.59-1.43-.59-.52 0-1.04.2-1.43.59L10.3 9.45l-7.72 7.72c-.78.78-.78 2.05 0 2.83L4 21.41c.39.39.9.59 1.41.59.51 0 1.02-.2 1.41-.59l7.78-7.78 2.81-2.81c.8-.78.8-2.07 0-2.86zM5.41 20L4 18.59l7.72-7.72 1.47 1.35L5.41 20z\"/>\n",
       "  </svg>\n",
       "      </button>\n",
       "      \n",
       "  <style>\n",
       "    .colab-df-container {\n",
       "      display:flex;\n",
       "      flex-wrap:wrap;\n",
       "      gap: 12px;\n",
       "    }\n",
       "\n",
       "    .colab-df-convert {\n",
       "      background-color: #E8F0FE;\n",
       "      border: none;\n",
       "      border-radius: 50%;\n",
       "      cursor: pointer;\n",
       "      display: none;\n",
       "      fill: #1967D2;\n",
       "      height: 32px;\n",
       "      padding: 0 0 0 0;\n",
       "      width: 32px;\n",
       "    }\n",
       "\n",
       "    .colab-df-convert:hover {\n",
       "      background-color: #E2EBFA;\n",
       "      box-shadow: 0px 1px 2px rgba(60, 64, 67, 0.3), 0px 1px 3px 1px rgba(60, 64, 67, 0.15);\n",
       "      fill: #174EA6;\n",
       "    }\n",
       "\n",
       "    [theme=dark] .colab-df-convert {\n",
       "      background-color: #3B4455;\n",
       "      fill: #D2E3FC;\n",
       "    }\n",
       "\n",
       "    [theme=dark] .colab-df-convert:hover {\n",
       "      background-color: #434B5C;\n",
       "      box-shadow: 0px 1px 3px 1px rgba(0, 0, 0, 0.15);\n",
       "      filter: drop-shadow(0px 1px 2px rgba(0, 0, 0, 0.3));\n",
       "      fill: #FFFFFF;\n",
       "    }\n",
       "  </style>\n",
       "\n",
       "      <script>\n",
       "        const buttonEl =\n",
       "          document.querySelector('#df-842b4806-0957-4c51-b6c3-b13d1adb20ee button.colab-df-convert');\n",
       "        buttonEl.style.display =\n",
       "          google.colab.kernel.accessAllowed ? 'block' : 'none';\n",
       "\n",
       "        async function convertToInteractive(key) {\n",
       "          const element = document.querySelector('#df-842b4806-0957-4c51-b6c3-b13d1adb20ee');\n",
       "          const dataTable =\n",
       "            await google.colab.kernel.invokeFunction('convertToInteractive',\n",
       "                                                     [key], {});\n",
       "          if (!dataTable) return;\n",
       "\n",
       "          const docLinkHtml = 'Like what you see? Visit the ' +\n",
       "            '<a target=\"_blank\" href=https://colab.research.google.com/notebooks/data_table.ipynb>data table notebook</a>'\n",
       "            + ' to learn more about interactive tables.';\n",
       "          element.innerHTML = '';\n",
       "          dataTable['output_type'] = 'display_data';\n",
       "          await google.colab.output.renderOutput(dataTable, element);\n",
       "          const docLink = document.createElement('div');\n",
       "          docLink.innerHTML = docLinkHtml;\n",
       "          element.appendChild(docLink);\n",
       "        }\n",
       "      </script>\n",
       "    </div>\n",
       "  </div>\n",
       "  "
      ],
      "text/plain": [
       "                                Open       High        Low      Close  \\\n",
       "Date                                                                    \n",
       "2012-10-01 00:00:00-04:00  51.289727  51.615231  51.119572  51.378498   \n",
       "2012-10-02 00:00:00-04:00  51.437691  51.578254  50.690501  50.890247   \n",
       "2012-10-03 00:00:00-04:00  51.060394  51.445089  50.845859  51.171364   \n",
       "2012-10-04 00:00:00-04:00  51.311928  51.622639  51.274936  51.326721   \n",
       "2012-10-05 00:00:00-04:00  51.622650  51.674436  51.348931  51.511681   \n",
       "\n",
       "                             Volume  MA_20  MA_50  EXP_MA_20  EXP_MA_50  RSI  \\\n",
       "Date                                                                           \n",
       "2012-10-01 00:00:00-04:00   8588600    NaN    NaN        NaN        NaN  NaN   \n",
       "2012-10-02 00:00:00-04:00  11241400    NaN    NaN        NaN        NaN  NaN   \n",
       "2012-10-03 00:00:00-04:00   8869500    NaN    NaN        NaN        NaN  NaN   \n",
       "2012-10-04 00:00:00-04:00   7792700    NaN    NaN        NaN        NaN  NaN   \n",
       "2012-10-05 00:00:00-04:00   6907800    NaN    NaN        NaN        NaN  NaN   \n",
       "\n",
       "                           MACD  MACD_sign  MACD_hist  BB_upper  BB_middle  \\\n",
       "Date                                                                         \n",
       "2012-10-01 00:00:00-04:00   NaN        NaN        NaN       NaN        NaN   \n",
       "2012-10-02 00:00:00-04:00   NaN        NaN        NaN       NaN        NaN   \n",
       "2012-10-03 00:00:00-04:00   NaN        NaN        NaN       NaN        NaN   \n",
       "2012-10-04 00:00:00-04:00   NaN        NaN        NaN       NaN        NaN   \n",
       "2012-10-05 00:00:00-04:00   NaN        NaN        NaN       NaN        NaN   \n",
       "\n",
       "                           BB_lower  PPO  MOM  Rate_Of_Change  \n",
       "Date                                                           \n",
       "2012-10-01 00:00:00-04:00       NaN  NaN  NaN             NaN  \n",
       "2012-10-02 00:00:00-04:00       NaN  NaN  NaN       -0.009503  \n",
       "2012-10-03 00:00:00-04:00       NaN  NaN  NaN        0.005524  \n",
       "2012-10-04 00:00:00-04:00       NaN  NaN  NaN        0.003036  \n",
       "2012-10-05 00:00:00-04:00       NaN  NaN  NaN        0.003604  "
      ]
     },
     "execution_count": 15,
     "metadata": {},
     "output_type": "execute_result"
    }
   ],
   "source": [
    "#technical variables have up to 50 days as n/a due to how they are constructed (example 50-day moving avarage)\n",
    "data.head()"
   ]
  },
  {
   "cell_type": "code",
   "execution_count": 42,
   "metadata": {
    "colab": {
     "base_uri": "https://localhost:8080/",
     "height": 612
    },
    "executionInfo": {
     "elapsed": 365,
     "status": "ok",
     "timestamp": 1667424808226,
     "user": {
      "displayName": "Dimitry Kirtsman",
      "userId": "11988189828040272864"
     },
     "user_tz": 420
    },
    "id": "cTIz6RNYNLhW",
    "outputId": "25990471-34ec-458c-f40e-48b57d159bbb"
   },
   "outputs": [
    {
     "data": {
      "text/html": [
       "\n",
       "  <div id=\"df-eb6f5db8-a1b5-4670-be93-7364131f6e58\">\n",
       "    <div class=\"colab-df-container\">\n",
       "      <div>\n",
       "<style scoped>\n",
       "    .dataframe tbody tr th:only-of-type {\n",
       "        vertical-align: middle;\n",
       "    }\n",
       "\n",
       "    .dataframe tbody tr th {\n",
       "        vertical-align: top;\n",
       "    }\n",
       "\n",
       "    .dataframe thead th {\n",
       "        text-align: right;\n",
       "    }\n",
       "</style>\n",
       "<table border=\"1\" class=\"dataframe\">\n",
       "  <thead>\n",
       "    <tr style=\"text-align: right;\">\n",
       "      <th></th>\n",
       "      <th>Open</th>\n",
       "      <th>High</th>\n",
       "      <th>Low</th>\n",
       "      <th>Close</th>\n",
       "      <th>Volume</th>\n",
       "      <th>MA_20</th>\n",
       "      <th>MA_50</th>\n",
       "      <th>EXP_MA_20</th>\n",
       "      <th>EXP_MA_50</th>\n",
       "      <th>RSI</th>\n",
       "      <th>MACD</th>\n",
       "      <th>MACD_sign</th>\n",
       "      <th>MACD_hist</th>\n",
       "      <th>BB_upper</th>\n",
       "      <th>BB_middle</th>\n",
       "      <th>BB_lower</th>\n",
       "      <th>PPO</th>\n",
       "      <th>MOM</th>\n",
       "      <th>Rate_Of_Change</th>\n",
       "    </tr>\n",
       "    <tr>\n",
       "      <th>Date</th>\n",
       "      <th></th>\n",
       "      <th></th>\n",
       "      <th></th>\n",
       "      <th></th>\n",
       "      <th></th>\n",
       "      <th></th>\n",
       "      <th></th>\n",
       "      <th></th>\n",
       "      <th></th>\n",
       "      <th></th>\n",
       "      <th></th>\n",
       "      <th></th>\n",
       "      <th></th>\n",
       "      <th></th>\n",
       "      <th></th>\n",
       "      <th></th>\n",
       "      <th></th>\n",
       "      <th></th>\n",
       "      <th></th>\n",
       "    </tr>\n",
       "  </thead>\n",
       "  <tbody>\n",
       "    <tr>\n",
       "      <th>2022-09-16 00:00:00-04:00</th>\n",
       "      <td>136.471465</td>\n",
       "      <td>138.080044</td>\n",
       "      <td>136.143789</td>\n",
       "      <td>137.305542</td>\n",
       "      <td>9319200</td>\n",
       "      <td>140.034679</td>\n",
       "      <td>142.242911</td>\n",
       "      <td>139.403069</td>\n",
       "      <td>141.514496</td>\n",
       "      <td>43.525606</td>\n",
       "      <td>-1.783368</td>\n",
       "      <td>-1.629878</td>\n",
       "      <td>-0.153489</td>\n",
       "      <td>149.192782</td>\n",
       "      <td>140.448008</td>\n",
       "      <td>131.703234</td>\n",
       "      <td>-3.091015</td>\n",
       "      <td>-10.882782</td>\n",
       "      <td>0.006112</td>\n",
       "    </tr>\n",
       "    <tr>\n",
       "      <th>2022-09-19 00:00:00-04:00</th>\n",
       "      <td>137.226105</td>\n",
       "      <td>137.484283</td>\n",
       "      <td>136.262939</td>\n",
       "      <td>137.017593</td>\n",
       "      <td>6056000</td>\n",
       "      <td>139.451817</td>\n",
       "      <td>142.121878</td>\n",
       "      <td>139.175881</td>\n",
       "      <td>141.338146</td>\n",
       "      <td>43.096645</td>\n",
       "      <td>-1.749500</td>\n",
       "      <td>-1.653803</td>\n",
       "      <td>-0.095697</td>\n",
       "      <td>147.919403</td>\n",
       "      <td>139.891009</td>\n",
       "      <td>131.862614</td>\n",
       "      <td>-2.897816</td>\n",
       "      <td>-11.696991</td>\n",
       "      <td>-0.002097</td>\n",
       "    </tr>\n",
       "    <tr>\n",
       "      <th>2022-09-20 00:00:00-04:00</th>\n",
       "      <td>136.441689</td>\n",
       "      <td>136.997741</td>\n",
       "      <td>135.567886</td>\n",
       "      <td>136.531052</td>\n",
       "      <td>5589800</td>\n",
       "      <td>138.864485</td>\n",
       "      <td>141.970988</td>\n",
       "      <td>138.923993</td>\n",
       "      <td>141.149633</td>\n",
       "      <td>42.356047</td>\n",
       "      <td>-1.741840</td>\n",
       "      <td>-1.671410</td>\n",
       "      <td>-0.070430</td>\n",
       "      <td>146.424096</td>\n",
       "      <td>139.312733</td>\n",
       "      <td>132.201369</td>\n",
       "      <td>-2.782274</td>\n",
       "      <td>-12.143799</td>\n",
       "      <td>-0.003551</td>\n",
       "    </tr>\n",
       "    <tr>\n",
       "      <th>2022-09-21 00:00:00-04:00</th>\n",
       "      <td>137.106960</td>\n",
       "      <td>137.226109</td>\n",
       "      <td>134.753666</td>\n",
       "      <td>134.773514</td>\n",
       "      <td>6413900</td>\n",
       "      <td>138.332262</td>\n",
       "      <td>141.810400</td>\n",
       "      <td>138.528709</td>\n",
       "      <td>140.899589</td>\n",
       "      <td>39.764222</td>\n",
       "      <td>-1.856191</td>\n",
       "      <td>-1.708366</td>\n",
       "      <td>-0.147825</td>\n",
       "      <td>144.796133</td>\n",
       "      <td>138.669677</td>\n",
       "      <td>132.543221</td>\n",
       "      <td>-2.527578</td>\n",
       "      <td>-13.504166</td>\n",
       "      <td>-0.012873</td>\n",
       "    </tr>\n",
       "    <tr>\n",
       "      <th>2022-09-22 00:00:00-04:00</th>\n",
       "      <td>134.783448</td>\n",
       "      <td>136.104078</td>\n",
       "      <td>134.286972</td>\n",
       "      <td>135.250137</td>\n",
       "      <td>5061600</td>\n",
       "      <td>137.855148</td>\n",
       "      <td>141.640601</td>\n",
       "      <td>138.216464</td>\n",
       "      <td>140.678042</td>\n",
       "      <td>40.795802</td>\n",
       "      <td>-1.886608</td>\n",
       "      <td>-1.744015</td>\n",
       "      <td>-0.142594</td>\n",
       "      <td>143.676290</td>\n",
       "      <td>138.185495</td>\n",
       "      <td>132.694699</td>\n",
       "      <td>-2.128619</td>\n",
       "      <td>-10.167831</td>\n",
       "      <td>0.003536</td>\n",
       "    </tr>\n",
       "    <tr>\n",
       "      <th>2022-09-23 00:00:00-04:00</th>\n",
       "      <td>134.723859</td>\n",
       "      <td>135.538088</td>\n",
       "      <td>133.006054</td>\n",
       "      <td>134.624573</td>\n",
       "      <td>6519000</td>\n",
       "      <td>137.352714</td>\n",
       "      <td>141.466774</td>\n",
       "      <td>137.874379</td>\n",
       "      <td>140.440651</td>\n",
       "      <td>39.855171</td>\n",
       "      <td>-1.938842</td>\n",
       "      <td>-1.782980</td>\n",
       "      <td>-0.155862</td>\n",
       "      <td>142.529542</td>\n",
       "      <td>137.701311</td>\n",
       "      <td>132.873081</td>\n",
       "      <td>-1.887217</td>\n",
       "      <td>-10.167847</td>\n",
       "      <td>-0.004625</td>\n",
       "    </tr>\n",
       "    <tr>\n",
       "      <th>2022-09-26 00:00:00-04:00</th>\n",
       "      <td>134.624573</td>\n",
       "      <td>135.855841</td>\n",
       "      <td>134.038735</td>\n",
       "      <td>134.753662</td>\n",
       "      <td>7396400</td>\n",
       "      <td>137.026033</td>\n",
       "      <td>141.299475</td>\n",
       "      <td>137.577168</td>\n",
       "      <td>140.217632</td>\n",
       "      <td>40.154153</td>\n",
       "      <td>-1.947373</td>\n",
       "      <td>-1.815859</td>\n",
       "      <td>-0.131514</td>\n",
       "      <td>141.078053</td>\n",
       "      <td>137.228949</td>\n",
       "      <td>133.379846</td>\n",
       "      <td>-1.636170</td>\n",
       "      <td>-9.919601</td>\n",
       "      <td>0.000959</td>\n",
       "    </tr>\n",
       "    <tr>\n",
       "      <th>2022-09-27 00:00:00-04:00</th>\n",
       "      <td>135.001906</td>\n",
       "      <td>135.974996</td>\n",
       "      <td>130.781856</td>\n",
       "      <td>131.049942</td>\n",
       "      <td>7722200</td>\n",
       "      <td>136.543954</td>\n",
       "      <td>141.092829</td>\n",
       "      <td>136.955527</td>\n",
       "      <td>139.858115</td>\n",
       "      <td>34.924069</td>\n",
       "      <td>-2.227318</td>\n",
       "      <td>-1.898151</td>\n",
       "      <td>-0.329168</td>\n",
       "      <td>140.984128</td>\n",
       "      <td>136.741457</td>\n",
       "      <td>132.498786</td>\n",
       "      <td>-1.631489</td>\n",
       "      <td>-10.237335</td>\n",
       "      <td>-0.027485</td>\n",
       "    </tr>\n",
       "    <tr>\n",
       "      <th>2022-09-28 00:00:00-04:00</th>\n",
       "      <td>132.082622</td>\n",
       "      <td>132.082622</td>\n",
       "      <td>130.265516</td>\n",
       "      <td>131.049942</td>\n",
       "      <td>10455100</td>\n",
       "      <td>136.136843</td>\n",
       "      <td>140.871779</td>\n",
       "      <td>136.393091</td>\n",
       "      <td>139.512696</td>\n",
       "      <td>34.924069</td>\n",
       "      <td>-2.421266</td>\n",
       "      <td>-2.002774</td>\n",
       "      <td>-0.418492</td>\n",
       "      <td>140.794011</td>\n",
       "      <td>136.282334</td>\n",
       "      <td>131.770657</td>\n",
       "      <td>-1.706210</td>\n",
       "      <td>-9.641586</td>\n",
       "      <td>0.000000</td>\n",
       "    </tr>\n",
       "    <tr>\n",
       "      <th>2022-09-29 00:00:00-04:00</th>\n",
       "      <td>130.940712</td>\n",
       "      <td>130.940712</td>\n",
       "      <td>127.356151</td>\n",
       "      <td>127.793053</td>\n",
       "      <td>7128500</td>\n",
       "      <td>135.678099</td>\n",
       "      <td>140.634721</td>\n",
       "      <td>135.574040</td>\n",
       "      <td>139.053102</td>\n",
       "      <td>31.008440</td>\n",
       "      <td>-2.805435</td>\n",
       "      <td>-2.163306</td>\n",
       "      <td>-0.642129</td>\n",
       "      <td>141.333364</td>\n",
       "      <td>135.739520</td>\n",
       "      <td>130.145676</td>\n",
       "      <td>-1.792447</td>\n",
       "      <td>-11.399101</td>\n",
       "      <td>-0.024852</td>\n",
       "    </tr>\n",
       "  </tbody>\n",
       "</table>\n",
       "</div>\n",
       "      <button class=\"colab-df-convert\" onclick=\"convertToInteractive('df-eb6f5db8-a1b5-4670-be93-7364131f6e58')\"\n",
       "              title=\"Convert this dataframe to an interactive table.\"\n",
       "              style=\"display:none;\">\n",
       "        \n",
       "  <svg xmlns=\"http://www.w3.org/2000/svg\" height=\"24px\"viewBox=\"0 0 24 24\"\n",
       "       width=\"24px\">\n",
       "    <path d=\"M0 0h24v24H0V0z\" fill=\"none\"/>\n",
       "    <path d=\"M18.56 5.44l.94 2.06.94-2.06 2.06-.94-2.06-.94-.94-2.06-.94 2.06-2.06.94zm-11 1L8.5 8.5l.94-2.06 2.06-.94-2.06-.94L8.5 2.5l-.94 2.06-2.06.94zm10 10l.94 2.06.94-2.06 2.06-.94-2.06-.94-.94-2.06-.94 2.06-2.06.94z\"/><path d=\"M17.41 7.96l-1.37-1.37c-.4-.4-.92-.59-1.43-.59-.52 0-1.04.2-1.43.59L10.3 9.45l-7.72 7.72c-.78.78-.78 2.05 0 2.83L4 21.41c.39.39.9.59 1.41.59.51 0 1.02-.2 1.41-.59l7.78-7.78 2.81-2.81c.8-.78.8-2.07 0-2.86zM5.41 20L4 18.59l7.72-7.72 1.47 1.35L5.41 20z\"/>\n",
       "  </svg>\n",
       "      </button>\n",
       "      \n",
       "  <style>\n",
       "    .colab-df-container {\n",
       "      display:flex;\n",
       "      flex-wrap:wrap;\n",
       "      gap: 12px;\n",
       "    }\n",
       "\n",
       "    .colab-df-convert {\n",
       "      background-color: #E8F0FE;\n",
       "      border: none;\n",
       "      border-radius: 50%;\n",
       "      cursor: pointer;\n",
       "      display: none;\n",
       "      fill: #1967D2;\n",
       "      height: 32px;\n",
       "      padding: 0 0 0 0;\n",
       "      width: 32px;\n",
       "    }\n",
       "\n",
       "    .colab-df-convert:hover {\n",
       "      background-color: #E2EBFA;\n",
       "      box-shadow: 0px 1px 2px rgba(60, 64, 67, 0.3), 0px 1px 3px 1px rgba(60, 64, 67, 0.15);\n",
       "      fill: #174EA6;\n",
       "    }\n",
       "\n",
       "    [theme=dark] .colab-df-convert {\n",
       "      background-color: #3B4455;\n",
       "      fill: #D2E3FC;\n",
       "    }\n",
       "\n",
       "    [theme=dark] .colab-df-convert:hover {\n",
       "      background-color: #434B5C;\n",
       "      box-shadow: 0px 1px 3px 1px rgba(0, 0, 0, 0.15);\n",
       "      filter: drop-shadow(0px 1px 2px rgba(0, 0, 0, 0.3));\n",
       "      fill: #FFFFFF;\n",
       "    }\n",
       "  </style>\n",
       "\n",
       "      <script>\n",
       "        const buttonEl =\n",
       "          document.querySelector('#df-eb6f5db8-a1b5-4670-be93-7364131f6e58 button.colab-df-convert');\n",
       "        buttonEl.style.display =\n",
       "          google.colab.kernel.accessAllowed ? 'block' : 'none';\n",
       "\n",
       "        async function convertToInteractive(key) {\n",
       "          const element = document.querySelector('#df-eb6f5db8-a1b5-4670-be93-7364131f6e58');\n",
       "          const dataTable =\n",
       "            await google.colab.kernel.invokeFunction('convertToInteractive',\n",
       "                                                     [key], {});\n",
       "          if (!dataTable) return;\n",
       "\n",
       "          const docLinkHtml = 'Like what you see? Visit the ' +\n",
       "            '<a target=\"_blank\" href=https://colab.research.google.com/notebooks/data_table.ipynb>data table notebook</a>'\n",
       "            + ' to learn more about interactive tables.';\n",
       "          element.innerHTML = '';\n",
       "          dataTable['output_type'] = 'display_data';\n",
       "          await google.colab.output.renderOutput(dataTable, element);\n",
       "          const docLink = document.createElement('div');\n",
       "          docLink.innerHTML = docLinkHtml;\n",
       "          element.appendChild(docLink);\n",
       "        }\n",
       "      </script>\n",
       "    </div>\n",
       "  </div>\n",
       "  "
      ],
      "text/plain": [
       "                                 Open        High         Low       Close  \\\n",
       "Date                                                                        \n",
       "2022-09-16 00:00:00-04:00  136.471465  138.080044  136.143789  137.305542   \n",
       "2022-09-19 00:00:00-04:00  137.226105  137.484283  136.262939  137.017593   \n",
       "2022-09-20 00:00:00-04:00  136.441689  136.997741  135.567886  136.531052   \n",
       "2022-09-21 00:00:00-04:00  137.106960  137.226109  134.753666  134.773514   \n",
       "2022-09-22 00:00:00-04:00  134.783448  136.104078  134.286972  135.250137   \n",
       "2022-09-23 00:00:00-04:00  134.723859  135.538088  133.006054  134.624573   \n",
       "2022-09-26 00:00:00-04:00  134.624573  135.855841  134.038735  134.753662   \n",
       "2022-09-27 00:00:00-04:00  135.001906  135.974996  130.781856  131.049942   \n",
       "2022-09-28 00:00:00-04:00  132.082622  132.082622  130.265516  131.049942   \n",
       "2022-09-29 00:00:00-04:00  130.940712  130.940712  127.356151  127.793053   \n",
       "\n",
       "                             Volume       MA_20       MA_50   EXP_MA_20  \\\n",
       "Date                                                                      \n",
       "2022-09-16 00:00:00-04:00   9319200  140.034679  142.242911  139.403069   \n",
       "2022-09-19 00:00:00-04:00   6056000  139.451817  142.121878  139.175881   \n",
       "2022-09-20 00:00:00-04:00   5589800  138.864485  141.970988  138.923993   \n",
       "2022-09-21 00:00:00-04:00   6413900  138.332262  141.810400  138.528709   \n",
       "2022-09-22 00:00:00-04:00   5061600  137.855148  141.640601  138.216464   \n",
       "2022-09-23 00:00:00-04:00   6519000  137.352714  141.466774  137.874379   \n",
       "2022-09-26 00:00:00-04:00   7396400  137.026033  141.299475  137.577168   \n",
       "2022-09-27 00:00:00-04:00   7722200  136.543954  141.092829  136.955527   \n",
       "2022-09-28 00:00:00-04:00  10455100  136.136843  140.871779  136.393091   \n",
       "2022-09-29 00:00:00-04:00   7128500  135.678099  140.634721  135.574040   \n",
       "\n",
       "                            EXP_MA_50        RSI      MACD  MACD_sign  \\\n",
       "Date                                                                    \n",
       "2022-09-16 00:00:00-04:00  141.514496  43.525606 -1.783368  -1.629878   \n",
       "2022-09-19 00:00:00-04:00  141.338146  43.096645 -1.749500  -1.653803   \n",
       "2022-09-20 00:00:00-04:00  141.149633  42.356047 -1.741840  -1.671410   \n",
       "2022-09-21 00:00:00-04:00  140.899589  39.764222 -1.856191  -1.708366   \n",
       "2022-09-22 00:00:00-04:00  140.678042  40.795802 -1.886608  -1.744015   \n",
       "2022-09-23 00:00:00-04:00  140.440651  39.855171 -1.938842  -1.782980   \n",
       "2022-09-26 00:00:00-04:00  140.217632  40.154153 -1.947373  -1.815859   \n",
       "2022-09-27 00:00:00-04:00  139.858115  34.924069 -2.227318  -1.898151   \n",
       "2022-09-28 00:00:00-04:00  139.512696  34.924069 -2.421266  -2.002774   \n",
       "2022-09-29 00:00:00-04:00  139.053102  31.008440 -2.805435  -2.163306   \n",
       "\n",
       "                           MACD_hist    BB_upper   BB_middle    BB_lower  \\\n",
       "Date                                                                       \n",
       "2022-09-16 00:00:00-04:00  -0.153489  149.192782  140.448008  131.703234   \n",
       "2022-09-19 00:00:00-04:00  -0.095697  147.919403  139.891009  131.862614   \n",
       "2022-09-20 00:00:00-04:00  -0.070430  146.424096  139.312733  132.201369   \n",
       "2022-09-21 00:00:00-04:00  -0.147825  144.796133  138.669677  132.543221   \n",
       "2022-09-22 00:00:00-04:00  -0.142594  143.676290  138.185495  132.694699   \n",
       "2022-09-23 00:00:00-04:00  -0.155862  142.529542  137.701311  132.873081   \n",
       "2022-09-26 00:00:00-04:00  -0.131514  141.078053  137.228949  133.379846   \n",
       "2022-09-27 00:00:00-04:00  -0.329168  140.984128  136.741457  132.498786   \n",
       "2022-09-28 00:00:00-04:00  -0.418492  140.794011  136.282334  131.770657   \n",
       "2022-09-29 00:00:00-04:00  -0.642129  141.333364  135.739520  130.145676   \n",
       "\n",
       "                                PPO        MOM  Rate_Of_Change  \n",
       "Date                                                            \n",
       "2022-09-16 00:00:00-04:00 -3.091015 -10.882782        0.006112  \n",
       "2022-09-19 00:00:00-04:00 -2.897816 -11.696991       -0.002097  \n",
       "2022-09-20 00:00:00-04:00 -2.782274 -12.143799       -0.003551  \n",
       "2022-09-21 00:00:00-04:00 -2.527578 -13.504166       -0.012873  \n",
       "2022-09-22 00:00:00-04:00 -2.128619 -10.167831        0.003536  \n",
       "2022-09-23 00:00:00-04:00 -1.887217 -10.167847       -0.004625  \n",
       "2022-09-26 00:00:00-04:00 -1.636170  -9.919601        0.000959  \n",
       "2022-09-27 00:00:00-04:00 -1.631489 -10.237335       -0.027485  \n",
       "2022-09-28 00:00:00-04:00 -1.706210  -9.641586        0.000000  \n",
       "2022-09-29 00:00:00-04:00 -1.792447 -11.399101       -0.024852  "
      ]
     },
     "execution_count": 42,
     "metadata": {},
     "output_type": "execute_result"
    }
   ],
   "source": [
    "data.tail(10)"
   ]
  },
  {
   "cell_type": "code",
   "execution_count": 16,
   "metadata": {
    "executionInfo": {
     "elapsed": 12,
     "status": "ok",
     "timestamp": 1667424597750,
     "user": {
      "displayName": "Dimitry Kirtsman",
      "userId": "11988189828040272864"
     },
     "user_tz": 420
    },
    "id": "HxdNsfo2NLjv"
   },
   "outputs": [],
   "source": [
    "#removing the n/a's from technical variable creation\n",
    "data=data.iloc[49:,:]"
   ]
  },
  {
   "cell_type": "code",
   "execution_count": 17,
   "metadata": {
    "colab": {
     "base_uri": "https://localhost:8080/",
     "height": 238
    },
    "executionInfo": {
     "elapsed": 12,
     "status": "ok",
     "timestamp": 1667424597750,
     "user": {
      "displayName": "Dimitry Kirtsman",
      "userId": "11988189828040272864"
     },
     "user_tz": 420
    },
    "id": "EYB9TkbmdrUp",
    "outputId": "a188a9d2-37f0-44f7-8198-467e94b66b45"
   },
   "outputs": [
    {
     "data": {
      "text/html": [
       "\n",
       "  <div id=\"df-b433e8f5-e332-4a59-b3f8-d289ca1d158d\">\n",
       "    <div class=\"colab-df-container\">\n",
       "      <div>\n",
       "<style scoped>\n",
       "    .dataframe tbody tr th:only-of-type {\n",
       "        vertical-align: middle;\n",
       "    }\n",
       "\n",
       "    .dataframe tbody tr th {\n",
       "        vertical-align: top;\n",
       "    }\n",
       "\n",
       "    .dataframe thead th {\n",
       "        text-align: right;\n",
       "    }\n",
       "</style>\n",
       "<table border=\"1\" class=\"dataframe\">\n",
       "  <thead>\n",
       "    <tr style=\"text-align: right;\">\n",
       "      <th></th>\n",
       "      <th>Open</th>\n",
       "      <th>High</th>\n",
       "      <th>Low</th>\n",
       "      <th>Close</th>\n",
       "      <th>Volume</th>\n",
       "      <th>MA_20</th>\n",
       "      <th>MA_50</th>\n",
       "      <th>EXP_MA_20</th>\n",
       "      <th>EXP_MA_50</th>\n",
       "      <th>RSI</th>\n",
       "      <th>MACD</th>\n",
       "      <th>MACD_sign</th>\n",
       "      <th>MACD_hist</th>\n",
       "      <th>BB_upper</th>\n",
       "      <th>BB_middle</th>\n",
       "      <th>BB_lower</th>\n",
       "      <th>PPO</th>\n",
       "      <th>MOM</th>\n",
       "      <th>Rate_Of_Change</th>\n",
       "    </tr>\n",
       "    <tr>\n",
       "      <th>Date</th>\n",
       "      <th></th>\n",
       "      <th></th>\n",
       "      <th></th>\n",
       "      <th></th>\n",
       "      <th></th>\n",
       "      <th></th>\n",
       "      <th></th>\n",
       "      <th></th>\n",
       "      <th></th>\n",
       "      <th></th>\n",
       "      <th></th>\n",
       "      <th></th>\n",
       "      <th></th>\n",
       "      <th></th>\n",
       "      <th></th>\n",
       "      <th></th>\n",
       "      <th></th>\n",
       "      <th></th>\n",
       "      <th></th>\n",
       "    </tr>\n",
       "  </thead>\n",
       "  <tbody>\n",
       "    <tr>\n",
       "      <th>2012-12-12 00:00:00-05:00</th>\n",
       "      <td>52.777519</td>\n",
       "      <td>52.949065</td>\n",
       "      <td>52.665638</td>\n",
       "      <td>52.777519</td>\n",
       "      <td>8405900</td>\n",
       "      <td>51.515871</td>\n",
       "      <td>51.209428</td>\n",
       "      <td>51.791840</td>\n",
       "      <td>51.209428</td>\n",
       "      <td>60.871950</td>\n",
       "      <td>0.455364</td>\n",
       "      <td>0.328853</td>\n",
       "      <td>0.126512</td>\n",
       "      <td>53.411430</td>\n",
       "      <td>51.437076</td>\n",
       "      <td>49.462721</td>\n",
       "      <td>1.641835</td>\n",
       "      <td>2.744793</td>\n",
       "      <td>0.001416</td>\n",
       "    </tr>\n",
       "    <tr>\n",
       "      <th>2012-12-13 00:00:00-05:00</th>\n",
       "      <td>52.620870</td>\n",
       "      <td>52.687995</td>\n",
       "      <td>52.136056</td>\n",
       "      <td>52.307602</td>\n",
       "      <td>8478200</td>\n",
       "      <td>51.650127</td>\n",
       "      <td>51.228010</td>\n",
       "      <td>51.840960</td>\n",
       "      <td>51.252494</td>\n",
       "      <td>56.344856</td>\n",
       "      <td>0.438333</td>\n",
       "      <td>0.350749</td>\n",
       "      <td>0.087584</td>\n",
       "      <td>53.428431</td>\n",
       "      <td>51.553573</td>\n",
       "      <td>49.678714</td>\n",
       "      <td>1.711785</td>\n",
       "      <td>2.446430</td>\n",
       "      <td>-0.008904</td>\n",
       "    </tr>\n",
       "    <tr>\n",
       "      <th>2012-12-14 00:00:00-05:00</th>\n",
       "      <td>52.150976</td>\n",
       "      <td>52.561204</td>\n",
       "      <td>52.046555</td>\n",
       "      <td>52.158436</td>\n",
       "      <td>8997600</td>\n",
       "      <td>51.784756</td>\n",
       "      <td>51.253374</td>\n",
       "      <td>51.871196</td>\n",
       "      <td>51.288021</td>\n",
       "      <td>54.981967</td>\n",
       "      <td>0.408094</td>\n",
       "      <td>0.362218</td>\n",
       "      <td>0.045876</td>\n",
       "      <td>53.352470</td>\n",
       "      <td>51.674332</td>\n",
       "      <td>49.996193</td>\n",
       "      <td>1.664820</td>\n",
       "      <td>2.535946</td>\n",
       "      <td>-0.002852</td>\n",
       "    </tr>\n",
       "    <tr>\n",
       "      <th>2012-12-17 00:00:00-05:00</th>\n",
       "      <td>52.173351</td>\n",
       "      <td>52.322527</td>\n",
       "      <td>51.927219</td>\n",
       "      <td>52.158436</td>\n",
       "      <td>8791500</td>\n",
       "      <td>51.900738</td>\n",
       "      <td>51.273115</td>\n",
       "      <td>51.898552</td>\n",
       "      <td>51.322155</td>\n",
       "      <td>54.981967</td>\n",
       "      <td>0.379752</td>\n",
       "      <td>0.365725</td>\n",
       "      <td>0.014028</td>\n",
       "      <td>53.168568</td>\n",
       "      <td>51.802550</td>\n",
       "      <td>50.436532</td>\n",
       "      <td>1.545499</td>\n",
       "      <td>2.692581</td>\n",
       "      <td>0.000000</td>\n",
       "    </tr>\n",
       "    <tr>\n",
       "      <th>2012-12-18 00:00:00-05:00</th>\n",
       "      <td>52.128608</td>\n",
       "      <td>52.419495</td>\n",
       "      <td>51.785510</td>\n",
       "      <td>52.188278</td>\n",
       "      <td>13568900</td>\n",
       "      <td>51.977189</td>\n",
       "      <td>51.290347</td>\n",
       "      <td>51.926145</td>\n",
       "      <td>51.356120</td>\n",
       "      <td>55.220871</td>\n",
       "      <td>0.355600</td>\n",
       "      <td>0.363700</td>\n",
       "      <td>-0.008100</td>\n",
       "      <td>52.967868</td>\n",
       "      <td>51.914431</td>\n",
       "      <td>50.860993</td>\n",
       "      <td>1.394968</td>\n",
       "      <td>2.349491</td>\n",
       "      <td>0.000572</td>\n",
       "    </tr>\n",
       "  </tbody>\n",
       "</table>\n",
       "</div>\n",
       "      <button class=\"colab-df-convert\" onclick=\"convertToInteractive('df-b433e8f5-e332-4a59-b3f8-d289ca1d158d')\"\n",
       "              title=\"Convert this dataframe to an interactive table.\"\n",
       "              style=\"display:none;\">\n",
       "        \n",
       "  <svg xmlns=\"http://www.w3.org/2000/svg\" height=\"24px\"viewBox=\"0 0 24 24\"\n",
       "       width=\"24px\">\n",
       "    <path d=\"M0 0h24v24H0V0z\" fill=\"none\"/>\n",
       "    <path d=\"M18.56 5.44l.94 2.06.94-2.06 2.06-.94-2.06-.94-.94-2.06-.94 2.06-2.06.94zm-11 1L8.5 8.5l.94-2.06 2.06-.94-2.06-.94L8.5 2.5l-.94 2.06-2.06.94zm10 10l.94 2.06.94-2.06 2.06-.94-2.06-.94-.94-2.06-.94 2.06-2.06.94z\"/><path d=\"M17.41 7.96l-1.37-1.37c-.4-.4-.92-.59-1.43-.59-.52 0-1.04.2-1.43.59L10.3 9.45l-7.72 7.72c-.78.78-.78 2.05 0 2.83L4 21.41c.39.39.9.59 1.41.59.51 0 1.02-.2 1.41-.59l7.78-7.78 2.81-2.81c.8-.78.8-2.07 0-2.86zM5.41 20L4 18.59l7.72-7.72 1.47 1.35L5.41 20z\"/>\n",
       "  </svg>\n",
       "      </button>\n",
       "      \n",
       "  <style>\n",
       "    .colab-df-container {\n",
       "      display:flex;\n",
       "      flex-wrap:wrap;\n",
       "      gap: 12px;\n",
       "    }\n",
       "\n",
       "    .colab-df-convert {\n",
       "      background-color: #E8F0FE;\n",
       "      border: none;\n",
       "      border-radius: 50%;\n",
       "      cursor: pointer;\n",
       "      display: none;\n",
       "      fill: #1967D2;\n",
       "      height: 32px;\n",
       "      padding: 0 0 0 0;\n",
       "      width: 32px;\n",
       "    }\n",
       "\n",
       "    .colab-df-convert:hover {\n",
       "      background-color: #E2EBFA;\n",
       "      box-shadow: 0px 1px 2px rgba(60, 64, 67, 0.3), 0px 1px 3px 1px rgba(60, 64, 67, 0.15);\n",
       "      fill: #174EA6;\n",
       "    }\n",
       "\n",
       "    [theme=dark] .colab-df-convert {\n",
       "      background-color: #3B4455;\n",
       "      fill: #D2E3FC;\n",
       "    }\n",
       "\n",
       "    [theme=dark] .colab-df-convert:hover {\n",
       "      background-color: #434B5C;\n",
       "      box-shadow: 0px 1px 3px 1px rgba(0, 0, 0, 0.15);\n",
       "      filter: drop-shadow(0px 1px 2px rgba(0, 0, 0, 0.3));\n",
       "      fill: #FFFFFF;\n",
       "    }\n",
       "  </style>\n",
       "\n",
       "      <script>\n",
       "        const buttonEl =\n",
       "          document.querySelector('#df-b433e8f5-e332-4a59-b3f8-d289ca1d158d button.colab-df-convert');\n",
       "        buttonEl.style.display =\n",
       "          google.colab.kernel.accessAllowed ? 'block' : 'none';\n",
       "\n",
       "        async function convertToInteractive(key) {\n",
       "          const element = document.querySelector('#df-b433e8f5-e332-4a59-b3f8-d289ca1d158d');\n",
       "          const dataTable =\n",
       "            await google.colab.kernel.invokeFunction('convertToInteractive',\n",
       "                                                     [key], {});\n",
       "          if (!dataTable) return;\n",
       "\n",
       "          const docLinkHtml = 'Like what you see? Visit the ' +\n",
       "            '<a target=\"_blank\" href=https://colab.research.google.com/notebooks/data_table.ipynb>data table notebook</a>'\n",
       "            + ' to learn more about interactive tables.';\n",
       "          element.innerHTML = '';\n",
       "          dataTable['output_type'] = 'display_data';\n",
       "          await google.colab.output.renderOutput(dataTable, element);\n",
       "          const docLink = document.createElement('div');\n",
       "          docLink.innerHTML = docLinkHtml;\n",
       "          element.appendChild(docLink);\n",
       "        }\n",
       "      </script>\n",
       "    </div>\n",
       "  </div>\n",
       "  "
      ],
      "text/plain": [
       "                                Open       High        Low      Close  \\\n",
       "Date                                                                    \n",
       "2012-12-12 00:00:00-05:00  52.777519  52.949065  52.665638  52.777519   \n",
       "2012-12-13 00:00:00-05:00  52.620870  52.687995  52.136056  52.307602   \n",
       "2012-12-14 00:00:00-05:00  52.150976  52.561204  52.046555  52.158436   \n",
       "2012-12-17 00:00:00-05:00  52.173351  52.322527  51.927219  52.158436   \n",
       "2012-12-18 00:00:00-05:00  52.128608  52.419495  51.785510  52.188278   \n",
       "\n",
       "                             Volume      MA_20      MA_50  EXP_MA_20  \\\n",
       "Date                                                                   \n",
       "2012-12-12 00:00:00-05:00   8405900  51.515871  51.209428  51.791840   \n",
       "2012-12-13 00:00:00-05:00   8478200  51.650127  51.228010  51.840960   \n",
       "2012-12-14 00:00:00-05:00   8997600  51.784756  51.253374  51.871196   \n",
       "2012-12-17 00:00:00-05:00   8791500  51.900738  51.273115  51.898552   \n",
       "2012-12-18 00:00:00-05:00  13568900  51.977189  51.290347  51.926145   \n",
       "\n",
       "                           EXP_MA_50        RSI      MACD  MACD_sign  \\\n",
       "Date                                                                   \n",
       "2012-12-12 00:00:00-05:00  51.209428  60.871950  0.455364   0.328853   \n",
       "2012-12-13 00:00:00-05:00  51.252494  56.344856  0.438333   0.350749   \n",
       "2012-12-14 00:00:00-05:00  51.288021  54.981967  0.408094   0.362218   \n",
       "2012-12-17 00:00:00-05:00  51.322155  54.981967  0.379752   0.365725   \n",
       "2012-12-18 00:00:00-05:00  51.356120  55.220871  0.355600   0.363700   \n",
       "\n",
       "                           MACD_hist   BB_upper  BB_middle   BB_lower  \\\n",
       "Date                                                                    \n",
       "2012-12-12 00:00:00-05:00   0.126512  53.411430  51.437076  49.462721   \n",
       "2012-12-13 00:00:00-05:00   0.087584  53.428431  51.553573  49.678714   \n",
       "2012-12-14 00:00:00-05:00   0.045876  53.352470  51.674332  49.996193   \n",
       "2012-12-17 00:00:00-05:00   0.014028  53.168568  51.802550  50.436532   \n",
       "2012-12-18 00:00:00-05:00  -0.008100  52.967868  51.914431  50.860993   \n",
       "\n",
       "                                PPO       MOM  Rate_Of_Change  \n",
       "Date                                                           \n",
       "2012-12-12 00:00:00-05:00  1.641835  2.744793        0.001416  \n",
       "2012-12-13 00:00:00-05:00  1.711785  2.446430       -0.008904  \n",
       "2012-12-14 00:00:00-05:00  1.664820  2.535946       -0.002852  \n",
       "2012-12-17 00:00:00-05:00  1.545499  2.692581        0.000000  \n",
       "2012-12-18 00:00:00-05:00  1.394968  2.349491        0.000572  "
      ]
     },
     "execution_count": 17,
     "metadata": {},
     "output_type": "execute_result"
    }
   ],
   "source": [
    "data.head()"
   ]
  },
  {
   "cell_type": "code",
   "execution_count": 18,
   "metadata": {
    "colab": {
     "base_uri": "https://localhost:8080/"
    },
    "executionInfo": {
     "elapsed": 382,
     "status": "ok",
     "timestamp": 1667424598122,
     "user": {
      "displayName": "Dimitry Kirtsman",
      "userId": "11988189828040272864"
     },
     "user_tz": 420
    },
    "id": "n1t5zgDNNLmf",
    "outputId": "07c19dab-764a-4ea2-99cf-2741aa4a9fce"
   },
   "outputs": [
    {
     "name": "stdout",
     "output_type": "stream",
     "text": [
      "Open              0\n",
      "High              0\n",
      "Low               0\n",
      "Close             0\n",
      "Volume            0\n",
      "MA_20             0\n",
      "MA_50             0\n",
      "EXP_MA_20         0\n",
      "EXP_MA_50         0\n",
      "RSI               0\n",
      "MACD              0\n",
      "MACD_sign         0\n",
      "MACD_hist         0\n",
      "BB_upper          0\n",
      "BB_middle         0\n",
      "BB_lower          0\n",
      "PPO               0\n",
      "MOM               0\n",
      "Rate_Of_Change    0\n",
      "dtype: int64\n"
     ]
    }
   ],
   "source": [
    "#checking that there are no NAs.\n",
    "print(data.isna().sum())"
   ]
  },
  {
   "cell_type": "code",
   "execution_count": 18,
   "metadata": {
    "executionInfo": {
     "elapsed": 9,
     "status": "ok",
     "timestamp": 1667424598123,
     "user": {
      "displayName": "Dimitry Kirtsman",
      "userId": "11988189828040272864"
     },
     "user_tz": 420
    },
    "id": "slVBU5PhGOyM"
   },
   "outputs": [],
   "source": []
  },
  {
   "cell_type": "code",
   "execution_count": 19,
   "metadata": {
    "colab": {
     "base_uri": "https://localhost:8080/"
    },
    "executionInfo": {
     "elapsed": 1170,
     "status": "ok",
     "timestamp": 1667424599285,
     "user": {
      "displayName": "Dimitry Kirtsman",
      "userId": "11988189828040272864"
     },
     "user_tz": 420
    },
    "id": "1gGve7t72oGg",
    "outputId": "f2e624ad-abf8-420e-e407-b6b976cf37e0"
   },
   "outputs": [
    {
     "name": "stdout",
     "output_type": "stream",
     "text": [
      "(2446, 21, 19)\n",
      "(2446, 1)\n"
     ]
    }
   ],
   "source": [
    "#creating X features  in the shape of [observations by time steps by features], which is neccessary for LSTMs. The y labels are in vector shape. \n",
    "X_samples=[]\n",
    "y_samples=[]\n",
    "num_features=data.shape[1]\n",
    "num_rows=len(data)\n",
    "#time steps are approximetly a month\n",
    "seq_len=21\n",
    "\n",
    "for i in range(seq_len, num_rows):\n",
    "  x_step=data[i-seq_len: i]\n",
    "  y_step=data[\"Close\"][i]\n",
    "  X_samples.append(x_step)\n",
    "  y_samples.append(y_step)\n",
    "\n",
    "X_data=np.array(X_samples)\n",
    "X_data=X_data.reshape(X_data.shape[0], X_data.shape[1], num_features)\n",
    "print(X_data.shape)\n",
    "\n",
    "y_data=np.array(y_samples)\n",
    "y_data=y_data.reshape(y_data.shape[0],1)\n",
    "\n",
    "#checking shape\n",
    "print(y_data.shape)"
   ]
  },
  {
   "cell_type": "code",
   "execution_count": 20,
   "metadata": {
    "executionInfo": {
     "elapsed": 23,
     "status": "ok",
     "timestamp": 1667424599286,
     "user": {
      "displayName": "Dimitry Kirtsman",
      "userId": "11988189828040272864"
     },
     "user_tz": 420
    },
    "id": "ucEZqrUn2oI3"
   },
   "outputs": [],
   "source": [
    "#X_data[-1]"
   ]
  },
  {
   "cell_type": "code",
   "execution_count": 21,
   "metadata": {
    "executionInfo": {
     "elapsed": 22,
     "status": "ok",
     "timestamp": 1667424599286,
     "user": {
      "displayName": "Dimitry Kirtsman",
      "userId": "11988189828040272864"
     },
     "user_tz": 420
    },
    "id": "I6mVmgtJTnyW"
   },
   "outputs": [],
   "source": [
    "#data.tail()"
   ]
  },
  {
   "cell_type": "code",
   "execution_count": 21,
   "metadata": {
    "executionInfo": {
     "elapsed": 22,
     "status": "ok",
     "timestamp": 1667424599287,
     "user": {
      "displayName": "Dimitry Kirtsman",
      "userId": "11988189828040272864"
     },
     "user_tz": 420
    },
    "id": "tCv7YnHpHC41"
   },
   "outputs": [],
   "source": []
  },
  {
   "cell_type": "code",
   "execution_count": 22,
   "metadata": {
    "executionInfo": {
     "elapsed": 22,
     "status": "ok",
     "timestamp": 1667424599287,
     "user": {
      "displayName": "Dimitry Kirtsman",
      "userId": "11988189828040272864"
     },
     "user_tz": 420
    },
    "id": "kbzEENF0rDKe"
   },
   "outputs": [],
   "source": [
    "#creating train and validation sets for hyperparameter tuning. (X_test is created for completeness\n",
    "# but will not be utilized in the hyperparameter tunning stage. Instead a final test set will be created below for use in the final model\n",
    "#after hyperparameter tunning is complete)  \n",
    "\n",
    "# Choosing the number of validation set observations\n",
    "valsplit=500\n",
    "testsplit=250\n",
    "# Splitting the data into train and validation sets\n",
    "X_train=X_data[:-valsplit]\n",
    "X_val=X_data[-valsplit:-testsplit]\n",
    "X_test=X_data[-testsplit:]\n",
    "y_train=y_data[:-valsplit]\n",
    "y_val=y_data[-valsplit:-testsplit]\n",
    "y_test=y_data[-testsplit:]"
   ]
  },
  {
   "cell_type": "code",
   "execution_count": 22,
   "metadata": {
    "executionInfo": {
     "elapsed": 21,
     "status": "ok",
     "timestamp": 1667424599287,
     "user": {
      "displayName": "Dimitry Kirtsman",
      "userId": "11988189828040272864"
     },
     "user_tz": 420
    },
    "id": "772DU2qLcCi8"
   },
   "outputs": [],
   "source": []
  },
  {
   "cell_type": "code",
   "execution_count": 23,
   "metadata": {
    "colab": {
     "base_uri": "https://localhost:8080/"
    },
    "executionInfo": {
     "elapsed": 22,
     "status": "ok",
     "timestamp": 1667424599288,
     "user": {
      "displayName": "Dimitry Kirtsman",
      "userId": "11988189828040272864"
     },
     "user_tz": 420
    },
    "id": "T0uEyx2QLuEC",
    "outputId": "a32a4dbb-6049-436f-825d-8a624e4d7498"
   },
   "outputs": [
    {
     "name": "stdout",
     "output_type": "stream",
     "text": [
      "\n",
      "#### Training Data shape ####\n",
      "(1946, 21, 19)\n",
      "(1946, 1)\n",
      "\n",
      "#### Validation Data shape ####\n",
      "(250, 21, 19)\n",
      "(250, 1)\n",
      "\n",
      "#### Testing Data shape ####\n",
      "(250, 21, 19)\n",
      "(250, 1)\n"
     ]
    }
   ],
   "source": [
    "# Printing the shape of training and validation\n",
    "print('\\n#### Training Data shape ####')\n",
    "print(X_train.shape)\n",
    "print(y_train.shape)\n",
    "print('\\n#### Validation Data shape ####')\n",
    "print(X_val.shape)\n",
    "print(y_val.shape)\n",
    "print('\\n#### Testing Data shape ####')\n",
    "print(X_test.shape)\n",
    "print(y_test.shape)"
   ]
  },
  {
   "cell_type": "code",
   "execution_count": 24,
   "metadata": {
    "executionInfo": {
     "elapsed": 17,
     "status": "ok",
     "timestamp": 1667424599288,
     "user": {
      "displayName": "Dimitry Kirtsman",
      "userId": "11988189828040272864"
     },
     "user_tz": 420
    },
    "id": "D8_qIC4_bBd6"
   },
   "outputs": [],
   "source": [
    "#using MinMaxScaler to fit_transform on the train set and then just transform on the validation set so as to avoid data leakage \n",
    "scaler = MinMaxScaler()\n",
    "X_train = scaler.fit_transform(X_train.reshape(-1, X_train.shape[-1])).reshape(X_train.shape)\n",
    "X_val = scaler.transform(X_val.reshape(-1, X_val.shape[-1])).reshape(X_val.shape)\n",
    "X_test = scaler.transform(X_test.reshape(-1, X_test.shape[-1])).reshape(X_test.shape)\n",
    "\n",
    "scaler_y=MinMaxScaler()\n",
    "y_train=scaler_y.fit_transform(y_train)\n",
    "y_val=scaler_y.transform(y_val)\n",
    "y_test=scaler_y.transform(y_test)"
   ]
  },
  {
   "cell_type": "code",
   "execution_count": 24,
   "metadata": {
    "executionInfo": {
     "elapsed": 17,
     "status": "ok",
     "timestamp": 1667424599288,
     "user": {
      "displayName": "Dimitry Kirtsman",
      "userId": "11988189828040272864"
     },
     "user_tz": 420
    },
    "id": "Lulyx6IkcjR5"
   },
   "outputs": [],
   "source": []
  },
  {
   "cell_type": "code",
   "execution_count": 25,
   "metadata": {
    "executionInfo": {
     "elapsed": 18,
     "status": "ok",
     "timestamp": 1667424599289,
     "user": {
      "displayName": "Dimitry Kirtsman",
      "userId": "11988189828040272864"
     },
     "user_tz": 420
    },
    "id": "YRjak33rIeEq"
   },
   "outputs": [],
   "source": [
    "#Creating final train and test sets. This data is for the final model after the best model using hyperparameter tuning has been identified. \n",
    "#the train set now consists of the train and validation set observations. The test set data has not been observed by any model.\n",
    "# Choosing the number of testing data records\n",
    "testingsplit=250\n",
    " \n",
    "\n",
    "X_final_train=X_data[:-testingsplit]\n",
    "X_final_test=X_data[-testingsplit:]\n",
    "y_final_train=y_data[:-testingsplit]\n",
    "y_final_test=y_data[-testingsplit:]"
   ]
  },
  {
   "cell_type": "code",
   "execution_count": 26,
   "metadata": {
    "colab": {
     "base_uri": "https://localhost:8080/"
    },
    "executionInfo": {
     "elapsed": 17,
     "status": "ok",
     "timestamp": 1667424599289,
     "user": {
      "displayName": "Dimitry Kirtsman",
      "userId": "11988189828040272864"
     },
     "user_tz": 420
    },
    "id": "bDCrJbpmzYIA",
    "outputId": "a0f66faa-fec3-4915-e876-6b6dfdc7b3f8"
   },
   "outputs": [
    {
     "name": "stdout",
     "output_type": "stream",
     "text": [
      "\n",
      "#### Training Data shape ####\n",
      "(2196, 21, 19)\n",
      "(2196, 1)\n",
      "\n",
      "#### Testing Data shape ####\n",
      "(250, 21, 19)\n",
      "(250, 1)\n"
     ]
    }
   ],
   "source": [
    "print('\\n#### Training Data shape ####')\n",
    "print(X_final_train.shape)\n",
    "print(y_final_train.shape)\n",
    "\n",
    "print('\\n#### Testing Data shape ####')\n",
    "print(X_final_test.shape)\n",
    "print(y_final_test.shape)"
   ]
  },
  {
   "cell_type": "code",
   "execution_count": 27,
   "metadata": {
    "executionInfo": {
     "elapsed": 16,
     "status": "ok",
     "timestamp": 1667424599289,
     "user": {
      "displayName": "Dimitry Kirtsman",
      "userId": "11988189828040272864"
     },
     "user_tz": 420
    },
    "id": "9SOnnsgIIeEr"
   },
   "outputs": [],
   "source": [
    "#scalling the data for the final analysis after the train-validation stage. The scaler is different from before as it scales the train data set that is now composed of \n",
    "#the train and validation sets.\n",
    "scaler_final_X=MinMaxScaler()\n",
    "X_final_train = scaler_final_X.fit_transform(X_final_train.reshape(-1, X_final_train.shape[-1])).reshape(X_final_train.shape)\n",
    "X_final_test = scaler_final_X.transform(X_final_test.reshape(-1, X_final_test.shape[-1])).reshape(X_final_test.shape)\n",
    "\n",
    "scaler_final_y=MinMaxScaler()\n",
    "y_final_train=scaler_final_y.fit_transform(y_final_train)\n",
    "y_final_test=scaler_final_y.transform(y_final_test)"
   ]
  },
  {
   "cell_type": "code",
   "execution_count": 27,
   "metadata": {
    "executionInfo": {
     "elapsed": 16,
     "status": "ok",
     "timestamp": 1667424599290,
     "user": {
      "displayName": "Dimitry Kirtsman",
      "userId": "11988189828040272864"
     },
     "user_tz": 420
    },
    "id": "NKD-3itsQ_ck"
   },
   "outputs": [],
   "source": []
  },
  {
   "cell_type": "code",
   "execution_count": 27,
   "metadata": {
    "executionInfo": {
     "elapsed": 16,
     "status": "ok",
     "timestamp": 1667424599290,
     "user": {
      "displayName": "Dimitry Kirtsman",
      "userId": "11988189828040272864"
     },
     "user_tz": 420
    },
    "id": "Cxo93e75Q_e_"
   },
   "outputs": [],
   "source": []
  },
  {
   "cell_type": "markdown",
   "metadata": {
    "id": "MvB1FNtdRAxS"
   },
   "source": [
    "##Helpful Model Fitting and Results Functions"
   ]
  },
  {
   "cell_type": "code",
   "execution_count": 28,
   "metadata": {
    "executionInfo": {
     "elapsed": 16,
     "status": "ok",
     "timestamp": 1667424599290,
     "user": {
      "displayName": "Dimitry Kirtsman",
      "userId": "11988189828040272864"
     },
     "user_tz": 420
    },
    "id": "HE_kqh7ujHw7"
   },
   "outputs": [],
   "source": [
    "#function for compiling and training the model. \n",
    "def compile_train_model(model, x_train, y_train,  epochs=100, x_valid=None, y_valid=None, patience=3, optimizer='adam', final_model=False):\n",
    "    \n",
    "  \n",
    "    # Compile\n",
    "    model.compile(optimizer=optimizer,\n",
    "                loss = 'mse',\n",
    "                metrics=['mse'])\n",
    "    \n",
    "\n",
    "  # Train if final model there is no validation set.\n",
    "    if final_model:\n",
    "     \n",
    "      history = model.fit(\n",
    "        x_train,\n",
    "        y_train,\n",
    "        epochs=epochs,\n",
    "        batch_size=32,\n",
    "        verbose=1,\n",
    "        callbacks=[    \n",
    "          EarlyStopping(monitor='mse', patience=patience, restore_best_weights=True, verbose=0)]\n",
    "            )\n",
    "      \n",
    "    else:\n",
    "     \n",
    "      history = model.fit(\n",
    "        x_train,\n",
    "        y_train,\n",
    "        epochs=epochs,\n",
    "        batch_size=32,\n",
    "        validation_data=(x_valid, y_valid),\n",
    "        verbose=1,\n",
    "        callbacks=[    \n",
    "          EarlyStopping(monitor='val_mse', patience=patience, restore_best_weights=True, verbose=0)]\n",
    "            )\n",
    "    return history, model   \n",
    "    "
   ]
  },
  {
   "cell_type": "code",
   "execution_count": 28,
   "metadata": {
    "executionInfo": {
     "elapsed": 17,
     "status": "ok",
     "timestamp": 1667424599291,
     "user": {
      "displayName": "Dimitry Kirtsman",
      "userId": "11988189828040272864"
     },
     "user_tz": 420
    },
    "id": "10Xq4ST1Q9_E"
   },
   "outputs": [],
   "source": [
    "\n",
    "  "
   ]
  },
  {
   "cell_type": "code",
   "execution_count": 29,
   "metadata": {
    "executionInfo": {
     "elapsed": 17,
     "status": "ok",
     "timestamp": 1667424599291,
     "user": {
      "displayName": "Dimitry Kirtsman",
      "userId": "11988189828040272864"
     },
     "user_tz": 420
    },
    "id": "dskWi3ZJn4Pb"
   },
   "outputs": [],
   "source": [
    "#creating function for charts of train vs validation loss functions\n",
    "def train_val_loss_charts(model_history, model_num):\n",
    "    model_df=pd.DataFrame(model_history.history)\n",
    "\n",
    "    model_df[[\"loss\",\"val_loss\"]].plot(figsize=(9,7))\n",
    "    plt.grid(True)\n",
    "    plt.title(\"Transformer - Train vs. Validation - Loss for {}\".format(model_num), size =17)\n",
    "    plt.xlabel(\"Epochs\", size=15)\n",
    "\n",
    "    plt.show()    "
   ]
  },
  {
   "cell_type": "code",
   "execution_count": 30,
   "metadata": {
    "executionInfo": {
     "elapsed": 17,
     "status": "ok",
     "timestamp": 1667424599291,
     "user": {
      "displayName": "Dimitry Kirtsman",
      "userId": "11988189828040272864"
     },
     "user_tz": 420
    },
    "id": "h0rLxV5yokWy"
   },
   "outputs": [],
   "source": [
    "#from https://www.statology.org/matplotlib-abline/\n",
    "def abline(slope, intercept):\n",
    "     axes = plt.gca()\n",
    "     x_vals = np.array(axes.get_xlim())\n",
    "     y_vals = intercept + slope * x_vals\n",
    "     plt.plot(x_vals, y_vals, '--', color=\"red\")\n"
   ]
  },
  {
   "cell_type": "code",
   "execution_count": 31,
   "metadata": {
    "executionInfo": {
     "elapsed": 17,
     "status": "ok",
     "timestamp": 1667424599292,
     "user": {
      "displayName": "Dimitry Kirtsman",
      "userId": "11988189828040272864"
     },
     "user_tz": 420
    },
    "id": "NbjsWyC_-ZqV"
   },
   "outputs": [],
   "source": [
    "#creating rmse, MAPE, MAE and R calculation for price levels using inverese_transform on the y_scaller\n",
    "\n",
    "def price_level_evaluation_stats(model, X_train, y_train, X_test, y_test, stock, final_model=False):\n",
    "    \n",
    "    if final_model:\n",
    "\n",
    "      #getting final model predictions for train and test\n",
    "      train_predict=model.predict(X_train,verbose=0)\n",
    "      test_predict=model.predict(X_test,verbose=0)\n",
    "\n",
    "      #unscaling to get price level predictions\n",
    "      train_predict_level=scaler_final_y.inverse_transform(train_predict)\n",
    "      test_predict_level=scaler_final_y.inverse_transform(test_predict)\n",
    "\n",
    "      #unscaling actual values\n",
    "      train_actual_level=scaler_final_y.inverse_transform(y_train)\n",
    "      test_actual_level=scaler_final_y.inverse_transform(y_test)\n",
    "\n",
    "      #calculating MSE\n",
    "      train_RMSE=sqrt(MSE(train_actual_level,train_predict_level ))\n",
    "      test_RMSE=sqrt(MSE(test_actual_level,test_predict_level ))\n",
    "\n",
    "      print(\"Final Model - Train Set RMSE: {}\".format(train_RMSE))\n",
    "      print(\"Final Model - Test Set RMSE: {}\".format(test_RMSE))\n",
    "      print(\"\\n\")\n",
    "      #calculating MAPE\n",
    "      train_MAPE=MAPE(train_actual_level,train_predict_level )\n",
    "      test_MAPE=MAPE(test_actual_level,test_predict_level )\n",
    "\n",
    "      print(\"Final Model - Train Set MAPE: {}\".format(train_MAPE))\n",
    "      print(\"Final Model - Test Set MAPE: {}\".format(test_MAPE))\n",
    "      print(\"\\n\")\n",
    "\n",
    "      #calculating MAE\n",
    "      train_MAE=MAE(train_actual_level,train_predict_level )\n",
    "      test_MAE=MAE(test_actual_level,test_predict_level )\n",
    "\n",
    "      print(\"Final Model - Train Set MAE: {}\".format(train_MAE))\n",
    "      print(\"Final Model - Test Set MAE: {}\".format(test_MAE))\n",
    "      print(\"\\n\")\n",
    "\n",
    "      #calculating correl_coefficent between actual and predicted\n",
    "      train_R=np.corrcoef(train_actual_level.reshape(-1),train_predict_level.reshape(-1) )\n",
    "      test_R=np.corrcoef(test_actual_level.reshape(-1),test_predict_level.reshape(-1) )\n",
    "\n",
    "      print(\"Final Model - Train Set R: {}\".format(np.round(train_R[0,1],4)))\n",
    "      print(\"Final Model - Test Set R: {}\".format(np.round(test_R[0,1],4)))\n",
    "      print(\"\\n\")\n",
    "\n",
    "      #model_df=pd.DataFrame(model_history.history)\n",
    "\n",
    "      #model_df[[\"loss\",\"val_loss\"]].plot(figsize=(9,7))\n",
    "      plt.figure(figsize=(9, 7))\n",
    "      plt.scatter(test_actual_level.reshape(-1),test_predict_level.reshape(-1))\n",
    "      plt.grid(True)\n",
    "      plt.title(\"Transformer - Actual vs. Predicted {} Prices Scatterplot\".format(stock), size =17)\n",
    "      plt.xlabel(\"Actual\", size=15)\n",
    "      plt.ylabel(\"Predictions\", size=15)\n",
    "      abline(1,0)\n",
    "      plt.show() \n",
    "    \n",
    "    else:\n",
    "\n",
    "      #getting model predictions for train and val \n",
    "      train_predict=model.predict(X_train,verbose=0)\n",
    "      val_predict=model.predict(X_test,verbose=0)\n",
    "     \n",
    "\n",
    "      #unscaling to get price level predictions\n",
    "      train_predict_level=scaler_y.inverse_transform(train_predict)\n",
    "      val_predict_level=scaler_y.inverse_transform(val_predict)\n",
    "      \n",
    "\n",
    "      #unscaling actual values\n",
    "      train_actual_level=scaler_y.inverse_transform(y_train)\n",
    "      val_actual_level=scaler_y.inverse_transform(y_test)\n",
    "      \n",
    "\n",
    "      #calculating RMSE\n",
    "      train_RMSE=sqrt(MSE(train_actual_level,train_predict_level ))\n",
    "      val_RMSE=sqrt(MSE(val_actual_level,val_predict_level ))\n",
    "      \n",
    "      print(\"Train Set RMSE: {}\".format(train_RMSE))\n",
    "      print(\"Val Set RMSE: {}\".format(val_RMSE))\n",
    "      print(\"\\n\")\n",
    "\n",
    "      #calculating MAPE\n",
    "      train_MAPE=MAPE(train_actual_level,train_predict_level )\n",
    "      val_MAPE=MAPE(val_actual_level,val_predict_level )\n",
    "      \n",
    "      print(\"Train Set MAPE: {}\".format(train_MAPE))\n",
    "      print(\"Val Set MAPE: {}\".format(val_MAPE))\n",
    "      print(\"\\n\")\n",
    "\n",
    "      #calculating MAPE\n",
    "      train_MAE=MAE(train_actual_level,train_predict_level )\n",
    "      val_MAE=MAE(val_actual_level,val_predict_level )\n",
    "      \n",
    "\n",
    "      print(\"Train Set MAE: {}\".format(train_MAE))\n",
    "      print(\"Val Set MAE: {}\".format(val_MAE))\n",
    "      print(\"\\n\")\n",
    "\n",
    "      #calculating correl_coefficent between actual and predicted\n",
    "      train_R=np.corrcoef(train_actual_level.reshape(-1),train_predict_level.reshape(-1) )\n",
    "      val_R=np.corrcoef(val_actual_level.reshape(-1),val_predict_level.reshape(-1) )\n",
    "      \n",
    "\n",
    "      print(\"Train Set R: {}\".format(np.round(train_R[0,1],4)))\n",
    "      print(\"Val Set R: {}\".format(np.round(val_R[0,1],4)))\n",
    "      print(\"\\n\")\n",
    "\n",
    "      plt.figure(figsize=(9, 7))\n",
    "      plt.scatter(val_actual_level.reshape(-1),val_predict_level.reshape(-1))\n",
    "      plt.grid(True)\n",
    "      plt.title(\"Transformer - Actual vs. Predicted {} Prices Scatterplot\".format(stock), size =17)\n",
    "      plt.xlabel(\"Actual\", size=15)\n",
    "      plt.ylabel(\"Predictions\", size=15)\n",
    "      abline(1,0)\n",
    "      plt.show()\n"
   ]
  },
  {
   "cell_type": "code",
   "execution_count": 32,
   "metadata": {
    "executionInfo": {
     "elapsed": 17,
     "status": "ok",
     "timestamp": 1667424599292,
     "user": {
      "displayName": "Dimitry Kirtsman",
      "userId": "11988189828040272864"
     },
     "user_tz": 420
    },
    "id": "KsuRLDNHyC7h"
   },
   "outputs": [],
   "source": [
    "def actual_predicted_test_set_chart(model, X_final_test,y_final_test, model_number):\n",
    "      #getting final model predictions for test set\n",
    "      test_predict=model.predict(X_final_test,verbose=0)\n",
    "\n",
    "      #unscaling to get price level predictions\n",
    "      test_predict_level=scaler_final_y.inverse_transform(test_predict)\n",
    "\n",
    "      #unscaling actual values\n",
    "      test_actual_level=scaler_final_y.inverse_transform(y_final_test)\n",
    "\n",
    "      #creating dataframe and setting dates as the index\n",
    "      df_actual_predicted=pd.DataFrame([test_predict_level.reshape(-1), test_actual_level.reshape(-1)]).T\n",
    "      df_actual_predicted.rename(columns={0: \"Predicted\", 1: \"Actual\"}, inplace=True)\n",
    "      df_actual_predicted[\"dates\"]=data.index[-250:]\n",
    "      df_actual_predicted.set_index(\"dates\", inplace=True)\n",
    "\n",
    "      #creating chart of Predicted vs. Actual\n",
    "      df_actual_predicted[[\"Predicted\", \"Actual\"]].plot(figsize=(9,7))\n",
    "      plt.grid(True)\n",
    "      plt.title(\"Transformer - Actual vs. Predicted Prices: {}\".format(model_number), size =17)\n",
    "      plt.ylabel(\"Price\", size=15)\n",
    "      plt.xlabel(\"\")\n",
    "     \n",
    "      \n"
   ]
  },
  {
   "cell_type": "code",
   "execution_count": 32,
   "metadata": {
    "executionInfo": {
     "elapsed": 18,
     "status": "ok",
     "timestamp": 1667424599293,
     "user": {
      "displayName": "Dimitry Kirtsman",
      "userId": "11988189828040272864"
     },
     "user_tz": 420
    },
    "id": "TVUCy2LrFUsJ"
   },
   "outputs": [],
   "source": []
  },
  {
   "cell_type": "code",
   "execution_count": 33,
   "metadata": {
    "executionInfo": {
     "elapsed": 18,
     "status": "ok",
     "timestamp": 1667424599293,
     "user": {
      "displayName": "Dimitry Kirtsman",
      "userId": "11988189828040272864"
     },
     "user_tz": 420
    },
    "id": "FXMXDBO2fTyq"
   },
   "outputs": [],
   "source": [
    "def actual_predicted_train_test_set_chart(model, X_train, y_train, X_test, y_test, stock):\n",
    "      #getting final model predictions for train and test\n",
    "      train_predict=model.predict(X_train,verbose=0)\n",
    "      test_predict=model.predict(X_test,verbose=0)\n",
    "\n",
    "      #unscaling to get price level predictions\n",
    "      train_predict_level=scaler_final_y.inverse_transform(train_predict)\n",
    "      test_predict_level=scaler_final_y.inverse_transform(test_predict)\n",
    "\n",
    "      #unscaling actual values\n",
    "      train_actual_level=scaler_final_y.inverse_transform(y_train)\n",
    "      test_actual_level=scaler_final_y.inverse_transform(y_test)\n",
    "\n",
    "      #combine time series\n",
    "      total_actual_level=np.concatenate((train_actual_level,test_actual_level))\n",
    "      total_predict_level=np.concatenate((train_predict_level, test_predict_level))\n",
    "\n",
    "      #creating dataframe and setting dates as the index\n",
    "      df_actual_predicted=pd.DataFrame([total_predict_level.reshape(-1), total_actual_level.reshape(-1)]).T\n",
    "      df_actual_predicted.rename(columns={0: \"Predicted\", 1: \"Actual Prices\"}, inplace=True)\n",
    "      df_actual_predicted[\"dates\"]=data.index[-2446:]\n",
    "      df_actual_predicted.set_index(\"dates\", inplace=True)\n",
    "      #separating the train and test set into separate series so as to use different colors\n",
    "      df_actual_predicted['Predicted Prices Train Set'] = np.where(df_actual_predicted.index<=\"2021-10-04\", df_actual_predicted[\"Predicted\"], np.NaN)\n",
    "      df_actual_predicted['Predicted Prices Test Set'] = np.where(df_actual_predicted.index>=\"2021-10-04\", df_actual_predicted[\"Predicted\"], np.NaN)\n",
    "      \n",
    "      #creating chart of Predicted vs. Actual \n",
    "\n",
    "      #cycler to assign different colors, linestyles and linewidths to the three series\n",
    "      cycler = plt.cycler(color= ['k','g','b'],\n",
    "                          linestyle=['-', '-', '-'],\n",
    "                          linewidth=[1,1.5,1.5])\n",
    "                   \n",
    "      fig, ax = plt.subplots()\n",
    "      ax.set_prop_cycle(cycler)\n",
    "      df_actual_predicted[[\"Actual Prices\",'Predicted Prices Train Set', 'Predicted Prices Test Set']].plot(figsize=(9,7), ax=ax)\n",
    "      plt.grid(True)\n",
    "      \n",
    "      plt.title(\"Transformer - Actual vs. Predicted Prices: {}\".format(model_number), size =17)\n",
    "      plt.ylabel(\"Price\", size=15)\n",
    "      plt.xlabel(\"\")\n",
    "      \n",
    "     "
   ]
  },
  {
   "cell_type": "code",
   "execution_count": 34,
   "metadata": {
    "executionInfo": {
     "elapsed": 18,
     "status": "ok",
     "timestamp": 1667424599293,
     "user": {
      "displayName": "Dimitry Kirtsman",
      "userId": "11988189828040272864"
     },
     "user_tz": 420
    },
    "id": "110ggtLeEWS3"
   },
   "outputs": [],
   "source": [
    "# Function for creating confusion matrix\n",
    "\n",
    "#class names for confusion matrix\n",
    "class_names = [\"Price Down Next Day\", \"Price Up Next Day\"]\n",
    "\n",
    "\n",
    "def confusion_matrix_stocks(model_for_matrix, predicted_values, actual_test_labels, model_num):\n",
    "    \n",
    "\n",
    "\n",
    "\n",
    "    #creating confusion matrix - using test set labels as they were already sparse before one-hot encoding\n",
    "    confusion_matrix_for_model = confusion_matrix(actual_test_labels ,  predicted_values)\n",
    "\n",
    "\n",
    "    confusion_matrix_df = pd.DataFrame(confusion_matrix_for_model,\n",
    "                    \n",
    "                     index=class_names,\n",
    "                     columns=class_names)\n",
    "\n",
    "    #Plotting the confusion matrix\n",
    "    plt.figure(figsize=(10,8))\n",
    "    ax=sns.heatmap(confusion_matrix_df,annot=True, fmt=\"d\", cmap=\"rocket_r\", annot_kws={\"size\":25})\n",
    "    cax = ax.figure.axes[-1]\n",
    "    cax.tick_params(labelsize=22)\n",
    "    plt.title('Transformer - Confusion Matrix - {}'.format(model_num), size=25)\n",
    "    plt.ylabel('Actual Labels', size=22)\n",
    "    plt.xlabel('Predicted Labels',size=22)\n",
    "    plt.xticks(fontsize=20)\n",
    "    plt.yticks(fontsize=20)\n",
    "    plt.show() "
   ]
  },
  {
   "cell_type": "code",
   "execution_count": 35,
   "metadata": {
    "executionInfo": {
     "elapsed": 19,
     "status": "ok",
     "timestamp": 1667424599294,
     "user": {
      "displayName": "Dimitry Kirtsman",
      "userId": "11988189828040272864"
     },
     "user_tz": 420
    },
    "id": "QNOQFk89-_mJ"
   },
   "outputs": [],
   "source": [
    "def test_set_classification_report(model, X_final_test,y_final_test, model_number):\n",
    "      #getting final model predictions for train and test\n",
    "      test_predict=model.predict(X_test,verbose=0)\n",
    "\n",
    "      #unscaling to get price level predictions\n",
    "      test_predict_level=scaler_final_y.inverse_transform(test_predict)\n",
    "\n",
    "      #unscaling actual values\n",
    "      test_actual_level=scaler_final_y.inverse_transform(y_test)\n",
    "      \n",
    "      #creating dataframe \n",
    "      df_actual_predicted=pd.DataFrame([test_predict_level.reshape(-1), test_actual_level.reshape(-1)]).T\n",
    "      df_actual_predicted.rename(columns={0: \"Predicted\", 1: \"Actual\"}, inplace=True)\n",
    "      \n",
    "      #creating forecasted signal for next day from past day actual price. 0 if level price forecast is less than or equal to yesterday's actual price, and\n",
    "      #1 for above. \n",
    "      predicted_signal=[0]\n",
    "      for i in range(1,250):\n",
    "        if df_actual_predicted.iloc[i, 0]>df_actual_predicted.iloc[i-1,1]:\n",
    "          predicted_signal.append(1)\n",
    "        else:\n",
    "          predicted_signal.append(0)\n",
    "      #creating  signal for next day from past day actual price. 0 if level of actual next day price is less than or equal to yesterday's actual price, and\n",
    "      #1 for above.\n",
    "      actual_signal=[0]\n",
    "      for i in range(1,250):\n",
    "        if df_actual_predicted.iloc[i, 1]>df_actual_predicted.iloc[i-1,1]:\n",
    "          actual_signal.append(1)\n",
    "        else:\n",
    "          actual_signal.append(0)\n",
    "      print(classification_report(actual_signal[1:], predicted_signal[1:]))\n",
    "      accuracy=accuracy_score(actual_signal[1:], predicted_signal[1:])\n",
    "\n",
    "      print(\"Test Set Accuracy for {} is {}\".format(model_number, accuracy))\n",
    "\n",
    "      print(\"\\n\")\n",
    "      print(\"\\n\")\n",
    "      \n",
    "      confusion_matrix_stocks(model,predicted_signal[1:], actual_signal[1:], model_number)"
   ]
  },
  {
   "cell_type": "code",
   "execution_count": 35,
   "metadata": {
    "executionInfo": {
     "elapsed": 335,
     "status": "ok",
     "timestamp": 1667424599611,
     "user": {
      "displayName": "Dimitry Kirtsman",
      "userId": "11988189828040272864"
     },
     "user_tz": 420
    },
    "id": "Mz7sLlmqRjxZ"
   },
   "outputs": [],
   "source": []
  },
  {
   "cell_type": "markdown",
   "metadata": {
    "id": "6e2QtpFnRkpx"
   },
   "source": [
    "##Model Hyper-parameter Tuning using Train and Validation Sets "
   ]
  },
  {
   "cell_type": "code",
   "execution_count": 35,
   "metadata": {
    "executionInfo": {
     "elapsed": 4,
     "status": "ok",
     "timestamp": 1667424599611,
     "user": {
      "displayName": "Dimitry Kirtsman",
      "userId": "11988189828040272864"
     },
     "user_tz": 420
    },
    "id": "zJloPIODNYoy"
   },
   "outputs": [],
   "source": []
  },
  {
   "cell_type": "code",
   "execution_count": 36,
   "metadata": {
    "executionInfo": {
     "elapsed": 5,
     "status": "ok",
     "timestamp": 1667424599612,
     "user": {
      "displayName": "Dimitry Kirtsman",
      "userId": "11988189828040272864"
     },
     "user_tz": 420
    },
    "id": "J-A19GB91L68"
   },
   "outputs": [],
   "source": [
    "#Time2Vec class implementation. Code adjusted from https://medium.com/@dave.cote.msc/hands-on-advanced-deep-learning-time-series-forecasting-with-tensors-7facae522f18\n",
    "\n",
    "class Time2Vec(layers.Layer):\n",
    "  def __init__(self, seq_len, **kwargs):\n",
    "    super(Time2Vec, self).__init__()\n",
    "    self.seq_len=seq_len\n",
    "\n",
    "  def build(self, input_shape):\n",
    "\n",
    "    self.weights_linear=self.add_weight(name=\"beta_linear\", \n",
    "                                       shape=(int(self.seq_len),),\n",
    "                                       initializer=\"uniform\",\n",
    "                                       trainable=True)\n",
    "    self.bias_linear=self.add_weight(name=\"bias_linear\", \n",
    "                                       shape=(int(self.seq_len),),\n",
    "                                       initializer=\"uniform\",\n",
    "                                       trainable=True)\n",
    "    self.weights_periodic=self.add_weight(name=\"beta_periodic\", \n",
    "                                       shape=(int(self.seq_len),),\n",
    "                                       initializer=\"uniform\",\n",
    "                                       trainable=True)\n",
    "    self.bias_periodic=self.add_weight(name=\"bias_periodic\", \n",
    "                                       shape=(int(self.seq_len),),\n",
    "                                       initializer=\"uniform\",\n",
    "                                       trainable=True)\n",
    "\n",
    "\n",
    "  def call(self, x):\n",
    "\n",
    "    x=tf.math.reduce_mean(x[:,:,:], axis=-1)\n",
    "    time_linear=self.weights_linear*x + self.bias_linear\n",
    "    time_linear=tf.expand_dims(time_linear, axis=-1)\n",
    "\n",
    "    time_periodic = tf.math.sin(tf.multiply(x, self.weights_periodic) +self.bias_periodic)\n",
    "    time_periodic=tf.expand_dims(time_periodic, axis=-1)\n",
    "\n",
    "    return tf.concat([time_linear, time_periodic], axis=-1)\n",
    "\n",
    "  def get_config(self):                                 \n",
    "    config = super(Time2Vec, self).get_config()\n",
    "    config.update({\n",
    "            \"seq_len\": self.seq_len\n",
    "            \n",
    "\n",
    "        })\n",
    "    return config\n",
    "\n"
   ]
  },
  {
   "cell_type": "code",
   "execution_count": null,
   "metadata": {
    "id": "G5XL6ZcmN-iW"
   },
   "outputs": [],
   "source": [
    "#code from \n",
    "def transformer_encoder(inputs, head_dim, num_heads, con1D_dim, dropout=0):\n",
    "    # Normalization and Attention\n",
    "    #x = layers.LayerNormalization(epsilon=1e-6)(inputs)\n",
    "    x = layers.BatchNormalization(epsilon=1e-6)(inputs)\n",
    "    x = layers.MultiHeadAttention(\n",
    "        key_dim=head_dim, num_heads=num_heads, dropout=dropout\n",
    "    )(x, x)\n",
    "    x = layers.Dropout(dropout)(x)\n",
    "    res = x + inputs\n",
    "\n",
    "    # Feed Forward Part\n",
    "    #x = layers.LayerNormalization(epsilon=1e-6)(res)\n",
    "    x = layers.BatchNormalization(epsilon=1e-6)(res)\n",
    "    x = layers.Conv1D(filters=con1D_dim, kernel_size=1, activation=\"relu\")(x)\n",
    "    x = layers.Dropout(dropout)(x)\n",
    "    x = layers.Conv1D(filters=inputs.shape[-1], kernel_size=1)(x)\n",
    "    return x + res"
   ]
  },
  {
   "cell_type": "code",
   "execution_count": null,
   "metadata": {
    "id": "6n3gHcb5N-ib"
   },
   "outputs": [],
   "source": [
    "input_shape = X_data.shape[1:]\n",
    "#def transformer_model(hp, head_dim, num_heads, con1D_dim, num_transformer_blocks, mlp_dim, dropout=0, mlp_dropout=0):\n",
    "def transformer_model(hp):\n",
    "\n",
    "    time_embedding = Time2Vec(seq_len)\n",
    "    #in_seq=Input(shape=(seq_len, 5))\n",
    "    inputs=keras.Input(shape=input_shape)\n",
    "    x=time_embedding(inputs)\n",
    "    x=layers.Concatenate(axis=-1)([inputs, x])\n",
    "\n",
    "\n",
    "    for i in range(hp.Int(\"number_transformer_blocks\", 2,8, step=2)):\n",
    "      x=transformer_encoder(x, \n",
    "                            head_dim =hp.Int('Head_dim_{}_units'.format(i),min_value=128,max_value=256,step=32), \n",
    "                            num_heads =hp.Int('Num_heads_{}'.format(i),min_value=2,max_value=8,step=2), \n",
    "                            con1D_dim=hp.Int('conv1D_dim_{}'.format(i),min_value=4,max_value=16,step=4), \n",
    "                            dropout=hp.Float(\"t_block_dropout_{}\".format(i), min_value=0.10, max_value=0.40, step=0.10))\n",
    "    \n",
    "    x=GlobalAveragePooling1D(data_format=\"channels_first\")(x)  \n",
    "    \n",
    "    x=Dense(units=hp.Int('mlp_dim_units',min_value=128,max_value=256,step=32), activation=\"relu\")(x)\n",
    "    x=Dropout(hp.Float(\"mlp_dropout\", min_value=0.10, max_value=0.40, step=0.10))(x)\n",
    "\n",
    "    outputs=Dense(1, activation=\"linear\")(x)\n",
    "    model=Model(inputs, outputs) \n",
    "    model.compile(loss=\"mse\", optimizer=\"adam\", metrics=[\"mse\"])\n",
    "    return model \n",
    "\n"
   ]
  },
  {
   "cell_type": "code",
   "execution_count": null,
   "metadata": {
    "id": "dRvKyLXVlggQ"
   },
   "outputs": [],
   "source": [
    "#creating Bayesian Optimization for KerasTuner\n",
    "model_tuner = kt.BayesianOptimization(\n",
    "    hypermodel=transformer_model,\n",
    "    objective=\"val_mse\",\n",
    "    max_trials=20,\n",
    "    overwrite=True,\n",
    "    directory='/content/gdrive/My Drive/Colab Notebooks/MSDS_498/keras_tuner_out',\n",
    "    project_name=stock)"
   ]
  },
  {
   "cell_type": "code",
   "execution_count": null,
   "metadata": {
    "colab": {
     "base_uri": "https://localhost:8080/"
    },
    "executionInfo": {
     "elapsed": 1084691,
     "status": "ok",
     "timestamp": 1666408182224,
     "user": {
      "displayName": "Dimitry Kirtsman",
      "userId": "11988189828040272864"
     },
     "user_tz": 420
    },
    "id": "QWdksLJplsff",
    "outputId": "5db573db-fbdd-4aad-e22b-419fd2c3cd76"
   },
   "outputs": [
    {
     "name": "stdout",
     "output_type": "stream",
     "text": [
      "Trial 20 Complete [00h 00m 12s]\n",
      "val_mse: 0.0010737564880400896\n",
      "\n",
      "Best val_mse So Far: 0.000474597851280123\n",
      "Total elapsed time: 00h 18m 05s\n"
     ]
    }
   ],
   "source": [
    "epochs=40\n",
    "patience=5\n",
    "\n",
    "early_stopping= EarlyStopping(monitor='val_mse',patience=patience, restore_best_weights=True )\n",
    "\n",
    "#tunning the model\n",
    "model_tuner.search(X_train, y_train, epochs=epochs, batch_size=32, validation_data=(X_val, y_val), callbacks= [early_stopping])"
   ]
  },
  {
   "cell_type": "code",
   "execution_count": null,
   "metadata": {
    "id": "flfEWMk5gUrE"
   },
   "outputs": [],
   "source": []
  },
  {
   "cell_type": "code",
   "execution_count": null,
   "metadata": {
    "colab": {
     "base_uri": "https://localhost:8080/"
    },
    "executionInfo": {
     "elapsed": 986,
     "status": "ok",
     "timestamp": 1666408183201,
     "user": {
      "displayName": "Dimitry Kirtsman",
      "userId": "11988189828040272864"
     },
     "user_tz": 420
    },
    "id": "ZF4Z6dP0hvD1",
    "outputId": "656d47d0-1181-484d-8caf-48f20ccca2c6"
   },
   "outputs": [
    {
     "name": "stdout",
     "output_type": "stream",
     "text": [
      "Number of Transformer Blocks: 2\n",
      "\n",
      "\n",
      "Block 0 numer of heads:  2\n",
      "Block 0 head dimension units:  192\n",
      "Block 0 Conv1D dimension units:  8\n",
      "Block 0 Dropout:  0.4\n",
      "\n",
      "\n",
      "Block 1 numer of heads:  2\n",
      "Block 1 head dimension units:  256\n",
      "Block 1 Conv1D dimension units:  16\n",
      "Block 1 Dropout:  0.4\n",
      "\n",
      "\n",
      "mlp dimension units:  256\n",
      "mlp Dropout:  0.4\n",
      "\n",
      "\n"
     ]
    }
   ],
   "source": [
    "#getting best hyperparameters\n",
    "model_best_hyper_parameters=model_tuner.get_best_hyperparameters(num_trials=1)[0]\n",
    "\n",
    "#function to print out best parameters depending on how many LSTM layers there are\n",
    "def best_model_hyperparameters(bhp):\n",
    "    \n",
    "    num_blocks=bhp.get('number_transformer_blocks')\n",
    "    print(\"Number of Transformer Blocks: {}\".format(num_blocks))\n",
    "    print(\"\\n\")\n",
    "    for i in range(0,num_blocks):\n",
    "        print(\"Block {} numer of heads: \".format(i), bhp.get(\"Num_heads_{}\".format(i)))\n",
    "        print(\"Block {} head dimension units: \".format(i), bhp.get(\"Head_dim_{}_units\".format(i)))\n",
    "        print(\"Block {} Conv1D dimension units: \".format(i), bhp.get(\"conv1D_dim_{}\".format(i)))\n",
    "        print(\"Block {} Dropout: \".format(i),np.round( bhp.get(\"t_block_dropout_{}\".format(i)),3 )  )\n",
    "        print(\"\\n\")\n",
    "    \n",
    "    print(\"mlp dimension units: \", bhp.get(\"mlp_dim_units\"))\n",
    "    \n",
    "    print(\"mlp Dropout: \",np.round( bhp.get(\"mlp_dropout\"),3 )  )\n",
    "    print(\"\\n\")\n",
    "    #print(\"Optimizer Used: {}\".format(bhp.get('optimizer')))                                                           \n",
    "\n",
    "#printing out best model hyperparameters\n",
    "best_model_hyperparameters(model_best_hyper_parameters)  "
   ]
  },
  {
   "cell_type": "code",
   "execution_count": null,
   "metadata": {
    "colab": {
     "base_uri": "https://localhost:8080/"
    },
    "executionInfo": {
     "elapsed": 16358,
     "status": "ok",
     "timestamp": 1666408199555,
     "user": {
      "displayName": "Dimitry Kirtsman",
      "userId": "11988189828040272864"
     },
     "user_tz": 420
    },
    "id": "VusVPLhwiL0j",
    "outputId": "f5284156-72e5-4567-f363-1b32856f362d"
   },
   "outputs": [
    {
     "name": "stdout",
     "output_type": "stream",
     "text": [
      "Epoch 1/40\n",
      "61/61 [==============================] - 3s 16ms/step - loss: 0.0267 - mse: 0.0267 - val_loss: 0.1048 - val_mse: 0.1048\n",
      "Epoch 2/40\n",
      "61/61 [==============================] - 1s 11ms/step - loss: 0.0081 - mse: 0.0081 - val_loss: 0.0512 - val_mse: 0.0512\n",
      "Epoch 3/40\n",
      "61/61 [==============================] - 1s 10ms/step - loss: 0.0061 - mse: 0.0061 - val_loss: 0.0222 - val_mse: 0.0222\n",
      "Epoch 4/40\n",
      "61/61 [==============================] - 1s 11ms/step - loss: 0.0053 - mse: 0.0053 - val_loss: 0.0286 - val_mse: 0.0286\n",
      "Epoch 5/40\n",
      "61/61 [==============================] - 1s 11ms/step - loss: 0.0042 - mse: 0.0042 - val_loss: 0.0015 - val_mse: 0.0015\n",
      "Epoch 6/40\n",
      "61/61 [==============================] - 1s 11ms/step - loss: 0.0035 - mse: 0.0035 - val_loss: 0.0012 - val_mse: 0.0012\n",
      "Epoch 7/40\n",
      "61/61 [==============================] - 1s 11ms/step - loss: 0.0031 - mse: 0.0031 - val_loss: 0.0049 - val_mse: 0.0049\n",
      "Epoch 8/40\n",
      "61/61 [==============================] - 1s 10ms/step - loss: 0.0026 - mse: 0.0026 - val_loss: 9.9943e-04 - val_mse: 9.9943e-04\n",
      "Epoch 9/40\n",
      "61/61 [==============================] - 1s 10ms/step - loss: 0.0025 - mse: 0.0025 - val_loss: 6.6404e-04 - val_mse: 6.6404e-04\n",
      "Epoch 10/40\n",
      "61/61 [==============================] - 1s 10ms/step - loss: 0.0023 - mse: 0.0023 - val_loss: 0.0164 - val_mse: 0.0164\n",
      "Epoch 11/40\n",
      "61/61 [==============================] - 1s 10ms/step - loss: 0.0022 - mse: 0.0022 - val_loss: 0.0078 - val_mse: 0.0078\n",
      "Epoch 12/40\n",
      "61/61 [==============================] - 1s 11ms/step - loss: 0.0024 - mse: 0.0024 - val_loss: 0.0035 - val_mse: 0.0035\n",
      "Epoch 13/40\n",
      "61/61 [==============================] - 1s 11ms/step - loss: 0.0017 - mse: 0.0017 - val_loss: 7.5036e-04 - val_mse: 7.5036e-04\n",
      "Epoch 14/40\n",
      "61/61 [==============================] - 1s 10ms/step - loss: 0.0017 - mse: 0.0017 - val_loss: 6.4200e-04 - val_mse: 6.4200e-04\n",
      "Epoch 15/40\n",
      "61/61 [==============================] - 1s 11ms/step - loss: 0.0019 - mse: 0.0019 - val_loss: 0.0056 - val_mse: 0.0056\n",
      "Epoch 16/40\n",
      "61/61 [==============================] - 1s 11ms/step - loss: 0.0015 - mse: 0.0015 - val_loss: 5.0075e-04 - val_mse: 5.0075e-04\n",
      "Epoch 17/40\n",
      "61/61 [==============================] - 1s 10ms/step - loss: 0.0016 - mse: 0.0016 - val_loss: 8.1080e-04 - val_mse: 8.1080e-04\n",
      "Epoch 18/40\n",
      "61/61 [==============================] - 1s 10ms/step - loss: 0.0015 - mse: 0.0015 - val_loss: 0.0018 - val_mse: 0.0018\n",
      "Epoch 19/40\n",
      "61/61 [==============================] - 1s 10ms/step - loss: 0.0015 - mse: 0.0015 - val_loss: 0.0058 - val_mse: 0.0058\n",
      "Epoch 20/40\n",
      "61/61 [==============================] - 1s 10ms/step - loss: 0.0018 - mse: 0.0018 - val_loss: 0.0065 - val_mse: 0.0065\n",
      "Epoch 21/40\n",
      "61/61 [==============================] - 1s 10ms/step - loss: 0.0014 - mse: 0.0014 - val_loss: 6.2021e-04 - val_mse: 6.2021e-04\n"
     ]
    }
   ],
   "source": [
    "#getting paremeters of best model\n",
    "tf.keras.utils.set_random_seed(7)\n",
    "model_best_params = model_tuner.get_best_hyperparameters(2)\n",
    "\n",
    "# Building model with best hyper parameters\n",
    "model_best = transformer_model(model_best_params[0])\n",
    "\n",
    "# Running best model. \n",
    "epochs=40\n",
    "patience=5\n",
    "model_number=stock\n",
    "\n",
    "#best_model_optimizer=model_best_hyper_parameters.get('optimizer')\n",
    "history_best_model, best_model = compile_train_model(model_best,\n",
    "                                    X_train,y_train, epochs=epochs,\n",
    "                                     x_valid=X_val,y_valid=y_val,patience=patience,\n",
    "                                    optimizer=\"adam\")"
   ]
  },
  {
   "cell_type": "code",
   "execution_count": null,
   "metadata": {
    "id": "nz4n8EGUJ8Nt"
   },
   "outputs": [],
   "source": []
  },
  {
   "cell_type": "code",
   "execution_count": null,
   "metadata": {
    "colab": {
     "base_uri": "https://localhost:8080/"
    },
    "executionInfo": {
     "elapsed": 164,
     "status": "ok",
     "timestamp": 1666408199706,
     "user": {
      "displayName": "Dimitry Kirtsman",
      "userId": "11988189828040272864"
     },
     "user_tz": 420
    },
    "id": "88WyWQ6Fkyxk",
    "outputId": "83c2ee07-9e7c-43ad-81a1-a8919ac6674f"
   },
   "outputs": [
    {
     "name": "stdout",
     "output_type": "stream",
     "text": [
      "Model: \"model_1\"\n",
      "__________________________________________________________________________________________________\n",
      " Layer (type)                   Output Shape         Param #     Connected to                     \n",
      "==================================================================================================\n",
      " input_2 (InputLayer)           [(None, 21, 19)]     0           []                               \n",
      "                                                                                                  \n",
      " time2_vec_1 (Time2Vec)         (None, 21, 2)        84          ['input_2[0][0]']                \n",
      "                                                                                                  \n",
      " concatenate_1 (Concatenate)    (None, 21, 21)       0           ['input_2[0][0]',                \n",
      "                                                                  'time2_vec_1[0][0]']            \n",
      "                                                                                                  \n",
      " batch_normalization_4 (BatchNo  (None, 21, 21)      84          ['concatenate_1[0][0]']          \n",
      " rmalization)                                                                                     \n",
      "                                                                                                  \n",
      " multi_head_attention_2 (MultiH  (None, 21, 21)      33429       ['batch_normalization_4[0][0]',  \n",
      " eadAttention)                                                    'batch_normalization_4[0][0]']  \n",
      "                                                                                                  \n",
      " dropout_5 (Dropout)            (None, 21, 21)       0           ['multi_head_attention_2[0][0]'] \n",
      "                                                                                                  \n",
      " tf.__operators__.add_4 (TFOpLa  (None, 21, 21)      0           ['dropout_5[0][0]',              \n",
      " mbda)                                                            'concatenate_1[0][0]']          \n",
      "                                                                                                  \n",
      " batch_normalization_5 (BatchNo  (None, 21, 21)      84          ['tf.__operators__.add_4[0][0]'] \n",
      " rmalization)                                                                                     \n",
      "                                                                                                  \n",
      " conv1d_4 (Conv1D)              (None, 21, 8)        176         ['batch_normalization_5[0][0]']  \n",
      "                                                                                                  \n",
      " dropout_6 (Dropout)            (None, 21, 8)        0           ['conv1d_4[0][0]']               \n",
      "                                                                                                  \n",
      " conv1d_5 (Conv1D)              (None, 21, 21)       189         ['dropout_6[0][0]']              \n",
      "                                                                                                  \n",
      " tf.__operators__.add_5 (TFOpLa  (None, 21, 21)      0           ['conv1d_5[0][0]',               \n",
      " mbda)                                                            'tf.__operators__.add_4[0][0]'] \n",
      "                                                                                                  \n",
      " batch_normalization_6 (BatchNo  (None, 21, 21)      84          ['tf.__operators__.add_5[0][0]'] \n",
      " rmalization)                                                                                     \n",
      "                                                                                                  \n",
      " multi_head_attention_3 (MultiH  (None, 21, 21)      44565       ['batch_normalization_6[0][0]',  \n",
      " eadAttention)                                                    'batch_normalization_6[0][0]']  \n",
      "                                                                                                  \n",
      " dropout_7 (Dropout)            (None, 21, 21)       0           ['multi_head_attention_3[0][0]'] \n",
      "                                                                                                  \n",
      " tf.__operators__.add_6 (TFOpLa  (None, 21, 21)      0           ['dropout_7[0][0]',              \n",
      " mbda)                                                            'tf.__operators__.add_5[0][0]'] \n",
      "                                                                                                  \n",
      " batch_normalization_7 (BatchNo  (None, 21, 21)      84          ['tf.__operators__.add_6[0][0]'] \n",
      " rmalization)                                                                                     \n",
      "                                                                                                  \n",
      " conv1d_6 (Conv1D)              (None, 21, 16)       352         ['batch_normalization_7[0][0]']  \n",
      "                                                                                                  \n",
      " dropout_8 (Dropout)            (None, 21, 16)       0           ['conv1d_6[0][0]']               \n",
      "                                                                                                  \n",
      " conv1d_7 (Conv1D)              (None, 21, 21)       357         ['dropout_8[0][0]']              \n",
      "                                                                                                  \n",
      " tf.__operators__.add_7 (TFOpLa  (None, 21, 21)      0           ['conv1d_7[0][0]',               \n",
      " mbda)                                                            'tf.__operators__.add_6[0][0]'] \n",
      "                                                                                                  \n",
      " global_average_pooling1d_1 (Gl  (None, 21)          0           ['tf.__operators__.add_7[0][0]'] \n",
      " obalAveragePooling1D)                                                                            \n",
      "                                                                                                  \n",
      " dense_2 (Dense)                (None, 256)          5632        ['global_average_pooling1d_1[0][0\n",
      "                                                                 ]']                              \n",
      "                                                                                                  \n",
      " dropout_9 (Dropout)            (None, 256)          0           ['dense_2[0][0]']                \n",
      "                                                                                                  \n",
      " dense_3 (Dense)                (None, 1)            257         ['dropout_9[0][0]']              \n",
      "                                                                                                  \n",
      "==================================================================================================\n",
      "Total params: 85,377\n",
      "Trainable params: 85,209\n",
      "Non-trainable params: 168\n",
      "__________________________________________________________________________________________________\n"
     ]
    }
   ],
   "source": [
    "best_model.summary()"
   ]
  },
  {
   "cell_type": "code",
   "execution_count": null,
   "metadata": {
    "colab": {
     "base_uri": "https://localhost:8080/",
     "height": 467
    },
    "executionInfo": {
     "elapsed": 453,
     "status": "ok",
     "timestamp": 1666408200157,
     "user": {
      "displayName": "Dimitry Kirtsman",
      "userId": "11988189828040272864"
     },
     "user_tz": 420
    },
    "id": "fRjOLvr4g6dn",
    "outputId": "30410c9d-5b72-467d-f6e8-c529d8ee1aa0"
   },
   "outputs": [
    {
     "data": {
      "image/png": "[encoded data removed]",
      "text/plain": [
       "<Figure size 648x504 with 1 Axes>"
      ]
     },
     "metadata": {
      "needs_background": "light"
     },
     "output_type": "display_data"
    }
   ],
   "source": [
    "\n",
    "train_val_loss_charts(history_best_model, model_number)"
   ]
  },
  {
   "cell_type": "code",
   "execution_count": null,
   "metadata": {
    "colab": {
     "base_uri": "https://localhost:8080/",
     "height": 745
    },
    "executionInfo": {
     "elapsed": 620,
     "status": "ok",
     "timestamp": 1666408200773,
     "user": {
      "displayName": "Dimitry Kirtsman",
      "userId": "11988189828040272864"
     },
     "user_tz": 420
    },
    "id": "QwTVGBxP2oP3",
    "outputId": "d3bd45fd-47f4-46b3-f2d5-07f6a47f320e"
   },
   "outputs": [
    {
     "name": "stdout",
     "output_type": "stream",
     "text": [
      "Train Set RMSE: 1.6049033617062352\n",
      "Val Set RMSE: 1.8141228387533077\n",
      "\n",
      "\n",
      "Train Set MAPE: 0.016431578634172956\n",
      "Val Set MAPE: 0.010835433506330802\n",
      "\n",
      "\n",
      "Train Set MAE: 1.2366654767529448\n",
      "Val Set MAE: 1.4110993041992188\n",
      "\n",
      "\n",
      "Train Set R: 0.9969\n",
      "Val Set R: 0.9432\n",
      "\n",
      "\n"
     ]
    },
    {
     "data": {
      "image/png": "[encoded data removed]",
      "text/plain": [
       "<Figure size 648x504 with 1 Axes>"
      ]
     },
     "metadata": {
      "needs_background": "light"
     },
     "output_type": "display_data"
    }
   ],
   "source": [
    "price_level_evaluation_stats(best_model, X_train, y_train, X_val, y_val,stock)\n"
   ]
  },
  {
   "cell_type": "code",
   "execution_count": null,
   "metadata": {
    "id": "zrhSZGGlvAe-"
   },
   "outputs": [],
   "source": []
  },
  {
   "cell_type": "code",
   "execution_count": null,
   "metadata": {
    "id": "UY8uJ02FD5QW"
   },
   "outputs": [],
   "source": [
    "#best_model.save( '/content/gdrive/My Drive/Colab Notebooks/MSDS_498/saved_models/transformer_model_val_PG.h5')"
   ]
  },
  {
   "cell_type": "code",
   "execution_count": null,
   "metadata": {
    "id": "tOyZ1bEd54qX"
   },
   "outputs": [],
   "source": [
    "#model = tf.keras.models.load_model('/content/gdrive/My Drive/Colab Notebooks/MSDS_498/saved_models/transformer_model_val_PFE.h5',custom_objects={\"Time2Vec\": Time2Vec })"
   ]
  },
  {
   "cell_type": "markdown",
   "metadata": {
    "id": "OaggY9N2TBJJ"
   },
   "source": [
    "#Final Best Model Estimation"
   ]
  },
  {
   "cell_type": "code",
   "execution_count": null,
   "metadata": {
    "colab": {
     "base_uri": "https://localhost:8080/"
    },
    "executionInfo": {
     "elapsed": 21336,
     "status": "ok",
     "timestamp": 1666408456967,
     "user": {
      "displayName": "Dimitry Kirtsman",
      "userId": "11988189828040272864"
     },
     "user_tz": 420
    },
    "id": "tw9ZHxnCuXGm",
    "outputId": "209c16b0-014e-4ab8-9e65-fe01bb45eec2"
   },
   "outputs": [
    {
     "name": "stdout",
     "output_type": "stream",
     "text": [
      "Epoch 1/40\n",
      "69/69 [==============================] - 3s 10ms/step - loss: 0.0154 - mse: 0.0154\n",
      "Epoch 2/40\n",
      "69/69 [==============================] - 1s 10ms/step - loss: 0.0068 - mse: 0.0068\n",
      "Epoch 3/40\n",
      "69/69 [==============================] - 1s 10ms/step - loss: 0.0047 - mse: 0.0047\n",
      "Epoch 4/40\n",
      "69/69 [==============================] - 1s 10ms/step - loss: 0.0038 - mse: 0.0038\n",
      "Epoch 5/40\n",
      "69/69 [==============================] - 1s 11ms/step - loss: 0.0034 - mse: 0.0034\n",
      "Epoch 6/40\n",
      "69/69 [==============================] - 1s 10ms/step - loss: 0.0029 - mse: 0.0029\n",
      "Epoch 7/40\n",
      "69/69 [==============================] - 1s 10ms/step - loss: 0.0024 - mse: 0.0024\n",
      "Epoch 8/40\n",
      "69/69 [==============================] - 1s 10ms/step - loss: 0.0025 - mse: 0.0025\n",
      "Epoch 9/40\n",
      "69/69 [==============================] - 1s 10ms/step - loss: 0.0023 - mse: 0.0023\n",
      "Epoch 10/40\n",
      "69/69 [==============================] - 1s 10ms/step - loss: 0.0023 - mse: 0.0023\n",
      "Epoch 11/40\n",
      "69/69 [==============================] - 1s 10ms/step - loss: 0.0020 - mse: 0.0020\n",
      "Epoch 12/40\n",
      "69/69 [==============================] - 1s 9ms/step - loss: 0.0021 - mse: 0.0021\n",
      "Epoch 13/40\n",
      "69/69 [==============================] - 1s 10ms/step - loss: 0.0019 - mse: 0.0019\n",
      "Epoch 14/40\n",
      "69/69 [==============================] - 1s 10ms/step - loss: 0.0017 - mse: 0.0017\n",
      "Epoch 15/40\n",
      "69/69 [==============================] - 1s 9ms/step - loss: 0.0017 - mse: 0.0017\n",
      "Epoch 16/40\n",
      "69/69 [==============================] - 1s 10ms/step - loss: 0.0017 - mse: 0.0017\n",
      "Epoch 17/40\n",
      "69/69 [==============================] - 1s 10ms/step - loss: 0.0019 - mse: 0.0019\n",
      "Epoch 18/40\n",
      "69/69 [==============================] - 1s 10ms/step - loss: 0.0018 - mse: 0.0018\n",
      "Epoch 19/40\n",
      "69/69 [==============================] - 1s 10ms/step - loss: 0.0020 - mse: 0.0020\n",
      "Epoch 20/40\n",
      "69/69 [==============================] - 1s 11ms/step - loss: 0.0016 - mse: 0.0016\n",
      "Epoch 21/40\n",
      "69/69 [==============================] - 1s 10ms/step - loss: 0.0014 - mse: 0.0014\n",
      "Epoch 22/40\n",
      "69/69 [==============================] - 1s 10ms/step - loss: 0.0017 - mse: 0.0017\n",
      "Epoch 23/40\n",
      "69/69 [==============================] - 1s 11ms/step - loss: 0.0016 - mse: 0.0016\n",
      "Epoch 24/40\n",
      "69/69 [==============================] - 1s 10ms/step - loss: 0.0016 - mse: 0.0016\n",
      "Epoch 25/40\n",
      "69/69 [==============================] - 1s 10ms/step - loss: 0.0014 - mse: 0.0014\n",
      "Epoch 26/40\n",
      "69/69 [==============================] - 1s 10ms/step - loss: 0.0015 - mse: 0.0015\n"
     ]
    }
   ],
   "source": [
    "tf.keras.utils.set_random_seed(1)\n",
    "#getting paremeters of best model\n",
    "model_best_params = model_tuner.get_best_hyperparameters(2)\n",
    "   \n",
    "# Building model with best hyper parameters \n",
    "model_best = transformer_model(model_best_params[0])\n",
    "\n",
    "# Running best model using final train and test sets. Test set metrics will be \n",
    "#based of this model run.\n",
    "epochs=40\n",
    "patience=5\n",
    " \n",
    "#best_model_optimizer=model_best_hyper_parameters.get('optimizer')\n",
    "history_best_model_test, best_model_test = compile_train_model(model_best, X_final_train,y_final_train,\n",
    "                                    epochs=epochs,patience=patience,\n",
    "                                    optimizer=\"adam\", final_model=True)"
   ]
  },
  {
   "cell_type": "code",
   "execution_count": null,
   "metadata": {
    "colab": {
     "base_uri": "https://localhost:8080/",
     "height": 745
    },
    "executionInfo": {
     "elapsed": 887,
     "status": "ok",
     "timestamp": 1666408476036,
     "user": {
      "displayName": "Dimitry Kirtsman",
      "userId": "11988189828040272864"
     },
     "user_tz": 420
    },
    "id": "5ShDOwHDuXM-",
    "outputId": "05dd8cf5-174a-433f-c45e-d2c5336d7e65"
   },
   "outputs": [
    {
     "name": "stdout",
     "output_type": "stream",
     "text": [
      "Final Model - Train Set RMSE: 1.4182192937682077\n",
      "Final Model - Test Set RMSE: 2.9992831118429057\n",
      "\n",
      "\n",
      "Final Model - Train Set MAPE: 0.01288882477593356\n",
      "Final Model - Test Set MAPE: 0.01647463559432709\n",
      "\n",
      "\n",
      "Final Model - Train Set MAE: 1.0413157753171383\n",
      "Final Model - Test Set MAE: 2.4319078674316406\n",
      "\n",
      "\n",
      "Final Model - Train Set R: 0.9984\n",
      "Final Model - Test Set R: 0.9465\n",
      "\n",
      "\n"
     ]
    },
    {
     "data": {
      "image/png": "[encoded data removed]",
      "text/plain": [
       "<Figure size 648x504 with 1 Axes>"
      ]
     },
     "metadata": {
      "needs_background": "light"
     },
     "output_type": "display_data"
    }
   ],
   "source": [
    "price_level_evaluation_stats(best_model_test,X_final_train,y_final_train, X_final_test,y_final_test, stock, final_model=True)\n"
   ]
  },
  {
   "cell_type": "code",
   "execution_count": 40,
   "metadata": {
    "colab": {
     "base_uri": "https://localhost:8080/",
     "height": 430
    },
    "executionInfo": {
     "elapsed": 1280,
     "status": "ok",
     "timestamp": 1667424716362,
     "user": {
      "displayName": "Dimitry Kirtsman",
      "userId": "11988189828040272864"
     },
     "user_tz": 420
    },
    "id": "y-uO1vkduXPu",
    "outputId": "81e620ab-acb2-4d0b-a5e1-4a440ab04831"
   },
   "outputs": [
    {
     "data": {
      "image/png": "[encoded data removed]",
      "text/plain": [
       "<Figure size 648x504 with 1 Axes>"
      ]
     },
     "metadata": {
      "needs_background": "light"
     },
     "output_type": "display_data"
    }
   ],
   "source": [
    "actual_predicted_test_set_chart(best_model_test, X_final_test,y_final_test, model_number)"
   ]
  },
  {
   "cell_type": "code",
   "execution_count": null,
   "metadata": {
    "colab": {
     "base_uri": "https://localhost:8080/",
     "height": 784
    },
    "executionInfo": {
     "elapsed": 10184,
     "status": "ok",
     "timestamp": 1667006865625,
     "user": {
      "displayName": "Dimitry Kirtsman",
      "userId": "11988189828040272864"
     },
     "user_tz": 420
    },
    "id": "YMDPFhNRuXwf",
    "outputId": "46c1cf04-0899-48cd-d1fd-01ab75402625"
   },
   "outputs": [
    {
     "name": "stdout",
     "output_type": "stream",
     "text": [
      "              precision    recall  f1-score   support\n",
      "\n",
      "           0       0.50      0.76      0.60       119\n",
      "           1       0.58      0.30      0.40       130\n",
      "\n",
      "    accuracy                           0.52       249\n",
      "   macro avg       0.54      0.53      0.50       249\n",
      "weighted avg       0.54      0.52      0.50       249\n",
      "\n",
      "Test Set Accuracy for PG is 0.5220883534136547\n",
      "\n",
      "\n",
      "\n",
      "\n"
     ]
    },
    {
     "data": {
      "image/png": "[encoded data removed]",
      "text/plain": [
       "<Figure size 720x576 with 2 Axes>"
      ]
     },
     "metadata": {
      "needs_background": "light"
     },
     "output_type": "display_data"
    }
   ],
   "source": [
    "test_set_classification_report(best_model_test, X_final_test,y_final_test, model_number)"
   ]
  },
  {
   "cell_type": "code",
   "execution_count": null,
   "metadata": {
    "colab": {
     "base_uri": "https://localhost:8080/",
     "height": 422
    },
    "executionInfo": {
     "elapsed": 947,
     "status": "ok",
     "timestamp": 1666408524452,
     "user": {
      "displayName": "Dimitry Kirtsman",
      "userId": "11988189828040272864"
     },
     "user_tz": 420
    },
    "id": "rJAnAirnn2Vt",
    "outputId": "f079b882-859e-4d16-eb4d-6ed830c7a6f4"
   },
   "outputs": [
    {
     "data": {
      "image/png": "[encoded data removed]",
      "text/plain": [
       "<Figure size 648x504 with 1 Axes>"
      ]
     },
     "metadata": {
      "needs_background": "light"
     },
     "output_type": "display_data"
    }
   ],
   "source": [
    "actual_predicted_train_test_set_chart(best_model_test, X_final_train,y_final_train, X_final_test,y_final_test, model_number)"
   ]
  },
  {
   "cell_type": "code",
   "execution_count": null,
   "metadata": {
    "id": "w_KHU4Jln2YD"
   },
   "outputs": [],
   "source": []
  },
  {
   "cell_type": "code",
   "execution_count": null,
   "metadata": {
    "id": "srzOaUr02UXN"
   },
   "outputs": [],
   "source": [
    "#est_model_test.save( '/content/gdrive/My Drive/Colab Notebooks/MSDS_498/saved_models/transformer_model_test_PG.h5')\n"
   ]
  },
  {
   "cell_type": "code",
   "execution_count": 38,
   "metadata": {
    "executionInfo": {
     "elapsed": 6466,
     "status": "ok",
     "timestamp": 1667424638200,
     "user": {
      "displayName": "Dimitry Kirtsman",
      "userId": "11988189828040272864"
     },
     "user_tz": 420
    },
    "id": "6BkAUUBO2Ey_"
   },
   "outputs": [],
   "source": [
    "best_model_test = tf.keras.models.load_model('/content/gdrive/My Drive/Colab Notebooks/MSDS_498/saved_models/transformer_model_test_PG.h5',custom_objects={\"Time2Vec\": Time2Vec })"
   ]
  },
  {
   "cell_type": "code",
   "execution_count": null,
   "metadata": {
    "id": "951s8mFzUl1u"
   },
   "outputs": [],
   "source": []
  },
  {
   "cell_type": "code",
   "execution_count": 37,
   "metadata": {
    "colab": {
     "base_uri": "https://localhost:8080/"
    },
    "executionInfo": {
     "elapsed": 31040,
     "status": "ok",
     "timestamp": 1667424631737,
     "user": {
      "displayName": "Dimitry Kirtsman",
      "userId": "11988189828040272864"
     },
     "user_tz": 420
    },
    "id": "W1vSuQHyUl4j",
    "outputId": "f1c2e2f2-767a-4f45-a2b9-736a3e64b3c4"
   },
   "outputs": [
    {
     "name": "stdout",
     "output_type": "stream",
     "text": [
      "Mounted at /content/gdrive\n"
     ]
    }
   ],
   "source": [
    "model_number=\"PG\"\n",
    "from google.colab import drive\n",
    "drive.mount('/content/gdrive')"
   ]
  },
  {
   "cell_type": "code",
   "execution_count": null,
   "metadata": {
    "colab": {
     "base_uri": "https://localhost:8080/"
    },
    "executionInfo": {
     "elapsed": 17967,
     "status": "ok",
     "timestamp": 1666833476075,
     "user": {
      "displayName": "Dimitry Kirtsman",
      "userId": "11988189828040272864"
     },
     "user_tz": 420
    },
    "id": "Td9m7ORp6wDG",
    "outputId": "90fa2544-36e0-4436-80e3-5a315d5ab7bb"
   },
   "outputs": [
    {
     "name": "stdout",
     "output_type": "stream",
     "text": [
      "Mounted at /content/gdrive\n"
     ]
    }
   ],
   "source": []
  },
  {
   "cell_type": "code",
   "execution_count": 39,
   "metadata": {
    "colab": {
     "base_uri": "https://localhost:8080/",
     "height": 430
    },
    "executionInfo": {
     "elapsed": 10847,
     "status": "ok",
     "timestamp": 1667424664222,
     "user": {
      "displayName": "Dimitry Kirtsman",
      "userId": "11988189828040272864"
     },
     "user_tz": 420
    },
    "id": "h8IkG7kb6wDG",
    "outputId": "7d7fb572-4dc1-41d0-9811-c67f1e47d643"
   },
   "outputs": [
    {
     "data": {
      "image/png": "[encoded data removed]",
      "text/plain": [
       "<Figure size 648x504 with 1 Axes>"
      ]
     },
     "metadata": {
      "needs_background": "light"
     },
     "output_type": "display_data"
    }
   ],
   "source": [
    "model_number=\"PG\"\n",
    "actual_predicted_test_set_chart(best_model_test, X_final_test,y_final_test, model_number)"
   ]
  }
 ],
 "metadata": {
  "accelerator": "GPU",
  "colab": {
   "authorship_tag": "ABX9TyPQKfTJRHkI3Ok3sKAlSjxp",
   "provenance": []
  },
  "kernelspec": {
   "display_name": "Python 3 (ipykernel)",
   "language": "python",
   "name": "python3"
  },
  "language_info": {
   "codemirror_mode": {
    "name": "ipython",
    "version": 3
   },
   "file_extension": ".py",
   "mimetype": "text/x-python",
   "name": "python",
   "nbconvert_exporter": "python",
   "pygments_lexer": "ipython3",
   "version": "3.8.8"
  }
 },
 "nbformat": 4,
 "nbformat_minor": 1
}
