{
 "cells": [
  {
   "cell_type": "code",
   "execution_count": 1,
   "metadata": {
    "executionInfo": {
     "elapsed": 3301,
     "status": "ok",
     "timestamp": 1667426287123,
     "user": {
      "displayName": "Dimitry Kirtsman",
      "userId": "11988189828040272864"
     },
     "user_tz": 420
    },
    "id": "OMaxAA1zC1HI"
   },
   "outputs": [],
   "source": [
    "import datetime\n",
    "import time\n",
    "import numpy as np\n",
    "import pandas as pd\n",
    "from packaging import version\n",
    "from collections import Counter\n",
    "import re\n",
    "\n",
    "from math import sqrt\n",
    "from sklearn.preprocessing import StandardScaler, MinMaxScaler\n",
    "from keras.preprocessing.text import Tokenizer\n",
    "import string\n",
    "from sklearn.metrics import confusion_matrix, classification_report\n",
    "from sklearn.metrics import accuracy_score\n",
    "from sklearn.metrics import mean_squared_error as MSE\n",
    "from sklearn.metrics import mean_absolute_percentage_error as MAPE\n",
    "from sklearn.metrics import mean_absolute_error as MAE\n",
    "from sklearn.model_selection import train_test_split\n",
    "from sklearn.manifold import TSNE\n",
    "import matplotlib.pyplot as plt\n",
    "import matplotlib as mpl\n",
    "import seaborn as sns\n",
    "from keras import backend as K\n",
    "import tensorflow_datasets as tfds\n",
    "import tensorflow as tf\n",
    "from tensorflow import keras\n",
    "from tensorflow.keras import models, layers, Model\n",
    "from tensorflow.keras.models import Sequential\n",
    "from tensorflow.keras.layers import Conv2D, MaxPool2D, BatchNormalization, Dropout, Flatten, Input, Dense, Embedding, GlobalMaxPool1D\n",
    "from tensorflow.keras.layers import Conv1D, LayerNormalization, MultiHeadAttention, GlobalAveragePooling1D\n",
    "from tensorflow.keras.layers import LSTM, GRU, Bidirectional, SimpleRNN, TextVectorization\n",
    "from tensorflow.keras.callbacks import ModelCheckpoint, EarlyStopping\n",
    "from tensorflow.keras.preprocessing import image\n",
    "from tensorflow.keras.preprocessing.sequence import pad_sequences\n",
    "from tensorflow.keras.utils import to_categorical\n",
    "\n",
    "tf.keras.utils.set_random_seed(7)\n",
    "%matplotlib inline\n",
    "np.set_printoptions(precision=3, suppress=True)\n",
    "pd.set_option('max_colwidth', 600)"
   ]
  },
  {
   "cell_type": "code",
   "execution_count": 2,
   "metadata": {
    "colab": {
     "base_uri": "https://localhost:8080/",
     "height": 520
    },
    "executionInfo": {
     "elapsed": 11879,
     "status": "ok",
     "timestamp": 1667426298997,
     "user": {
      "displayName": "Dimitry Kirtsman",
      "userId": "11988189828040272864"
     },
     "user_tz": 420
    },
    "id": "tX9g-GZHUKCp",
    "outputId": "8f5d50f5-1334-4e84-e046-42c303891b36"
   },
   "outputs": [
    {
     "name": "stdout",
     "output_type": "stream",
     "text": [
      "Looking in indexes: https://pypi.org/simple, https://us-python.pkg.dev/colab-wheels/public/simple/\n",
      "Collecting yfinance\n",
      "  Downloading yfinance-0.1.84-py2.py3-none-any.whl (29 kB)\n",
      "Requirement already satisfied: appdirs>=1.4.4 in /usr/local/lib/python3.7/dist-packages (from yfinance) (1.4.4)\n",
      "Requirement already satisfied: multitasking>=0.0.7 in /usr/local/lib/python3.7/dist-packages (from yfinance) (0.0.11)\n",
      "Requirement already satisfied: numpy>=1.15 in /usr/local/lib/python3.7/dist-packages (from yfinance) (1.21.6)\n",
      "Collecting requests>=2.26\n",
      "  Downloading requests-2.28.1-py3-none-any.whl (62 kB)\n",
      "\u001b[K     |████████████████████████████████| 62 kB 1.5 MB/s \n",
      "\u001b[?25hRequirement already satisfied: lxml>=4.5.1 in /usr/local/lib/python3.7/dist-packages (from yfinance) (4.9.1)\n",
      "Requirement already satisfied: pandas>=0.24.0 in /usr/local/lib/python3.7/dist-packages (from yfinance) (1.3.5)\n",
      "Requirement already satisfied: python-dateutil>=2.7.3 in /usr/local/lib/python3.7/dist-packages (from pandas>=0.24.0->yfinance) (2.8.2)\n",
      "Requirement already satisfied: pytz>=2017.3 in /usr/local/lib/python3.7/dist-packages (from pandas>=0.24.0->yfinance) (2022.5)\n",
      "Requirement already satisfied: six>=1.5 in /usr/local/lib/python3.7/dist-packages (from python-dateutil>=2.7.3->pandas>=0.24.0->yfinance) (1.15.0)\n",
      "Requirement already satisfied: idna<4,>=2.5 in /usr/local/lib/python3.7/dist-packages (from requests>=2.26->yfinance) (2.10)\n",
      "Requirement already satisfied: certifi>=2017.4.17 in /usr/local/lib/python3.7/dist-packages (from requests>=2.26->yfinance) (2022.9.24)\n",
      "Requirement already satisfied: urllib3<1.27,>=1.21.1 in /usr/local/lib/python3.7/dist-packages (from requests>=2.26->yfinance) (1.24.3)\n",
      "Requirement already satisfied: charset-normalizer<3,>=2 in /usr/local/lib/python3.7/dist-packages (from requests>=2.26->yfinance) (2.1.1)\n",
      "Installing collected packages: requests, yfinance\n",
      "  Attempting uninstall: requests\n",
      "    Found existing installation: requests 2.23.0\n",
      "    Uninstalling requests-2.23.0:\n",
      "      Successfully uninstalled requests-2.23.0\n",
      "Successfully installed requests-2.28.1 yfinance-0.1.84\n"
     ]
    },
    {
     "data": {
      "application/vnd.colab-display-data+json": {
       "pip_warning": {
        "packages": [
         "requests"
        ]
       }
      }
     },
     "metadata": {},
     "output_type": "display_data"
    }
   ],
   "source": [
    "\n",
    "!pip install yfinance"
   ]
  },
  {
   "cell_type": "code",
   "execution_count": 3,
   "metadata": {
    "colab": {
     "base_uri": "https://localhost:8080/"
    },
    "executionInfo": {
     "elapsed": 7472,
     "status": "ok",
     "timestamp": 1667426306465,
     "user": {
      "displayName": "Dimitry Kirtsman",
      "userId": "11988189828040272864"
     },
     "user_tz": 420
    },
    "id": "Tof-IjRBXJGD",
    "outputId": "2a4455c0-b577-4ea2-e97f-2ef65116b2f0"
   },
   "outputs": [
    {
     "name": "stdout",
     "output_type": "stream",
     "text": [
      "\u001b[K     |████████████████████████████████| 135 kB 25.2 MB/s \n",
      "\u001b[K     |████████████████████████████████| 1.6 MB 52.1 MB/s \n",
      "\u001b[?25h"
     ]
    }
   ],
   "source": [
    "!pip install -q -U keras-tuner\n",
    "import keras_tuner as kt\n",
    "from keras_tuner import Objective, HyperParameters"
   ]
  },
  {
   "cell_type": "code",
   "execution_count": 3,
   "metadata": {
    "executionInfo": {
     "elapsed": 4,
     "status": "ok",
     "timestamp": 1667426306465,
     "user": {
      "displayName": "Dimitry Kirtsman",
      "userId": "11988189828040272864"
     },
     "user_tz": 420
    },
    "id": "ZDy-vnzqFzxb"
   },
   "outputs": [],
   "source": []
  },
  {
   "cell_type": "code",
   "execution_count": 4,
   "metadata": {
    "executionInfo": {
     "elapsed": 4,
     "status": "ok",
     "timestamp": 1667426306466,
     "user": {
      "displayName": "Dimitry Kirtsman",
      "userId": "11988189828040272864"
     },
     "user_tz": 420
    },
    "id": "VF96j6euUKE-"
   },
   "outputs": [],
   "source": [
    "import yfinance as yf"
   ]
  },
  {
   "cell_type": "code",
   "execution_count": 5,
   "metadata": {
    "colab": {
     "base_uri": "https://localhost:8080/"
    },
    "executionInfo": {
     "elapsed": 4138,
     "status": "ok",
     "timestamp": 1667426310601,
     "user": {
      "displayName": "Dimitry Kirtsman",
      "userId": "11988189828040272864"
     },
     "user_tz": 420
    },
    "id": "TfFkelpzLtvG",
    "outputId": "e4d2e467-dd6e-4314-f637-4248cb23fa98"
   },
   "outputs": [
    {
     "name": "stdout",
     "output_type": "stream",
     "text": [
      "Looking in indexes: https://pypi.org/simple, https://us-python.pkg.dev/colab-wheels/public/simple/\n",
      "Collecting talib-binary\n",
      "  Downloading talib_binary-0.4.19-cp37-cp37m-manylinux1_x86_64.whl (2.4 MB)\n",
      "\u001b[K     |████████████████████████████████| 2.4 MB 12.7 MB/s \n",
      "\u001b[?25hRequirement already satisfied: numpy in /usr/local/lib/python3.7/dist-packages (from talib-binary) (1.21.6)\n",
      "Installing collected packages: talib-binary\n",
      "Successfully installed talib-binary-0.4.19\n"
     ]
    }
   ],
   "source": [
    "!pip install talib-binary\n",
    "import talib as ta"
   ]
  },
  {
   "cell_type": "code",
   "execution_count": 5,
   "metadata": {
    "executionInfo": {
     "elapsed": 5,
     "status": "ok",
     "timestamp": 1667426310602,
     "user": {
      "displayName": "Dimitry Kirtsman",
      "userId": "11988189828040272864"
     },
     "user_tz": 420
    },
    "id": "ds0tP_NPS0gT"
   },
   "outputs": [],
   "source": []
  },
  {
   "cell_type": "code",
   "execution_count": 6,
   "metadata": {
    "executionInfo": {
     "elapsed": 524,
     "status": "ok",
     "timestamp": 1667426311121,
     "user": {
      "displayName": "Dimitry Kirtsman",
      "userId": "11988189828040272864"
     },
     "user_tz": 420
    },
    "id": "aJqPNoVTUKHf"
   },
   "outputs": [],
   "source": [
    "#getting initial stock data\n",
    "stock=\"VZ\"\n",
    "obj = yf.Ticker(stock)\n",
    "stock_data=obj.history(interval=\"1d\", start=\"2012-10-01\", end=\"2022-09-30\")"
   ]
  },
  {
   "cell_type": "code",
   "execution_count": 7,
   "metadata": {
    "colab": {
     "base_uri": "https://localhost:8080/"
    },
    "executionInfo": {
     "elapsed": 9,
     "status": "ok",
     "timestamp": 1667426311121,
     "user": {
      "displayName": "Dimitry Kirtsman",
      "userId": "11988189828040272864"
     },
     "user_tz": 420
    },
    "id": "NNvJE5xjUKgm",
    "outputId": "9abb2488-68bc-485b-ec85-3a9d42e5284a"
   },
   "outputs": [
    {
     "data": {
      "text/plain": [
       "(2516, 7)"
      ]
     },
     "execution_count": 7,
     "metadata": {},
     "output_type": "execute_result"
    }
   ],
   "source": [
    "#data shape\n",
    "stock_data.shape"
   ]
  },
  {
   "cell_type": "code",
   "execution_count": 8,
   "metadata": {
    "colab": {
     "base_uri": "https://localhost:8080/"
    },
    "executionInfo": {
     "elapsed": 9,
     "status": "ok",
     "timestamp": 1667426311122,
     "user": {
      "displayName": "Dimitry Kirtsman",
      "userId": "11988189828040272864"
     },
     "user_tz": 420
    },
    "id": "ilma4Pi-UKjO",
    "outputId": "e9924f02-f402-4b0c-c4ad-f82999aa6679"
   },
   "outputs": [
    {
     "data": {
      "text/plain": [
       "(2516, 7)"
      ]
     },
     "execution_count": 8,
     "metadata": {},
     "output_type": "execute_result"
    }
   ],
   "source": [
    "stock_data.shape"
   ]
  },
  {
   "cell_type": "code",
   "execution_count": 9,
   "metadata": {
    "colab": {
     "base_uri": "https://localhost:8080/",
     "height": 238
    },
    "executionInfo": {
     "elapsed": 7,
     "status": "ok",
     "timestamp": 1667426311122,
     "user": {
      "displayName": "Dimitry Kirtsman",
      "userId": "11988189828040272864"
     },
     "user_tz": 420
    },
    "id": "q-0TOsVIT8pQ",
    "outputId": "f92a82b7-9890-4ff6-eed1-43b61e580861"
   },
   "outputs": [
    {
     "data": {
      "text/html": [
       "\n",
       "  <div id=\"df-72d7641e-2f29-4e7e-8b99-dd7c8fd67bcf\">\n",
       "    <div class=\"colab-df-container\">\n",
       "      <div>\n",
       "<style scoped>\n",
       "    .dataframe tbody tr th:only-of-type {\n",
       "        vertical-align: middle;\n",
       "    }\n",
       "\n",
       "    .dataframe tbody tr th {\n",
       "        vertical-align: top;\n",
       "    }\n",
       "\n",
       "    .dataframe thead th {\n",
       "        text-align: right;\n",
       "    }\n",
       "</style>\n",
       "<table border=\"1\" class=\"dataframe\">\n",
       "  <thead>\n",
       "    <tr style=\"text-align: right;\">\n",
       "      <th></th>\n",
       "      <th>Open</th>\n",
       "      <th>High</th>\n",
       "      <th>Low</th>\n",
       "      <th>Close</th>\n",
       "      <th>Volume</th>\n",
       "      <th>Dividends</th>\n",
       "      <th>Stock Splits</th>\n",
       "    </tr>\n",
       "    <tr>\n",
       "      <th>Date</th>\n",
       "      <th></th>\n",
       "      <th></th>\n",
       "      <th></th>\n",
       "      <th></th>\n",
       "      <th></th>\n",
       "      <th></th>\n",
       "      <th></th>\n",
       "    </tr>\n",
       "  </thead>\n",
       "  <tbody>\n",
       "    <tr>\n",
       "      <th>2012-10-01 00:00:00-04:00</th>\n",
       "      <td>28.653592</td>\n",
       "      <td>30.618662</td>\n",
       "      <td>28.502917</td>\n",
       "      <td>28.760323</td>\n",
       "      <td>28873700</td>\n",
       "      <td>0.000</td>\n",
       "      <td>0</td>\n",
       "    </tr>\n",
       "    <tr>\n",
       "      <th>2012-10-02 00:00:00-04:00</th>\n",
       "      <td>28.860764</td>\n",
       "      <td>28.923545</td>\n",
       "      <td>28.641027</td>\n",
       "      <td>28.791704</td>\n",
       "      <td>10326800</td>\n",
       "      <td>0.000</td>\n",
       "      <td>0</td>\n",
       "    </tr>\n",
       "    <tr>\n",
       "      <th>2012-10-03 00:00:00-04:00</th>\n",
       "      <td>28.867047</td>\n",
       "      <td>29.130731</td>\n",
       "      <td>28.766596</td>\n",
       "      <td>29.055391</td>\n",
       "      <td>11907200</td>\n",
       "      <td>0.000</td>\n",
       "      <td>0</td>\n",
       "    </tr>\n",
       "    <tr>\n",
       "      <th>2012-10-04 00:00:00-04:00</th>\n",
       "      <td>29.137007</td>\n",
       "      <td>29.683207</td>\n",
       "      <td>29.137007</td>\n",
       "      <td>29.670650</td>\n",
       "      <td>16112600</td>\n",
       "      <td>0.000</td>\n",
       "      <td>0</td>\n",
       "    </tr>\n",
       "    <tr>\n",
       "      <th>2012-10-05 00:00:00-04:00</th>\n",
       "      <td>29.788071</td>\n",
       "      <td>30.035617</td>\n",
       "      <td>29.718250</td>\n",
       "      <td>29.864239</td>\n",
       "      <td>16909200</td>\n",
       "      <td>0.515</td>\n",
       "      <td>0</td>\n",
       "    </tr>\n",
       "  </tbody>\n",
       "</table>\n",
       "</div>\n",
       "      <button class=\"colab-df-convert\" onclick=\"convertToInteractive('df-72d7641e-2f29-4e7e-8b99-dd7c8fd67bcf')\"\n",
       "              title=\"Convert this dataframe to an interactive table.\"\n",
       "              style=\"display:none;\">\n",
       "        \n",
       "  <svg xmlns=\"http://www.w3.org/2000/svg\" height=\"24px\"viewBox=\"0 0 24 24\"\n",
       "       width=\"24px\">\n",
       "    <path d=\"M0 0h24v24H0V0z\" fill=\"none\"/>\n",
       "    <path d=\"M18.56 5.44l.94 2.06.94-2.06 2.06-.94-2.06-.94-.94-2.06-.94 2.06-2.06.94zm-11 1L8.5 8.5l.94-2.06 2.06-.94-2.06-.94L8.5 2.5l-.94 2.06-2.06.94zm10 10l.94 2.06.94-2.06 2.06-.94-2.06-.94-.94-2.06-.94 2.06-2.06.94z\"/><path d=\"M17.41 7.96l-1.37-1.37c-.4-.4-.92-.59-1.43-.59-.52 0-1.04.2-1.43.59L10.3 9.45l-7.72 7.72c-.78.78-.78 2.05 0 2.83L4 21.41c.39.39.9.59 1.41.59.51 0 1.02-.2 1.41-.59l7.78-7.78 2.81-2.81c.8-.78.8-2.07 0-2.86zM5.41 20L4 18.59l7.72-7.72 1.47 1.35L5.41 20z\"/>\n",
       "  </svg>\n",
       "      </button>\n",
       "      \n",
       "  <style>\n",
       "    .colab-df-container {\n",
       "      display:flex;\n",
       "      flex-wrap:wrap;\n",
       "      gap: 12px;\n",
       "    }\n",
       "\n",
       "    .colab-df-convert {\n",
       "      background-color: #E8F0FE;\n",
       "      border: none;\n",
       "      border-radius: 50%;\n",
       "      cursor: pointer;\n",
       "      display: none;\n",
       "      fill: #1967D2;\n",
       "      height: 32px;\n",
       "      padding: 0 0 0 0;\n",
       "      width: 32px;\n",
       "    }\n",
       "\n",
       "    .colab-df-convert:hover {\n",
       "      background-color: #E2EBFA;\n",
       "      box-shadow: 0px 1px 2px rgba(60, 64, 67, 0.3), 0px 1px 3px 1px rgba(60, 64, 67, 0.15);\n",
       "      fill: #174EA6;\n",
       "    }\n",
       "\n",
       "    [theme=dark] .colab-df-convert {\n",
       "      background-color: #3B4455;\n",
       "      fill: #D2E3FC;\n",
       "    }\n",
       "\n",
       "    [theme=dark] .colab-df-convert:hover {\n",
       "      background-color: #434B5C;\n",
       "      box-shadow: 0px 1px 3px 1px rgba(0, 0, 0, 0.15);\n",
       "      filter: drop-shadow(0px 1px 2px rgba(0, 0, 0, 0.3));\n",
       "      fill: #FFFFFF;\n",
       "    }\n",
       "  </style>\n",
       "\n",
       "      <script>\n",
       "        const buttonEl =\n",
       "          document.querySelector('#df-72d7641e-2f29-4e7e-8b99-dd7c8fd67bcf button.colab-df-convert');\n",
       "        buttonEl.style.display =\n",
       "          google.colab.kernel.accessAllowed ? 'block' : 'none';\n",
       "\n",
       "        async function convertToInteractive(key) {\n",
       "          const element = document.querySelector('#df-72d7641e-2f29-4e7e-8b99-dd7c8fd67bcf');\n",
       "          const dataTable =\n",
       "            await google.colab.kernel.invokeFunction('convertToInteractive',\n",
       "                                                     [key], {});\n",
       "          if (!dataTable) return;\n",
       "\n",
       "          const docLinkHtml = 'Like what you see? Visit the ' +\n",
       "            '<a target=\"_blank\" href=https://colab.research.google.com/notebooks/data_table.ipynb>data table notebook</a>'\n",
       "            + ' to learn more about interactive tables.';\n",
       "          element.innerHTML = '';\n",
       "          dataTable['output_type'] = 'display_data';\n",
       "          await google.colab.output.renderOutput(dataTable, element);\n",
       "          const docLink = document.createElement('div');\n",
       "          docLink.innerHTML = docLinkHtml;\n",
       "          element.appendChild(docLink);\n",
       "        }\n",
       "      </script>\n",
       "    </div>\n",
       "  </div>\n",
       "  "
      ],
      "text/plain": [
       "                                Open       High        Low      Close  \\\n",
       "Date                                                                    \n",
       "2012-10-01 00:00:00-04:00  28.653592  30.618662  28.502917  28.760323   \n",
       "2012-10-02 00:00:00-04:00  28.860764  28.923545  28.641027  28.791704   \n",
       "2012-10-03 00:00:00-04:00  28.867047  29.130731  28.766596  29.055391   \n",
       "2012-10-04 00:00:00-04:00  29.137007  29.683207  29.137007  29.670650   \n",
       "2012-10-05 00:00:00-04:00  29.788071  30.035617  29.718250  29.864239   \n",
       "\n",
       "                             Volume  Dividends  Stock Splits  \n",
       "Date                                                          \n",
       "2012-10-01 00:00:00-04:00  28873700      0.000             0  \n",
       "2012-10-02 00:00:00-04:00  10326800      0.000             0  \n",
       "2012-10-03 00:00:00-04:00  11907200      0.000             0  \n",
       "2012-10-04 00:00:00-04:00  16112600      0.000             0  \n",
       "2012-10-05 00:00:00-04:00  16909200      0.515             0  "
      ]
     },
     "execution_count": 9,
     "metadata": {},
     "output_type": "execute_result"
    }
   ],
   "source": [
    "stock_data.head()"
   ]
  },
  {
   "cell_type": "code",
   "execution_count": 10,
   "metadata": {
    "executionInfo": {
     "elapsed": 7,
     "status": "ok",
     "timestamp": 1667426311122,
     "user": {
      "displayName": "Dimitry Kirtsman",
      "userId": "11988189828040272864"
     },
     "user_tz": 420
    },
    "id": "vRUfJTL12Ejg"
   },
   "outputs": [],
   "source": [
    "#removing dividends and stocks splits\n",
    "data=stock_data.iloc[:, :5]"
   ]
  },
  {
   "cell_type": "code",
   "execution_count": 11,
   "metadata": {
    "executionInfo": {
     "elapsed": 7,
     "status": "ok",
     "timestamp": 1667426311123,
     "user": {
      "displayName": "Dimitry Kirtsman",
      "userId": "11988189828040272864"
     },
     "user_tz": 420
    },
    "id": "-NneKBELn2vM"
   },
   "outputs": [],
   "source": [
    "#data.to_csv(\"aapl_prices_vol.csv\")"
   ]
  },
  {
   "cell_type": "code",
   "execution_count": 12,
   "metadata": {
    "colab": {
     "base_uri": "https://localhost:8080/",
     "height": 439
    },
    "executionInfo": {
     "elapsed": 617,
     "status": "ok",
     "timestamp": 1667426311733,
     "user": {
      "displayName": "Dimitry Kirtsman",
      "userId": "11988189828040272864"
     },
     "user_tz": 420
    },
    "id": "Nrhye-HvVys3",
    "outputId": "dad8639a-80b0-4cae-a6be-c59221465dd2"
   },
   "outputs": [
    {
     "data": {
      "text/plain": [
       "Text(0.5, 0, '')"
      ]
     },
     "execution_count": 12,
     "metadata": {},
     "output_type": "execute_result"
    },
    {
     "data": {
      "image/png": "[encoded data removed]",
      "text/plain": [
       "<Figure size 648x504 with 1 Axes>"
      ]
     },
     "metadata": {
      "needs_background": "light"
     },
     "output_type": "display_data"
    }
   ],
   "source": [
    "#plot of stock price over the 10-year period\n",
    "data[\"Close\"].plot(figsize=(9,7))\n",
    "plt.grid(True)\n",
    "plt.title(\"{} Stock Price\".format(stock), size =17)\n",
    "plt.ylabel(\"Price\", size=15)\n",
    "plt.xlabel(\"\")"
   ]
  },
  {
   "cell_type": "code",
   "execution_count": 12,
   "metadata": {
    "executionInfo": {
     "elapsed": 14,
     "status": "ok",
     "timestamp": 1667426311734,
     "user": {
      "displayName": "Dimitry Kirtsman",
      "userId": "11988189828040272864"
     },
     "user_tz": 420
    },
    "id": "TYjlFBH52EmO"
   },
   "outputs": [],
   "source": []
  },
  {
   "cell_type": "code",
   "execution_count": 13,
   "metadata": {
    "executionInfo": {
     "elapsed": 13,
     "status": "ok",
     "timestamp": 1667426311734,
     "user": {
      "displayName": "Dimitry Kirtsman",
      "userId": "11988189828040272864"
     },
     "user_tz": 420
    },
    "id": "bGjW1zNKC1-k"
   },
   "outputs": [],
   "source": [
    "#adding technical indicators\n",
    "seq_len=21\n",
    "data[\"MA_20\"]= ta.SMA(data[\"Close\"], timeperiod=20)\n",
    "data[\"MA_50\"]= ta.SMA(data[\"Close\"], timeperiod=50)\n",
    "data[\"EXP_MA_20\"]= ta.EMA(data[\"Close\"], timeperiod=20)\n",
    "data[\"EXP_MA_50\"]= ta.EMA(data[\"Close\"], timeperiod=50)\n",
    "data[\"RSI\"] =ta.RSI(data[\"Close\"],timeperiod=seq_len)\n",
    "data[\"MACD\"],data[\"MACD_sign\"], data[\"MACD_hist\"]  =ta.MACD( data[\"Close\"].values )\n",
    "data[\"BB_upper\"], data[\"BB_middle\"], data[\"BB_lower\"] = ta.BBANDS(data[\"Close\"], timeperiod=seq_len, nbdevup=2, nbdevdn=2, matype=0)\n",
    "data[\"PPO\"]= ta.PPO(data[\"Close\"])\n",
    "data[\"MOM\"]=ta.MOM(data[\"Close\"], timeperiod=seq_len)\n",
    "data[\"Rate_Of_Change\"]=ta.ROCP(data[\"Close\"], timeperiod=1)"
   ]
  },
  {
   "cell_type": "code",
   "execution_count": 14,
   "metadata": {
    "executionInfo": {
     "elapsed": 12,
     "status": "ok",
     "timestamp": 1667426311734,
     "user": {
      "displayName": "Dimitry Kirtsman",
      "userId": "11988189828040272864"
     },
     "user_tz": 420
    },
    "id": "K9HevL-UoyIg"
   },
   "outputs": [],
   "source": [
    "#data.to_csv(\"aapl_prices_vol_tech.csv\")"
   ]
  },
  {
   "cell_type": "code",
   "execution_count": 15,
   "metadata": {
    "colab": {
     "base_uri": "https://localhost:8080/",
     "height": 238
    },
    "executionInfo": {
     "elapsed": 13,
     "status": "ok",
     "timestamp": 1667426311735,
     "user": {
      "displayName": "Dimitry Kirtsman",
      "userId": "11988189828040272864"
     },
     "user_tz": 420
    },
    "id": "17B7lYX3NLep",
    "outputId": "27769ad1-22af-4732-d879-25f87aec351d"
   },
   "outputs": [
    {
     "data": {
      "text/html": [
       "\n",
       "  <div id=\"df-7800aaa2-f175-4544-8a8d-57102193474b\">\n",
       "    <div class=\"colab-df-container\">\n",
       "      <div>\n",
       "<style scoped>\n",
       "    .dataframe tbody tr th:only-of-type {\n",
       "        vertical-align: middle;\n",
       "    }\n",
       "\n",
       "    .dataframe tbody tr th {\n",
       "        vertical-align: top;\n",
       "    }\n",
       "\n",
       "    .dataframe thead th {\n",
       "        text-align: right;\n",
       "    }\n",
       "</style>\n",
       "<table border=\"1\" class=\"dataframe\">\n",
       "  <thead>\n",
       "    <tr style=\"text-align: right;\">\n",
       "      <th></th>\n",
       "      <th>Open</th>\n",
       "      <th>High</th>\n",
       "      <th>Low</th>\n",
       "      <th>Close</th>\n",
       "      <th>Volume</th>\n",
       "      <th>MA_20</th>\n",
       "      <th>MA_50</th>\n",
       "      <th>EXP_MA_20</th>\n",
       "      <th>EXP_MA_50</th>\n",
       "      <th>RSI</th>\n",
       "      <th>MACD</th>\n",
       "      <th>MACD_sign</th>\n",
       "      <th>MACD_hist</th>\n",
       "      <th>BB_upper</th>\n",
       "      <th>BB_middle</th>\n",
       "      <th>BB_lower</th>\n",
       "      <th>PPO</th>\n",
       "      <th>MOM</th>\n",
       "      <th>Rate_Of_Change</th>\n",
       "    </tr>\n",
       "    <tr>\n",
       "      <th>Date</th>\n",
       "      <th></th>\n",
       "      <th></th>\n",
       "      <th></th>\n",
       "      <th></th>\n",
       "      <th></th>\n",
       "      <th></th>\n",
       "      <th></th>\n",
       "      <th></th>\n",
       "      <th></th>\n",
       "      <th></th>\n",
       "      <th></th>\n",
       "      <th></th>\n",
       "      <th></th>\n",
       "      <th></th>\n",
       "      <th></th>\n",
       "      <th></th>\n",
       "      <th></th>\n",
       "      <th></th>\n",
       "      <th></th>\n",
       "    </tr>\n",
       "  </thead>\n",
       "  <tbody>\n",
       "    <tr>\n",
       "      <th>2012-10-01 00:00:00-04:00</th>\n",
       "      <td>28.653592</td>\n",
       "      <td>30.618662</td>\n",
       "      <td>28.502917</td>\n",
       "      <td>28.760323</td>\n",
       "      <td>28873700</td>\n",
       "      <td>NaN</td>\n",
       "      <td>NaN</td>\n",
       "      <td>NaN</td>\n",
       "      <td>NaN</td>\n",
       "      <td>NaN</td>\n",
       "      <td>NaN</td>\n",
       "      <td>NaN</td>\n",
       "      <td>NaN</td>\n",
       "      <td>NaN</td>\n",
       "      <td>NaN</td>\n",
       "      <td>NaN</td>\n",
       "      <td>NaN</td>\n",
       "      <td>NaN</td>\n",
       "      <td>NaN</td>\n",
       "    </tr>\n",
       "    <tr>\n",
       "      <th>2012-10-02 00:00:00-04:00</th>\n",
       "      <td>28.860764</td>\n",
       "      <td>28.923545</td>\n",
       "      <td>28.641027</td>\n",
       "      <td>28.791704</td>\n",
       "      <td>10326800</td>\n",
       "      <td>NaN</td>\n",
       "      <td>NaN</td>\n",
       "      <td>NaN</td>\n",
       "      <td>NaN</td>\n",
       "      <td>NaN</td>\n",
       "      <td>NaN</td>\n",
       "      <td>NaN</td>\n",
       "      <td>NaN</td>\n",
       "      <td>NaN</td>\n",
       "      <td>NaN</td>\n",
       "      <td>NaN</td>\n",
       "      <td>NaN</td>\n",
       "      <td>NaN</td>\n",
       "      <td>0.001091</td>\n",
       "    </tr>\n",
       "    <tr>\n",
       "      <th>2012-10-03 00:00:00-04:00</th>\n",
       "      <td>28.867047</td>\n",
       "      <td>29.130731</td>\n",
       "      <td>28.766596</td>\n",
       "      <td>29.055391</td>\n",
       "      <td>11907200</td>\n",
       "      <td>NaN</td>\n",
       "      <td>NaN</td>\n",
       "      <td>NaN</td>\n",
       "      <td>NaN</td>\n",
       "      <td>NaN</td>\n",
       "      <td>NaN</td>\n",
       "      <td>NaN</td>\n",
       "      <td>NaN</td>\n",
       "      <td>NaN</td>\n",
       "      <td>NaN</td>\n",
       "      <td>NaN</td>\n",
       "      <td>NaN</td>\n",
       "      <td>NaN</td>\n",
       "      <td>0.009158</td>\n",
       "    </tr>\n",
       "    <tr>\n",
       "      <th>2012-10-04 00:00:00-04:00</th>\n",
       "      <td>29.137007</td>\n",
       "      <td>29.683207</td>\n",
       "      <td>29.137007</td>\n",
       "      <td>29.670650</td>\n",
       "      <td>16112600</td>\n",
       "      <td>NaN</td>\n",
       "      <td>NaN</td>\n",
       "      <td>NaN</td>\n",
       "      <td>NaN</td>\n",
       "      <td>NaN</td>\n",
       "      <td>NaN</td>\n",
       "      <td>NaN</td>\n",
       "      <td>NaN</td>\n",
       "      <td>NaN</td>\n",
       "      <td>NaN</td>\n",
       "      <td>NaN</td>\n",
       "      <td>NaN</td>\n",
       "      <td>NaN</td>\n",
       "      <td>0.021175</td>\n",
       "    </tr>\n",
       "    <tr>\n",
       "      <th>2012-10-05 00:00:00-04:00</th>\n",
       "      <td>29.788071</td>\n",
       "      <td>30.035617</td>\n",
       "      <td>29.718250</td>\n",
       "      <td>29.864239</td>\n",
       "      <td>16909200</td>\n",
       "      <td>NaN</td>\n",
       "      <td>NaN</td>\n",
       "      <td>NaN</td>\n",
       "      <td>NaN</td>\n",
       "      <td>NaN</td>\n",
       "      <td>NaN</td>\n",
       "      <td>NaN</td>\n",
       "      <td>NaN</td>\n",
       "      <td>NaN</td>\n",
       "      <td>NaN</td>\n",
       "      <td>NaN</td>\n",
       "      <td>NaN</td>\n",
       "      <td>NaN</td>\n",
       "      <td>0.006525</td>\n",
       "    </tr>\n",
       "  </tbody>\n",
       "</table>\n",
       "</div>\n",
       "      <button class=\"colab-df-convert\" onclick=\"convertToInteractive('df-7800aaa2-f175-4544-8a8d-57102193474b')\"\n",
       "              title=\"Convert this dataframe to an interactive table.\"\n",
       "              style=\"display:none;\">\n",
       "        \n",
       "  <svg xmlns=\"http://www.w3.org/2000/svg\" height=\"24px\"viewBox=\"0 0 24 24\"\n",
       "       width=\"24px\">\n",
       "    <path d=\"M0 0h24v24H0V0z\" fill=\"none\"/>\n",
       "    <path d=\"M18.56 5.44l.94 2.06.94-2.06 2.06-.94-2.06-.94-.94-2.06-.94 2.06-2.06.94zm-11 1L8.5 8.5l.94-2.06 2.06-.94-2.06-.94L8.5 2.5l-.94 2.06-2.06.94zm10 10l.94 2.06.94-2.06 2.06-.94-2.06-.94-.94-2.06-.94 2.06-2.06.94z\"/><path d=\"M17.41 7.96l-1.37-1.37c-.4-.4-.92-.59-1.43-.59-.52 0-1.04.2-1.43.59L10.3 9.45l-7.72 7.72c-.78.78-.78 2.05 0 2.83L4 21.41c.39.39.9.59 1.41.59.51 0 1.02-.2 1.41-.59l7.78-7.78 2.81-2.81c.8-.78.8-2.07 0-2.86zM5.41 20L4 18.59l7.72-7.72 1.47 1.35L5.41 20z\"/>\n",
       "  </svg>\n",
       "      </button>\n",
       "      \n",
       "  <style>\n",
       "    .colab-df-container {\n",
       "      display:flex;\n",
       "      flex-wrap:wrap;\n",
       "      gap: 12px;\n",
       "    }\n",
       "\n",
       "    .colab-df-convert {\n",
       "      background-color: #E8F0FE;\n",
       "      border: none;\n",
       "      border-radius: 50%;\n",
       "      cursor: pointer;\n",
       "      display: none;\n",
       "      fill: #1967D2;\n",
       "      height: 32px;\n",
       "      padding: 0 0 0 0;\n",
       "      width: 32px;\n",
       "    }\n",
       "\n",
       "    .colab-df-convert:hover {\n",
       "      background-color: #E2EBFA;\n",
       "      box-shadow: 0px 1px 2px rgba(60, 64, 67, 0.3), 0px 1px 3px 1px rgba(60, 64, 67, 0.15);\n",
       "      fill: #174EA6;\n",
       "    }\n",
       "\n",
       "    [theme=dark] .colab-df-convert {\n",
       "      background-color: #3B4455;\n",
       "      fill: #D2E3FC;\n",
       "    }\n",
       "\n",
       "    [theme=dark] .colab-df-convert:hover {\n",
       "      background-color: #434B5C;\n",
       "      box-shadow: 0px 1px 3px 1px rgba(0, 0, 0, 0.15);\n",
       "      filter: drop-shadow(0px 1px 2px rgba(0, 0, 0, 0.3));\n",
       "      fill: #FFFFFF;\n",
       "    }\n",
       "  </style>\n",
       "\n",
       "      <script>\n",
       "        const buttonEl =\n",
       "          document.querySelector('#df-7800aaa2-f175-4544-8a8d-57102193474b button.colab-df-convert');\n",
       "        buttonEl.style.display =\n",
       "          google.colab.kernel.accessAllowed ? 'block' : 'none';\n",
       "\n",
       "        async function convertToInteractive(key) {\n",
       "          const element = document.querySelector('#df-7800aaa2-f175-4544-8a8d-57102193474b');\n",
       "          const dataTable =\n",
       "            await google.colab.kernel.invokeFunction('convertToInteractive',\n",
       "                                                     [key], {});\n",
       "          if (!dataTable) return;\n",
       "\n",
       "          const docLinkHtml = 'Like what you see? Visit the ' +\n",
       "            '<a target=\"_blank\" href=https://colab.research.google.com/notebooks/data_table.ipynb>data table notebook</a>'\n",
       "            + ' to learn more about interactive tables.';\n",
       "          element.innerHTML = '';\n",
       "          dataTable['output_type'] = 'display_data';\n",
       "          await google.colab.output.renderOutput(dataTable, element);\n",
       "          const docLink = document.createElement('div');\n",
       "          docLink.innerHTML = docLinkHtml;\n",
       "          element.appendChild(docLink);\n",
       "        }\n",
       "      </script>\n",
       "    </div>\n",
       "  </div>\n",
       "  "
      ],
      "text/plain": [
       "                                Open       High        Low      Close  \\\n",
       "Date                                                                    \n",
       "2012-10-01 00:00:00-04:00  28.653592  30.618662  28.502917  28.760323   \n",
       "2012-10-02 00:00:00-04:00  28.860764  28.923545  28.641027  28.791704   \n",
       "2012-10-03 00:00:00-04:00  28.867047  29.130731  28.766596  29.055391   \n",
       "2012-10-04 00:00:00-04:00  29.137007  29.683207  29.137007  29.670650   \n",
       "2012-10-05 00:00:00-04:00  29.788071  30.035617  29.718250  29.864239   \n",
       "\n",
       "                             Volume  MA_20  MA_50  EXP_MA_20  EXP_MA_50  RSI  \\\n",
       "Date                                                                           \n",
       "2012-10-01 00:00:00-04:00  28873700    NaN    NaN        NaN        NaN  NaN   \n",
       "2012-10-02 00:00:00-04:00  10326800    NaN    NaN        NaN        NaN  NaN   \n",
       "2012-10-03 00:00:00-04:00  11907200    NaN    NaN        NaN        NaN  NaN   \n",
       "2012-10-04 00:00:00-04:00  16112600    NaN    NaN        NaN        NaN  NaN   \n",
       "2012-10-05 00:00:00-04:00  16909200    NaN    NaN        NaN        NaN  NaN   \n",
       "\n",
       "                           MACD  MACD_sign  MACD_hist  BB_upper  BB_middle  \\\n",
       "Date                                                                         \n",
       "2012-10-01 00:00:00-04:00   NaN        NaN        NaN       NaN        NaN   \n",
       "2012-10-02 00:00:00-04:00   NaN        NaN        NaN       NaN        NaN   \n",
       "2012-10-03 00:00:00-04:00   NaN        NaN        NaN       NaN        NaN   \n",
       "2012-10-04 00:00:00-04:00   NaN        NaN        NaN       NaN        NaN   \n",
       "2012-10-05 00:00:00-04:00   NaN        NaN        NaN       NaN        NaN   \n",
       "\n",
       "                           BB_lower  PPO  MOM  Rate_Of_Change  \n",
       "Date                                                           \n",
       "2012-10-01 00:00:00-04:00       NaN  NaN  NaN             NaN  \n",
       "2012-10-02 00:00:00-04:00       NaN  NaN  NaN        0.001091  \n",
       "2012-10-03 00:00:00-04:00       NaN  NaN  NaN        0.009158  \n",
       "2012-10-04 00:00:00-04:00       NaN  NaN  NaN        0.021175  \n",
       "2012-10-05 00:00:00-04:00       NaN  NaN  NaN        0.006525  "
      ]
     },
     "execution_count": 15,
     "metadata": {},
     "output_type": "execute_result"
    }
   ],
   "source": [
    "#technical variables have up to 50 days as n/a due to how they are constructed (example 50-day moving avarage)\n",
    "data.head()"
   ]
  },
  {
   "cell_type": "code",
   "execution_count": 15,
   "metadata": {
    "executionInfo": {
     "elapsed": 11,
     "status": "ok",
     "timestamp": 1667426311735,
     "user": {
      "displayName": "Dimitry Kirtsman",
      "userId": "11988189828040272864"
     },
     "user_tz": 420
    },
    "id": "cTIz6RNYNLhW"
   },
   "outputs": [],
   "source": []
  },
  {
   "cell_type": "code",
   "execution_count": 16,
   "metadata": {
    "executionInfo": {
     "elapsed": 11,
     "status": "ok",
     "timestamp": 1667426311735,
     "user": {
      "displayName": "Dimitry Kirtsman",
      "userId": "11988189828040272864"
     },
     "user_tz": 420
    },
    "id": "HxdNsfo2NLjv"
   },
   "outputs": [],
   "source": [
    "#removing the n/a's from technical variable creation\n",
    "data=data.iloc[49:,:]"
   ]
  },
  {
   "cell_type": "code",
   "execution_count": 17,
   "metadata": {
    "colab": {
     "base_uri": "https://localhost:8080/",
     "height": 238
    },
    "executionInfo": {
     "elapsed": 12,
     "status": "ok",
     "timestamp": 1667426311736,
     "user": {
      "displayName": "Dimitry Kirtsman",
      "userId": "11988189828040272864"
     },
     "user_tz": 420
    },
    "id": "8gllyoBWaKAw",
    "outputId": "0b798e17-637b-4fbd-d4f6-9442034861de"
   },
   "outputs": [
    {
     "data": {
      "text/html": [
       "\n",
       "  <div id=\"df-66fa480a-46ff-4106-8d99-5207acfc6435\">\n",
       "    <div class=\"colab-df-container\">\n",
       "      <div>\n",
       "<style scoped>\n",
       "    .dataframe tbody tr th:only-of-type {\n",
       "        vertical-align: middle;\n",
       "    }\n",
       "\n",
       "    .dataframe tbody tr th {\n",
       "        vertical-align: top;\n",
       "    }\n",
       "\n",
       "    .dataframe thead th {\n",
       "        text-align: right;\n",
       "    }\n",
       "</style>\n",
       "<table border=\"1\" class=\"dataframe\">\n",
       "  <thead>\n",
       "    <tr style=\"text-align: right;\">\n",
       "      <th></th>\n",
       "      <th>Open</th>\n",
       "      <th>High</th>\n",
       "      <th>Low</th>\n",
       "      <th>Close</th>\n",
       "      <th>Volume</th>\n",
       "      <th>MA_20</th>\n",
       "      <th>MA_50</th>\n",
       "      <th>EXP_MA_20</th>\n",
       "      <th>EXP_MA_50</th>\n",
       "      <th>RSI</th>\n",
       "      <th>MACD</th>\n",
       "      <th>MACD_sign</th>\n",
       "      <th>MACD_hist</th>\n",
       "      <th>BB_upper</th>\n",
       "      <th>BB_middle</th>\n",
       "      <th>BB_lower</th>\n",
       "      <th>PPO</th>\n",
       "      <th>MOM</th>\n",
       "      <th>Rate_Of_Change</th>\n",
       "    </tr>\n",
       "    <tr>\n",
       "      <th>Date</th>\n",
       "      <th></th>\n",
       "      <th></th>\n",
       "      <th></th>\n",
       "      <th></th>\n",
       "      <th></th>\n",
       "      <th></th>\n",
       "      <th></th>\n",
       "      <th></th>\n",
       "      <th></th>\n",
       "      <th></th>\n",
       "      <th></th>\n",
       "      <th></th>\n",
       "      <th></th>\n",
       "      <th></th>\n",
       "      <th></th>\n",
       "      <th></th>\n",
       "      <th></th>\n",
       "      <th></th>\n",
       "      <th></th>\n",
       "    </tr>\n",
       "  </thead>\n",
       "  <tbody>\n",
       "    <tr>\n",
       "      <th>2012-12-12 00:00:00-05:00</th>\n",
       "      <td>28.302803</td>\n",
       "      <td>28.524959</td>\n",
       "      <td>28.194897</td>\n",
       "      <td>28.429750</td>\n",
       "      <td>10741000</td>\n",
       "      <td>27.606187</td>\n",
       "      <td>28.067975</td>\n",
       "      <td>27.885449</td>\n",
       "      <td>28.067975</td>\n",
       "      <td>54.720326</td>\n",
       "      <td>0.090271</td>\n",
       "      <td>-0.041451</td>\n",
       "      <td>0.131722</td>\n",
       "      <td>28.735885</td>\n",
       "      <td>27.577397</td>\n",
       "      <td>26.418909</td>\n",
       "      <td>1.573129</td>\n",
       "      <td>1.415459</td>\n",
       "      <td>0.007876</td>\n",
       "    </tr>\n",
       "    <tr>\n",
       "      <th>2012-12-13 00:00:00-05:00</th>\n",
       "      <td>28.461496</td>\n",
       "      <td>28.461496</td>\n",
       "      <td>28.137782</td>\n",
       "      <td>28.258381</td>\n",
       "      <td>8303600</td>\n",
       "      <td>27.678547</td>\n",
       "      <td>28.057937</td>\n",
       "      <td>27.920966</td>\n",
       "      <td>28.075442</td>\n",
       "      <td>52.872886</td>\n",
       "      <td>0.105425</td>\n",
       "      <td>-0.012076</td>\n",
       "      <td>0.117500</td>\n",
       "      <td>28.800406</td>\n",
       "      <td>27.637244</td>\n",
       "      <td>26.474081</td>\n",
       "      <td>1.849145</td>\n",
       "      <td>1.256783</td>\n",
       "      <td>-0.006028</td>\n",
       "    </tr>\n",
       "    <tr>\n",
       "      <th>2012-12-14 00:00:00-05:00</th>\n",
       "      <td>28.194891</td>\n",
       "      <td>28.455135</td>\n",
       "      <td>28.048903</td>\n",
       "      <td>28.061598</td>\n",
       "      <td>10604700</td>\n",
       "      <td>27.758205</td>\n",
       "      <td>28.043334</td>\n",
       "      <td>27.934360</td>\n",
       "      <td>28.074899</td>\n",
       "      <td>50.804794</td>\n",
       "      <td>0.100398</td>\n",
       "      <td>0.010419</td>\n",
       "      <td>0.089979</td>\n",
       "      <td>28.811726</td>\n",
       "      <td>27.696788</td>\n",
       "      <td>26.581849</td>\n",
       "      <td>1.881868</td>\n",
       "      <td>1.250418</td>\n",
       "      <td>-0.006964</td>\n",
       "    </tr>\n",
       "    <tr>\n",
       "      <th>2012-12-17 00:00:00-05:00</th>\n",
       "      <td>28.086997</td>\n",
       "      <td>28.118733</td>\n",
       "      <td>27.839450</td>\n",
       "      <td>28.004480</td>\n",
       "      <td>12605300</td>\n",
       "      <td>27.844529</td>\n",
       "      <td>28.022316</td>\n",
       "      <td>27.941038</td>\n",
       "      <td>28.072138</td>\n",
       "      <td>50.206292</td>\n",
       "      <td>0.090759</td>\n",
       "      <td>0.026487</td>\n",
       "      <td>0.064272</td>\n",
       "      <td>28.745801</td>\n",
       "      <td>27.769933</td>\n",
       "      <td>26.794064</td>\n",
       "      <td>1.766859</td>\n",
       "      <td>1.536049</td>\n",
       "      <td>-0.002035</td>\n",
       "    </tr>\n",
       "    <tr>\n",
       "      <th>2012-12-18 00:00:00-05:00</th>\n",
       "      <td>28.004478</td>\n",
       "      <td>28.029868</td>\n",
       "      <td>27.572859</td>\n",
       "      <td>27.845795</td>\n",
       "      <td>24653200</td>\n",
       "      <td>27.878169</td>\n",
       "      <td>27.985819</td>\n",
       "      <td>27.931967</td>\n",
       "      <td>28.063262</td>\n",
       "      <td>48.538265</td>\n",
       "      <td>0.069514</td>\n",
       "      <td>0.035093</td>\n",
       "      <td>0.034422</td>\n",
       "      <td>28.556737</td>\n",
       "      <td>27.844589</td>\n",
       "      <td>27.132441</td>\n",
       "      <td>1.608385</td>\n",
       "      <td>1.567781</td>\n",
       "      <td>-0.005666</td>\n",
       "    </tr>\n",
       "  </tbody>\n",
       "</table>\n",
       "</div>\n",
       "      <button class=\"colab-df-convert\" onclick=\"convertToInteractive('df-66fa480a-46ff-4106-8d99-5207acfc6435')\"\n",
       "              title=\"Convert this dataframe to an interactive table.\"\n",
       "              style=\"display:none;\">\n",
       "        \n",
       "  <svg xmlns=\"http://www.w3.org/2000/svg\" height=\"24px\"viewBox=\"0 0 24 24\"\n",
       "       width=\"24px\">\n",
       "    <path d=\"M0 0h24v24H0V0z\" fill=\"none\"/>\n",
       "    <path d=\"M18.56 5.44l.94 2.06.94-2.06 2.06-.94-2.06-.94-.94-2.06-.94 2.06-2.06.94zm-11 1L8.5 8.5l.94-2.06 2.06-.94-2.06-.94L8.5 2.5l-.94 2.06-2.06.94zm10 10l.94 2.06.94-2.06 2.06-.94-2.06-.94-.94-2.06-.94 2.06-2.06.94z\"/><path d=\"M17.41 7.96l-1.37-1.37c-.4-.4-.92-.59-1.43-.59-.52 0-1.04.2-1.43.59L10.3 9.45l-7.72 7.72c-.78.78-.78 2.05 0 2.83L4 21.41c.39.39.9.59 1.41.59.51 0 1.02-.2 1.41-.59l7.78-7.78 2.81-2.81c.8-.78.8-2.07 0-2.86zM5.41 20L4 18.59l7.72-7.72 1.47 1.35L5.41 20z\"/>\n",
       "  </svg>\n",
       "      </button>\n",
       "      \n",
       "  <style>\n",
       "    .colab-df-container {\n",
       "      display:flex;\n",
       "      flex-wrap:wrap;\n",
       "      gap: 12px;\n",
       "    }\n",
       "\n",
       "    .colab-df-convert {\n",
       "      background-color: #E8F0FE;\n",
       "      border: none;\n",
       "      border-radius: 50%;\n",
       "      cursor: pointer;\n",
       "      display: none;\n",
       "      fill: #1967D2;\n",
       "      height: 32px;\n",
       "      padding: 0 0 0 0;\n",
       "      width: 32px;\n",
       "    }\n",
       "\n",
       "    .colab-df-convert:hover {\n",
       "      background-color: #E2EBFA;\n",
       "      box-shadow: 0px 1px 2px rgba(60, 64, 67, 0.3), 0px 1px 3px 1px rgba(60, 64, 67, 0.15);\n",
       "      fill: #174EA6;\n",
       "    }\n",
       "\n",
       "    [theme=dark] .colab-df-convert {\n",
       "      background-color: #3B4455;\n",
       "      fill: #D2E3FC;\n",
       "    }\n",
       "\n",
       "    [theme=dark] .colab-df-convert:hover {\n",
       "      background-color: #434B5C;\n",
       "      box-shadow: 0px 1px 3px 1px rgba(0, 0, 0, 0.15);\n",
       "      filter: drop-shadow(0px 1px 2px rgba(0, 0, 0, 0.3));\n",
       "      fill: #FFFFFF;\n",
       "    }\n",
       "  </style>\n",
       "\n",
       "      <script>\n",
       "        const buttonEl =\n",
       "          document.querySelector('#df-66fa480a-46ff-4106-8d99-5207acfc6435 button.colab-df-convert');\n",
       "        buttonEl.style.display =\n",
       "          google.colab.kernel.accessAllowed ? 'block' : 'none';\n",
       "\n",
       "        async function convertToInteractive(key) {\n",
       "          const element = document.querySelector('#df-66fa480a-46ff-4106-8d99-5207acfc6435');\n",
       "          const dataTable =\n",
       "            await google.colab.kernel.invokeFunction('convertToInteractive',\n",
       "                                                     [key], {});\n",
       "          if (!dataTable) return;\n",
       "\n",
       "          const docLinkHtml = 'Like what you see? Visit the ' +\n",
       "            '<a target=\"_blank\" href=https://colab.research.google.com/notebooks/data_table.ipynb>data table notebook</a>'\n",
       "            + ' to learn more about interactive tables.';\n",
       "          element.innerHTML = '';\n",
       "          dataTable['output_type'] = 'display_data';\n",
       "          await google.colab.output.renderOutput(dataTable, element);\n",
       "          const docLink = document.createElement('div');\n",
       "          docLink.innerHTML = docLinkHtml;\n",
       "          element.appendChild(docLink);\n",
       "        }\n",
       "      </script>\n",
       "    </div>\n",
       "  </div>\n",
       "  "
      ],
      "text/plain": [
       "                                Open       High        Low      Close  \\\n",
       "Date                                                                    \n",
       "2012-12-12 00:00:00-05:00  28.302803  28.524959  28.194897  28.429750   \n",
       "2012-12-13 00:00:00-05:00  28.461496  28.461496  28.137782  28.258381   \n",
       "2012-12-14 00:00:00-05:00  28.194891  28.455135  28.048903  28.061598   \n",
       "2012-12-17 00:00:00-05:00  28.086997  28.118733  27.839450  28.004480   \n",
       "2012-12-18 00:00:00-05:00  28.004478  28.029868  27.572859  27.845795   \n",
       "\n",
       "                             Volume      MA_20      MA_50  EXP_MA_20  \\\n",
       "Date                                                                   \n",
       "2012-12-12 00:00:00-05:00  10741000  27.606187  28.067975  27.885449   \n",
       "2012-12-13 00:00:00-05:00   8303600  27.678547  28.057937  27.920966   \n",
       "2012-12-14 00:00:00-05:00  10604700  27.758205  28.043334  27.934360   \n",
       "2012-12-17 00:00:00-05:00  12605300  27.844529  28.022316  27.941038   \n",
       "2012-12-18 00:00:00-05:00  24653200  27.878169  27.985819  27.931967   \n",
       "\n",
       "                           EXP_MA_50        RSI      MACD  MACD_sign  \\\n",
       "Date                                                                   \n",
       "2012-12-12 00:00:00-05:00  28.067975  54.720326  0.090271  -0.041451   \n",
       "2012-12-13 00:00:00-05:00  28.075442  52.872886  0.105425  -0.012076   \n",
       "2012-12-14 00:00:00-05:00  28.074899  50.804794  0.100398   0.010419   \n",
       "2012-12-17 00:00:00-05:00  28.072138  50.206292  0.090759   0.026487   \n",
       "2012-12-18 00:00:00-05:00  28.063262  48.538265  0.069514   0.035093   \n",
       "\n",
       "                           MACD_hist   BB_upper  BB_middle   BB_lower  \\\n",
       "Date                                                                    \n",
       "2012-12-12 00:00:00-05:00   0.131722  28.735885  27.577397  26.418909   \n",
       "2012-12-13 00:00:00-05:00   0.117500  28.800406  27.637244  26.474081   \n",
       "2012-12-14 00:00:00-05:00   0.089979  28.811726  27.696788  26.581849   \n",
       "2012-12-17 00:00:00-05:00   0.064272  28.745801  27.769933  26.794064   \n",
       "2012-12-18 00:00:00-05:00   0.034422  28.556737  27.844589  27.132441   \n",
       "\n",
       "                                PPO       MOM  Rate_Of_Change  \n",
       "Date                                                           \n",
       "2012-12-12 00:00:00-05:00  1.573129  1.415459        0.007876  \n",
       "2012-12-13 00:00:00-05:00  1.849145  1.256783       -0.006028  \n",
       "2012-12-14 00:00:00-05:00  1.881868  1.250418       -0.006964  \n",
       "2012-12-17 00:00:00-05:00  1.766859  1.536049       -0.002035  \n",
       "2012-12-18 00:00:00-05:00  1.608385  1.567781       -0.005666  "
      ]
     },
     "execution_count": 17,
     "metadata": {},
     "output_type": "execute_result"
    }
   ],
   "source": [
    "data.head()"
   ]
  },
  {
   "cell_type": "code",
   "execution_count": 18,
   "metadata": {
    "colab": {
     "base_uri": "https://localhost:8080/"
    },
    "executionInfo": {
     "elapsed": 11,
     "status": "ok",
     "timestamp": 1667426311736,
     "user": {
      "displayName": "Dimitry Kirtsman",
      "userId": "11988189828040272864"
     },
     "user_tz": 420
    },
    "id": "n1t5zgDNNLmf",
    "outputId": "2d09cb48-45c2-418a-ecb6-4a6fadf7fffa"
   },
   "outputs": [
    {
     "name": "stdout",
     "output_type": "stream",
     "text": [
      "Open              0\n",
      "High              0\n",
      "Low               0\n",
      "Close             0\n",
      "Volume            0\n",
      "MA_20             0\n",
      "MA_50             0\n",
      "EXP_MA_20         0\n",
      "EXP_MA_50         0\n",
      "RSI               0\n",
      "MACD              0\n",
      "MACD_sign         0\n",
      "MACD_hist         0\n",
      "BB_upper          0\n",
      "BB_middle         0\n",
      "BB_lower          0\n",
      "PPO               0\n",
      "MOM               0\n",
      "Rate_Of_Change    0\n",
      "dtype: int64\n"
     ]
    }
   ],
   "source": [
    "#checking that there are no NAs.\n",
    "print(data.isna().sum())"
   ]
  },
  {
   "cell_type": "code",
   "execution_count": 18,
   "metadata": {
    "executionInfo": {
     "elapsed": 9,
     "status": "ok",
     "timestamp": 1667426311736,
     "user": {
      "displayName": "Dimitry Kirtsman",
      "userId": "11988189828040272864"
     },
     "user_tz": 420
    },
    "id": "slVBU5PhGOyM"
   },
   "outputs": [],
   "source": []
  },
  {
   "cell_type": "code",
   "execution_count": 19,
   "metadata": {
    "colab": {
     "base_uri": "https://localhost:8080/"
    },
    "executionInfo": {
     "elapsed": 1037,
     "status": "ok",
     "timestamp": 1667426312764,
     "user": {
      "displayName": "Dimitry Kirtsman",
      "userId": "11988189828040272864"
     },
     "user_tz": 420
    },
    "id": "1gGve7t72oGg",
    "outputId": "3ffed3c6-c5b8-4aa7-a1ae-28404f4a666e"
   },
   "outputs": [
    {
     "name": "stdout",
     "output_type": "stream",
     "text": [
      "(2446, 21, 19)\n",
      "(2446, 1)\n"
     ]
    }
   ],
   "source": [
    "#creating X features  in the shape of [observations by time steps by features], which is neccessary for LSTMs. The y labels are in vector shape. \n",
    "X_samples=[]\n",
    "y_samples=[]\n",
    "num_features=data.shape[1]\n",
    "num_rows=len(data)\n",
    "#time steps are approximetly a month\n",
    "seq_len=21\n",
    "\n",
    "for i in range(seq_len, num_rows):\n",
    "  x_step=data[i-seq_len: i]\n",
    "  y_step=data[\"Close\"][i]\n",
    "  X_samples.append(x_step)\n",
    "  y_samples.append(y_step)\n",
    "\n",
    "X_data=np.array(X_samples)\n",
    "X_data=X_data.reshape(X_data.shape[0], X_data.shape[1], num_features)\n",
    "print(X_data.shape)\n",
    "\n",
    "y_data=np.array(y_samples)\n",
    "y_data=y_data.reshape(y_data.shape[0],1)\n",
    "\n",
    "#checking shape\n",
    "print(y_data.shape)"
   ]
  },
  {
   "cell_type": "code",
   "execution_count": 20,
   "metadata": {
    "executionInfo": {
     "elapsed": 5,
     "status": "ok",
     "timestamp": 1667426312764,
     "user": {
      "displayName": "Dimitry Kirtsman",
      "userId": "11988189828040272864"
     },
     "user_tz": 420
    },
    "id": "ucEZqrUn2oI3"
   },
   "outputs": [],
   "source": [
    "#X_data[-1]"
   ]
  },
  {
   "cell_type": "code",
   "execution_count": 21,
   "metadata": {
    "executionInfo": {
     "elapsed": 6,
     "status": "ok",
     "timestamp": 1667426312765,
     "user": {
      "displayName": "Dimitry Kirtsman",
      "userId": "11988189828040272864"
     },
     "user_tz": 420
    },
    "id": "I6mVmgtJTnyW"
   },
   "outputs": [],
   "source": [
    "#data.tail()"
   ]
  },
  {
   "cell_type": "code",
   "execution_count": 21,
   "metadata": {
    "executionInfo": {
     "elapsed": 6,
     "status": "ok",
     "timestamp": 1667426312765,
     "user": {
      "displayName": "Dimitry Kirtsman",
      "userId": "11988189828040272864"
     },
     "user_tz": 420
    },
    "id": "tCv7YnHpHC41"
   },
   "outputs": [],
   "source": []
  },
  {
   "cell_type": "code",
   "execution_count": 22,
   "metadata": {
    "executionInfo": {
     "elapsed": 6,
     "status": "ok",
     "timestamp": 1667426312765,
     "user": {
      "displayName": "Dimitry Kirtsman",
      "userId": "11988189828040272864"
     },
     "user_tz": 420
    },
    "id": "kbzEENF0rDKe"
   },
   "outputs": [],
   "source": [
    "#creating train and validation sets for hyperparameter tuning. (X_test is created for completeness\n",
    "# but will not be utilized in the hyperparameter tunning stage. Instead a final test set will be created below for use in the final model\n",
    "#after hyperparameter tunning is complete)  \n",
    "\n",
    "# Choosing the number of validation set observations\n",
    "valsplit=500\n",
    "testsplit=250\n",
    "# Splitting the data into train and validation sets\n",
    "X_train=X_data[:-valsplit]\n",
    "X_val=X_data[-valsplit:-testsplit]\n",
    "X_test=X_data[-testsplit:]\n",
    "y_train=y_data[:-valsplit]\n",
    "y_val=y_data[-valsplit:-testsplit]\n",
    "y_test=y_data[-testsplit:]"
   ]
  },
  {
   "cell_type": "code",
   "execution_count": 22,
   "metadata": {
    "executionInfo": {
     "elapsed": 6,
     "status": "ok",
     "timestamp": 1667426312765,
     "user": {
      "displayName": "Dimitry Kirtsman",
      "userId": "11988189828040272864"
     },
     "user_tz": 420
    },
    "id": "772DU2qLcCi8"
   },
   "outputs": [],
   "source": []
  },
  {
   "cell_type": "code",
   "execution_count": 23,
   "metadata": {
    "colab": {
     "base_uri": "https://localhost:8080/"
    },
    "executionInfo": {
     "elapsed": 555,
     "status": "ok",
     "timestamp": 1667426313314,
     "user": {
      "displayName": "Dimitry Kirtsman",
      "userId": "11988189828040272864"
     },
     "user_tz": 420
    },
    "id": "T0uEyx2QLuEC",
    "outputId": "0302e863-1ab3-40d3-b499-0087ecdf1949"
   },
   "outputs": [
    {
     "name": "stdout",
     "output_type": "stream",
     "text": [
      "\n",
      "#### Training Data shape ####\n",
      "(1946, 21, 19)\n",
      "(1946, 1)\n",
      "\n",
      "#### Validation Data shape ####\n",
      "(250, 21, 19)\n",
      "(250, 1)\n",
      "\n",
      "#### Testing Data shape ####\n",
      "(250, 21, 19)\n",
      "(250, 1)\n"
     ]
    }
   ],
   "source": [
    "# Printing the shape of training and validation\n",
    "print('\\n#### Training Data shape ####')\n",
    "print(X_train.shape)\n",
    "print(y_train.shape)\n",
    "print('\\n#### Validation Data shape ####')\n",
    "print(X_val.shape)\n",
    "print(y_val.shape)\n",
    "print('\\n#### Testing Data shape ####')\n",
    "print(X_test.shape)\n",
    "print(y_test.shape)"
   ]
  },
  {
   "cell_type": "code",
   "execution_count": 24,
   "metadata": {
    "executionInfo": {
     "elapsed": 13,
     "status": "ok",
     "timestamp": 1667426313316,
     "user": {
      "displayName": "Dimitry Kirtsman",
      "userId": "11988189828040272864"
     },
     "user_tz": 420
    },
    "id": "D8_qIC4_bBd6"
   },
   "outputs": [],
   "source": [
    "#using MinMaxScaler to fit_transform on the train set and then just transform on the validation set so as to avoid data leakage \n",
    "scaler = MinMaxScaler()\n",
    "X_train = scaler.fit_transform(X_train.reshape(-1, X_train.shape[-1])).reshape(X_train.shape)\n",
    "X_val = scaler.transform(X_val.reshape(-1, X_val.shape[-1])).reshape(X_val.shape)\n",
    "X_test = scaler.transform(X_test.reshape(-1, X_test.shape[-1])).reshape(X_test.shape)\n",
    "\n",
    "scaler_y=MinMaxScaler()\n",
    "y_train=scaler_y.fit_transform(y_train)\n",
    "y_val=scaler_y.transform(y_val)\n",
    "y_test=scaler_y.transform(y_test)"
   ]
  },
  {
   "cell_type": "code",
   "execution_count": 24,
   "metadata": {
    "executionInfo": {
     "elapsed": 13,
     "status": "ok",
     "timestamp": 1667426313316,
     "user": {
      "displayName": "Dimitry Kirtsman",
      "userId": "11988189828040272864"
     },
     "user_tz": 420
    },
    "id": "Lulyx6IkcjR5"
   },
   "outputs": [],
   "source": []
  },
  {
   "cell_type": "code",
   "execution_count": 25,
   "metadata": {
    "executionInfo": {
     "elapsed": 12,
     "status": "ok",
     "timestamp": 1667426313316,
     "user": {
      "displayName": "Dimitry Kirtsman",
      "userId": "11988189828040272864"
     },
     "user_tz": 420
    },
    "id": "YRjak33rIeEq"
   },
   "outputs": [],
   "source": [
    "#Creating final train and test sets. This data is for the final model after the best model using hyperparameter tuning has been identified. \n",
    "#the train set now consists of the train and validation set observations. The test set data has not been observed by any model.\n",
    "# Choosing the number of testing data records\n",
    "testingsplit=250\n",
    " \n",
    "\n",
    "X_final_train=X_data[:-testingsplit]\n",
    "X_final_test=X_data[-testingsplit:]\n",
    "y_final_train=y_data[:-testingsplit]\n",
    "y_final_test=y_data[-testingsplit:]"
   ]
  },
  {
   "cell_type": "code",
   "execution_count": 26,
   "metadata": {
    "colab": {
     "base_uri": "https://localhost:8080/"
    },
    "executionInfo": {
     "elapsed": 12,
     "status": "ok",
     "timestamp": 1667426313316,
     "user": {
      "displayName": "Dimitry Kirtsman",
      "userId": "11988189828040272864"
     },
     "user_tz": 420
    },
    "id": "bDCrJbpmzYIA",
    "outputId": "165d1e4a-34d7-4632-b028-55739fc52d6b"
   },
   "outputs": [
    {
     "name": "stdout",
     "output_type": "stream",
     "text": [
      "\n",
      "#### Training Data shape ####\n",
      "(2196, 21, 19)\n",
      "(2196, 1)\n",
      "\n",
      "#### Testing Data shape ####\n",
      "(250, 21, 19)\n",
      "(250, 1)\n"
     ]
    }
   ],
   "source": [
    "print('\\n#### Training Data shape ####')\n",
    "print(X_final_train.shape)\n",
    "print(y_final_train.shape)\n",
    "\n",
    "print('\\n#### Testing Data shape ####')\n",
    "print(X_final_test.shape)\n",
    "print(y_final_test.shape)"
   ]
  },
  {
   "cell_type": "code",
   "execution_count": 27,
   "metadata": {
    "executionInfo": {
     "elapsed": 12,
     "status": "ok",
     "timestamp": 1667426313317,
     "user": {
      "displayName": "Dimitry Kirtsman",
      "userId": "11988189828040272864"
     },
     "user_tz": 420
    },
    "id": "9SOnnsgIIeEr"
   },
   "outputs": [],
   "source": [
    "#scalling the data for the final analysis after the train-validation stage. The scaler is different from before as it scales the train data set that is now composed of \n",
    "#the train and validation sets.\n",
    "scaler_final_X=MinMaxScaler()\n",
    "X_final_train = scaler_final_X.fit_transform(X_final_train.reshape(-1, X_final_train.shape[-1])).reshape(X_final_train.shape)\n",
    "X_final_test = scaler_final_X.transform(X_final_test.reshape(-1, X_final_test.shape[-1])).reshape(X_final_test.shape)\n",
    "\n",
    "scaler_final_y=MinMaxScaler()\n",
    "y_final_train=scaler_final_y.fit_transform(y_final_train)\n",
    "y_final_test=scaler_final_y.transform(y_final_test)"
   ]
  },
  {
   "cell_type": "code",
   "execution_count": 27,
   "metadata": {
    "executionInfo": {
     "elapsed": 12,
     "status": "ok",
     "timestamp": 1667426313317,
     "user": {
      "displayName": "Dimitry Kirtsman",
      "userId": "11988189828040272864"
     },
     "user_tz": 420
    },
    "id": "NKD-3itsQ_ck"
   },
   "outputs": [],
   "source": []
  },
  {
   "cell_type": "code",
   "execution_count": 27,
   "metadata": {
    "executionInfo": {
     "elapsed": 12,
     "status": "ok",
     "timestamp": 1667426313317,
     "user": {
      "displayName": "Dimitry Kirtsman",
      "userId": "11988189828040272864"
     },
     "user_tz": 420
    },
    "id": "Cxo93e75Q_e_"
   },
   "outputs": [],
   "source": []
  },
  {
   "cell_type": "markdown",
   "metadata": {
    "id": "MvB1FNtdRAxS"
   },
   "source": [
    "##Helpful Model Fitting and Results Functions"
   ]
  },
  {
   "cell_type": "code",
   "execution_count": 28,
   "metadata": {
    "executionInfo": {
     "elapsed": 12,
     "status": "ok",
     "timestamp": 1667426313317,
     "user": {
      "displayName": "Dimitry Kirtsman",
      "userId": "11988189828040272864"
     },
     "user_tz": 420
    },
    "id": "HE_kqh7ujHw7"
   },
   "outputs": [],
   "source": [
    "#function for compiling and training the model. \n",
    "def compile_train_model(model, x_train, y_train,  epochs=100, x_valid=None, y_valid=None, patience=3, optimizer='adam', final_model=False):\n",
    "    \n",
    "  \n",
    "    # Compile\n",
    "    model.compile(optimizer=optimizer,\n",
    "                loss = 'mse',\n",
    "                metrics=['mse'])\n",
    "    \n",
    "\n",
    "  # Train if final model there is no validation set.\n",
    "    if final_model:\n",
    "     \n",
    "      history = model.fit(\n",
    "        x_train,\n",
    "        y_train,\n",
    "        epochs=epochs,\n",
    "        batch_size=32,\n",
    "        verbose=1,\n",
    "        callbacks=[    \n",
    "          EarlyStopping(monitor='mse', patience=patience, restore_best_weights=True, verbose=0)]\n",
    "            )\n",
    "      \n",
    "    else:\n",
    "     \n",
    "      history = model.fit(\n",
    "        x_train,\n",
    "        y_train,\n",
    "        epochs=epochs,\n",
    "        batch_size=32,\n",
    "        validation_data=(x_valid, y_valid),\n",
    "        verbose=1,\n",
    "        callbacks=[    \n",
    "          EarlyStopping(monitor='val_mse', patience=patience, restore_best_weights=True, verbose=0)]\n",
    "            )\n",
    "    return history, model   \n",
    "    "
   ]
  },
  {
   "cell_type": "code",
   "execution_count": 28,
   "metadata": {
    "executionInfo": {
     "elapsed": 12,
     "status": "ok",
     "timestamp": 1667426313317,
     "user": {
      "displayName": "Dimitry Kirtsman",
      "userId": "11988189828040272864"
     },
     "user_tz": 420
    },
    "id": "10Xq4ST1Q9_E"
   },
   "outputs": [],
   "source": [
    "\n",
    "  "
   ]
  },
  {
   "cell_type": "code",
   "execution_count": 29,
   "metadata": {
    "executionInfo": {
     "elapsed": 13,
     "status": "ok",
     "timestamp": 1667426313318,
     "user": {
      "displayName": "Dimitry Kirtsman",
      "userId": "11988189828040272864"
     },
     "user_tz": 420
    },
    "id": "dskWi3ZJn4Pb"
   },
   "outputs": [],
   "source": [
    "#creating function for charts of train vs validation loss functions\n",
    "def train_val_loss_charts(model_history, model_num):\n",
    "    model_df=pd.DataFrame(model_history.history)\n",
    "\n",
    "    model_df[[\"loss\",\"val_loss\"]].plot(figsize=(9,7))\n",
    "    plt.grid(True)\n",
    "    plt.title(\"LSTM - Train vs. Validation Loss for {}\".format(model_num), size =17)\n",
    "    plt.xlabel(\"Epochs\", size=15)\n",
    "\n",
    "    plt.show()    "
   ]
  },
  {
   "cell_type": "code",
   "execution_count": 30,
   "metadata": {
    "executionInfo": {
     "elapsed": 13,
     "status": "ok",
     "timestamp": 1667426313318,
     "user": {
      "displayName": "Dimitry Kirtsman",
      "userId": "11988189828040272864"
     },
     "user_tz": 420
    },
    "id": "ujvOf4tVdMyb"
   },
   "outputs": [],
   "source": [
    "#from https://www.statology.org/matplotlib-abline/\n",
    "def abline(slope, intercept):\n",
    "     axes = plt.gca()\n",
    "     x_vals = np.array(axes.get_xlim())\n",
    "     y_vals = intercept + slope * x_vals\n",
    "     plt.plot(x_vals, y_vals, '--', color=\"red\")"
   ]
  },
  {
   "cell_type": "code",
   "execution_count": 31,
   "metadata": {
    "executionInfo": {
     "elapsed": 12,
     "status": "ok",
     "timestamp": 1667426313318,
     "user": {
      "displayName": "Dimitry Kirtsman",
      "userId": "11988189828040272864"
     },
     "user_tz": 420
    },
    "id": "h0rLxV5yokWy"
   },
   "outputs": [],
   "source": [
    "#creating rmse, MAPE, MAE and R calculation for price levels using inverese_transform on the y_scaller\n",
    "\n",
    "def price_level_evaluation_stats(model, X_train, y_train, X_test, y_test, stock, final_model=False):\n",
    "    \n",
    "    if final_model:\n",
    "\n",
    "      #getting final model predictions for train and test\n",
    "      train_predict=model.predict(X_train, verbose=0)\n",
    "      test_predict=model.predict(X_test, verbose=0)\n",
    "\n",
    "      #unscaling to get price level predictions\n",
    "      train_predict_level=scaler_final_y.inverse_transform(train_predict)\n",
    "      test_predict_level=scaler_final_y.inverse_transform(test_predict)\n",
    "\n",
    "      #unscaling actual values\n",
    "      train_actual_level=scaler_final_y.inverse_transform(y_train)\n",
    "      test_actual_level=scaler_final_y.inverse_transform(y_test)\n",
    "\n",
    "      #calculating MSE\n",
    "      train_RMSE=sqrt(MSE(train_actual_level,train_predict_level ))\n",
    "      test_RMSE=sqrt(MSE(test_actual_level,test_predict_level ))\n",
    "\n",
    "      print(\"Final Model - Train Set RMSE: {}\".format(train_RMSE))\n",
    "      print(\"Final Model - Test Set RMSE: {}\".format(test_RMSE))\n",
    "      print(\"\\n\")\n",
    "      #calculating MAPE\n",
    "      train_MAPE=MAPE(train_actual_level,train_predict_level )\n",
    "      test_MAPE=MAPE(test_actual_level,test_predict_level )\n",
    "\n",
    "      print(\"Final Model - Train Set MAPE: {}\".format(train_MAPE))\n",
    "      print(\"Final Model - Test Set MAPE: {}\".format(test_MAPE))\n",
    "      print(\"\\n\")\n",
    "\n",
    "      #calculating MAE\n",
    "      train_MAE=MAE(train_actual_level,train_predict_level )\n",
    "      test_MAE=MAE(test_actual_level,test_predict_level )\n",
    "\n",
    "      print(\"Final Model - Train Set MAE: {}\".format(train_MAE))\n",
    "      print(\"Final Model - Test Set MAE: {}\".format(test_MAE))\n",
    "      print(\"\\n\")\n",
    "\n",
    "      #calculating correl_coefficent between actual and predicted\n",
    "      train_R=np.corrcoef(train_actual_level.reshape(-1),train_predict_level.reshape(-1) )\n",
    "      test_R=np.corrcoef(test_actual_level.reshape(-1),test_predict_level.reshape(-1) )\n",
    "\n",
    "      print(\"Final Model - Train Set R: {}\".format(np.round(train_R[0,1],4)))\n",
    "      print(\"Final Model - Test Set R: {}\".format(np.round(test_R[0,1],4)))\n",
    "      print(\"\\n\")\n",
    "\n",
    "      #model_df=pd.DataFrame(model_history.history)\n",
    "\n",
    "      #model_df[[\"loss\",\"val_loss\"]].plot(figsize=(9,7))\n",
    "      plt.figure(figsize=(9, 7))\n",
    "      plt.scatter(test_actual_level.reshape(-1),test_predict_level.reshape(-1))\n",
    "      plt.grid(True)\n",
    "      plt.title(\"LSTM - Actual vs. Predicted {} Prices Scatterplot\".format(stock), size =17)\n",
    "      plt.xlabel(\"Actual\", size=15)\n",
    "      plt.ylabel(\"Predictions\", size=15)\n",
    "      abline(1,0)\n",
    "      plt.show() \n",
    "    \n",
    "    else:\n",
    "\n",
    "      #getting model predictions for train and val \n",
    "      train_predict=model.predict(X_train, verbose=0)\n",
    "      val_predict=model.predict(X_test, verbose=0)\n",
    "     \n",
    "\n",
    "      #unscaling to get price level predictions\n",
    "      train_predict_level=scaler_y.inverse_transform(train_predict)\n",
    "      val_predict_level=scaler_y.inverse_transform(val_predict)\n",
    "      \n",
    "\n",
    "      #unscaling actual values\n",
    "      train_actual_level=scaler_y.inverse_transform(y_train)\n",
    "      val_actual_level=scaler_y.inverse_transform(y_test)\n",
    "      \n",
    "\n",
    "      #calculating RMSE\n",
    "      train_RMSE=sqrt(MSE(train_actual_level,train_predict_level ))\n",
    "      val_RMSE=sqrt(MSE(val_actual_level,val_predict_level ))\n",
    "      \n",
    "      print(\"Train Set RMSE: {}\".format(train_RMSE))\n",
    "      print(\"Val Set RMSE: {}\".format(val_RMSE))\n",
    "      print(\"\\n\")\n",
    "\n",
    "      #calculating MAPE\n",
    "      train_MAPE=MAPE(train_actual_level,train_predict_level )\n",
    "      val_MAPE=MAPE(val_actual_level,val_predict_level )\n",
    "      \n",
    "      print(\"Train Set MAPE: {}\".format(train_MAPE))\n",
    "      print(\"Val Set MAPE: {}\".format(val_MAPE))\n",
    "      print(\"\\n\")\n",
    "\n",
    "      #calculating MAPE\n",
    "      train_MAE=MAE(train_actual_level,train_predict_level )\n",
    "      val_MAE=MAE(val_actual_level,val_predict_level )\n",
    "      \n",
    "\n",
    "      print(\"Train Set MAE: {}\".format(train_MAE))\n",
    "      print(\"Val Set MAE: {}\".format(val_MAE))\n",
    "      print(\"\\n\")\n",
    "\n",
    "      #calculating correl_coefficent between actual and predicted\n",
    "      train_R=np.corrcoef(train_actual_level.reshape(-1),train_predict_level.reshape(-1) )\n",
    "      val_R=np.corrcoef(val_actual_level.reshape(-1),val_predict_level.reshape(-1) )\n",
    "      \n",
    "\n",
    "      print(\"Train Set R: {}\".format(np.round(train_R[0,1],4)))\n",
    "      print(\"Val Set R: {}\".format(np.round(val_R[0,1],4)))\n",
    "      print(\"\\n\")\n",
    "\n",
    "      plt.figure(figsize=(9, 7))\n",
    "      plt.scatter(val_actual_level.reshape(-1),val_predict_level.reshape(-1))\n",
    "      plt.grid(True)\n",
    "      plt.title(\"LSTM - Actual vs. Predicted {} Prices Scatterplot\".format(stock), size =17)\n",
    "      plt.xlabel(\"Actual\", size=15)\n",
    "      plt.ylabel(\"Predictions\", size=15)\n",
    "      abline(1,0)\n",
    "      plt.show()\n"
   ]
  },
  {
   "cell_type": "code",
   "execution_count": 32,
   "metadata": {
    "executionInfo": {
     "elapsed": 12,
     "status": "ok",
     "timestamp": 1667426313318,
     "user": {
      "displayName": "Dimitry Kirtsman",
      "userId": "11988189828040272864"
     },
     "user_tz": 420
    },
    "id": "KsuRLDNHyC7h"
   },
   "outputs": [],
   "source": [
    "def actual_predicted_test_set_chart(model, X_final_test,y_final_test, model_number):\n",
    "      #getting final model predictions for test set\n",
    "      test_predict=model.predict(X_final_test,verbose=0)\n",
    "\n",
    "      #unscaling to get price level predictions\n",
    "      test_predict_level=scaler_final_y.inverse_transform(test_predict)\n",
    "\n",
    "      #unscaling actual values\n",
    "      test_actual_level=scaler_final_y.inverse_transform(y_final_test)\n",
    "\n",
    "      #creating dataframe and setting dates as the index\n",
    "      df_actual_predicted=pd.DataFrame([test_predict_level.reshape(-1), test_actual_level.reshape(-1)]).T\n",
    "      df_actual_predicted.rename(columns={0: \"Predicted\", 1: \"Actual\"}, inplace=True)\n",
    "      df_actual_predicted[\"dates\"]=data.index[-250:]\n",
    "      df_actual_predicted.set_index(\"dates\", inplace=True)\n",
    "\n",
    "      #creating chart of Predicted vs. Actual\n",
    "      df_actual_predicted[[\"Predicted\", \"Actual\"]].plot(figsize=(9,7))\n",
    "      plt.grid(True)\n",
    "      plt.title(\"LSTM - Actual vs. Predicted Prices: {}\".format(model_number), size =17)\n",
    "      plt.ylabel(\"Price\", size=15)\n",
    "      plt.xlabel(\"\")\n",
    "     \n",
    "      \n"
   ]
  },
  {
   "cell_type": "code",
   "execution_count": 33,
   "metadata": {
    "executionInfo": {
     "elapsed": 12,
     "status": "ok",
     "timestamp": 1667426313318,
     "user": {
      "displayName": "Dimitry Kirtsman",
      "userId": "11988189828040272864"
     },
     "user_tz": 420
    },
    "id": "FXMXDBO2fTyq"
   },
   "outputs": [],
   "source": [
    "def actual_predicted_train_test_set_chart(model, X_train, y_train, X_test, y_test, stock):\n",
    "      #getting final model predictions for train and test\n",
    "      train_predict=model.predict(X_train, verbose=0)\n",
    "      test_predict=model.predict(X_test, verbose=0)\n",
    "\n",
    "      #unscaling to get price level predictions\n",
    "      train_predict_level=scaler_final_y.inverse_transform(train_predict)\n",
    "      test_predict_level=scaler_final_y.inverse_transform(test_predict)\n",
    "\n",
    "      #unscaling actual values\n",
    "      train_actual_level=scaler_final_y.inverse_transform(y_train)\n",
    "      test_actual_level=scaler_final_y.inverse_transform(y_test)\n",
    "\n",
    "      #combine time series\n",
    "      total_actual_level=np.concatenate((train_actual_level,test_actual_level))\n",
    "      total_predict_level=np.concatenate((train_predict_level, test_predict_level))\n",
    "\n",
    "      #creating dataframe and setting dates as the index\n",
    "      df_actual_predicted=pd.DataFrame([total_predict_level.reshape(-1), total_actual_level.reshape(-1)]).T\n",
    "      df_actual_predicted.rename(columns={0: \"Predicted\", 1: \"Actual Prices\"}, inplace=True)\n",
    "      df_actual_predicted[\"dates\"]=data.index[-2446:]\n",
    "      df_actual_predicted.set_index(\"dates\", inplace=True)\n",
    "      #separating the train and test set into separate series so as to use different colors\n",
    "      df_actual_predicted['Predicted Prices Train Set'] = np.where(df_actual_predicted.index<=\"2021-10-04\", df_actual_predicted[\"Predicted\"], np.NaN)\n",
    "      df_actual_predicted['Predicted Prices Test Set'] = np.where(df_actual_predicted.index>=\"2021-10-04\", df_actual_predicted[\"Predicted\"], np.NaN)\n",
    "      \n",
    "      #creating chart of Predicted vs. Actual \n",
    "\n",
    "      #cycler to assign different colors, linestyles and linewidths to the three series\n",
    "      cycler = plt.cycler(color= ['k','g','b'],\n",
    "                          linestyle=['-', '-', '-'],\n",
    "                          linewidth=[1,1.5,1.5])\n",
    "                   \n",
    "      fig, ax = plt.subplots()\n",
    "      ax.set_prop_cycle(cycler)\n",
    "      df_actual_predicted[[\"Actual Prices\",'Predicted Prices Train Set', 'Predicted Prices Test Set']].plot(figsize=(9,7), ax=ax)\n",
    "      plt.grid(True)\n",
    "      \n",
    "      plt.title(\"LSTM - Actual vs. Predicted Prices: {}\".format(model_number), size =17)\n",
    "      plt.ylabel(\"Price\", size=15)\n",
    "      plt.xlabel(\"\")\n",
    "      \n",
    "     "
   ]
  },
  {
   "cell_type": "code",
   "execution_count": 34,
   "metadata": {
    "executionInfo": {
     "elapsed": 13,
     "status": "ok",
     "timestamp": 1667426313319,
     "user": {
      "displayName": "Dimitry Kirtsman",
      "userId": "11988189828040272864"
     },
     "user_tz": 420
    },
    "id": "110ggtLeEWS3"
   },
   "outputs": [],
   "source": [
    "# Function for creating confusion matrix\n",
    "\n",
    "#class names for confusion matrix\n",
    "class_names = [\"Price Down Next Day\", \"Price Up Next Day\"]\n",
    "\n",
    "\n",
    "def confusion_matrix_stocks(model_for_matrix, predicted_values, actual_test_labels, model_num):\n",
    "    \n",
    "\n",
    "\n",
    "\n",
    "    #creating confusion matrix - using test set labels as they were already sparse before one-hot encoding\n",
    "    confusion_matrix_for_model = confusion_matrix(actual_test_labels ,  predicted_values)\n",
    "\n",
    "\n",
    "    confusion_matrix_df = pd.DataFrame(confusion_matrix_for_model,\n",
    "                    \n",
    "                     index=class_names,\n",
    "                     columns=class_names)\n",
    "\n",
    "    #Plotting the confusion matrix\n",
    "    plt.figure(figsize=(10,8))\n",
    "    ax=sns.heatmap(confusion_matrix_df,annot=True, fmt=\"d\", cmap=\"rocket_r\", annot_kws={\"size\":25})\n",
    "    cax = ax.figure.axes[-1]\n",
    "    cax.tick_params(labelsize=22)\n",
    "    plt.title('LSTM - Confusion Matrix - {}'.format(model_num), size=25)\n",
    "    plt.ylabel('Actual Labels', size=22)\n",
    "    plt.xlabel('Predicted Labels',size=22)\n",
    "    plt.xticks(fontsize=20)\n",
    "    plt.yticks(fontsize=20)\n",
    "    plt.show() "
   ]
  },
  {
   "cell_type": "code",
   "execution_count": 34,
   "metadata": {
    "executionInfo": {
     "elapsed": 13,
     "status": "ok",
     "timestamp": 1667426313319,
     "user": {
      "displayName": "Dimitry Kirtsman",
      "userId": "11988189828040272864"
     },
     "user_tz": 420
    },
    "id": "noxZmfRdRI1Z"
   },
   "outputs": [],
   "source": [
    "\n",
    "      \n",
    "      "
   ]
  },
  {
   "cell_type": "code",
   "execution_count": 35,
   "metadata": {
    "executionInfo": {
     "elapsed": 13,
     "status": "ok",
     "timestamp": 1667426313319,
     "user": {
      "displayName": "Dimitry Kirtsman",
      "userId": "11988189828040272864"
     },
     "user_tz": 420
    },
    "id": "6VZy4WPjYtFg"
   },
   "outputs": [],
   "source": [
    "def test_set_classification_report(model, X_final_test,y_final_test, model_number):\n",
    "      #getting final model predictions for train and test\n",
    "      test_predict=model.predict(X_test, verbose=0)\n",
    "\n",
    "      #unscaling to get price level predictions\n",
    "      test_predict_level=scaler_final_y.inverse_transform(test_predict)\n",
    "\n",
    "      #unscaling actual values\n",
    "      test_actual_level=scaler_final_y.inverse_transform(y_test)\n",
    "      \n",
    "      #creating dataframe \n",
    "      df_actual_predicted=pd.DataFrame([test_predict_level.reshape(-1), test_actual_level.reshape(-1)]).T\n",
    "      df_actual_predicted.rename(columns={0: \"Predicted\", 1: \"Actual\"}, inplace=True)\n",
    "      \n",
    "      #creating forecasted signal for next day from past day actual price. 0 if level price forecast is less than or equal to yesterday's actual price, and\n",
    "      #1 for above. \n",
    "      predicted_signal=[0]\n",
    "      for i in range(1,250):\n",
    "        if df_actual_predicted.iloc[i, 0]>df_actual_predicted.iloc[i-1,1]:\n",
    "          predicted_signal.append(1)\n",
    "        else:\n",
    "          predicted_signal.append(0)\n",
    "      #creating  signal for next day from past day actual price. 0 if level of actual next day price is less than or equal to yesterday's actual price, and\n",
    "      #1 for above.\n",
    "      actual_signal=[0]\n",
    "      for i in range(1,250):\n",
    "        if df_actual_predicted.iloc[i, 1]>df_actual_predicted.iloc[i-1,1]:\n",
    "          actual_signal.append(1)\n",
    "        else:\n",
    "          actual_signal.append(0)\n",
    "      print(classification_report(actual_signal[1:], predicted_signal[1:]))\n",
    "      accuracy=accuracy_score(actual_signal[1:], predicted_signal[1:])\n",
    "\n",
    "      print(\"Test Set Accuracy for {} is {}\".format(model_number, accuracy))\n",
    "      print(\"\\n\")\n",
    "      print(\"\\n\")\n",
    "      \n",
    "      confusion_matrix_stocks(model,predicted_signal[1:], actual_signal[1:], model_number)\n",
    "      \n",
    "      \n",
    "      "
   ]
  },
  {
   "cell_type": "code",
   "execution_count": 35,
   "metadata": {
    "executionInfo": {
     "elapsed": 13,
     "status": "ok",
     "timestamp": 1667426313319,
     "user": {
      "displayName": "Dimitry Kirtsman",
      "userId": "11988189828040272864"
     },
     "user_tz": 420
    },
    "id": "Mz7sLlmqRjxZ"
   },
   "outputs": [],
   "source": []
  },
  {
   "cell_type": "markdown",
   "metadata": {
    "id": "6e2QtpFnRkpx"
   },
   "source": [
    "##Model Hyper-parameter Tuning using Train and Validation Set "
   ]
  },
  {
   "cell_type": "code",
   "execution_count": 36,
   "metadata": {
    "executionInfo": {
     "elapsed": 12,
     "status": "ok",
     "timestamp": 1667426313319,
     "user": {
      "displayName": "Dimitry Kirtsman",
      "userId": "11988189828040272864"
     },
     "user_tz": 420
    },
    "id": "J-A19GB91L68"
   },
   "outputs": [],
   "source": [
    "#Time2Vec class implementation. Code adjusted from https://medium.com/@dave.cote.msc/hands-on-advanced-deep-learning-time-series-forecasting-with-tensors-7facae522f18\n",
    "\n",
    "class Time2Vec(layers.Layer):\n",
    "  def __init__(self, seq_len, **kwargs):\n",
    "    super(Time2Vec, self).__init__()\n",
    "    self.seq_len=seq_len\n",
    "\n",
    "  def build(self, input_shape):\n",
    "\n",
    "    self.weights_linear=self.add_weight(name=\"beta_linear\", \n",
    "                                       shape=(int(self.seq_len),),\n",
    "                                       initializer=\"uniform\",\n",
    "                                       trainable=True)\n",
    "    self.bias_linear=self.add_weight(name=\"bias_linear\", \n",
    "                                       shape=(int(self.seq_len),),\n",
    "                                       initializer=\"uniform\",\n",
    "                                       trainable=True)\n",
    "    self.weights_periodic=self.add_weight(name=\"beta_periodic\", \n",
    "                                       shape=(int(self.seq_len),),\n",
    "                                       initializer=\"uniform\",\n",
    "                                       trainable=True)\n",
    "    self.bias_periodic=self.add_weight(name=\"bias_periodic\", \n",
    "                                       shape=(int(self.seq_len),),\n",
    "                                       initializer=\"uniform\",\n",
    "                                       trainable=True)\n",
    "\n",
    "\n",
    "  def call(self, x):\n",
    "\n",
    "    x=tf.math.reduce_mean(x[:,:,:], axis=-1)\n",
    "    time_linear=self.weights_linear*x + self.bias_linear\n",
    "    time_linear=tf.expand_dims(time_linear, axis=-1)\n",
    "\n",
    "    time_periodic = tf.math.sin(tf.multiply(x, self.weights_periodic) +self.bias_periodic)\n",
    "    time_periodic=tf.expand_dims(time_periodic, axis=-1)\n",
    "\n",
    "    return tf.concat([time_linear, time_periodic], axis=-1)\n",
    "\n",
    "  def get_config(self):                                 \n",
    "    config = super(Time2Vec, self).get_config()\n",
    "    config.update({\n",
    "            \"seq_len\": self.seq_len\n",
    "            \n",
    "\n",
    "        })\n",
    "    return config\n",
    "\n"
   ]
  },
  {
   "cell_type": "code",
   "execution_count": null,
   "metadata": {
    "id": "_w2Uahkk2oNp"
   },
   "outputs": [],
   "source": [
    "#Hyperparameter tunning of LSTM model with Time2Vec\n",
    "\n",
    "tf.keras.backend.clear_session()\n",
    "\n",
    "def lstm_model(hp):\n",
    "    \n",
    "    time_embedding = Time2Vec(seq_len) #Instanciate Time2Vec embeddings\n",
    "    input=Input(shape=(seq_len, 19))\n",
    "    x=time_embedding(input) #get Time2Vec embeddings using inputs\n",
    "    x=layers.Concatenate(axis=-1)([input, x]) #concatenate Time2Vec embeddings and inputs\n",
    "    \n",
    "    #Choice of 2 or 3 LSTM layers\n",
    "    for i in range(hp.Int(\"number_layers\",1,2)):\n",
    "        #within each  LSTM layer testing for a min of 64 units, a max of 256 nodes and any in between by \n",
    "        #multiples of 32. \n",
    "        x=LSTM(units=hp.Int('LSTM_{}_units'.format(i),min_value=64,max_value=256,step=32), return_sequences=True)(x)\n",
    "        #testing for dropout of values 0.1 to 0.4 by increments of 0.1 after every hidden layer\n",
    "        x=Dropout(hp.Float(\"dropout_{}\".format(i), min_value=0.10, max_value=0.40, step=0.10))(x)\n",
    "    #For last  LSTM layer testing for a min of 64 units, a max of 256 nodes and any in between by \n",
    "    #multiples of 32\n",
    "    x=LSTM(units=hp.Int('LSTM_{}_units'.format(i+1),min_value=64,max_value=256,step=32))(x)\n",
    "    #testing for dropout of values 0.1 to 0.4 by increments of 0.1 after every hidden layer\n",
    "    x=Dropout((hp.Float(\"dropout_{}\".format(i+1), min_value=0.10, max_value=0.40, step=0.10)))(x)\n",
    "    out= Dense(1, activation='linear')(x)\n",
    "\n",
    "\n",
    "    model = Model(inputs=input, outputs=out)\n",
    "    \n",
    "    model.compile(loss=\"mse\", optimizer=\"adam\", metrics=[\"mse\"])\n",
    "\n",
    "    return model\n"
   ]
  },
  {
   "cell_type": "code",
   "execution_count": null,
   "metadata": {
    "id": "VZVfd8wIfsjV"
   },
   "outputs": [],
   "source": [
    "#creating Bayesian Optimization for KerasTuner\n",
    "model_tuner = kt.BayesianOptimization(\n",
    "    hypermodel=lstm_model,\n",
    "    objective=\"val_mse\",\n",
    "    max_trials=20,\n",
    "    overwrite=True,\n",
    "    directory='/content/gdrive/My Drive/Colab Notebooks/MSDS_498/keras_tuner_out',\n",
    "    project_name=stock)"
   ]
  },
  {
   "cell_type": "code",
   "execution_count": null,
   "metadata": {
    "colab": {
     "base_uri": "https://localhost:8080/"
    },
    "executionInfo": {
     "elapsed": 333222,
     "status": "ok",
     "timestamp": 1666471890500,
     "user": {
      "displayName": "Dimitry Kirtsman",
      "userId": "11988189828040272864"
     },
     "user_tz": 420
    },
    "id": "flfEWMk5gUrE",
    "outputId": "f31d02fc-32b0-4a2d-8af0-986ff196e134"
   },
   "outputs": [
    {
     "name": "stdout",
     "output_type": "stream",
     "text": [
      "Trial 20 Complete [00h 00m 12s]\n",
      "val_mse: 0.0005749397678300738\n",
      "\n",
      "Best val_mse So Far: 0.00029864395037293434\n",
      "Total elapsed time: 00h 05m 33s\n"
     ]
    }
   ],
   "source": [
    "epochs=40\n",
    "patience=5\n",
    "\n",
    "early_stopping= EarlyStopping(monitor='val_mse',patience=patience, restore_best_weights=True )\n",
    "\n",
    "#tunning the model\n",
    "model_tuner.search(X_train, y_train, epochs=epochs, batch_size=32, validation_data=(X_val, y_val), callbacks= [early_stopping])"
   ]
  },
  {
   "cell_type": "code",
   "execution_count": null,
   "metadata": {
    "colab": {
     "base_uri": "https://localhost:8080/"
    },
    "executionInfo": {
     "elapsed": 921,
     "status": "ok",
     "timestamp": 1666471891411,
     "user": {
      "displayName": "Dimitry Kirtsman",
      "userId": "11988189828040272864"
     },
     "user_tz": 420
    },
    "id": "ZF4Z6dP0hvD1",
    "outputId": "94e3c20a-c53b-4644-9214-3dfaf11cbf49"
   },
   "outputs": [
    {
     "name": "stdout",
     "output_type": "stream",
     "text": [
      "Number of layers: 2\n",
      "\n",
      "\n",
      "Number of units in LSTM_0: 64\n",
      "Dropout in LSTM_0: 0.1\n",
      "\n",
      "\n",
      "Number of units in LSTM_1: 64\n",
      "Dropout in LSTM_1: 0.1\n",
      "\n",
      "\n"
     ]
    }
   ],
   "source": [
    "#getting best hyperparameters\n",
    "model_best_hyper_parameters=model_tuner.get_best_hyperparameters(num_trials=1)[0]\n",
    "\n",
    "#function to print out best parameters depending on how many LSTM layers there are\n",
    "def best_model_hyperparameters(bhp):\n",
    "    \n",
    "    num_layers=bhp.get('number_layers')\n",
    "    print(\"Number of layers: {}\".format(num_layers+1))\n",
    "    print(\"\\n\")\n",
    "    for i in range(0,num_layers+1):\n",
    "        print(\"Number of units in LSTM_{}:\".format(i), bhp.get(\"LSTM_{}_units\".format(i)))\n",
    "        print(\"Dropout in LSTM_{}:\".format(i),np.round( bhp.get(\"dropout_{}\".format(i)),3 )  )\n",
    "        print(\"\\n\")\n",
    "    #print(\"Optimizer Used: {}\".format(bhp.get('optimizer')))                                                           \n",
    "\n",
    "#printing out best model hyperparameters\n",
    "best_model_hyperparameters(model_best_hyper_parameters)  "
   ]
  },
  {
   "cell_type": "code",
   "execution_count": null,
   "metadata": {
    "colab": {
     "base_uri": "https://localhost:8080/"
    },
    "executionInfo": {
     "elapsed": 22309,
     "status": "ok",
     "timestamp": 1666472206699,
     "user": {
      "displayName": "Dimitry Kirtsman",
      "userId": "11988189828040272864"
     },
     "user_tz": 420
    },
    "id": "VusVPLhwiL0j",
    "outputId": "bf32cde2-d6bb-42e8-b4d5-f7d4c56064b1"
   },
   "outputs": [
    {
     "name": "stdout",
     "output_type": "stream",
     "text": [
      "Epoch 1/40\n",
      "61/61 [==============================] - 9s 39ms/step - loss: 0.0140 - mse: 0.0140 - val_loss: 0.0045 - val_mse: 0.0045\n",
      "Epoch 2/40\n",
      "61/61 [==============================] - 0s 8ms/step - loss: 0.0028 - mse: 0.0028 - val_loss: 0.0010 - val_mse: 0.0010\n",
      "Epoch 3/40\n",
      "61/61 [==============================] - 0s 7ms/step - loss: 0.0022 - mse: 0.0022 - val_loss: 8.6652e-04 - val_mse: 8.6652e-04\n",
      "Epoch 4/40\n",
      "61/61 [==============================] - 0s 7ms/step - loss: 0.0021 - mse: 0.0021 - val_loss: 8.8632e-04 - val_mse: 8.8632e-04\n",
      "Epoch 5/40\n",
      "61/61 [==============================] - 0s 7ms/step - loss: 0.0022 - mse: 0.0022 - val_loss: 0.0010 - val_mse: 0.0010\n",
      "Epoch 6/40\n",
      "61/61 [==============================] - 0s 7ms/step - loss: 0.0016 - mse: 0.0016 - val_loss: 7.0523e-04 - val_mse: 7.0523e-04\n",
      "Epoch 7/40\n",
      "61/61 [==============================] - 0s 8ms/step - loss: 0.0017 - mse: 0.0017 - val_loss: 0.0011 - val_mse: 0.0011\n",
      "Epoch 8/40\n",
      "61/61 [==============================] - 0s 7ms/step - loss: 0.0016 - mse: 0.0016 - val_loss: 7.5251e-04 - val_mse: 7.5251e-04\n",
      "Epoch 9/40\n",
      "61/61 [==============================] - 0s 7ms/step - loss: 0.0016 - mse: 0.0016 - val_loss: 0.0023 - val_mse: 0.0023\n",
      "Epoch 10/40\n",
      "61/61 [==============================] - 0s 7ms/step - loss: 0.0015 - mse: 0.0015 - val_loss: 6.9534e-04 - val_mse: 6.9534e-04\n",
      "Epoch 11/40\n",
      "61/61 [==============================] - 0s 7ms/step - loss: 0.0015 - mse: 0.0015 - val_loss: 0.0012 - val_mse: 0.0012\n",
      "Epoch 12/40\n",
      "61/61 [==============================] - 0s 7ms/step - loss: 0.0014 - mse: 0.0014 - val_loss: 8.3605e-04 - val_mse: 8.3605e-04\n",
      "Epoch 13/40\n",
      "61/61 [==============================] - 0s 7ms/step - loss: 0.0014 - mse: 0.0014 - val_loss: 6.2785e-04 - val_mse: 6.2785e-04\n",
      "Epoch 14/40\n",
      "61/61 [==============================] - 0s 7ms/step - loss: 0.0013 - mse: 0.0013 - val_loss: 0.0016 - val_mse: 0.0016\n",
      "Epoch 15/40\n",
      "61/61 [==============================] - 0s 8ms/step - loss: 0.0015 - mse: 0.0015 - val_loss: 0.0013 - val_mse: 0.0013\n",
      "Epoch 16/40\n",
      "61/61 [==============================] - 0s 7ms/step - loss: 0.0014 - mse: 0.0014 - val_loss: 8.9486e-04 - val_mse: 8.9486e-04\n",
      "Epoch 17/40\n",
      "61/61 [==============================] - 0s 7ms/step - loss: 0.0013 - mse: 0.0013 - val_loss: 5.3423e-04 - val_mse: 5.3423e-04\n",
      "Epoch 18/40\n",
      "61/61 [==============================] - 0s 7ms/step - loss: 0.0013 - mse: 0.0013 - val_loss: 0.0018 - val_mse: 0.0018\n",
      "Epoch 19/40\n",
      "61/61 [==============================] - 0s 8ms/step - loss: 0.0012 - mse: 0.0012 - val_loss: 4.3326e-04 - val_mse: 4.3326e-04\n",
      "Epoch 20/40\n",
      "61/61 [==============================] - 0s 7ms/step - loss: 0.0012 - mse: 0.0012 - val_loss: 0.0024 - val_mse: 0.0024\n",
      "Epoch 21/40\n",
      "61/61 [==============================] - 0s 8ms/step - loss: 0.0012 - mse: 0.0012 - val_loss: 4.1547e-04 - val_mse: 4.1547e-04\n",
      "Epoch 22/40\n",
      "61/61 [==============================] - 0s 7ms/step - loss: 0.0011 - mse: 0.0011 - val_loss: 0.0016 - val_mse: 0.0016\n",
      "Epoch 23/40\n",
      "61/61 [==============================] - 0s 7ms/step - loss: 0.0011 - mse: 0.0011 - val_loss: 0.0012 - val_mse: 0.0012\n",
      "Epoch 24/40\n",
      "61/61 [==============================] - 0s 8ms/step - loss: 0.0011 - mse: 0.0011 - val_loss: 3.6744e-04 - val_mse: 3.6744e-04\n",
      "Epoch 25/40\n",
      "61/61 [==============================] - 0s 7ms/step - loss: 9.2606e-04 - mse: 9.2606e-04 - val_loss: 5.3537e-04 - val_mse: 5.3537e-04\n",
      "Epoch 26/40\n",
      "61/61 [==============================] - 0s 8ms/step - loss: 0.0010 - mse: 0.0010 - val_loss: 6.8193e-04 - val_mse: 6.8193e-04\n",
      "Epoch 27/40\n",
      "61/61 [==============================] - 0s 7ms/step - loss: 0.0010 - mse: 0.0010 - val_loss: 5.4090e-04 - val_mse: 5.4090e-04\n",
      "Epoch 28/40\n",
      "61/61 [==============================] - 0s 8ms/step - loss: 0.0011 - mse: 0.0011 - val_loss: 0.0037 - val_mse: 0.0037\n",
      "Epoch 29/40\n",
      "61/61 [==============================] - 0s 7ms/step - loss: 0.0011 - mse: 0.0011 - val_loss: 0.0012 - val_mse: 0.0012\n"
     ]
    }
   ],
   "source": [
    "#getting paremeters of best model\n",
    "model_best_params = model_tuner.get_best_hyperparameters(2)\n",
    "\n",
    "# Building model with best hyper parameters\n",
    "model_best = lstm_model(model_best_params[0])\n",
    "\n",
    "# Running best model. \n",
    "epochs=40\n",
    "patience=5\n",
    "model_number=stock\n",
    "\n",
    "history_best_model, best_model = compile_train_model(model_best,\n",
    "                                    X_train,y_train, epochs=epochs,\n",
    "                                     x_valid=X_val,y_valid=y_val,patience=patience,\n",
    "                                    optimizer=\"adam\")"
   ]
  },
  {
   "cell_type": "code",
   "execution_count": null,
   "metadata": {
    "id": "nz4n8EGUJ8Nt"
   },
   "outputs": [],
   "source": []
  },
  {
   "cell_type": "code",
   "execution_count": null,
   "metadata": {
    "colab": {
     "base_uri": "https://localhost:8080/"
    },
    "executionInfo": {
     "elapsed": 340,
     "status": "ok",
     "timestamp": 1666472217059,
     "user": {
      "displayName": "Dimitry Kirtsman",
      "userId": "11988189828040272864"
     },
     "user_tz": 420
    },
    "id": "88WyWQ6Fkyxk",
    "outputId": "40c56aba-72d6-47a4-d925-93245acbc8bb"
   },
   "outputs": [
    {
     "name": "stdout",
     "output_type": "stream",
     "text": [
      "Model: \"model_2\"\n",
      "__________________________________________________________________________________________________\n",
      " Layer (type)                   Output Shape         Param #     Connected to                     \n",
      "==================================================================================================\n",
      " input_3 (InputLayer)           [(None, 21, 19)]     0           []                               \n",
      "                                                                                                  \n",
      " time2_vec_2 (Time2Vec)         (None, 21, 2)        84          ['input_3[0][0]']                \n",
      "                                                                                                  \n",
      " concatenate_2 (Concatenate)    (None, 21, 21)       0           ['input_3[0][0]',                \n",
      "                                                                  'time2_vec_2[0][0]']            \n",
      "                                                                                                  \n",
      " lstm_4 (LSTM)                  (None, 21, 64)       22016       ['concatenate_2[0][0]']          \n",
      "                                                                                                  \n",
      " dropout_4 (Dropout)            (None, 21, 64)       0           ['lstm_4[0][0]']                 \n",
      "                                                                                                  \n",
      " lstm_5 (LSTM)                  (None, 64)           33024       ['dropout_4[0][0]']              \n",
      "                                                                                                  \n",
      " dropout_5 (Dropout)            (None, 64)           0           ['lstm_5[0][0]']                 \n",
      "                                                                                                  \n",
      " dense_2 (Dense)                (None, 1)            65          ['dropout_5[0][0]']              \n",
      "                                                                                                  \n",
      "==================================================================================================\n",
      "Total params: 55,189\n",
      "Trainable params: 55,189\n",
      "Non-trainable params: 0\n",
      "__________________________________________________________________________________________________\n"
     ]
    }
   ],
   "source": [
    "best_model.summary()"
   ]
  },
  {
   "cell_type": "code",
   "execution_count": null,
   "metadata": {
    "colab": {
     "base_uri": "https://localhost:8080/",
     "height": 467
    },
    "executionInfo": {
     "elapsed": 405,
     "status": "ok",
     "timestamp": 1666472234414,
     "user": {
      "displayName": "Dimitry Kirtsman",
      "userId": "11988189828040272864"
     },
     "user_tz": 420
    },
    "id": "fRjOLvr4g6dn",
    "outputId": "609f4b82-c32f-48ee-ee4e-7d51ec6bdf91"
   },
   "outputs": [
    {
     "data": {
      "image/png": "[encoded data removed]",
      "text/plain": [
       "<Figure size 648x504 with 1 Axes>"
      ]
     },
     "metadata": {
      "needs_background": "light"
     },
     "output_type": "display_data"
    }
   ],
   "source": [
    "\n",
    "train_val_loss_charts(history_best_model, model_number)"
   ]
  },
  {
   "cell_type": "code",
   "execution_count": null,
   "metadata": {
    "colab": {
     "base_uri": "https://localhost:8080/",
     "height": 745
    },
    "executionInfo": {
     "elapsed": 1254,
     "status": "ok",
     "timestamp": 1666472238626,
     "user": {
      "displayName": "Dimitry Kirtsman",
      "userId": "11988189828040272864"
     },
     "user_tz": 420
    },
    "id": "QwTVGBxP2oP3",
    "outputId": "7145d480-9d58-41a3-c05f-07ef5dedc5f4"
   },
   "outputs": [
    {
     "name": "stdout",
     "output_type": "stream",
     "text": [
      "Train Set RMSE: 0.5294197287183807\n",
      "Val Set RMSE: 0.5317129403954691\n",
      "\n",
      "\n",
      "Train Set MAPE: 0.009783053542519148\n",
      "Val Set MAPE: 0.007709119408922944\n",
      "\n",
      "\n",
      "Train Set MAE: 0.38435096485886766\n",
      "Val Set MAE: 0.4054493103027344\n",
      "\n",
      "\n",
      "Train Set R: 0.9973\n",
      "Val Set R: 0.924\n",
      "\n",
      "\n"
     ]
    },
    {
     "data": {
      "image/png": "[encoded data removed]",
      "text/plain": [
       "<Figure size 648x504 with 1 Axes>"
      ]
     },
     "metadata": {
      "needs_background": "light"
     },
     "output_type": "display_data"
    }
   ],
   "source": [
    "price_level_evaluation_stats(best_model, X_train, y_train, X_val, y_val,stock)\n"
   ]
  },
  {
   "cell_type": "code",
   "execution_count": null,
   "metadata": {
    "id": "GXo1ZsoShTm8"
   },
   "outputs": [],
   "source": []
  },
  {
   "cell_type": "code",
   "execution_count": null,
   "metadata": {
    "id": "UY8uJ02FD5QW"
   },
   "outputs": [],
   "source": [
    "best_model.save( '/content/gdrive/My Drive/Colab Notebooks/MSDS_498/saved_models/lstm_model_val_VZ.h5')"
   ]
  },
  {
   "cell_type": "code",
   "execution_count": null,
   "metadata": {
    "id": "zrhSZGGlvAe-"
   },
   "outputs": [],
   "source": [
    "#model = tf.keras.models.load_model('/content/gdrive/My Drive/Colab Notebooks/MSDS_498/saved_models/lstm_model_val_VZ.h5',custom_objects={\"Time2Vec\": Time2Vec })"
   ]
  },
  {
   "cell_type": "markdown",
   "metadata": {
    "id": "OaggY9N2TBJJ"
   },
   "source": [
    "#Final Best Model Estimation"
   ]
  },
  {
   "cell_type": "code",
   "execution_count": null,
   "metadata": {
    "id": "jr_kR3SIv8Nt"
   },
   "outputs": [],
   "source": []
  },
  {
   "cell_type": "code",
   "execution_count": null,
   "metadata": {
    "colab": {
     "base_uri": "https://localhost:8080/"
    },
    "executionInfo": {
     "elapsed": 22480,
     "status": "ok",
     "timestamp": 1666473108956,
     "user": {
      "displayName": "Dimitry Kirtsman",
      "userId": "11988189828040272864"
     },
     "user_tz": 420
    },
    "id": "tw9ZHxnCuXGm",
    "outputId": "107bbe34-0864-4f3c-ef0c-76349b5dc0c4"
   },
   "outputs": [
    {
     "name": "stdout",
     "output_type": "stream",
     "text": [
      "Epoch 1/50\n",
      "69/69 [==============================] - 4s 7ms/step - loss: 0.0156 - mse: 0.0156\n",
      "Epoch 2/50\n",
      "69/69 [==============================] - 1s 9ms/step - loss: 0.0024 - mse: 0.0024\n",
      "Epoch 3/50\n",
      "69/69 [==============================] - 1s 11ms/step - loss: 0.0022 - mse: 0.0022\n",
      "Epoch 4/50\n",
      "69/69 [==============================] - 1s 9ms/step - loss: 0.0020 - mse: 0.0020\n",
      "Epoch 5/50\n",
      "69/69 [==============================] - 0s 6ms/step - loss: 0.0018 - mse: 0.0018\n",
      "Epoch 6/50\n",
      "69/69 [==============================] - 0s 7ms/step - loss: 0.0017 - mse: 0.0017\n",
      "Epoch 7/50\n",
      "69/69 [==============================] - 0s 7ms/step - loss: 0.0016 - mse: 0.0016\n",
      "Epoch 8/50\n",
      "69/69 [==============================] - 0s 6ms/step - loss: 0.0016 - mse: 0.0016\n",
      "Epoch 9/50\n",
      "69/69 [==============================] - 0s 7ms/step - loss: 0.0017 - mse: 0.0017\n",
      "Epoch 10/50\n",
      "69/69 [==============================] - 0s 6ms/step - loss: 0.0016 - mse: 0.0016\n",
      "Epoch 11/50\n",
      "69/69 [==============================] - 0s 7ms/step - loss: 0.0014 - mse: 0.0014\n",
      "Epoch 12/50\n",
      "69/69 [==============================] - 0s 6ms/step - loss: 0.0014 - mse: 0.0014\n",
      "Epoch 13/50\n",
      "69/69 [==============================] - 0s 7ms/step - loss: 0.0013 - mse: 0.0013\n",
      "Epoch 14/50\n",
      "69/69 [==============================] - 0s 6ms/step - loss: 0.0014 - mse: 0.0014\n",
      "Epoch 15/50\n",
      "69/69 [==============================] - 0s 6ms/step - loss: 0.0014 - mse: 0.0014\n",
      "Epoch 16/50\n",
      "69/69 [==============================] - 0s 6ms/step - loss: 0.0016 - mse: 0.0016\n",
      "Epoch 17/50\n",
      "69/69 [==============================] - 0s 6ms/step - loss: 0.0013 - mse: 0.0013\n",
      "Epoch 18/50\n",
      "69/69 [==============================] - 0s 7ms/step - loss: 0.0013 - mse: 0.0013\n",
      "Epoch 19/50\n",
      "69/69 [==============================] - 0s 6ms/step - loss: 0.0011 - mse: 0.0011\n",
      "Epoch 20/50\n",
      "69/69 [==============================] - 0s 7ms/step - loss: 0.0012 - mse: 0.0012\n",
      "Epoch 21/50\n",
      "69/69 [==============================] - 0s 6ms/step - loss: 0.0012 - mse: 0.0012\n",
      "Epoch 22/50\n",
      "69/69 [==============================] - 0s 7ms/step - loss: 0.0012 - mse: 0.0012\n",
      "Epoch 23/50\n",
      "69/69 [==============================] - 0s 6ms/step - loss: 0.0011 - mse: 0.0011\n",
      "Epoch 24/50\n",
      "69/69 [==============================] - 0s 7ms/step - loss: 0.0011 - mse: 0.0011\n",
      "Epoch 25/50\n",
      "69/69 [==============================] - 0s 6ms/step - loss: 0.0011 - mse: 0.0011\n",
      "Epoch 26/50\n",
      "69/69 [==============================] - 0s 6ms/step - loss: 0.0010 - mse: 0.0010\n",
      "Epoch 27/50\n",
      "69/69 [==============================] - 0s 7ms/step - loss: 0.0011 - mse: 0.0011\n",
      "Epoch 28/50\n",
      "69/69 [==============================] - 0s 6ms/step - loss: 9.8551e-04 - mse: 9.8551e-04\n",
      "Epoch 29/50\n",
      "69/69 [==============================] - 0s 7ms/step - loss: 9.7628e-04 - mse: 9.7628e-04\n",
      "Epoch 30/50\n",
      "69/69 [==============================] - 0s 6ms/step - loss: 0.0010 - mse: 0.0010\n",
      "Epoch 31/50\n",
      "69/69 [==============================] - 0s 6ms/step - loss: 9.7954e-04 - mse: 9.7954e-04\n",
      "Epoch 32/50\n",
      "69/69 [==============================] - 0s 7ms/step - loss: 0.0010 - mse: 0.0010\n",
      "Epoch 33/50\n",
      "69/69 [==============================] - 0s 6ms/step - loss: 8.6332e-04 - mse: 8.6332e-04\n",
      "Epoch 34/50\n",
      "69/69 [==============================] - 0s 6ms/step - loss: 9.6085e-04 - mse: 9.6085e-04\n",
      "Epoch 35/50\n",
      "69/69 [==============================] - 0s 7ms/step - loss: 0.0010 - mse: 0.0010\n",
      "Epoch 36/50\n",
      "69/69 [==============================] - 0s 7ms/step - loss: 8.9331e-04 - mse: 8.9331e-04\n",
      "Epoch 37/50\n",
      "69/69 [==============================] - 0s 6ms/step - loss: 9.6974e-04 - mse: 9.6974e-04\n",
      "Epoch 38/50\n",
      "69/69 [==============================] - 0s 7ms/step - loss: 8.9640e-04 - mse: 8.9640e-04\n"
     ]
    }
   ],
   "source": [
    "tf.keras.utils.set_random_seed(16)\n",
    "#getting paremeters of best model \n",
    "model_best_params = model_tuner.get_best_hyperparameters(2)\n",
    "\n",
    "# Building model with best hyper parameters\n",
    "model_best = lstm_model(model_best_params[0])\n",
    "\n",
    "# Running best model using final train and test sets. Test set metrics will be \n",
    "#based of this model run.\n",
    "epochs=50\n",
    "patience=5\n",
    "\n",
    "#best_model_optimizer=model_best_hyper_parameters.get('optimizer')\n",
    "history_best_model_test, best_model_test = compile_train_model(model_best, X_final_train,y_final_train,\n",
    "                                    epochs=epochs,patience=patience,\n",
    "                                    optimizer=\"adam\", final_model=True)"
   ]
  },
  {
   "cell_type": "code",
   "execution_count": null,
   "metadata": {
    "id": "A0pIm1NquXKG"
   },
   "outputs": [],
   "source": []
  },
  {
   "cell_type": "code",
   "execution_count": null,
   "metadata": {
    "colab": {
     "base_uri": "https://localhost:8080/",
     "height": 745
    },
    "executionInfo": {
     "elapsed": 21076,
     "status": "ok",
     "timestamp": 1666473133290,
     "user": {
      "displayName": "Dimitry Kirtsman",
      "userId": "11988189828040272864"
     },
     "user_tz": 420
    },
    "id": "5ShDOwHDuXM-",
    "outputId": "b37a9efa-5765-4eed-de69-ea8c430bb3a4"
   },
   "outputs": [
    {
     "name": "stdout",
     "output_type": "stream",
     "text": [
      "Final Model - Train Set RMSE: 0.4935394306507199\n",
      "Final Model - Test Set RMSE: 0.8190685797479025\n",
      "\n",
      "\n",
      "Final Model - Train Set MAPE: 0.008751323978826681\n",
      "Final Model - Test Set MAPE: 0.012394752230336991\n",
      "\n",
      "\n",
      "Final Model - Train Set MAE: 0.3535474575716724\n",
      "Final Model - Test Set MAE: 0.5819352264404297\n",
      "\n",
      "\n",
      "Final Model - Train Set R: 0.9981\n",
      "Final Model - Test Set R: 0.9755\n",
      "\n",
      "\n"
     ]
    },
    {
     "data": {
      "image/png": "[encoded data removed]",
      "text/plain": [
       "<Figure size 648x504 with 1 Axes>"
      ]
     },
     "metadata": {
      "needs_background": "light"
     },
     "output_type": "display_data"
    }
   ],
   "source": [
    "price_level_evaluation_stats(best_model_test,X_final_train,y_final_train, X_final_test,y_final_test, stock, final_model=True)\n"
   ]
  },
  {
   "cell_type": "code",
   "execution_count": 39,
   "metadata": {
    "colab": {
     "base_uri": "https://localhost:8080/",
     "height": 430
    },
    "executionInfo": {
     "elapsed": 6470,
     "status": "ok",
     "timestamp": 1667426358358,
     "user": {
      "displayName": "Dimitry Kirtsman",
      "userId": "11988189828040272864"
     },
     "user_tz": 420
    },
    "id": "y-uO1vkduXPu",
    "outputId": "6125cfe4-63c6-42d9-cec4-f57b33e6fdac"
   },
   "outputs": [
    {
     "data": {
      "image/png": "[encoded data removed]",
      "text/plain": [
       "<Figure size 648x504 with 1 Axes>"
      ]
     },
     "metadata": {
      "needs_background": "light"
     },
     "output_type": "display_data"
    }
   ],
   "source": [
    "actual_predicted_test_set_chart(best_model_test, X_final_test,y_final_test, model_number)"
   ]
  },
  {
   "cell_type": "code",
   "execution_count": null,
   "metadata": {
    "colab": {
     "base_uri": "https://localhost:8080/",
     "height": 784
    },
    "executionInfo": {
     "elapsed": 6422,
     "status": "ok",
     "timestamp": 1667013054672,
     "user": {
      "displayName": "Dimitry Kirtsman",
      "userId": "11988189828040272864"
     },
     "user_tz": 420
    },
    "id": "YMDPFhNRuXwf",
    "outputId": "86227714-7083-473a-c57f-04b01afdf774"
   },
   "outputs": [
    {
     "name": "stdout",
     "output_type": "stream",
     "text": [
      "              precision    recall  f1-score   support\n",
      "\n",
      "           0       0.54      0.51      0.53       134\n",
      "           1       0.46      0.49      0.47       115\n",
      "\n",
      "    accuracy                           0.50       249\n",
      "   macro avg       0.50      0.50      0.50       249\n",
      "weighted avg       0.50      0.50      0.50       249\n",
      "\n",
      "Test Set Accuracy for VZ is 0.5020080321285141\n",
      "\n",
      "\n",
      "\n",
      "\n"
     ]
    },
    {
     "data": {
      "image/png": "[encoded data removed]",
      "text/plain": [
       "<Figure size 720x576 with 2 Axes>"
      ]
     },
     "metadata": {
      "needs_background": "light"
     },
     "output_type": "display_data"
    }
   ],
   "source": [
    "test_set_classification_report(best_model_test, X_final_test,y_final_test, model_number)"
   ]
  },
  {
   "cell_type": "code",
   "execution_count": null,
   "metadata": {
    "id": "VNUtZwMKlRfW"
   },
   "outputs": [],
   "source": []
  },
  {
   "cell_type": "code",
   "execution_count": null,
   "metadata": {
    "colab": {
     "base_uri": "https://localhost:8080/",
     "height": 422
    },
    "executionInfo": {
     "elapsed": 977,
     "status": "ok",
     "timestamp": 1666473198730,
     "user": {
      "displayName": "Dimitry Kirtsman",
      "userId": "11988189828040272864"
     },
     "user_tz": 420
    },
    "id": "W1vSuQHyUl4j",
    "outputId": "c9da331e-c21d-4e8a-96b6-30d07f4be730"
   },
   "outputs": [
    {
     "data": {
      "image/png": "[encoded data removed]",
      "text/plain": [
       "<Figure size 648x504 with 1 Axes>"
      ]
     },
     "metadata": {
      "needs_background": "light"
     },
     "output_type": "display_data"
    }
   ],
   "source": [
    "actual_predicted_train_test_set_chart(best_model_test, X_final_train,y_final_train, X_final_test,y_final_test, model_number)"
   ]
  },
  {
   "cell_type": "code",
   "execution_count": 37,
   "metadata": {
    "colab": {
     "base_uri": "https://localhost:8080/"
    },
    "executionInfo": {
     "elapsed": 31034,
     "status": "ok",
     "timestamp": 1667426344341,
     "user": {
      "displayName": "Dimitry Kirtsman",
      "userId": "11988189828040272864"
     },
     "user_tz": 420
    },
    "id": "6-JFqrR4ltvl",
    "outputId": "42348956-93b1-4c12-e677-8c603e310b6a"
   },
   "outputs": [
    {
     "name": "stdout",
     "output_type": "stream",
     "text": [
      "Mounted at /content/gdrive\n"
     ]
    }
   ],
   "source": [
    "from google.colab import drive\n",
    "drive.mount('/content/gdrive')\n",
    "model_number=\"VZ\""
   ]
  },
  {
   "cell_type": "code",
   "execution_count": null,
   "metadata": {
    "id": "srzOaUr02UXN"
   },
   "outputs": [],
   "source": [
    "#best_model_test.save( '/content/gdrive/My Drive/Colab Notebooks/MSDS_498/saved_models/lstm_model_test_VZ.h5')\n"
   ]
  },
  {
   "cell_type": "code",
   "execution_count": 38,
   "metadata": {
    "executionInfo": {
     "elapsed": 7559,
     "status": "ok",
     "timestamp": 1667426351897,
     "user": {
      "displayName": "Dimitry Kirtsman",
      "userId": "11988189828040272864"
     },
     "user_tz": 420
    },
    "id": "6BkAUUBO2Ey_"
   },
   "outputs": [],
   "source": [
    "best_model_test = tf.keras.models.load_model('/content/gdrive/My Drive/Colab Notebooks/MSDS_498/saved_models/lstm_model_test_VZ.h5',custom_objects={\"Time2Vec\": Time2Vec })"
   ]
  }
 ],
 "metadata": {
  "accelerator": "GPU",
  "colab": {
   "authorship_tag": "ABX9TyMCdiULVJ3R69nXTIYmQ8wF",
   "provenance": []
  },
  "kernelspec": {
   "display_name": "Python 3 (ipykernel)",
   "language": "python",
   "name": "python3"
  },
  "language_info": {
   "codemirror_mode": {
    "name": "ipython",
    "version": 3
   },
   "file_extension": ".py",
   "mimetype": "text/x-python",
   "name": "python",
   "nbconvert_exporter": "python",
   "pygments_lexer": "ipython3",
   "version": "3.8.8"
  }
 },
 "nbformat": 4,
 "nbformat_minor": 1
}
